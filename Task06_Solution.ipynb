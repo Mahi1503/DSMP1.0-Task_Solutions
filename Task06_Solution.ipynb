{
 "cells": [
  {
   "cell_type": "raw",
   "id": "77dfaab0-3c56-49fd-bd60-14d9dc89c25b",
   "metadata": {},
   "source": [
    "Problem-1: Write a Python function that takes a list and returns a new list with unique elements of the first list.\n",
    "Exercise 1:\n",
    "\n",
    "Input:\n",
    "\n",
    "[1,2,3,3,3,3,4,5]\n",
    "Output:\n",
    "\n",
    "[1, 2, 3, 4, 5]"
   ]
  },
  {
   "cell_type": "code",
   "execution_count": 6,
   "id": "e2013c4e-9135-4189-a7a4-98ddb54c4427",
   "metadata": {},
   "outputs": [
    {
     "data": {
      "text/plain": [
       "[1, 2, 3, 4, 5]"
      ]
     },
     "execution_count": 6,
     "metadata": {},
     "output_type": "execute_result"
    }
   ],
   "source": [
    "def unique_element(l):\n",
    "    l1 = []\n",
    "    for i in l:\n",
    "        if i not in l1:\n",
    "            l1.append(i)\n",
    "    return l1\n",
    "unique_element([1,2,3,3,3,3,4,5])"
   ]
  },
  {
   "cell_type": "raw",
   "id": "7d128223-06cb-453d-b1cc-ed33a439b265",
   "metadata": {},
   "source": [
    "Problem-2: Write a Python function that accepts a hyphen-separated sequence of words as parameter and returns the words in a hyphen-separated sequence after sorting them alphabetically.\n",
    "Example 1:\n",
    "\n",
    "Input:\n",
    "\n",
    "green-red-yellow-black-white\n",
    "Output:\n",
    "\n",
    "black-green-red-white-yellow"
   ]
  },
  {
   "cell_type": "code",
   "execution_count": 19,
   "id": "53cf42e7-fcaa-40c5-896c-da634c4981db",
   "metadata": {},
   "outputs": [],
   "source": [
    "def sorted_str(st):\n",
    "    l1 = [i for i in st.split(\"-\")]\n",
    "    return \"-\".join(sorted(l1))"
   ]
  },
  {
   "cell_type": "code",
   "execution_count": 20,
   "id": "fbe12d49-6b73-4b98-86de-26828f5b171f",
   "metadata": {},
   "outputs": [
    {
     "data": {
      "text/plain": [
       "'black-green-red-white-yellow'"
      ]
     },
     "execution_count": 20,
     "metadata": {},
     "output_type": "execute_result"
    }
   ],
   "source": [
    "sorted_str(\"green-red-yellow-black-white\")"
   ]
  },
  {
   "cell_type": "raw",
   "id": "bd63102b-56da-4630-916e-1d261d4cafcf",
   "metadata": {},
   "source": [
    "Problem 3: Write a Python function that accepts a string and calculate the number of upper case letters and lower case letters.\n",
    "Sample String : 'CampusX is an Online Mentorship Program fOr EnginEering studentS.'\n",
    "Expected Output :\n",
    "No. of Upper case characters :  9\n",
    "No. of Lower case Characters :  47"
   ]
  },
  {
   "cell_type": "code",
   "execution_count": 22,
   "id": "f4e76320-128a-429d-9771-711aba2575d0",
   "metadata": {},
   "outputs": [],
   "source": [
    "def char_count(st):\n",
    "    upper = 0\n",
    "    lower = 0\n",
    "    for i in st:\n",
    "        if i.isupper():\n",
    "            upper+=1\n",
    "        elif i.islower():\n",
    "            lower+=1\n",
    "        else:\n",
    "            continue\n",
    "    print(\"No. of Upper case characters :\",upper)\n",
    "    print(\"No. of Lower case Characters :\",lower)\n",
    "    "
   ]
  },
  {
   "cell_type": "code",
   "execution_count": 23,
   "id": "8afacc83-32b7-4040-a922-48adddfbd590",
   "metadata": {},
   "outputs": [
    {
     "name": "stdout",
     "output_type": "stream",
     "text": [
      "No. of Upper case characters : 9\n",
      "No. of Lower case Characters : 47\n"
     ]
    }
   ],
   "source": [
    "char_count('CampusX is an Online Mentorship Program fOr EnginEering studentS.')"
   ]
  },
  {
   "cell_type": "raw",
   "id": "736bf0ce-69b8-4497-abc2-054568b14b00",
   "metadata": {},
   "source": [
    "Problem 4: Write a Python program to print the even numbers from a given list.\n",
    "Sample List : [1, 2, 3, 4, 5, 6, 7, 8, 9]\n",
    "Expected Result : [2, 4, 6, 8]"
   ]
  },
  {
   "cell_type": "code",
   "execution_count": 68,
   "id": "b6f38922-935c-40a5-8d7b-646e86907f37",
   "metadata": {},
   "outputs": [
    {
     "data": {
      "text/plain": [
       "[2, 4, 6, 8]"
      ]
     },
     "execution_count": 68,
     "metadata": {},
     "output_type": "execute_result"
    }
   ],
   "source": [
    "def is_even(l):\n",
    "    l1 = []\n",
    "    for i in l:\n",
    "        if i%2==0:\n",
    "            l1.append(i)\n",
    "    return l1\n",
    "is_even([1, 2, 3, 4, 5, 6, 7, 8, 9])"
   ]
  },
  {
   "cell_type": "code",
   "execution_count": 28,
   "id": "a80136f4-4a64-4b55-b91e-eb50bd1f2918",
   "metadata": {},
   "outputs": [
    {
     "data": {
      "text/plain": [
       "[2, 4, 6, 8]"
      ]
     },
     "execution_count": 28,
     "metadata": {},
     "output_type": "execute_result"
    }
   ],
   "source": [
    "Sample_list = [1, 2, 3, 4, 5, 6, 7, 8, 9]\n",
    "list(filter(lambda x: x%2 == 0 , Sample_list))"
   ]
  },
  {
   "cell_type": "raw",
   "id": "6e11fbab-396e-47e7-80e8-78b081e8d3da",
   "metadata": {},
   "source": [
    "Problem 5: Write a Python function to check whether a number is perfect or not.\n",
    "A Perfect number is a number that is half the sum of all of its positive divisors (including itself).\n",
    "\n",
    "Example :\n",
    "\n",
    "The first perfect number is 6, because 1, 2, and 3 are its proper positive divisors, and 1 + 2 + 3 = 6. \n",
    "Equivalently, the number 6 is equal to half the sum of all its positive divisors: ( 1 + 2 + 3 + 6 ) / 2 = 6. \n",
    "\n",
    "The next perfect number is 28 = 1 + 2 + 4 + 7 + 14. This is followed by the perfect numbers 496 and 8128."
   ]
  },
  {
   "cell_type": "code",
   "execution_count": 32,
   "id": "0a070e56-08ae-4597-b9a7-bb811aef3af6",
   "metadata": {},
   "outputs": [
    {
     "name": "stdin",
     "output_type": "stream",
     "text": [
      " 6\n"
     ]
    },
    {
     "data": {
      "text/plain": [
       "[1, 2, 3, 6]"
      ]
     },
     "execution_count": 32,
     "metadata": {},
     "output_type": "execute_result"
    }
   ],
   "source": [
    "# Raw code\n",
    "n = int(input())\n",
    "l1 = [i for i in range(1,n+1) if n%i == 0 ]\n",
    "if sum(l1)/2 == n:\n",
    "    return \"{} is perfect no\".format(n)\n",
    "else:\n",
    "    return \"{} is not perfect no\".format(n)"
   ]
  },
  {
   "cell_type": "code",
   "execution_count": 74,
   "id": "578283b2-ed7d-4728-80ca-5a9393d89387",
   "metadata": {},
   "outputs": [
    {
     "data": {
      "text/plain": [
       "'6 is perfect no'"
      ]
     },
     "execution_count": 74,
     "metadata": {},
     "output_type": "execute_result"
    }
   ],
   "source": [
    "def perfect_number(n):\n",
    "    l1 = [i for i in range(1,n) if n%i == 0 ]\n",
    "    if sum(l1) == n:\n",
    "        return \"{} is perfect no\".format(n)\n",
    "    else:\n",
    "        return \"{} is not perfect no\".format(n)\n",
    "perfect_number(6)"
   ]
  },
  {
   "cell_type": "raw",
   "id": "e740b977-74d5-48e4-91cd-dcb500ac6740",
   "metadata": {},
   "source": [
    "Problem-6: Write a Python function to concatenate any no of dictionaries to create a new one.\n",
    "Sample Dictionary :\n",
    "dic1={1:10, 2:20}\n",
    "dic2={3:30, 4:40}\n",
    "dic3={5:50,6:60}\n",
    "Expected Result : {1: 10, 2: 20, 3: 30, 4: 40, 5: 50, 6: 60}"
   ]
  },
  {
   "cell_type": "code",
   "execution_count": 47,
   "id": "c00fc158-51d6-404e-ba71-e0570652a54f",
   "metadata": {},
   "outputs": [
    {
     "data": {
      "text/plain": [
       "{1: 10, 2: 20, 3: 30, 4: 40, 5: 50, 6: 60}"
      ]
     },
     "execution_count": 47,
     "metadata": {},
     "output_type": "execute_result"
    }
   ],
   "source": [
    "def dictionary_concatenation(*d):\n",
    "    res_d = {}\n",
    "    for i in d:\n",
    "        res_d.update(i)\n",
    "    return res_d\n",
    "\n",
    "dic1={1:10, 2:20}\n",
    "dic2={3:30, 4:40}\n",
    "dic3={5:50,6:60}\n",
    "dictionary_concatenation(dic1,dic2,dic3)"
   ]
  },
  {
   "cell_type": "raw",
   "id": "1f846902-80b6-4760-8fa1-db6aecde5b13",
   "metadata": {},
   "source": [
    "Problem-7 Write a python function that accepts a string as input and returns the word with most occurence.\n",
    "\n",
    "Input:\n",
    "hello how are you i am fine thank you\n",
    "Output\n",
    "you -> 2"
   ]
  },
  {
   "cell_type": "code",
   "execution_count": 61,
   "id": "83e92a7e-c6ac-4096-831b-3c3d86fd3328",
   "metadata": {},
   "outputs": [],
   "source": [
    "def max_occurance_word(s):\n",
    "    d = {i: s.split().count(i) for i in s.split() }\n",
    "    max0 = 0\n",
    "    for i in d.values():\n",
    "        if max0<i:\n",
    "            max0 = i\n",
    "    for i in d:\n",
    "        if d[i] == max0:\n",
    "            return \"{} >> {}\".format(i,d[i])        "
   ]
  },
  {
   "cell_type": "code",
   "execution_count": 62,
   "id": "d7fe2cb2-4029-43d2-8309-4efec6ba38d9",
   "metadata": {},
   "outputs": [
    {
     "data": {
      "text/plain": [
       "'you >> 2'"
      ]
     },
     "execution_count": 62,
     "metadata": {},
     "output_type": "execute_result"
    }
   ],
   "source": [
    "s = \"hello how are you i am fine thank you\"\n",
    "max_occurance_word(s)"
   ]
  },
  {
   "cell_type": "code",
   "execution_count": 63,
   "id": "6ce10c67-a154-48bb-8926-062a005919f1",
   "metadata": {},
   "outputs": [],
   "source": [
    "def max_occurance_word(s):\n",
    "    d = {i: s.split().count(i) for i in s.split() }\n",
    "    max0 = max(d.values())\n",
    "    for i in d:\n",
    "        if d[i] == max0:\n",
    "            return \"{} >> {}\".format(i,d[i])        "
   ]
  },
  {
   "cell_type": "code",
   "execution_count": 64,
   "id": "2b0ca715-1283-4e64-bb65-e6a547a65b92",
   "metadata": {},
   "outputs": [
    {
     "data": {
      "text/plain": [
       "'you >> 2'"
      ]
     },
     "execution_count": 64,
     "metadata": {},
     "output_type": "execute_result"
    }
   ],
   "source": [
    "s = \"hello how are you i am fine thank you\"\n",
    "max_occurance_word(s)"
   ]
  },
  {
   "cell_type": "raw",
   "id": "41e1c790-681a-4551-83dc-14e7dadb4bb5",
   "metadata": {},
   "source": [
    "Problem-8 Write a python function that receives a list of integers and prints out a histogram of bin size 10\n",
    "\n",
    "Input:\n",
    "[13,42,15,37,22,39,41,50]\n",
    "Output:\n",
    "{11-20:2,21-30:1,31-40:2,41-50:3}"
   ]
  },
  {
   "cell_type": "code",
   "execution_count": 66,
   "id": "82d3f5b1-032b-41d3-bc2d-50b1da78135d",
   "metadata": {},
   "outputs": [
    {
     "name": "stdout",
     "output_type": "stream",
     "text": [
      "13\n",
      "23\n",
      "33\n",
      "43\n"
     ]
    }
   ],
   "source": [
    "l = [13,42,15,37,22,39,41,50]\n",
    "max0 = max(l)\n",
    "min0 = min(l)\n",
    "for i in range(min0,max0+1,10):\n",
    "    print(i)\n",
    "    "
   ]
  },
  {
   "cell_type": "code",
   "execution_count": 81,
   "id": "d4d25131-67f4-4746-8352-53350bee2c47",
   "metadata": {},
   "outputs": [
    {
     "data": {
      "text/plain": [
       "{'11-20': 2, '21-30': 1, '31-40': 2, '41-50': 3}"
      ]
     },
     "execution_count": 81,
     "metadata": {},
     "output_type": "execute_result"
    }
   ],
   "source": [
    "import math\n",
    "\n",
    "def histogram(L):\n",
    "\n",
    "  min_bin = math.floor(min(L)/10)*10\n",
    "  max_bin = math.ceil(max(L)/10)*10\n",
    "\n",
    "  d={}\n",
    "\n",
    "  for i in range(min_bin,max_bin,10):\n",
    "    count = 0\n",
    "    for j in L:\n",
    "      if i+1<=j<=i+10:\n",
    "        count+=1\n",
    "\n",
    "    d[str(i+1) + '-' + str(i+10)] = count\n",
    "\n",
    "  return d\n",
    "\n",
    "histogram([13,42,15,37,22,39,41,50])\n"
   ]
  },
  {
   "cell_type": "code",
   "execution_count": 99,
   "id": "e6b463fb-12c9-44c3-bf7f-982fb7225a01",
   "metadata": {},
   "outputs": [
    {
     "data": {
      "text/plain": [
       "{'11-20': 2, '21-30': 1, '31-40': 2, '41-50': 2}"
      ]
     },
     "execution_count": 99,
     "metadata": {},
     "output_type": "execute_result"
    }
   ],
   "source": [
    "def histogram(l):\n",
    "    max0 = (max(l)//10)*10\n",
    "    min0 = (min(l)//10)*10\n",
    "    d = {}\n",
    "    for i in range(min0,max0,10):\n",
    "        count = 0\n",
    "        for j in l:\n",
    "            if (i+1)<j<=(i+10):\n",
    "                count+=1\n",
    "            d[\"{}-{}\".format((i+1),(i+10))] = count\n",
    "    return d\n",
    "\n",
    "l = [13,42,15,37,22,39,41,50]\n",
    "histogram(l)"
   ]
  },
  {
   "cell_type": "raw",
   "id": "7f8a0147-bc63-43ae-a44a-38da8ea1643f",
   "metadata": {},
   "source": [
    "Problem-9 Write a python function that accepts a list of 2D co-ordinates and a query point, and then finds the the co-ordinate which is closest in terms of distance from the query point.\n",
    "\n",
    "List of Coordinates\n",
    "[(1,1),(2,2),(3,3),(4,4)]\n",
    "Query Point\n",
    "(0,0)\n",
    "Output\n",
    "Nearest to (0,0) is (1,1)"
   ]
  },
  {
   "cell_type": "code",
   "execution_count": 125,
   "id": "f701178a-da13-4596-b7f3-c08eeab1d9c8",
   "metadata": {},
   "outputs": [
    {
     "data": {
      "text/plain": [
       "'Nearest to (0, 0) is (2, -2)'"
      ]
     },
     "execution_count": 125,
     "metadata": {},
     "output_type": "execute_result"
    }
   ],
   "source": [
    "def closest_cord(l,Point):\n",
    "    x1 = Point[0]\n",
    "    y1 = Point[1]\n",
    "    dist = {}\n",
    "    \n",
    "    for i in l:\n",
    "        x2 = i[0]\n",
    "        y2 = i[1]\n",
    "        distance = ((x2-x1)**2 + (y2-y1)**2)**0.5\n",
    "        dist[(x2,y2)] = distance\n",
    "    for i in dist:\n",
    "        if dist[i] == min(dist.values()):\n",
    "            return \"Nearest to {} is {}\".format((x1,y1),i)\n",
    "        \n",
    "Point = (0,0)\n",
    "l = [(1,4),(2,-2),(13,3),(14,4)]\n",
    "closest_cord(l,Point)"
   ]
  },
  {
   "cell_type": "code",
   "execution_count": 134,
   "id": "f7f2c233-b46f-4b08-b5a7-f230c7c07557",
   "metadata": {},
   "outputs": [
    {
     "data": {
      "text/plain": [
       "(2, -2)"
      ]
     },
     "execution_count": 134,
     "metadata": {},
     "output_type": "execute_result"
    }
   ],
   "source": [
    "def shortest_dist(points,query):\n",
    "  temp = []\n",
    "  for i in points:\n",
    "    distance = ((i[0] - query[0])**2 + (i[1] - query[1])**2)**0.5\n",
    "    temp.append(distance)\n",
    "\n",
    "  \"\"\"in below code enumerate is use to provide object of index as well as value, list constructor provide tuple of (index,val),\n",
    "  [(0, 4.123105625617661),(1, 2.8284271247461903),(2, 13.341664064126334),(3, 14.560219778561036)] then sorted is applied with key \n",
    "  as lambda function which gives 1st element for sorting of list now first element is shortest distance ele (index,dist) we want only index \n",
    " so sorted([(0, 4.123105625617661),(1, 2.8284271247461903),(2, 13.341664064126334),(3, 14.560219778561036)],key= )[0][0]\"\"\" \n",
    "  return points[sorted(list(enumerate(temp)),key=lambda x:x[1])[0][0]] \n",
    "\n",
    "\n",
    "points = [(1,4),(2,-2),(13,3),(14,4)]\n",
    "query = (0,0)\n",
    "\n",
    "shortest_dist(points,query)"
   ]
  },
  {
   "cell_type": "raw",
   "id": "e4e9c02f-c5e8-4bab-b08f-0d49bedfc860",
   "metadata": {},
   "source": [
    "Problem-10:Write a python program that receives a list of strings and performs bag of word operation on those strings"
   ]
  },
  {
   "cell_type": "code",
   "execution_count": null,
   "id": "4ed20788-01ed-44eb-a663-840fd484aaa5",
   "metadata": {},
   "outputs": [],
   "source": [
    "https://en.wikipedia.org/wiki/Bag-of-words_model"
   ]
  },
  {
   "cell_type": "code",
   "execution_count": 146,
   "id": "af764a36-e9c9-4f61-82d1-866bfb879b1e",
   "metadata": {},
   "outputs": [
    {
     "name": "stdout",
     "output_type": "stream",
     "text": [
      "{'bat', 'mat', 'pat', 'sat', 'cat', 'fat', 'rat'}\n",
      "[[0, 1, 0, 0, 2, 0, 1], [1, 0, 0, 1, 1, 1, 1], [0, 1, 1, 0, 1, 0, 1]]\n"
     ]
    }
   ],
   "source": [
    "L = [\n",
    "    'cat mat rat cat',\n",
    "     'sat bat fat cat rat',\n",
    "     'pat cat mat rat'\n",
    "]\n",
    "vocab = set()\n",
    "for i in L:\n",
    "    vocab.update(i.split())\n",
    "l1 = []\n",
    "for j in L:\n",
    "    l1.append([])\n",
    "    for word in vocab:\n",
    "        l1[-1].append(j.count(word))\n",
    "print(vocab)\n",
    "print(l1)    \n",
    "    "
   ]
  },
  {
   "cell_type": "code",
   "execution_count": 148,
   "id": "5e65b55b-3ba5-4ffb-a910-3e7a0f359502",
   "metadata": {},
   "outputs": [
    {
     "name": "stdout",
     "output_type": "stream",
     "text": [
      "{'bat', 'mat', 'pat', 'sat', 'cat', 'fat', 'rat'}\n"
     ]
    },
    {
     "data": {
      "text/plain": [
       "[[0, 1, 0, 0, 2, 0, 1], [1, 0, 0, 1, 1, 1, 1], [0, 1, 1, 0, 1, 0, 1]]"
      ]
     },
     "execution_count": 148,
     "metadata": {},
     "output_type": "execute_result"
    }
   ],
   "source": [
    "def bag_of_word(L):\n",
    "    vocab = set()\n",
    "    for i in L:\n",
    "        vocab.update(i.split())\n",
    "    l1 = []\n",
    "    for j in L:\n",
    "        l1.append([])\n",
    "        for word in vocab:\n",
    "            l1[-1].append(j.count(word))\n",
    "    print(vocab)\n",
    "    return l1    \n",
    "\n",
    "L = [\n",
    "    'cat mat rat cat',\n",
    "     'sat bat fat cat rat',\n",
    "     'pat cat mat rat'\n",
    "]\n",
    "bag_of_word(L)"
   ]
  },
  {
   "cell_type": "raw",
   "id": "acea9145-91ea-43ab-97ba-d4a41a96387a",
   "metadata": {},
   "source": [
    "Problem 11: Write a Python program to add three given lists using Python map and lambda."
   ]
  },
  {
   "cell_type": "code",
   "execution_count": 153,
   "id": "0ea97a9d-db90-4e38-aaf7-a990cc45e827",
   "metadata": {},
   "outputs": [
    {
     "data": {
      "text/plain": [
       "[12, 15, 18]"
      ]
     },
     "execution_count": 153,
     "metadata": {},
     "output_type": "execute_result"
    }
   ],
   "source": [
    "l1 = [1,2,3]\n",
    "l2 = [4,5,6]\n",
    "l3 = [7,8,9]\n",
    "list(map(lambda x,y,z :x+y+z,l1,l2,l3))"
   ]
  },
  {
   "cell_type": "raw",
   "id": "bdb7b844-eacf-40bc-8fb1-dc3d63b169bd",
   "metadata": {},
   "source": [
    "Problem-12:Write a Python program to create a list containing the power of said number in bases raised to the corresponding number in the index using Python map.\n",
    "Input: list1 = [1,2,3,4,5,6]\n",
    "Output: [1,2,9,64,625,-]"
   ]
  },
  {
   "cell_type": "code",
   "execution_count": 170,
   "id": "a1e83366-f6c0-485a-ac2f-c769f9b47e08",
   "metadata": {},
   "outputs": [
    {
     "data": {
      "text/plain": [
       "[1, 2, 9, 64, 625, 7776]"
      ]
     },
     "execution_count": 170,
     "metadata": {},
     "output_type": "execute_result"
    }
   ],
   "source": [
    "list1 = [1,2,3,4,5,6]\n",
    "list(map(lambda x,y : x**y,list1,range(len(list1))))"
   ]
  },
  {
   "cell_type": "raw",
   "id": "42c0c93d-480e-47dc-9db9-4ada6fc18e39",
   "metadata": {},
   "source": [
    "Problem-13 Using filter() and list() functions and .lower() method filter all the vowels in a given string."
   ]
  },
  {
   "cell_type": "code",
   "execution_count": 189,
   "id": "13b3a2e6-421f-4c81-be0e-2be9b9f0567e",
   "metadata": {},
   "outputs": [
    {
     "data": {
      "text/plain": [
       "['I', 'A', 'o', 'u', 'i', 'i', 'a', 'e', 'a', 'e', 'i', 'a', 'a']"
      ]
     },
     "execution_count": 189,
     "metadata": {},
     "output_type": "execute_result"
    }
   ],
   "source": [
    "str1=\"FIFA world cup in 2022 will take place in Qatar\"\n",
    "list(filter(lambda x : True if x.lower() in \"aeiou\" else False ,str1))"
   ]
  },
  {
   "cell_type": "raw",
   "id": "f5b8b79b-7104-41ea-8565-49ba52bc343c",
   "metadata": {},
   "source": [
    "Problem-14: Use reduce to convert a 2D list to 1D\n",
    "ini_list = [[1, 2, 3],\n",
    "            [3, 6, 7],\n",
    "            [7, 5, 4]]"
   ]
  },
  {
   "cell_type": "code",
   "execution_count": 190,
   "id": "d3b818d1-9abc-4600-85df-2e46c85d4ce3",
   "metadata": {},
   "outputs": [],
   "source": [
    "from functools import reduce"
   ]
  },
  {
   "cell_type": "code",
   "execution_count": 191,
   "id": "559ce6cf-d5ff-4891-ab20-2692f7c8ce9f",
   "metadata": {},
   "outputs": [
    {
     "data": {
      "text/plain": [
       "[1, 2, 3, 3, 6, 7, 7, 5, 4]"
      ]
     },
     "execution_count": 191,
     "metadata": {},
     "output_type": "execute_result"
    }
   ],
   "source": [
    "ini_list = [[1, 2, 3],\n",
    "            [3, 6, 7],\n",
    "            [7, 5, 4]]\n",
    "list(reduce(lambda x,y:x+y,ini_list))"
   ]
  },
  {
   "cell_type": "raw",
   "id": "8d035916-097f-43cd-b2ca-8dc5e40747d2",
   "metadata": {},
   "source": [
    "Problem 15- A dictionary contains following information about 5 employees:\n",
    "\n",
    "First name\n",
    "Last name\n",
    "Age\n",
    "Grade(Skilled,Semi-skilled,Highly skilled)\n",
    "Write a program using map/filter/reduce to a list of employees(first name + last name) who are highly skilled"
   ]
  },
  {
   "cell_type": "code",
   "execution_count": 192,
   "id": "328b00ff-aea4-47fe-983a-b341da7feed8",
   "metadata": {},
   "outputs": [],
   "source": [
    "employees = [\n",
    "    {\n",
    "        'fname':'Nitish',\n",
    "        'lname':'Singh',\n",
    "        'age' : 33,\n",
    "        'grade':'skilled'\n",
    "    },\n",
    "    {\n",
    "        'fname':'Ankit',\n",
    "        'lname':'Verma',\n",
    "        'age' : 34,\n",
    "        'grade':'semi-skilled'\n",
    "    },\n",
    "    {\n",
    "        'fname':'Neha',\n",
    "        'lname':'Singh',\n",
    "        'age' : 35,\n",
    "        'grade':'highly-skilled'\n",
    "    },\n",
    "    {\n",
    "        'fname':'Anurag',\n",
    "        'lname':'Kumar',\n",
    "        'age' : 30,\n",
    "        'grade':'skilled'\n",
    "    },\n",
    "    {\n",
    "        'fname':'Abhinav',\n",
    "        'lname':'Sharma',\n",
    "        'age' : 37,\n",
    "        'grade':'highly-skilled'\n",
    "    }\n",
    "    \n",
    "]"
   ]
  },
  {
   "cell_type": "code",
   "execution_count": 195,
   "id": "2ce68f3b-e275-4189-94c4-23dc218f615d",
   "metadata": {},
   "outputs": [
    {
     "data": {
      "text/plain": [
       "['Neha Singh', 'Abhinav Sharma']"
      ]
     },
     "execution_count": 195,
     "metadata": {},
     "output_type": "execute_result"
    }
   ],
   "source": [
    "list(map(lambda x : x[\"fname\"] +\" \" +x[\"lname\"],list(filter(lambda x:True if x[\"grade\"] == \"highly-skilled\" else False,employees))))"
   ]
  },
  {
   "cell_type": "code",
   "execution_count": null,
   "id": "f91de9a7-ed0a-4cce-bf2a-1841de900d1a",
   "metadata": {},
   "outputs": [],
   "source": []
  },
  {
   "cell_type": "code",
   "execution_count": null,
   "id": "ee24ff5c-3a97-4f42-9221-bb415198bcd3",
   "metadata": {},
   "outputs": [],
   "source": []
  }
 ],
 "metadata": {
  "kernelspec": {
   "display_name": "Python 3 (ipykernel)",
   "language": "python",
   "name": "python3"
  },
  "language_info": {
   "codemirror_mode": {
    "name": "ipython",
    "version": 3
   },
   "file_extension": ".py",
   "mimetype": "text/x-python",
   "name": "python",
   "nbconvert_exporter": "python",
   "pygments_lexer": "ipython3",
   "version": "3.10.6"
  }
 },
 "nbformat": 4,
 "nbformat_minor": 5
}
