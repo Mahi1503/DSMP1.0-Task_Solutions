{
 "cells": [
  {
   "cell_type": "raw",
   "id": "31e3d992-5120-4e4d-aa76-cdb6ae85fb15",
   "metadata": {},
   "source": [
    "Q1:Count number of instances of a class created in Python?\n",
    "Example: Say Car is any class.\n",
    "\n",
    "maruti = Car()\n",
    "bmw = Car()\n",
    "honda = Car()\n",
    "So after creating above instances. We want to count how many instances are created of Car class.\n",
    "\n",
    "For above example no of instances = 3.\n",
    "\n",
    "Write a program for above problem."
   ]
  },
  {
   "cell_type": "code",
   "execution_count": 34,
   "id": "9a75e260-4225-4c01-b350-75bad094780b",
   "metadata": {},
   "outputs": [
    {
     "name": "stdout",
     "output_type": "stream",
     "text": [
      "Total 1 instance created of this class and this is instance no 1 \n",
      "Total 2 instance created of this class and this is instance no 2 \n",
      "Total 3 instance created of this class and this is instance no 3 \n"
     ]
    }
   ],
   "source": [
    "class Car:\n",
    "    __count = 0\n",
    "    def __init__(self):\n",
    "        Car.__count+=1\n",
    "        self.__count = Car.__count\n",
    "        #print(\"This is {} instance of class Car\".format(self.count))\n",
    "        print(\"Total {} instance created of this class and this is instance no {} \".format(Car.__count,self.__count))\n",
    "        \n",
    "maruti = Car()\n",
    "bmw = Car()\n",
    "honda = Car()        "
   ]
  },
  {
   "cell_type": "code",
   "execution_count": 25,
   "id": "d027a5f9-f6dc-48a4-8ca5-32ed676de57e",
   "metadata": {},
   "outputs": [
    {
     "name": "stdout",
     "output_type": "stream",
     "text": [
      "Total 4 instance created of this class and this is instance no 4 \n"
     ]
    }
   ],
   "source": [
    "bajaj = Car()"
   ]
  },
  {
   "cell_type": "code",
   "execution_count": 35,
   "id": "6f1a7eb7-a848-4a6e-acad-3dc3bc949ca4",
   "metadata": {},
   "outputs": [
    {
     "data": {
      "text/plain": [
       "'Total 3 instance created of this class and this is instance no 3 '"
      ]
     },
     "execution_count": 35,
     "metadata": {},
     "output_type": "execute_result"
    }
   ],
   "source": [
    "class Car:\n",
    "    __count = 0\n",
    "    def __init__(self):\n",
    "        Car.__count+=1\n",
    "        self.__count = Car.__count\n",
    "\n",
    "    def get_instance_count(self):\n",
    "        return \"Total {} instance created of this class and this is instance no {} \".format(Car.__count,self.__count)\n",
    "\n",
    "maruti = Car()\n",
    "bmw = Car()\n",
    "honda = Car()  \n",
    "honda.get_instance_count()"
   ]
  },
  {
   "cell_type": "raw",
   "id": "14ade77b-aad6-4f47-9601-5fc909f029d7",
   "metadata": {},
   "source": [
    "Q-2: Create a deck of cards class. Internally, the deck of cards should use another class, a card class. Your requirements are:\n",
    "The Deck class should have a deal method to deal a single card from the deck\n",
    "After a card is dealt, it is removed from the deck.\n",
    "There should be a shuffle method which makes sure the deck of cards has all 52 cards and then rearranges them randomly.\n",
    "The Card class should have a suit (Hearts, Diamonds, Clubs, Spades) and a value (A,2,3,4,5,6,7,8,9,10,J,Q,K)\n",
    "\n",
    "Deck Class\n",
    "It is class of all possible cards in a deck. Total 52 cards.\n",
    "Methods - deal() it will take out one card from the deck of cards.\n",
    "Deck of cards should get shuffeled while creating the deck object.\n",
    "no of cards remaining in deck - <number> should dsiplay on printing any deck object.\n",
    "\n",
    "Card class\n",
    "It is a class of card\n",
    "Atrributes - suit and value\n",
    "<suit> of <value> should dsiplay on printing any card object."
   ]
  },
  {
   "cell_type": "code",
   "execution_count": 76,
   "id": "5d8e630b-4f59-4f88-a1a2-c2e119a68384",
   "metadata": {},
   "outputs": [
    {
     "name": "stdout",
     "output_type": "stream",
     "text": [
      "Cards left 52\n",
      "Cards left 47\n"
     ]
    }
   ],
   "source": [
    "import random\n",
    "\n",
    "class Card:\n",
    "\n",
    "    def __init__(self,suit,value):\n",
    "        self.suit = suit\n",
    "        self.value = value\n",
    "\n",
    "    def __repr__(self):\n",
    "        return \"<{}> of <{}>\".format(self.suit,self.value)\n",
    "\n",
    "class Deck:\n",
    "\n",
    "    def __init__(self):\n",
    "        suits = [\"Hearts\", \"Diamonds\", \"Clubs\", \"Spades\"]\n",
    "        values = [\"A\",\"2\",\"3\",\"4\",\"5\",\"6\",\"7\",\"8\",\"9\",\"10\",\"J\",\"Q\",\"K\"]\n",
    "        self.cards = [Card(suit,value) for suit in suits for value in values]\n",
    "        self.shuffle()\n",
    "\n",
    "    def __str__(self):\n",
    "        return \"Cards left \" + str(len(self.cards))\n",
    "\n",
    "    def deal(self):\n",
    "        if len(self.cards) == 0:\n",
    "            print('All cards have been dealt')\n",
    "        return self.cards.pop()\n",
    "\n",
    "    def shuffle(self):\n",
    "        if len(self.cards) < 52:\n",
    "            print(\"only full deck can be shuffled\")\n",
    "        else:\n",
    "            random.shuffle(self.cards)\n",
    "        return self.cards\n",
    "deck = Deck()    \n",
    "print(deck)  \n",
    "deck.deal()\n",
    "deck.deal()\n",
    "deck.deal()\n",
    "deck.deal()\n",
    "deck.deal()\n",
    "print(deck)              "
   ]
  },
  {
   "cell_type": "raw",
   "id": "22476b05-4d30-488d-807b-017c5d7f8b4f",
   "metadata": {},
   "source": [
    "Q-3: Find the area of a rectangle.\n",
    "Approach:\n",
    "\n",
    "The class name should be Rectangle.\n",
    "The constructor should accept two parameters length and height but you can't pass the values directly to it while creating the constructor. E.g., rectangle = Rectangle(length=10, height=8) <-- you can't do that while creating the instances.\n",
    "Create a method called area() which has no parameters.\n",
    "Create a method called is_square() which also has no parameters. Return True if the rectangle is a square otherwise return False.\n",
    "If you are using a if-else block inside the is_square() method, then use the one-linear syntax."
   ]
  },
  {
   "cell_type": "code",
   "execution_count": 6,
   "id": "fde0c041-cbea-4371-a1d8-6147951ebe91",
   "metadata": {},
   "outputs": [
    {
     "name": "stdout",
     "output_type": "stream",
     "text": [
      "12\n",
      "False\n",
      "True\n"
     ]
    }
   ],
   "source": [
    "class Rectangle:\n",
    "\n",
    "    def __init__(self,l,b):\n",
    "        self.__l = l\n",
    "        self.__b = b\n",
    "\n",
    "    @classmethod\n",
    "    def class_method(cls,lens,brds):\n",
    "        return cls(lens,brds)\n",
    "        \n",
    "    def area(self):\n",
    "        return self.__l*self.__b\n",
    "\n",
    "    def is_square(self):\n",
    "        return True if self.__l == self.__b else False\n",
    "rec = Rectangle.class_method(3,4)\n",
    "print(rec.area())\n",
    "print(rec.is_square())\n",
    "rec = Rectangle.class_method(3,3)\n",
    "print(rec.is_square())"
   ]
  },
  {
   "cell_type": "raw",
   "id": "cfc62095-94e2-4769-bcc8-e1ffa15c6832",
   "metadata": {},
   "source": [
    "Q-4: Write a program that uses datetime module within a class. Enter manufacturing date and expiry date of the product. The program must display the years, months and days that are left for expiry."
   ]
  },
  {
   "cell_type": "code",
   "execution_count": 35,
   "id": "5fb90bff-be23-4aa2-8acd-3873ea0e1b6d",
   "metadata": {},
   "outputs": [
    {
     "name": "stdout",
     "output_type": "stream",
     "text": [
      "6 days, 0:00:00\n"
     ]
    }
   ],
   "source": [
    "import datetime\n",
    "\n",
    "class Product:\n",
    "\n",
    "    def __init__(self,mfg_date,exp_date):\n",
    "        self.mfg_date = mfg_date\n",
    "        self.exp_date = exp_date\n",
    "\n",
    "        self.mfg_date = datetime.datetime.strptime(self.mfg_date,\"%d/%m/%Y\")\n",
    "        self.exp_date = datetime.datetime.strptime(self.exp_date,\"%d/%m/%Y\")\n",
    "\n",
    "    def exp_days_left(self):\n",
    "        today = datetime.datetime.now()\n",
    "        if self.exp_date < today:\n",
    "            print(\"Product is expired\")\n",
    "        else:\n",
    "            days_left = self.exp_date.date() - today.date()\n",
    "            print(days_left)\n",
    "\n",
    "obj = Product(\"01/01/2025\",\"31/01/2025\")\n",
    "obj.exp_days_left()"
   ]
  },
  {
   "cell_type": "raw",
   "id": "c077afc8-b0a8-4f57-a4ca-9d37693331e1",
   "metadata": {},
   "source": [
    "Q-5: Problem 5\n",
    "Statement: A university wants to automate their admission process. Students are admitted based on the marks scored in the qualifying exam. A student is identified by student id, age and marks in qualifying exam. Data are valid, if:\n",
    "\n",
    "Age is greater than 20\n",
    "Marks is between 0 and 100 (both inclusive)\n",
    "\n",
    "A student qualifies for admission, if\n",
    "Age and marks are valid and\n",
    "Marks is 65 or more\n",
    "Write a python program to represent the students seeking admission in the university. The details of student class are given below.\n"
   ]
  },
  {
   "cell_type": "code",
   "execution_count": 40,
   "id": "4db834d0-e883-41d3-ad32-e48c619cc2e5",
   "metadata": {},
   "outputs": [
    {
     "name": "stdout",
     "output_type": "stream",
     "text": [
      "101\n",
      "66\n",
      "19\n"
     ]
    },
    {
     "data": {
      "text/plain": [
       "False"
      ]
     },
     "execution_count": 40,
     "metadata": {},
     "output_type": "execute_result"
    }
   ],
   "source": [
    "class Student:\n",
    "\n",
    "    def __init__(self):\n",
    "        self.__student_id = None\n",
    "        self.__marks = None\n",
    "        self.__age = None\n",
    "\n",
    "    def get_student_id(self):\n",
    "        return self.__student_id\n",
    "\n",
    "    def get_marks(self):\n",
    "        return self.__marks\n",
    "\n",
    "    def get_age(self):\n",
    "        return self.__age\n",
    "\n",
    "    def set_student_id(self,stud_id):\n",
    "        self.__student_id = stud_id\n",
    "\n",
    "    def set_marks(self,marks):\n",
    "        self.__marks = marks\n",
    "\n",
    "    def set_age(self,age):\n",
    "        self.__age = age\n",
    "    \n",
    "    def validate_marks(self):\n",
    "        if 0 <= self.__marks <= 100:\n",
    "            return True\n",
    "        else:\n",
    "            return False\n",
    "\n",
    "    def validate_age(self):\n",
    "        if self.__age > 20:\n",
    "            return True\n",
    "        else:\n",
    "            return False\n",
    "\n",
    "    def check_qualification(self):\n",
    "        if self.validate_marks() & self.validate_age():\n",
    "            return self.__marks >= 65 \n",
    "        else:\n",
    "            return False\n",
    "        \n",
    "\n",
    "stu1 = Student()\n",
    "\n",
    "stu1.set_student_id(101)\n",
    "stu1.set_marks(66)\n",
    "stu1.set_age(19)\n",
    "\n",
    "print(stu1.get_student_id())\n",
    "print(stu1.get_marks())\n",
    "print(stu1.get_age())\n",
    "\n",
    "stu1.check_qualification()"
   ]
  },
  {
   "cell_type": "raw",
   "id": "11eb86c0-b595-4a62-9a8b-39e590f991dc",
   "metadata": {},
   "source": [
    "Q-6: Ice-Cream Scoops and Bowl shop\n",
    "Create a class Scoop which has one public property flavor and one private proptery price. Take flavor values during object creation.\n",
    "\n",
    "Create a class Bowl with private prperty scoop_list which will have list of scoopd object.\n",
    "\n",
    "Create a method add_scoops in Bowl class which will add any no of Scoop objects given as parameter and store it in scoops_list.\n",
    "\n",
    "Make getter and setter method for price property.\n",
    "\n",
    "Make a method display to display flavour and price of each Scoop in scoop_list and print total price of the bowl by adding all flavour scoops prices.\n",
    "\n",
    "Make a method sold in both Scoop class and Bowl class to print no of quantity sold."
   ]
  },
  {
   "cell_type": "code",
   "execution_count": 10,
   "id": "2426be16-a07a-4963-bebd-654e46ea8bb0",
   "metadata": {},
   "outputs": [
    {
     "name": "stdout",
     "output_type": "stream",
     "text": [
      "Flavor - chocolate and Price - 100\n",
      "Flavor - vanilla and Price - 150\n",
      "Flavor - berry and Price - 120\n",
      "Total Price  370\n",
      "3\n",
      "1\n"
     ]
    }
   ],
   "source": [
    "class Scoop:\n",
    "\n",
    "    __counter = 0\n",
    "\n",
    "    def __init__(self,flavor):\n",
    "        self.flavor = flavor\n",
    "        self.__price = None\n",
    "        Scoop.__counter+=1\n",
    "\n",
    "    def set_price(self,price):\n",
    "        self.__price = price\n",
    "        \n",
    "    def get_price(self):\n",
    "        return self.__price\n",
    "\n",
    "    def __str__(self):\n",
    "        return \"Flavor - {} and Price - {}\".format(self.flavor,self.__price)\n",
    "\n",
    "    @staticmethod\n",
    "    def sold():\n",
    "        return Scoop.__counter\n",
    "        \n",
    "        \n",
    "        \n",
    "\n",
    "class Bowl:\n",
    "    __counter = 0 \n",
    "    \n",
    "    def __init__(self):\n",
    "        self.__scoop_list = []\n",
    "        Bowl.__counter+=1\n",
    "        \n",
    "\n",
    "    def add_scoops(self,*args):\n",
    "        self.__scoop_list.extend(list(args))\n",
    "\n",
    "    def display(self):\n",
    "        total = 0\n",
    "        for scoop in self.__scoop_list:\n",
    "            print(scoop)\n",
    "            total = total + scoop.get_price()\n",
    "\n",
    "        print(\"Total Price \",total)\n",
    "\n",
    "    @staticmethod\n",
    "    def sold():\n",
    "        return Bowl.__counter\n",
    "        \n",
    "        \n",
    "choco = Scoop('chocolate')\n",
    "choco.set_price(100)\n",
    "\n",
    "berry = Scoop('berry')\n",
    "berry.set_price(120)\n",
    "\n",
    "vanilla = Scoop('vanilla')\n",
    "vanilla.set_price(150)\n",
    "\n",
    "bowl = Bowl()\n",
    "\n",
    "bowl.add_scoops(choco,vanilla,berry)\n",
    "\n",
    "bowl.display()\n",
    "\n",
    "print(Scoop.sold())\n",
    "print(Bowl.sold())"
   ]
  },
  {
   "cell_type": "raw",
   "id": "75afc243-74f0-4864-bd55-b8be47b35b18",
   "metadata": {},
   "source": [
    " Q-7:Ice-Cream Bowl continue..\n",
    "Making advancement in the above classes. Scoop and Bowl\n",
    "\n",
    "Introduce a property max_scoops in Bowl class to signify maximum scoops that a bowl can have, exceeding that it will display Bowl is full. Take default value as 3.\n",
    "\n",
    "no_of_scoop in Scoop class with default value of 1\n",
    "\n",
    "Print <flavour> added with every scoop added."
   ]
  },
  {
   "cell_type": "code",
   "execution_count": null,
   "id": "a24912c4-a3c7-46a7-9962-90ded9ecae6c",
   "metadata": {},
   "outputs": [],
   "source": [
    "class Scoop:\n",
    "\n",
    "    __counter = 0\n",
    "    \n",
    "\n",
    "    def __init__(self,flavor,no_scoops = 1):\n",
    "        self.flavor = flavor\n",
    "        self.__price = None\n",
    "        Scoop.__counter+=1\n",
    "        self.no_scoops = no_scoops\n",
    "\n",
    "    def set_price(self,price):\n",
    "        self.__price = price\n",
    "        \n",
    "    def get_price(self):\n",
    "        return self.__price\n",
    "\n",
    "    def __str__(self):\n",
    "        return \"Flavor - {} and Price - {}\".format(self.flavor,self.__price)\n",
    "\n",
    "    @staticmethod\n",
    "    def sold():\n",
    "        return Scoop.__counter\n",
    "        \n",
    "        \n",
    "        \n",
    "\n",
    "class Bowl:\n",
    "    __counter = 0 \n",
    "    \n",
    "    def __init__(self,max_scoops=3):\n",
    "        self.__scoop_list = []\n",
    "        Bowl.__counter+=1\n",
    "        self.scoops_added = 0\n",
    "        self.__max_scoop = max_scoops\n",
    "        \n",
    "\n",
    "    def add_scoops(self,*new_scoops):\n",
    "        for scoop in new_scoops:\n",
    "            if self.scoops_added + self.no_scoops <= self.__max_scoop:\n",
    "                self.__scoop_list.append(scoop)\n",
    "                self.scoops_added+=self.no_scoops\n",
    "\n",
    "    def display(self):\n",
    "        total = 0\n",
    "        for scoop in self.__scoop_list:\n",
    "            print(scoop)\n",
    "            total = total + scoop.get_price()\n",
    "\n",
    "        print(\"Total Price \",total)\n",
    "\n",
    "    @staticmethod\n",
    "    def sold():\n",
    "        return Bowl.__counter\n",
    "        \n",
    "        \n",
    "choco = Scoop('chocolate')\n",
    "choco.set_price(100)\n",
    "\n",
    "berry = Scoop('berry')\n",
    "berry.set_price(120)\n",
    "\n",
    "vanilla = Scoop('vanilla')\n",
    "vanilla.set_price(150)\n",
    "\n",
    "bowl = Bowl()\n",
    "\n",
    "bowl.add_scoops(choco,vanilla,berry)\n",
    "\n",
    "bowl.display()\n",
    "\n",
    "print(Scoop.sold())\n",
    "print(Bowl.sold())"
   ]
  },
  {
   "cell_type": "raw",
   "id": "b3a1138a-e002-479f-9237-1998cc2d9941",
   "metadata": {},
   "source": [
    "Q-6: Ice-Cream Scoops and Bowl shop\n",
    "Create a class Scoop which has one public property flavor and one private proptery price. Take flavor values during object creation.\n",
    "\n",
    "Create a class Bowl with private prperty scoop_list which will have list of scoopd object.\n",
    "\n",
    "Create a method add_scoops in Bowl class which will add any no of Scoop objects given as parameter and store it in scoops_list.\n",
    "\n",
    "Make getter and setter method for price property.\n",
    "\n",
    "Make a method display to display flavour and price of each Scoop in scoop_list and print total price of the bowl by adding all flavour scoops prices.\n",
    "\n",
    "Make a method sold in both Scoop class and Bowl class to print no of quantity sold."
   ]
  },
  {
   "cell_type": "code",
   "execution_count": 63,
   "id": "c6bc5404-0d0f-4801-974d-a0443e5a6181",
   "metadata": {},
   "outputs": [
    {
     "name": "stdout",
     "output_type": "stream",
     "text": [
      "No of scoops sold is  3\n",
      "chocolate  Flavor Added\n",
      "berry  Flavor Added\n",
      "vanilla  Flavor Added\n",
      "flavor -> chocolate and Price -> 100\n",
      "flavor -> berry and Price -> 120\n",
      "flavor -> vanilla and Price -> 150\n",
      "total price 370\n",
      "No of bowel sold is  1\n"
     ]
    }
   ],
   "source": [
    "class Scoop:\n",
    "    \n",
    "    __scoop_qt = 0\n",
    "    def __init__(self,flavor,num_scoop = 1):\n",
    "        self.flavor = flavor\n",
    "        self.__price = None\n",
    "        Scoop.__scoop_qt +=1\n",
    "        self.num_scoop = num_scoop\n",
    "        \n",
    "    def __str__(self):\n",
    "        return \"flavor -> {} and Price -> {}\".format(self.flavor,self.__price)\n",
    "\n",
    "    def set_price(self,price):\n",
    "        self.__price = price\n",
    "\n",
    "    def get_price(self):\n",
    "        return self.__price\n",
    "\n",
    "    @staticmethod\n",
    "    def sold():\n",
    "        print(\"No of scoops sold is \",Scoop.__scoop_qt)\n",
    "\n",
    "\n",
    "\n",
    "class Bowl:\n",
    "\n",
    "    __bowl_qt = 0\n",
    "     \n",
    "    def __init__(self,max_scoops = 3):\n",
    "        self.__scoop_list = []\n",
    "        Bowl.__bowl_qt+=1\n",
    "        self.__max_scoops = max_scoops\n",
    "        self.__added_scoop = 0\n",
    "\n",
    "    def add_scoops(self,*given_scoop):\n",
    "        for scoop in given_scoop:\n",
    "            if self.__added_scoop + scoop.num_scoop <= self.__max_scoops:\n",
    "                self.__scoop_list.append(scoop)\n",
    "                self.__added_scoop+=scoop.num_scoop\n",
    "                print(scoop.flavor,\" Flavor Added\")\n",
    "            else:\n",
    "                print(\"Bowl is full\")\n",
    "                \n",
    "    def display(self):\n",
    "        total = 0\n",
    "        for scoop in self.__scoop_list:\n",
    "            total += scoop.get_price()\n",
    "            print(scoop)\n",
    "        print(\"total price\",total)\n",
    "\n",
    "    @staticmethod\n",
    "    def sold():\n",
    "        print(\"No of bowel sold is \",Bowl.__bowl_qt)\n",
    "        \n",
    "choco = Scoop('chocolate')\n",
    "choco.set_price(100)\n",
    "\n",
    "berry = Scoop('berry')\n",
    "berry.set_price(120)\n",
    "\n",
    "vanilla = Scoop('vanilla')\n",
    "vanilla.set_price(150)\n",
    "\n",
    "Scoop.sold()\n",
    "\n",
    "bowl = Bowl()\n",
    "bowl.add_scoops(choco)\n",
    "bowl.add_scoops(berry,vanilla)\n",
    "bowl.display()\n",
    "Bowl.sold()"
   ]
  },
  {
   "cell_type": "raw",
   "id": "fa80762e-7a4e-4b33-8c22-16df3ea187ba",
   "metadata": {},
   "source": [
    "Q-7:Ice-Cream Bowl continue..\n",
    "Making advancement in the above classes. Scoop and Bowl\n",
    "\n",
    "Introduce a property max_scoops in Bowl class to signify maximum scoops that a bowl can have, exceeding that it will display Bowl is full. Take default value as 3.\n",
    "\n",
    "no_of_scoop in Scoop class with default value of 1\n",
    "\n",
    "Print <flavour> added with every scoop added."
   ]
  },
  {
   "cell_type": "code",
   "execution_count": 74,
   "id": "d50fce2e-9e96-4281-8db4-037f9a1142fb",
   "metadata": {},
   "outputs": [],
   "source": [
    "class Scoop:\n",
    "    \n",
    "    __scoop_qt = 0\n",
    "    def __init__(self,flavor,num_scoop = 1):\n",
    "        self.flavor = flavor\n",
    "        self.__price = None\n",
    "        Scoop.__scoop_qt +=1\n",
    "        self.num_scoop = num_scoop\n",
    "        \n",
    "    def __str__(self):\n",
    "        return \"flavor -> {} and Price -> {}\".format(self.flavor,self.__price)\n",
    "\n",
    "    def set_price(self,price):\n",
    "        self.__price = price\n",
    "\n",
    "    def get_price(self):\n",
    "        return self.__price\n",
    "\n",
    "    @staticmethod\n",
    "    def sold():\n",
    "        print(\"No of scoops sold is \",Scoop.__scoop_qt)\n",
    "\n",
    "\n",
    "\n",
    "class Bowl:\n",
    "\n",
    "    __bowl_qt = 0\n",
    "     \n",
    "    def __init__(self,max_scoops = 3):\n",
    "        self.__scoop_list = []\n",
    "        Bowl.__bowl_qt+=1\n",
    "        self.__max_scoops = max_scoops\n",
    "        self.__added_scoop = 0\n",
    "\n",
    "    def add_scoops(self,*given_scoop):\n",
    "        for scoop in given_scoop:\n",
    "            if self.__added_scoop + scoop.num_scoop <= self.__max_scoops:\n",
    "                self.__scoop_list.append(scoop)\n",
    "                self.__added_scoop+=scoop.num_scoop\n",
    "                print(scoop.flavor,\" Flavor Added\")\n",
    "            else:\n",
    "                print(\"Bowl is full\")\n",
    "                \n",
    "    def display(self):\n",
    "        total = 0\n",
    "        for scoop in self.__scoop_list:\n",
    "            total += scoop.get_price()\n",
    "            print(scoop)\n",
    "        print(\"total price\",total)\n",
    "\n",
    "    @staticmethod\n",
    "    def sold():\n",
    "        print(\"No of bowel sold is \",Bowl.__bowl_qt)\n",
    "        \n",
    "# choco = Scoop('chocolate')\n",
    "# choco.set_price(100)\n",
    "\n",
    "# berry = Scoop('berry')\n",
    "# berry.set_price(120)\n",
    "\n",
    "# vanilla = Scoop('vanilla')\n",
    "# vanilla.set_price(150)\n",
    "\n",
    "# Scoop.sold()\n",
    "\n",
    "# bowl = Bowl()\n",
    "# bowl.add_scoops(choco)\n",
    "# bowl.add_scoops(berry,vanilla)\n",
    "# bowl.display()\n",
    "# Bowl.sold()"
   ]
  },
  {
   "cell_type": "code",
   "execution_count": 65,
   "id": "f1123589-b3d1-4e57-abe3-fbd8bae174c8",
   "metadata": {},
   "outputs": [],
   "source": [
    "bowl = Bowl(4)"
   ]
  },
  {
   "cell_type": "code",
   "execution_count": 75,
   "id": "063d4d48-5b44-451a-ae6c-7618583382dc",
   "metadata": {},
   "outputs": [],
   "source": [
    "choco = Scoop('chocolate')\n",
    "choco.set_price(100)\n",
    "\n",
    "choco = Scoop('chocolate')\n",
    "choco.set_price(100)\n",
    "\n",
    "choco = Scoop('chocolate')\n",
    "choco.set_price(100)\n",
    "\n",
    "berry = Scoop('berry')\n",
    "berry.set_price(120)\n",
    "\n",
    "vanilla = Scoop('vanilla')\n",
    "vanilla.set_price(150)"
   ]
  },
  {
   "cell_type": "code",
   "execution_count": 76,
   "id": "915bedb9-7f89-42b8-98b0-600ca1413075",
   "metadata": {},
   "outputs": [
    {
     "name": "stdout",
     "output_type": "stream",
     "text": [
      "No of scoops sold is  5\n"
     ]
    }
   ],
   "source": [
    "Scoop.sold()"
   ]
  },
  {
   "cell_type": "code",
   "execution_count": 77,
   "id": "a767b274-c969-4821-8eb1-b8e782f4cfed",
   "metadata": {},
   "outputs": [
    {
     "name": "stdout",
     "output_type": "stream",
     "text": [
      "chocolate  Flavor Added\n",
      "chocolate  Flavor Added\n",
      "chocolate  Flavor Added\n",
      "berry  Flavor Added\n",
      "Bowl is full\n",
      "flavor -> chocolate and Price -> 100\n",
      "flavor -> chocolate and Price -> 100\n",
      "flavor -> chocolate and Price -> 100\n",
      "flavor -> berry and Price -> 120\n",
      "total price 420\n",
      "No of bowel sold is  1\n"
     ]
    }
   ],
   "source": [
    "bowl = Bowl(4)\n",
    "bowl.add_scoops(choco,choco,choco)\n",
    "bowl.add_scoops(berry,vanilla)\n",
    "bowl.display()\n",
    "Bowl.sold()"
   ]
  },
  {
   "cell_type": "code",
   "execution_count": null,
   "id": "7d9ce6b9-3e2d-41e6-a774-cb6bf75a4f9b",
   "metadata": {},
   "outputs": [],
   "source": []
  }
 ],
 "metadata": {
  "kernelspec": {
   "display_name": "Python 3 (ipykernel)",
   "language": "python",
   "name": "python3"
  },
  "language_info": {
   "codemirror_mode": {
    "name": "ipython",
    "version": 3
   },
   "file_extension": ".py",
   "mimetype": "text/x-python",
   "name": "python",
   "nbconvert_exporter": "python",
   "pygments_lexer": "ipython3",
   "version": "3.10.6"
  }
 },
 "nbformat": 4,
 "nbformat_minor": 5
}
