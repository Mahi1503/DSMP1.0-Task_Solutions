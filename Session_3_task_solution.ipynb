{
 "cells": [
  {
   "cell_type": "markdown",
   "id": "870cb076",
   "metadata": {},
   "source": [
    "### Problem 1 - Print the following pattern. Write a program to use for loop to print the following reverse number pattern."
   ]
  },
  {
   "cell_type": "code",
   "execution_count": null,
   "id": "18c5ff55",
   "metadata": {},
   "outputs": [],
   "source": [
    "5 4 3 2 1 \n",
    "4 3 2 1 \n",
    "3 2 1 \n",
    "2 1 \n",
    "1"
   ]
  },
  {
   "cell_type": "code",
   "execution_count": 4,
   "id": "fe77ad1b",
   "metadata": {},
   "outputs": [
    {
     "name": "stdout",
     "output_type": "stream",
     "text": [
      "5 4 3 2 1 \n",
      "4 3 2 1 \n",
      "3 2 1 \n",
      "2 1 \n",
      "1 \n"
     ]
    }
   ],
   "source": [
    "for i in range(5,0,-1):\n",
    "    for j in range(i):\n",
    "        print(i-j,end=\" \")\n",
    "    print()"
   ]
  },
  {
   "cell_type": "code",
   "execution_count": null,
   "id": "92d16e0d",
   "metadata": {},
   "outputs": [],
   "source": [
    "* \n",
    "* * \n",
    "* * * \n",
    "* * * * \n",
    "* * * * * \n",
    "* * * * \n",
    "* * * \n",
    "* * \n",
    "*"
   ]
  },
  {
   "cell_type": "code",
   "execution_count": 7,
   "id": "15906abb",
   "metadata": {},
   "outputs": [
    {
     "name": "stdout",
     "output_type": "stream",
     "text": [
      "* \n",
      "* * \n",
      "* * * \n",
      "* * * * \n",
      "* * * * * \n",
      "* * * * \n",
      "* * * \n",
      "* * \n",
      "* \n"
     ]
    }
   ],
   "source": [
    "for i in range(1,6):\n",
    "    print(\"* \"*i)\n",
    "for i in range(4,0,-1):\n",
    "    print(\"* \"*i)"
   ]
  },
  {
   "cell_type": "code",
   "execution_count": null,
   "id": "d1840671",
   "metadata": {},
   "outputs": [],
   "source": [
    "    *\n",
    "  * * *\n",
    "* * * * *"
   ]
  },
  {
   "cell_type": "code",
   "execution_count": 16,
   "id": "2d37b75d",
   "metadata": {},
   "outputs": [
    {
     "name": "stdout",
     "output_type": "stream",
     "text": [
      "     *\n",
      "   * * *\n",
      " * * * * *\n"
     ]
    }
   ],
   "source": [
    "n = 4\n",
    "for i in range(1,6):\n",
    "    if i%2 == 1:\n",
    "        print(\" \"*n + \" *\"*i)\n",
    "    n-=1"
   ]
  },
  {
   "cell_type": "code",
   "execution_count": null,
   "id": "c433dbe3",
   "metadata": {},
   "outputs": [],
   "source": [
    "1\n",
    "\n",
    "2 1\n",
    "\n",
    "3 2 1\n",
    "\n",
    "4 3 2 1\n",
    "\n",
    "5 4 3 2 1"
   ]
  },
  {
   "cell_type": "code",
   "execution_count": 22,
   "id": "2eed125f",
   "metadata": {},
   "outputs": [
    {
     "name": "stdout",
     "output_type": "stream",
     "text": [
      "1 \n",
      "2 1 \n",
      "3 2 1 \n",
      "4 3 2 1 \n",
      "5 4 3 2 1 \n"
     ]
    }
   ],
   "source": [
    "for i in range(1,6):\n",
    "    n = 0\n",
    "    for j in range(1,i+1):\n",
    "        print(i-n,end=\" \")\n",
    "        n+=1\n",
    "    print()"
   ]
  },
  {
   "cell_type": "markdown",
   "id": "04b0ba80",
   "metadata": {},
   "source": [
    "# Problem 5: Write a Python Program to Find the Sum of the Series till the nth term:"
   ]
  },
  {
   "cell_type": "raw",
   "id": "79ea06c1",
   "metadata": {},
   "source": [
    "1 + x^2/2 + x^3/3 + … x^n/n\n",
    "n will be provided by the user"
   ]
  },
  {
   "cell_type": "code",
   "execution_count": 34,
   "id": "8136f61a",
   "metadata": {},
   "outputs": [
    {
     "name": "stdout",
     "output_type": "stream",
     "text": [
      "Enter number 5\n",
      "22893.333333333332\n"
     ]
    }
   ],
   "source": [
    "n = int(input(\"Enter number \"))\n",
    "res = 0\n",
    "for i in range(1,n+1):\n",
    "    term = 10**i\n",
    "    res = res + term/i\n",
    "    \n",
    "print(res)"
   ]
  },
  {
   "cell_type": "code",
   "execution_count": 26,
   "id": "63f7a0b5",
   "metadata": {},
   "outputs": [
    {
     "name": "stdout",
     "output_type": "stream",
     "text": [
      "1 + x^2/2 +x^3/3 +x^4/4 +x^5/5 \n",
      "22884.333333333332\n"
     ]
    }
   ],
   "source": [
    "x = 10\n",
    "n = 5\n",
    "\n",
    "sum1 = 1\n",
    "s = ''\n",
    "print('1 + ',end='')\n",
    "for i in range(2,n+1):\n",
    "    sum1 = sum1 + x**i/i\n",
    "    s = s + 'x^{}/{} +'.format(i,i)\n",
    "print(s[:-1])\n",
    "print(sum)"
   ]
  },
  {
   "cell_type": "markdown",
   "id": "c2d95c60",
   "metadata": {},
   "source": [
    "# Problem 6: The natural logarithm can be approximated by the following series."
   ]
  },
  {
   "cell_type": "code",
   "execution_count": 39,
   "id": "b921626b",
   "metadata": {},
   "outputs": [
    {
     "name": "stdout",
     "output_type": "stream",
     "text": [
      "5\n",
      "10\n",
      "1.8301230000000004\n"
     ]
    }
   ],
   "source": [
    "n = int(input())\n",
    "x = int(input())\n",
    "res = 0\n",
    "for i in range(1,n+1):\n",
    "    term = (1/i)*((x-1)/x)**i\n",
    "    res +=term\n",
    "    \n",
    "print(res)"
   ]
  },
  {
   "cell_type": "markdown",
   "id": "8c0fdffe",
   "metadata": {},
   "source": [
    "# Problem 7 - Find the sum of the series upto n terms.\n",
    "# Write a program to calculate the sum of series up to n term. For example, if n =5 the series will become 2 + 22 + 222 + 2222 + 22222 = 24690. Take the user input and then calculate. And the output style should match which is given in the example.\n"
   ]
  },
  {
   "cell_type": "code",
   "execution_count": 49,
   "id": "c8c06a66",
   "metadata": {},
   "outputs": [
    {
     "name": "stdout",
     "output_type": "stream",
     "text": [
      "5\n",
      "2+22+222+2222+22222\n"
     ]
    },
    {
     "data": {
      "text/plain": [
       "24690"
      ]
     },
     "execution_count": 49,
     "metadata": {},
     "output_type": "execute_result"
    }
   ],
   "source": [
    "n = int(input())\n",
    "l1 = []\n",
    "for i in range(1,n+1):\n",
    "    if i < (n):\n",
    "        print(\"2\"*i,end=\"+\")\n",
    "    else:\n",
    "        print(\"2\"*i)\n",
    "    l1.append(int(\"2\"*i))\n",
    "sum(l1)  "
   ]
  },
  {
   "cell_type": "markdown",
   "id": "c3be5b5b",
   "metadata": {},
   "source": [
    "# Problem 8: Write a program to print all the unique combinations of 1,2,3 and 4"
   ]
  },
  {
   "cell_type": "code",
   "execution_count": 50,
   "id": "e05cc333",
   "metadata": {},
   "outputs": [
    {
     "name": "stdout",
     "output_type": "stream",
     "text": [
      "1 1 1 1\n",
      "1 1 1 2\n",
      "1 1 1 3\n",
      "1 1 1 4\n",
      "1 1 2 1\n",
      "1 1 2 2\n",
      "1 1 2 3\n",
      "1 1 2 4\n",
      "1 1 3 1\n",
      "1 1 3 2\n",
      "1 1 3 3\n",
      "1 1 3 4\n",
      "1 1 4 1\n",
      "1 1 4 2\n",
      "1 1 4 3\n",
      "1 1 4 4\n",
      "1 2 1 1\n",
      "1 2 1 2\n",
      "1 2 1 3\n",
      "1 2 1 4\n",
      "1 2 2 1\n",
      "1 2 2 2\n",
      "1 2 2 3\n",
      "1 2 2 4\n",
      "1 2 3 1\n",
      "1 2 3 2\n",
      "1 2 3 3\n",
      "1 2 3 4\n",
      "1 2 4 1\n",
      "1 2 4 2\n",
      "1 2 4 3\n",
      "1 2 4 4\n",
      "1 3 1 1\n",
      "1 3 1 2\n",
      "1 3 1 3\n",
      "1 3 1 4\n",
      "1 3 2 1\n",
      "1 3 2 2\n",
      "1 3 2 3\n",
      "1 3 2 4\n",
      "1 3 3 1\n",
      "1 3 3 2\n",
      "1 3 3 3\n",
      "1 3 3 4\n",
      "1 3 4 1\n",
      "1 3 4 2\n",
      "1 3 4 3\n",
      "1 3 4 4\n",
      "1 4 1 1\n",
      "1 4 1 2\n",
      "1 4 1 3\n",
      "1 4 1 4\n",
      "1 4 2 1\n",
      "1 4 2 2\n",
      "1 4 2 3\n",
      "1 4 2 4\n",
      "1 4 3 1\n",
      "1 4 3 2\n",
      "1 4 3 3\n",
      "1 4 3 4\n",
      "1 4 4 1\n",
      "1 4 4 2\n",
      "1 4 4 3\n",
      "1 4 4 4\n",
      "2 1 1 1\n",
      "2 1 1 2\n",
      "2 1 1 3\n",
      "2 1 1 4\n",
      "2 1 2 1\n",
      "2 1 2 2\n",
      "2 1 2 3\n",
      "2 1 2 4\n",
      "2 1 3 1\n",
      "2 1 3 2\n",
      "2 1 3 3\n",
      "2 1 3 4\n",
      "2 1 4 1\n",
      "2 1 4 2\n",
      "2 1 4 3\n",
      "2 1 4 4\n",
      "2 2 1 1\n",
      "2 2 1 2\n",
      "2 2 1 3\n",
      "2 2 1 4\n",
      "2 2 2 1\n",
      "2 2 2 2\n",
      "2 2 2 3\n",
      "2 2 2 4\n",
      "2 2 3 1\n",
      "2 2 3 2\n",
      "2 2 3 3\n",
      "2 2 3 4\n",
      "2 2 4 1\n",
      "2 2 4 2\n",
      "2 2 4 3\n",
      "2 2 4 4\n",
      "2 3 1 1\n",
      "2 3 1 2\n",
      "2 3 1 3\n",
      "2 3 1 4\n",
      "2 3 2 1\n",
      "2 3 2 2\n",
      "2 3 2 3\n",
      "2 3 2 4\n",
      "2 3 3 1\n",
      "2 3 3 2\n",
      "2 3 3 3\n",
      "2 3 3 4\n",
      "2 3 4 1\n",
      "2 3 4 2\n",
      "2 3 4 3\n",
      "2 3 4 4\n",
      "2 4 1 1\n",
      "2 4 1 2\n",
      "2 4 1 3\n",
      "2 4 1 4\n",
      "2 4 2 1\n",
      "2 4 2 2\n",
      "2 4 2 3\n",
      "2 4 2 4\n",
      "2 4 3 1\n",
      "2 4 3 2\n",
      "2 4 3 3\n",
      "2 4 3 4\n",
      "2 4 4 1\n",
      "2 4 4 2\n",
      "2 4 4 3\n",
      "2 4 4 4\n",
      "3 1 1 1\n",
      "3 1 1 2\n",
      "3 1 1 3\n",
      "3 1 1 4\n",
      "3 1 2 1\n",
      "3 1 2 2\n",
      "3 1 2 3\n",
      "3 1 2 4\n",
      "3 1 3 1\n",
      "3 1 3 2\n",
      "3 1 3 3\n",
      "3 1 3 4\n",
      "3 1 4 1\n",
      "3 1 4 2\n",
      "3 1 4 3\n",
      "3 1 4 4\n",
      "3 2 1 1\n",
      "3 2 1 2\n",
      "3 2 1 3\n",
      "3 2 1 4\n",
      "3 2 2 1\n",
      "3 2 2 2\n",
      "3 2 2 3\n",
      "3 2 2 4\n",
      "3 2 3 1\n",
      "3 2 3 2\n",
      "3 2 3 3\n",
      "3 2 3 4\n",
      "3 2 4 1\n",
      "3 2 4 2\n",
      "3 2 4 3\n",
      "3 2 4 4\n",
      "3 3 1 1\n",
      "3 3 1 2\n",
      "3 3 1 3\n",
      "3 3 1 4\n",
      "3 3 2 1\n",
      "3 3 2 2\n",
      "3 3 2 3\n",
      "3 3 2 4\n",
      "3 3 3 1\n",
      "3 3 3 2\n",
      "3 3 3 3\n",
      "3 3 3 4\n",
      "3 3 4 1\n",
      "3 3 4 2\n",
      "3 3 4 3\n",
      "3 3 4 4\n",
      "3 4 1 1\n",
      "3 4 1 2\n",
      "3 4 1 3\n",
      "3 4 1 4\n",
      "3 4 2 1\n",
      "3 4 2 2\n",
      "3 4 2 3\n",
      "3 4 2 4\n",
      "3 4 3 1\n",
      "3 4 3 2\n",
      "3 4 3 3\n",
      "3 4 3 4\n",
      "3 4 4 1\n",
      "3 4 4 2\n",
      "3 4 4 3\n",
      "3 4 4 4\n",
      "4 1 1 1\n",
      "4 1 1 2\n",
      "4 1 1 3\n",
      "4 1 1 4\n",
      "4 1 2 1\n",
      "4 1 2 2\n",
      "4 1 2 3\n",
      "4 1 2 4\n",
      "4 1 3 1\n",
      "4 1 3 2\n",
      "4 1 3 3\n",
      "4 1 3 4\n",
      "4 1 4 1\n",
      "4 1 4 2\n",
      "4 1 4 3\n",
      "4 1 4 4\n",
      "4 2 1 1\n",
      "4 2 1 2\n",
      "4 2 1 3\n",
      "4 2 1 4\n",
      "4 2 2 1\n",
      "4 2 2 2\n",
      "4 2 2 3\n",
      "4 2 2 4\n",
      "4 2 3 1\n",
      "4 2 3 2\n",
      "4 2 3 3\n",
      "4 2 3 4\n",
      "4 2 4 1\n",
      "4 2 4 2\n",
      "4 2 4 3\n",
      "4 2 4 4\n",
      "4 3 1 1\n",
      "4 3 1 2\n",
      "4 3 1 3\n",
      "4 3 1 4\n",
      "4 3 2 1\n",
      "4 3 2 2\n",
      "4 3 2 3\n",
      "4 3 2 4\n",
      "4 3 3 1\n",
      "4 3 3 2\n",
      "4 3 3 3\n",
      "4 3 3 4\n",
      "4 3 4 1\n",
      "4 3 4 2\n",
      "4 3 4 3\n",
      "4 3 4 4\n",
      "4 4 1 1\n",
      "4 4 1 2\n",
      "4 4 1 3\n",
      "4 4 1 4\n",
      "4 4 2 1\n",
      "4 4 2 2\n",
      "4 4 2 3\n",
      "4 4 2 4\n",
      "4 4 3 1\n",
      "4 4 3 2\n",
      "4 4 3 3\n",
      "4 4 3 4\n",
      "4 4 4 1\n",
      "4 4 4 2\n",
      "4 4 4 3\n",
      "4 4 4 4\n"
     ]
    }
   ],
   "source": [
    "for i in range(1,5):\n",
    "    for j in range(1,5):\n",
    "        for k in range(1,5):\n",
    "            for m in range(1,5):\n",
    "                print(i,j,k,m)"
   ]
  },
  {
   "cell_type": "markdown",
   "id": "b589cccc",
   "metadata": {},
   "source": [
    "# Problem 9: Write a program that will take a decimal number as input and prints out the binary equivalent of the number"
   ]
  },
  {
   "cell_type": "code",
   "execution_count": 51,
   "id": "aec835a6",
   "metadata": {},
   "outputs": [
    {
     "data": {
      "text/plain": [
       "'0b11011'"
      ]
     },
     "execution_count": 51,
     "metadata": {},
     "output_type": "execute_result"
    }
   ],
   "source": [
    "bin(27)"
   ]
  },
  {
   "cell_type": "code",
   "execution_count": 56,
   "id": "4a79dc03",
   "metadata": {},
   "outputs": [
    {
     "name": "stdout",
     "output_type": "stream",
     "text": [
      "3\n",
      "['1', '1']\n"
     ]
    },
    {
     "data": {
      "text/plain": [
       "'11'"
      ]
     },
     "execution_count": 56,
     "metadata": {},
     "output_type": "execute_result"
    }
   ],
   "source": [
    "num = int(input())\n",
    "binary = []\n",
    "while num>0:\n",
    "    binary.append(str(num%2))\n",
    "    num//=2\n",
    "print(binary)\n",
    "\"\".join(binary)"
   ]
  },
  {
   "cell_type": "markdown",
   "id": "9c69a037",
   "metadata": {},
   "source": [
    "### Problem 10: Write a program that will take 2 numbers as input and prints the LCM and HCF of those 2 numbers"
   ]
  },
  {
   "cell_type": "code",
   "execution_count": 61,
   "id": "75d400ee",
   "metadata": {},
   "outputs": [
    {
     "name": "stdout",
     "output_type": "stream",
     "text": [
      "10\n",
      "5\n",
      "10\n"
     ]
    }
   ],
   "source": [
    "num1 = int(input())\n",
    "num2 = int(input())\n",
    "if num1 > num2:\n",
    "    greater = num1\n",
    "else:\n",
    "    greater = num2\n",
    "\n",
    "while True:\n",
    "    if greater%num1 == 0 and greater%num2 == 0:\n",
    "        lcm = greater\n",
    "        break\n",
    "    else:\n",
    "        greater+=1\n",
    "print(lcm)"
   ]
  },
  {
   "cell_type": "code",
   "execution_count": 65,
   "id": "9234c1b1",
   "metadata": {},
   "outputs": [
    {
     "name": "stdout",
     "output_type": "stream",
     "text": [
      "enter 1st number12\n",
      "enter 2nd number16\n",
      "4\n"
     ]
    }
   ],
   "source": [
    "# Code here\n",
    "x = int(input('enter 1st number'))\n",
    "y = int(input('enter 2nd number'))\n",
    "\n",
    "if x<y:\n",
    "    smaller = x\n",
    "else:\n",
    "    smaller = y\n",
    "\n",
    "for i in range(1,smaller+1):\n",
    "    if (x % i == 0) and (y % i == 0):\n",
    "    hcf = i\n",
    "\n",
    "print(hcf)"
   ]
  },
  {
   "cell_type": "markdown",
   "id": "7cd4ea14",
   "metadata": {},
   "source": [
    "# Problem 11: Create Short Form from initial character\n",
    "# Given a string create short form ofthe string from Initial character. Short form should be capitalised. Example: Input: Data science mentorship program Output: DSMP"
   ]
  },
  {
   "cell_type": "code",
   "execution_count": 68,
   "id": "c1472993",
   "metadata": {},
   "outputs": [
    {
     "name": "stdout",
     "output_type": "stream",
     "text": [
      "Provide StringData science mentorship program\n",
      "DSMP\n"
     ]
    }
   ],
   "source": [
    "str1 = input(\"Provide String\")\n",
    "res =\"\"\n",
    "for i in str1.split():\n",
    "    res+=i[0].upper()\n",
    "print(res)    "
   ]
  },
  {
   "cell_type": "markdown",
   "id": "113cb166",
   "metadata": {},
   "source": [
    "# Problem 12: Append second string in the middle of first string Input: campusx\n",
    "# data\n",
    "# Output: camdatapusx"
   ]
  },
  {
   "cell_type": "code",
   "execution_count": 73,
   "id": "8b83258e",
   "metadata": {},
   "outputs": [
    {
     "data": {
      "text/plain": [
       "'camdatapusx'"
      ]
     },
     "execution_count": 73,
     "metadata": {},
     "output_type": "execute_result"
    }
   ],
   "source": [
    "str1 = \"campusx\"\n",
    "str2 = \"data\"\n",
    "res = \"\"\n",
    "for i in range(len(str1)):\n",
    "    if i == len(\"campusx\")//2:\n",
    "        res+=str2+str1[i]\n",
    "    else:\n",
    "        res+=str1[i]\n",
    "res"
   ]
  },
  {
   "cell_type": "code",
   "execution_count": 77,
   "id": "4e7844c1",
   "metadata": {},
   "outputs": [
    {
     "name": "stdout",
     "output_type": "stream",
     "text": [
      "Enter your string Machine  Learning\n",
      "Enter string you want to put in middledata\n"
     ]
    },
    {
     "data": {
      "text/plain": [
       "'Machine data Learning'"
      ]
     },
     "execution_count": 77,
     "metadata": {},
     "output_type": "execute_result"
    }
   ],
   "source": [
    "str1 = input(\"Enter your string \")\n",
    "str2 = input(\"Enter string you want to put in middle\")\n",
    "res = \"\"\n",
    "for i in range(len(str1)):\n",
    "    if i == len(str1)//2:\n",
    "        res+=str2+str1[i]\n",
    "    else:\n",
    "        res+=str1[i]\n",
    "res"
   ]
  },
  {
   "cell_type": "code",
   "execution_count": 83,
   "id": "87b4729b",
   "metadata": {},
   "outputs": [
    {
     "name": "stdout",
     "output_type": "stream",
     "text": [
      "Enter your string Machine Learning\n",
      "Enter string you want to put in middledata\n"
     ]
    },
    {
     "data": {
      "text/plain": [
       "'Machine data Learning'"
      ]
     },
     "execution_count": 83,
     "metadata": {},
     "output_type": "execute_result"
    }
   ],
   "source": [
    "str1 = input(\"Enter your string \")\n",
    "str2 = input(\"Enter string you want to put in middle\")\n",
    "res = \"\"\n",
    "for i in str1:\n",
    "    if i.isspace():\n",
    "        res+=\" \"+str2+i\n",
    "    else:\n",
    "        res+=i\n",
    "res"
   ]
  },
  {
   "cell_type": "markdown",
   "id": "6facfb85",
   "metadata": {},
   "source": [
    "# Problem 13:Given string contains a combination of the lower and upper case letters. Write a program to arrange the characters of a string so that all lowercase letters should come first."
   ]
  },
  {
   "cell_type": "raw",
   "id": "97328fea",
   "metadata": {},
   "source": [
    "Given:\n",
    "str1 = PyNaTive\n",
    "Expected Output:\n",
    "yaivePNT"
   ]
  },
  {
   "cell_type": "code",
   "execution_count": 90,
   "id": "ba1c126c",
   "metadata": {},
   "outputs": [
    {
     "name": "stdout",
     "output_type": "stream",
     "text": [
      "Enter your string PyNaTive\n",
      "yaivePNT\n"
     ]
    }
   ],
   "source": [
    "str1 = input(\"Enter your string \")\n",
    "lower = \"\"\n",
    "upper = \"\"\n",
    "for i in str1:\n",
    "    #print(i)\n",
    "    if i.islower():\n",
    "        lower+=i\n",
    "    else:\n",
    "        upper+=i\n",
    "print(lower+upper)\n",
    "        "
   ]
  },
  {
   "cell_type": "markdown",
   "id": "d1c23825",
   "metadata": {},
   "source": [
    "# Problem 14:Take a alphanumeric string input and print the sum and average of the digits that appear in the string, ignoring all other characters."
   ]
  },
  {
   "cell_type": "code",
   "execution_count": null,
   "id": "ea79f5e8",
   "metadata": {},
   "outputs": [],
   "source": [
    "Input: hel123O4every093\n",
    "Output:\n",
    "Sum: 22\n",
    "Avg: 2.75"
   ]
  },
  {
   "cell_type": "code",
   "execution_count": 92,
   "id": "8a33e9bc",
   "metadata": {},
   "outputs": [
    {
     "name": "stdout",
     "output_type": "stream",
     "text": [
      "Enter String hel123O4every093\n",
      "22\n",
      "3.142857142857143\n"
     ]
    }
   ],
   "source": [
    "str1 = input(\"Enter String \")\n",
    "count = 0\n",
    "sum1 = 0\n",
    "for i in str1:\n",
    "    if i.isdigit():\n",
    "        count+=1\n",
    "        sum1+=int(i)\n",
    "print(sum1)\n",
    "print(sum1/count)"
   ]
  },
  {
   "cell_type": "raw",
   "id": "4b2c9f0e",
   "metadata": {},
   "source": [
    "Problem 16: Check whether the string is Symmetrical.\n",
    "Statement: Given a string. the task is to check if the string is symmetrical or not. A string is said to be symmetrical if both the halves of the string are the same.\n",
    "\n",
    "Example 1:\n",
    "\n",
    "Input\n",
    "\n",
    "khokho\n",
    "Output\n",
    "\n",
    "The entered string is symmetrical"
   ]
  },
  {
   "cell_type": "code",
   "execution_count": 103,
   "id": "58d6e814",
   "metadata": {},
   "outputs": [
    {
     "name": "stdout",
     "output_type": "stream",
     "text": [
      "Enter string abcde\n",
      "String is not symmetrical\n"
     ]
    }
   ],
   "source": [
    "str1 = input(\"Enter string \")\n",
    "if len(str1)%2!=0:\n",
    "    print(\"String is not symmetrical\")\n",
    "else:\n",
    "    if str1[0:(len(str1)//2)] == str1[(len(str1)//2):]:\n",
    "        print(\"Symmetrical\")\n",
    "    else:\n",
    "        print(\"String is not symmetrical\")"
   ]
  },
  {
   "cell_type": "raw",
   "id": "bc082584",
   "metadata": {},
   "source": [
    "Problem 17: Reverse words in a given String\n",
    "Statement: We are given a string and we need to reverse words of a given string.\n",
    "\n",
    "Example 1:\n",
    "\n",
    "Input:\n",
    "\n",
    "geeks quiz practice code\n",
    "Output:\n",
    "\n",
    "code practice quiz geeks"
   ]
  },
  {
   "cell_type": "code",
   "execution_count": 106,
   "id": "8d39e062",
   "metadata": {},
   "outputs": [
    {
     "name": "stdout",
     "output_type": "stream",
     "text": [
      "Enter string geeks quiz practice code\n"
     ]
    },
    {
     "data": {
      "text/plain": [
       "'code practice quiz geeks'"
      ]
     },
     "execution_count": 106,
     "metadata": {},
     "output_type": "execute_result"
    }
   ],
   "source": [
    "string = input(\"Enter string \")\n",
    "\" \".join(string.split()[::-1])   "
   ]
  },
  {
   "cell_type": "code",
   "execution_count": 107,
   "id": "4f344148",
   "metadata": {},
   "outputs": [
    {
     "name": "stdout",
     "output_type": "stream",
     "text": [
      "Enter string my name is laxmi\n"
     ]
    },
    {
     "data": {
      "text/plain": [
       "'laxmi is name my'"
      ]
     },
     "execution_count": 107,
     "metadata": {},
     "output_type": "execute_result"
    }
   ],
   "source": [
    "string = input(\"Enter string \")\n",
    "\" \".join(string.split()[::-1]) "
   ]
  },
  {
   "cell_type": "markdown",
   "id": "9e7c5ae1",
   "metadata": {},
   "source": [
    "# Problem 18: Find uncommon words from two Strings."
   ]
  },
  {
   "cell_type": "raw",
   "id": "54fe67ad",
   "metadata": {},
   "source": [
    "# Statement: Given two sentences as strings A and B. The task is to return a list of all uncommon words. A word is uncommon if it appears exactly once in any one of the sentences, and does not appear in the other sentence. Note: A sentence is a string of space-separated words. Each word consists only of lowercase letters.\n",
    "Example 1:\n",
    "Input:\n",
    "A = \"apple banana mango\" \n",
    "B = \"banana fruits mango\"\n",
    "Output:\n",
    "['apple', 'fruits']"
   ]
  },
  {
   "cell_type": "code",
   "execution_count": 115,
   "id": "35de56ef",
   "metadata": {},
   "outputs": [
    {
     "data": {
      "text/plain": [
       "['fruits', 'apple']"
      ]
     },
     "execution_count": 115,
     "metadata": {},
     "output_type": "execute_result"
    }
   ],
   "source": [
    "A = \"apple banana mango\" \n",
    "B = \"banana fruits mango\"\n",
    "Set_A = set(A.split())\n",
    "Set_B = set(B.split())\n",
    "list(Set_A.symmetric_difference(Set_B))    "
   ]
  },
  {
   "cell_type": "code",
   "execution_count": 124,
   "id": "ac973096",
   "metadata": {},
   "outputs": [
    {
     "data": {
      "text/plain": [
       "['apple', 'fruits']"
      ]
     },
     "execution_count": 124,
     "metadata": {},
     "output_type": "execute_result"
    }
   ],
   "source": [
    "A = \"apple banana mango\" \n",
    "B = \"banana fruits mango\"\n",
    "C = []\n",
    "for i in A.split():\n",
    "    if i in B.split():\n",
    "        continue\n",
    "    else:\n",
    "        C.append(i)\n",
    "for i in B.split():\n",
    "    if i in A.split():\n",
    "        continue\n",
    "    else:\n",
    "        C.append(i)\n",
    "C"
   ]
  },
  {
   "cell_type": "markdown",
   "id": "d90713e3",
   "metadata": {},
   "source": [
    "# Problem 19: Word location in String."
   ]
  },
  {
   "cell_type": "raw",
   "id": "0b2cebaf",
   "metadata": {},
   "source": [
    "Statement: Find a location of a word in a given sentence.\n",
    "\n",
    "Example 1:\n",
    "\n",
    "Input:\n",
    "\n",
    "Sentence: We can learn data science through campusx mentorship program.\n",
    "\n",
    "word: campusx\n",
    "Output:\n",
    "\n",
    "Location of the word is 7.\n",
    "Note- Don't use index/find functions"
   ]
  },
  {
   "cell_type": "code",
   "execution_count": 126,
   "id": "95d2d798",
   "metadata": {},
   "outputs": [
    {
     "name": "stdout",
     "output_type": "stream",
     "text": [
      "campusx\n",
      "7\n"
     ]
    }
   ],
   "source": [
    "Sentence = \"We can learn data science through campusx mentorship program.\"\n",
    "word = input()\n",
    "count = 0\n",
    "for i in Sentence.split():\n",
    "    count+=1\n",
    "    if i == word:\n",
    "        break\n",
    "print(count)        "
   ]
  },
  {
   "cell_type": "markdown",
   "id": "740dc031",
   "metadata": {},
   "source": [
    "# Problem 20: Write a program that can remove all the duplicate characters from a string. User will provide the input."
   ]
  },
  {
   "cell_type": "code",
   "execution_count": 129,
   "id": "05c8f139",
   "metadata": {},
   "outputs": [
    {
     "name": "stdout",
     "output_type": "stream",
     "text": [
      "Enter stringaaaabbbbbccccdddeeeeffff\n"
     ]
    },
    {
     "data": {
      "text/plain": [
       "'abcdef'"
      ]
     },
     "execution_count": 129,
     "metadata": {},
     "output_type": "execute_result"
    }
   ],
   "source": [
    "str1 = input(\"Enter string\")\n",
    "res = \"\"\n",
    "for i in str1:\n",
    "    if i not in res:\n",
    "        res+=i\n",
    "    else:\n",
    "        continue\n",
    "res"
   ]
  }
 ],
 "metadata": {
  "kernelspec": {
   "display_name": "Python 3 (ipykernel)",
   "language": "python",
   "name": "python3"
  },
  "language_info": {
   "codemirror_mode": {
    "name": "ipython",
    "version": 3
   },
   "file_extension": ".py",
   "mimetype": "text/x-python",
   "name": "python",
   "nbconvert_exporter": "python",
   "pygments_lexer": "ipython3",
   "version": "3.10.6"
  }
 },
 "nbformat": 4,
 "nbformat_minor": 5
}
