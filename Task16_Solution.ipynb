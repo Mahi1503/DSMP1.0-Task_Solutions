{
 "cells": [
  {
   "cell_type": "code",
   "execution_count": 5,
   "id": "332a04bc-592f-4541-b6c2-02dcf4cbb857",
   "metadata": {},
   "outputs": [],
   "source": [
    "import numpy as np\n",
    "import pandas as pd\n",
    "import warnings"
   ]
  },
  {
   "cell_type": "markdown",
   "id": "ec9d4ad0-b589-4276-a95c-949b99f41e4a",
   "metadata": {},
   "source": [
    "### Q-1: Write a program to create an empty series."
   ]
  },
  {
   "cell_type": "code",
   "execution_count": 6,
   "id": "548b2573-e344-4391-957e-5412ccc449c3",
   "metadata": {},
   "outputs": [
    {
     "data": {
      "text/plain": [
       "Series([], dtype: float64)"
      ]
     },
     "execution_count": 6,
     "metadata": {},
     "output_type": "execute_result"
    }
   ],
   "source": [
    "warnings.filterwarnings(\"ignore\")\n",
    "s = pd.Series()\n",
    "s"
   ]
  },
  {
   "cell_type": "markdown",
   "id": "d4d8e43e-faca-4a71-a9c1-0fe6fec27527",
   "metadata": {},
   "source": [
    "### Q-2: Write a Pandas program to add, subtract, multiple and divide two Pandas Series."
   ]
  },
  {
   "cell_type": "code",
   "execution_count": 9,
   "id": "2394066b-cd97-4d59-bb58-ba1f8c444668",
   "metadata": {},
   "outputs": [],
   "source": [
    "s1 = pd.Series(np.arange(10))\n",
    "s2 = pd.Series(np.arange(10,20))"
   ]
  },
  {
   "cell_type": "code",
   "execution_count": 12,
   "id": "365d8007-e2d6-4341-bf08-5abd49c68a38",
   "metadata": {},
   "outputs": [
    {
     "name": "stdout",
     "output_type": "stream",
     "text": [
      "0    10\n",
      "1    12\n",
      "2    14\n",
      "3    16\n",
      "4    18\n",
      "5    20\n",
      "6    22\n",
      "7    24\n",
      "8    26\n",
      "9    28\n",
      "dtype: int32\n",
      "0   -10\n",
      "1   -10\n",
      "2   -10\n",
      "3   -10\n",
      "4   -10\n",
      "5   -10\n",
      "6   -10\n",
      "7   -10\n",
      "8   -10\n",
      "9   -10\n",
      "dtype: int32\n",
      "0      0\n",
      "1     11\n",
      "2     24\n",
      "3     39\n",
      "4     56\n",
      "5     75\n",
      "6     96\n",
      "7    119\n",
      "8    144\n",
      "9    171\n",
      "dtype: int32\n",
      "0    0.000000\n",
      "1    0.090909\n",
      "2    0.166667\n",
      "3    0.230769\n",
      "4    0.285714\n",
      "5    0.333333\n",
      "6    0.375000\n",
      "7    0.411765\n",
      "8    0.444444\n",
      "9    0.473684\n",
      "dtype: float64\n"
     ]
    }
   ],
   "source": [
    "print(s1+s2)\n",
    "print(s1-s2)\n",
    "print(s1*s2)\n",
    "print(s1/s2)"
   ]
  },
  {
   "cell_type": "markdown",
   "id": "f5ff2740-bd8b-498d-a9d1-da4a7584878b",
   "metadata": {},
   "source": [
    "### Q-3 Write a Pandas program to compare the elements of the two Pandas Series.\n",
    "#### Sample Series: [2, 4, 6, 8, 10], [1, 3, 5, 7, 10]"
   ]
  },
  {
   "cell_type": "code",
   "execution_count": 14,
   "id": "c44e734d-023d-424e-917f-ef368e9d421f",
   "metadata": {},
   "outputs": [
    {
     "name": "stdout",
     "output_type": "stream",
     "text": [
      "0    False\n",
      "1    False\n",
      "2    False\n",
      "3    False\n",
      "4     True\n",
      "dtype: bool\n",
      "0    False\n",
      "1    False\n",
      "2    False\n",
      "3    False\n",
      "4    False\n",
      "dtype: bool\n",
      "0     True\n",
      "1     True\n",
      "2     True\n",
      "3     True\n",
      "4    False\n",
      "dtype: bool\n"
     ]
    }
   ],
   "source": [
    "s3 = pd.Series([2, 4, 6, 8, 10]) \n",
    "s4 = pd.Series([1, 3, 5, 7, 10]) \n",
    "print(s3 == s4)\n",
    "print(s3 < s4)\n",
    "print(s3 > s4)"
   ]
  },
  {
   "cell_type": "markdown",
   "id": "de82f929-83c9-4257-92a6-1a285bc72fce",
   "metadata": {},
   "source": [
    "### Q-5.Write a function to change the data type of given a column or a Series. Function takes series and data type as input, returns the converted series."
   ]
  },
  {
   "cell_type": "raw",
   "id": "cf6422d2-89e5-4809-a753-d63a8296d943",
   "metadata": {},
   "source": [
    "series = pd.Series([1,2,'Python', 2.0, True, 100])\n",
    "change to float type data"
   ]
  },
  {
   "cell_type": "code",
   "execution_count": 33,
   "id": "44655784-6bfb-43a3-87df-ea8610f7ede9",
   "metadata": {},
   "outputs": [
    {
     "data": {
      "text/plain": [
       "0      1.0\n",
       "1      2.0\n",
       "2      NaN\n",
       "3      2.0\n",
       "4      1.0\n",
       "5    100.0\n",
       "dtype: object"
      ]
     },
     "execution_count": 33,
     "metadata": {},
     "output_type": "execute_result"
    }
   ],
   "source": [
    "series = pd.Series([1,2,'Python', 2.0, True, 100])\n",
    "def change_dtype(series):\n",
    "    for i,j in enumerate(series):\n",
    "        #print(i,j)\n",
    "        if type(j) == str:\n",
    "            series[i] = np.nan\n",
    "        else:\n",
    "            series[i] = float(j)\n",
    "    return series\n",
    "change_dtype(series)"
   ]
  },
  {
   "cell_type": "code",
   "execution_count": 20,
   "id": "08ff5fae-db69-4392-8342-02cb1eefc946",
   "metadata": {},
   "outputs": [
    {
     "data": {
      "text/plain": [
       "0      1.0\n",
       "1      2.0\n",
       "2      NaN\n",
       "3      2.0\n",
       "4      1.0\n",
       "5    100.0\n",
       "dtype: float64"
      ]
     },
     "execution_count": 20,
     "metadata": {},
     "output_type": "execute_result"
    }
   ],
   "source": [
    "# code here\n",
    "# Changing the dtype to numeric (int, float)\n",
    "def change_dtype(series):\n",
    "    return pd.to_numeric(series, errors = 'coerce')\n",
    "\n",
    "series = pd.Series([1,2,'Python', 2.0, True, 100])\n",
    "change_dtype(series)"
   ]
  },
  {
   "cell_type": "raw",
   "id": "844d4509-680b-40db-9bbb-64f2c0433076",
   "metadata": {},
   "source": [
    "Download data - https://drive.google.com/file/d/1LRhXwbEodeWXtzPhJCX0X9Lf_BECzvqb/view?usp=share_link All Batsman runs series in IPL 2008 to 2022.\n",
    "\n",
    "Below questions are based on this data."
   ]
  },
  {
   "cell_type": "code",
   "execution_count": 38,
   "id": "d6fc097e-88ab-418c-a323-50596ec7c55b",
   "metadata": {},
   "outputs": [
    {
     "data": {
      "text/plain": [
       "batter\n",
       "A Ashish Reddy     280\n",
       "A Badoni           161\n",
       "A Chandila           4\n",
       "A Chopra            53\n",
       "A Choudhary         25\n",
       "                  ... \n",
       "Yash Dayal           0\n",
       "Yashpal Singh       47\n",
       "Younis Khan          3\n",
       "Yuvraj Singh      2754\n",
       "Z Khan             117\n",
       "Name: batsman_run, Length: 605, dtype: int64"
      ]
     },
     "execution_count": 38,
     "metadata": {},
     "output_type": "execute_result"
    }
   ],
   "source": [
    "data = pd.read_csv(\"batsman_runs_series.csv\",index_col=\"batter\",squeeze=True)\n",
    "data"
   ]
  },
  {
   "cell_type": "markdown",
   "id": "be710ecc-1fef-440f-a360-7bb8d33e0ee1",
   "metadata": {},
   "source": [
    "### Q-6 Find top 10 most run getter from the series."
   ]
  },
  {
   "cell_type": "code",
   "execution_count": 41,
   "id": "02123a8b-83c7-4616-98d5-02976a860460",
   "metadata": {},
   "outputs": [
    {
     "data": {
      "text/plain": [
       "batter\n",
       "V Kohli           6634\n",
       "S Dhawan          6244\n",
       "DA Warner         5883\n",
       "RG Sharma         5881\n",
       "SK Raina          5536\n",
       "AB de Villiers    5181\n",
       "CH Gayle          4997\n",
       "MS Dhoni          4978\n",
       "RV Uthappa        4954\n",
       "KD Karthik        4377\n",
       "Name: batsman_run, dtype: int64"
      ]
     },
     "execution_count": 41,
     "metadata": {},
     "output_type": "execute_result"
    }
   ],
   "source": [
    "data.sort_values(ascending=False).head(10)"
   ]
  },
  {
   "cell_type": "markdown",
   "id": "70249e35-4571-43e7-a501-3767622d49de",
   "metadata": {},
   "source": [
    "### Q-7 No of players having runs above 3000"
   ]
  },
  {
   "cell_type": "code",
   "execution_count": 44,
   "id": "475d16aa-bb0f-4768-927f-b5adda496fe6",
   "metadata": {},
   "outputs": [
    {
     "data": {
      "text/plain": [
       "20"
      ]
     },
     "execution_count": 44,
     "metadata": {},
     "output_type": "execute_result"
    }
   ],
   "source": [
    "data[data > 3000].count()"
   ]
  },
  {
   "cell_type": "code",
   "execution_count": 45,
   "id": "7b25f62d-fdc6-4481-9b3d-122ebb6fb097",
   "metadata": {},
   "outputs": [
    {
     "data": {
      "text/plain": [
       "20"
      ]
     },
     "execution_count": 45,
     "metadata": {},
     "output_type": "execute_result"
    }
   ],
   "source": [
    "data[data > 3000].size"
   ]
  },
  {
   "cell_type": "markdown",
   "id": "e18e6ecf-1113-4f04-b227-b504d7b6fa01",
   "metadata": {},
   "source": [
    "### Q-8 No of players having runs above mean value?"
   ]
  },
  {
   "cell_type": "code",
   "execution_count": 49,
   "id": "6e709f80-4bfd-48e9-b1e1-7e4528d357bb",
   "metadata": {},
   "outputs": [
    {
     "data": {
      "text/plain": [
       "128"
      ]
     },
     "execution_count": 49,
     "metadata": {},
     "output_type": "execute_result"
    }
   ],
   "source": [
    "data[data > data.mean()].count()"
   ]
  },
  {
   "cell_type": "code",
   "execution_count": null,
   "id": "06644338-46e5-4bcf-87d6-18442b722388",
   "metadata": {},
   "outputs": [],
   "source": [
    "Download data - https://drive.google.com/file/d/1QZuZ5bypUInfVvarHACLAi8tXXHvb8xd/view?usp=share_link\n",
    "\n",
    "file name - items.csv"
   ]
  },
  {
   "cell_type": "markdown",
   "id": "4d730717-1f96-4c59-a7c6-7fa260488971",
   "metadata": {},
   "source": [
    "### Q-9\n",
    "#### i. Read `items.csv` making `item_name` as index.\n",
    "#### ii. Show no of nan values\n",
    "#### ii. Item price is given in $, so convert it to rupees without currency symbol.\n",
    "#### iii. Make data type of newly made series as float.\n",
    "#### iv. Fill nan with mean of the series"
   ]
  },
  {
   "cell_type": "code",
   "execution_count": 53,
   "id": "65423a8d-4a13-406b-889e-5fdd8bb351ae",
   "metadata": {},
   "outputs": [
    {
     "data": {
      "text/plain": [
       "item_name\n",
       "Chips and Fresh Tomato Salsa              $2.39 \n",
       "Izze                                      $3.39 \n",
       "Nantucket Nectar                          $3.39 \n",
       "Chips and Tomatillo-Green Chili Salsa     $2.39 \n",
       "Chicken Bowl                             $16.98 \n",
       "                                          ...   \n",
       "Steak Burrito                            $11.75 \n",
       "Steak Burrito                            $11.75 \n",
       "Chicken Salad Bowl                       $11.25 \n",
       "Chicken Salad Bowl                        $8.75 \n",
       "Chicken Salad Bowl                        $8.75 \n",
       "Name: item_price, Length: 4622, dtype: object"
      ]
     },
     "execution_count": 53,
     "metadata": {},
     "output_type": "execute_result"
    }
   ],
   "source": [
    "sr = pd.read_csv(\"items.csv\",index_col=\"item_name\",squeeze=True)\n",
    "sr"
   ]
  },
  {
   "cell_type": "code",
   "execution_count": 55,
   "id": "236c8a70-9424-44b9-a440-4b07ab4899d9",
   "metadata": {},
   "outputs": [
    {
     "data": {
      "text/plain": [
       "50"
      ]
     },
     "execution_count": 55,
     "metadata": {},
     "output_type": "execute_result"
    }
   ],
   "source": [
    "sr.isnull().sum()"
   ]
  },
  {
   "cell_type": "code",
   "execution_count": 58,
   "id": "4c1bce84-7652-48d1-8a06-929af6aeecf2",
   "metadata": {},
   "outputs": [
    {
     "data": {
      "text/plain": [
       "50"
      ]
     },
     "execution_count": 58,
     "metadata": {},
     "output_type": "execute_result"
    }
   ],
   "source": [
    "sr.isna().sum()"
   ]
  },
  {
   "cell_type": "code",
   "execution_count": 74,
   "id": "4718e511-6f62-4192-9bf2-ece1c22713d1",
   "metadata": {},
   "outputs": [
    {
     "data": {
      "text/plain": [
       "item_name\n",
       "Chips and Fresh Tomato Salsa              207.3325\n",
       "Izze                                      294.0825\n",
       "Nantucket Nectar                          294.0825\n",
       "Chips and Tomatillo-Green Chili Salsa     207.3325\n",
       "Chicken Bowl                             1473.0150\n",
       "                                           ...    \n",
       "Steak Burrito                            1019.3125\n",
       "Steak Burrito                            1019.3125\n",
       "Chicken Salad Bowl                        975.9375\n",
       "Chicken Salad Bowl                        759.0625\n",
       "Chicken Salad Bowl                        759.0625\n",
       "Name: item_price, Length: 4622, dtype: float64"
      ]
     },
     "execution_count": 74,
     "metadata": {},
     "output_type": "execute_result"
    }
   ],
   "source": [
    "def currency_change(sr):\n",
    "    try:\n",
    "        y = sr[1:]\n",
    "    except:\n",
    "        y = sr\n",
    "    return float(y)*86.75\n",
    "sr = sr.apply(currency_change)\n",
    "sr"
   ]
  },
  {
   "cell_type": "code",
   "execution_count": 75,
   "id": "faa88b26-afdc-4561-af7d-6bf3a48df2f3",
   "metadata": {},
   "outputs": [
    {
     "data": {
      "text/plain": [
       "item_name\n",
       "Chips and Fresh Tomato Salsa              207.3325\n",
       "Izze                                      294.0825\n",
       "Nantucket Nectar                          294.0825\n",
       "Chips and Tomatillo-Green Chili Salsa     207.3325\n",
       "Chicken Bowl                             1473.0150\n",
       "                                           ...    \n",
       "Steak Burrito                            1019.3125\n",
       "Steak Burrito                            1019.3125\n",
       "Chicken Salad Bowl                        975.9375\n",
       "Chicken Salad Bowl                        759.0625\n",
       "Chicken Salad Bowl                        759.0625\n",
       "Name: item_price, Length: 4622, dtype: float64"
      ]
     },
     "execution_count": 75,
     "metadata": {},
     "output_type": "execute_result"
    }
   ],
   "source": [
    "sr.fillna(sr.mean())"
   ]
  },
  {
   "cell_type": "markdown",
   "id": "e00a6036-e0ec-4d40-b1cf-1dfa3c03a6c6",
   "metadata": {},
   "source": [
    "### Q-10:\n",
    "#### i. Find mean price\n",
    "#### ii. Find 30th and 6th percentile value\n",
    "#### iii. Plot Histogram on price with bin size 50\n",
    "#### iv. No of items price lies between [1000 to 2000]"
   ]
  },
  {
   "cell_type": "code",
   "execution_count": 76,
   "id": "edd7dad5-cb68-4ee3-a368-09a0e96ecfb9",
   "metadata": {},
   "outputs": [
    {
     "data": {
      "text/plain": [
       "647.4179822834645"
      ]
     },
     "execution_count": 76,
     "metadata": {},
     "output_type": "execute_result"
    }
   ],
   "source": [
    "sr.mean()"
   ]
  },
  {
   "cell_type": "code",
   "execution_count": 86,
   "id": "fc525afa-d3f1-47fd-9569-cba63f641350",
   "metadata": {},
   "outputs": [
    {
     "data": {
      "text/plain": [
       "108.4375"
      ]
     },
     "execution_count": 86,
     "metadata": {},
     "output_type": "execute_result"
    }
   ],
   "source": [
    "sr.quantile(q=0.3)\n",
    "sr.quantile(q=0.06)"
   ]
  },
  {
   "cell_type": "code",
   "execution_count": 87,
   "id": "b8b4d87d-27cb-458b-a907-e168817be4ab",
   "metadata": {},
   "outputs": [
    {
     "data": {
      "text/plain": [
       "<AxesSubplot: ylabel='Frequency'>"
      ]
     },
     "execution_count": 87,
     "metadata": {},
     "output_type": "execute_result"
    },
    {
     "data": {
      "image/png": "[encoded data removed]",
      "text/plain": [
       "<Figure size 432x288 with 1 Axes>"
      ]
     },
     "metadata": {
      "needs_background": "light"
     },
     "output_type": "display_data"
    }
   ],
   "source": [
    "sr.plot.hist(bins=50)"
   ]
  },
  {
   "cell_type": "code",
   "execution_count": 88,
   "id": "92fee430-953e-4e50-89e8-6648df870580",
   "metadata": {},
   "outputs": [],
   "source": [
    "import matplotlib.pyplot as plt"
   ]
  },
  {
   "cell_type": "code",
   "execution_count": 96,
   "id": "93dfb5dc-9159-47b0-af08-765d3d5c4949",
   "metadata": {},
   "outputs": [
    {
     "data": {
      "text/plain": [
       "(array([5.790e+02, 3.380e+02, 2.290e+02, 4.810e+02, 7.000e+00, 1.000e+01,\n",
       "        5.500e+01, 1.500e+01, 1.067e+03, 6.740e+02, 6.000e+00, 6.230e+02,\n",
       "        3.600e+02, 1.000e+00, 2.000e+00, 0.000e+00, 1.000e+00, 1.000e+00,\n",
       "        1.900e+01, 4.700e+01, 1.200e+01, 0.000e+00, 0.000e+00, 0.000e+00,\n",
       "        2.600e+01, 6.000e+00, 1.000e+00, 0.000e+00, 1.000e+00, 3.000e+00,\n",
       "        2.000e+00, 0.000e+00, 0.000e+00, 0.000e+00, 0.000e+00, 0.000e+00,\n",
       "        1.000e+00, 1.000e+00, 0.000e+00, 3.000e+00, 0.000e+00, 0.000e+00,\n",
       "        0.000e+00, 0.000e+00, 0.000e+00, 0.000e+00, 0.000e+00, 0.000e+00,\n",
       "        0.000e+00, 1.000e+00]),\n",
       " array([  94.5575,  169.4401,  244.3227,  319.2053,  394.0879,  468.9705,\n",
       "         543.8531,  618.7357,  693.6183,  768.5009,  843.3835,  918.2661,\n",
       "         993.1487, 1068.0313, 1142.9139, 1217.7965, 1292.6791, 1367.5617,\n",
       "        1442.4443, 1517.3269, 1592.2095, 1667.0921, 1741.9747, 1816.8573,\n",
       "        1891.7399, 1966.6225, 2041.5051, 2116.3877, 2191.2703, 2266.1529,\n",
       "        2341.0355, 2415.9181, 2490.8007, 2565.6833, 2640.5659, 2715.4485,\n",
       "        2790.3311, 2865.2137, 2940.0963, 3014.9789, 3089.8615, 3164.7441,\n",
       "        3239.6267, 3314.5093, 3389.3919, 3464.2745, 3539.1571, 3614.0397,\n",
       "        3688.9223, 3763.8049, 3838.6875]),\n",
       " <BarContainer object of 50 artists>)"
      ]
     },
     "execution_count": 96,
     "metadata": {},
     "output_type": "execute_result"
    },
    {
     "data": {
      "image/png": "[encoded data removed]",
      "text/plain": [
       "<Figure size 432x288 with 1 Axes>"
      ]
     },
     "metadata": {
      "needs_background": "light"
     },
     "output_type": "display_data"
    }
   ],
   "source": [
    "plt.hist(sr,bins=50)"
   ]
  },
  {
   "cell_type": "code",
   "execution_count": null,
   "id": "75243f1b-e561-40f3-ab4a-cf44ad73f3c0",
   "metadata": {},
   "outputs": [],
   "source": [
    "#No of items price lies between [1000 to 2000]"
   ]
  },
  {
   "cell_type": "code",
   "execution_count": 106,
   "id": "caa5656f-05a5-4d27-823b-a6dbe0b3e8bb",
   "metadata": {},
   "outputs": [
    {
     "data": {
      "text/plain": [
       "item_name\n",
       "Chicken Bowl     1473.0150\n",
       "Steak Burrito    1019.3125\n",
       "Barbacoa Bowl    1019.3125\n",
       "Steak Burrito    1019.3125\n",
       "Barbacoa Bowl    1019.3125\n",
       "                   ...    \n",
       "Barbacoa Bowl    1019.3125\n",
       "Steak Burrito    1019.3125\n",
       "Steak Burrito    1019.3125\n",
       "Steak Burrito    1019.3125\n",
       "Steak Burrito    1019.3125\n",
       "Name: item_price, Length: 419, dtype: float64"
      ]
     },
     "execution_count": 106,
     "metadata": {},
     "output_type": "execute_result"
    }
   ],
   "source": [
    "sr[sr.between(1000,2000)]"
   ]
  },
  {
   "cell_type": "code",
   "execution_count": null,
   "id": "a270220d-42f0-4468-b8cf-900fe3947fcf",
   "metadata": {},
   "outputs": [],
   "source": []
  },
  {
   "cell_type": "code",
   "execution_count": null,
   "id": "024bce41-d9d4-45bb-8803-e0921a6df4cb",
   "metadata": {},
   "outputs": [],
   "source": []
  }
 ],
 "metadata": {
  "kernelspec": {
   "display_name": "Python 3 (ipykernel)",
   "language": "python",
   "name": "python3"
  },
  "language_info": {
   "codemirror_mode": {
    "name": "ipython",
    "version": 3
   },
   "file_extension": ".py",
   "mimetype": "text/x-python",
   "name": "python",
   "nbconvert_exporter": "python",
   "pygments_lexer": "ipython3",
   "version": "3.10.6"
  }
 },
 "nbformat": 4,
 "nbformat_minor": 5
}
