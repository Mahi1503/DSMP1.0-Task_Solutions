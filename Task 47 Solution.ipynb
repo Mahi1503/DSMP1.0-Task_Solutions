{
 "cells": [
  {
   "cell_type": "code",
   "execution_count": 1,
   "id": "a6347ca5-4613-40c1-821b-8d946c4d167b",
   "metadata": {},
   "outputs": [],
   "source": [
    "import numpy as np"
   ]
  },
  {
   "cell_type": "markdown",
   "id": "35b80421-9715-4348-9bfd-1c0bc47e17c9",
   "metadata": {},
   "source": [
    "### Q1. Given the vectors A = [1, 2, 3] and B = [4, 5, 6], calculate the element-wise product of the two vectors."
   ]
  },
  {
   "cell_type": "code",
   "execution_count": 8,
   "id": "1daa1351-7206-49e4-8d03-4cbd70dec1b3",
   "metadata": {},
   "outputs": [
    {
     "name": "stdout",
     "output_type": "stream",
     "text": [
      "[ 4 10 18]\n"
     ]
    }
   ],
   "source": [
    "A = np.array([1, 2, 3])\n",
    "B = np.array([4, 5, 6])\n",
    "\n",
    "element_wise_product = A * B\n",
    "\n",
    "print(element_wise_product)"
   ]
  },
  {
   "cell_type": "markdown",
   "id": "56963635-4bcb-4a80-96ab-57c41d6255dc",
   "metadata": {},
   "source": [
    "### Q2. Find the magnitude of the vector C = [2, -3, 1]."
   ]
  },
  {
   "cell_type": "code",
   "execution_count": 10,
   "id": "26ca68bf-e845-4580-9026-c98fd5af2e5b",
   "metadata": {},
   "outputs": [
    {
     "data": {
      "text/plain": [
       "3.7416573867739413"
      ]
     },
     "execution_count": 10,
     "metadata": {},
     "output_type": "execute_result"
    }
   ],
   "source": [
    " C = np.array([2, -3, 1])\n",
    "mangnitude = np.linalg.norm(C)\n",
    "mangnitude"
   ]
  },
  {
   "cell_type": "markdown",
   "id": "bb9ac5d6-ed5e-4213-ab19-114d036e40c3",
   "metadata": {},
   "source": [
    "### Q3. Given the vectors D = [1, 2, 3] and E = [4, 5, 6], calculate the cosine of the angle between them."
   ]
  },
  {
   "cell_type": "code",
   "execution_count": 15,
   "id": "1eed6da5-6782-4068-ab91-fb253db1b60e",
   "metadata": {},
   "outputs": [
    {
     "data": {
      "text/plain": [
       "12.933154491899135"
      ]
     },
     "execution_count": 15,
     "metadata": {},
     "output_type": "execute_result"
    }
   ],
   "source": [
    "D = np.array([1, 2, 3])\n",
    "E = np.array([4, 5, 6])\n",
    "cosine_similarity = np.dot(D,E)/(np.linalg.norm(D)*np.linalg.norm(E))\n",
    "cosine_similarity\n",
    "angle_rad = np.arccos(cosine_similarity)\n",
    "angle_degree = np.degrees(angle_rad)\n",
    "angle_degree"
   ]
  },
  {
   "cell_type": "markdown",
   "id": "81030c80-b9ae-4b3f-9ca4-f6b1c17f13bb",
   "metadata": {},
   "source": [
    "### Q4. Given the vectors F = [1, 2, 3] and G = [4, 5, 6], calculate the cross product of the two vectors."
   ]
  },
  {
   "cell_type": "code",
   "execution_count": 18,
   "id": "62ca605a-fdf1-44a0-aa11-da91515e4e97",
   "metadata": {},
   "outputs": [
    {
     "data": {
      "text/plain": [
       "array([-3,  6, -3])"
      ]
     },
     "execution_count": 18,
     "metadata": {},
     "output_type": "execute_result"
    }
   ],
   "source": [
    "F = np.array([1, 2, 3])\n",
    "G = np.array([4, 5, 6])\n",
    "\n",
    "cross_prod = np.cross(F,G)\n",
    "cross_prod"
   ]
  },
  {
   "cell_type": "markdown",
   "id": "3ea538be-c7db-46be-8546-fb9a7c1b3313",
   "metadata": {},
   "source": [
    "### Q5. Given the vector H = [2, 4, 6], shift the vector +1 unit in each dimension"
   ]
  },
  {
   "cell_type": "code",
   "execution_count": 23,
   "id": "99032597-625b-47e8-8f6c-3671bc8b3637",
   "metadata": {},
   "outputs": [
    {
     "data": {
      "text/plain": [
       "array([3, 5, 7])"
      ]
     },
     "execution_count": 23,
     "metadata": {},
     "output_type": "execute_result"
    }
   ],
   "source": [
    "H = np.array([2, 4, 6])\n",
    "scalar = 1\n",
    "shifted_vector = H+scalar\n",
    "shifted_vector"
   ]
  },
  {
   "cell_type": "markdown",
   "id": "2e436988-e04c-40d3-91b8-c59ca4862393",
   "metadata": {},
   "source": [
    "### Q6. Given the vectors I = [1, 2, 3] and J = [4, 5, 6], calculate the projection of vector I onto vector J."
   ]
  },
  {
   "cell_type": "code",
   "execution_count": 24,
   "id": "52a7b681-f261-48e1-a817-c707826c8664",
   "metadata": {},
   "outputs": [
    {
     "name": "stdout",
     "output_type": "stream",
     "text": [
      "[1.66233766 2.07792208 2.49350649]\n"
     ]
    }
   ],
   "source": [
    "I = np.array([1, 2, 3])\n",
    "J = np.array([4, 5, 6])\n",
    "\n",
    "projection_I_onto_J = (np.dot(I, J) / np.dot(J, J)) * J\n",
    "\n",
    "print(projection_I_onto_J)"
   ]
  },
  {
   "cell_type": "code",
   "execution_count": 27,
   "id": "59358cbf-209c-4480-aacd-9ef13ee7fa9a",
   "metadata": {},
   "outputs": [
    {
     "data": {
      "text/plain": [
       "array([1.66233766, 2.07792208, 2.49350649])"
      ]
     },
     "execution_count": 27,
     "metadata": {},
     "output_type": "execute_result"
    }
   ],
   "source": [
    "projection_I_onto_J = (np.dot(I,J)/(np.linalg.norm(J))**2)*J\n",
    "projection_I_onto_J"
   ]
  },
  {
   "cell_type": "markdown",
   "id": "8b85c29a-e8e4-4f30-9096-87157494dad2",
   "metadata": {},
   "source": [
    "### Q7. Consider the 2D - position vector a = (1, 3). If b is the point (5, 4), find the vector ab and the vector sum a + ab. Provide a sketch plot."
   ]
  },
  {
   "cell_type": "code",
   "execution_count": 28,
   "id": "c9394214-ae22-4762-9453-3cefd18a4d14",
   "metadata": {},
   "outputs": [
    {
     "name": "stdout",
     "output_type": "stream",
     "text": [
      "Vector ab: [4 1]\n",
      "Vector sum a + ab: [5 4]\n"
     ]
    },
    {
     "data": {
      "image/png": "[encoded data removed]",
      "text/plain": [
       "<Figure size 432x288 with 1 Axes>"
      ]
     },
     "metadata": {
      "needs_background": "light"
     },
     "output_type": "display_data"
    }
   ],
   "source": [
    "# Solution\n",
    "import numpy as np\n",
    "import matplotlib.pyplot as plt\n",
    "\n",
    "a = np.array([1, 3])\n",
    "b = np.array([5, 4])\n",
    "\n",
    "# Calculate vector ab\n",
    "ab = b - a\n",
    "print(\"Vector ab:\", ab)\n",
    "\n",
    "# Calculate vector sum a + ab\n",
    "a_plus_ab = a + ab\n",
    "print(\"Vector sum a + ab:\", a_plus_ab)\n",
    "\n",
    "# Plot the vectors a, b, and ab\n",
    "origin = np.array([0, 0])\n",
    "\n",
    "plt.quiver(*origin, a[0], a[1], angles='xy', scale_units='xy', scale=1, color='r', label='a')\n",
    "plt.scatter(b[0], b[1], color='b', label='b')\n",
    "plt.quiver(*a, ab[0], ab[1], angles='xy', scale_units='xy', scale=1, color='g', label='ab')\n",
    "plt.quiver(*origin, a_plus_ab[0], a_plus_ab[1], angles='xy', scale_units='xy', scale=1, color='m', label='a+ab')\n",
    "\n",
    "plt.xlim(-1, 7)\n",
    "plt.ylim(-1, 7)\n",
    "plt.xlabel('x')\n",
    "plt.ylabel('y')\n",
    "plt.legend()\n",
    "plt.grid()\n",
    "plt.show()"
   ]
  },
  {
   "cell_type": "markdown",
   "id": "f60a2d1c-17f5-486c-b232-cc4bee5092bd",
   "metadata": {},
   "source": [
    "### Q8. Given two 2D vectors u and v where u = [-1, 4] and v = [3, -2], find the dot product u . v, the angle between u and v, and the projection of u onto v."
   ]
  },
  {
   "cell_type": "code",
   "execution_count": 49,
   "id": "f82cdb0a-de7b-49b7-af62-5cee4bea1533",
   "metadata": {},
   "outputs": [
    {
     "name": "stdout",
     "output_type": "stream",
     "text": [
      "-11\n",
      "137.72631099390628\n",
      "[-2.53846154  1.69230769]\n"
     ]
    }
   ],
   "source": [
    "u = np.array([-1, 4])\n",
    "v = np.array([3, -2])\n",
    "\n",
    "dot_product = np.dot(u,v)\n",
    "cosine_similarity = np.dot(u,v)/(np.linalg.norm(u)*np.linalg.norm(v))\n",
    "angle_rad = np.arccos(cosine_similarity)\n",
    "angle_degree = np.degrees(angle_rad)\n",
    "projection_of_u_onto_v = (np.dot(u,v)/np.dot(v,v))*v\n",
    "\n",
    "print(dot_product)\n",
    "print(angle_degree)\n",
    "print(projection_of_u_onto_v)"
   ]
  },
  {
   "cell_type": "markdown",
   "id": "51ae11d3-600e-4209-87b0-e2b6a59e4fc9",
   "metadata": {},
   "source": [
    "### Q9. Given a hyperplane defined by the equation 3x - 2y + z = 1, find two different points that lie on this hyperplane."
   ]
  },
  {
   "cell_type": "code",
   "execution_count": 51,
   "id": "ae27007d-23bd-47d0-b884-76ab14d411de",
   "metadata": {},
   "outputs": [
    {
     "name": "stdout",
     "output_type": "stream",
     "text": [
      "Point 1: [0 0 1]\n",
      "[ 2  5 -3]\n"
     ]
    }
   ],
   "source": [
    "# Solution\n",
    "import numpy as np\n",
    "\n",
    "# Hyperplane equation: 3x - 2y + z = 1\n",
    "\n",
    "# Let x = 0, y = 0\n",
    "z = 1\n",
    "p1 = np.array([0, 0, z])\n",
    "print(\"Point 1:\", p1)\n",
    "\n",
    "# Let x = 2, y = 5\n",
    "x = 2\n",
    "y = 5\n",
    "z = 3*x - 2*y + 1\n",
    "p2 = np.array([x, y, z])\n",
    "print(p2)"
   ]
  },
  {
   "cell_type": "markdown",
   "id": "0b8ead03-4b78-4e66-914b-b55a46f96f52",
   "metadata": {},
   "source": [
    "### Q10. Find a nearest point from a given array of points to a point P1.\n",
    "P1 - (3,9,3)\n",
    "\n",
    "Array of points :\n",
    "``` \n",
    "[[1, 8, 5],\n",
    "[8, 8, 2],\n",
    "[7, 9, 1],\n",
    "[5, 6, 3],\n",
    "[9, 1, 2],\n",
    "[6, 5, 9],\n",
    "[5, 8, 6],\n",
    "[3, 4, 8],\n",
    "[6, 8, 4],\n",
    "[7, 2, 7]]\n",
    "```"
   ]
  },
  {
   "cell_type": "code",
   "execution_count": 70,
   "id": "e76fbf82-ac3d-4451-bd50-9e6b88ea891b",
   "metadata": {},
   "outputs": [
    {
     "name": "stdout",
     "output_type": "stream",
     "text": [
      "Nearest point: [1 8 5]\n"
     ]
    },
    {
     "data": {
      "image/png": "[encoded data removed]",
      "text/plain": [
       "<Figure size 432x288 with 1 Axes>"
      ]
     },
     "metadata": {
      "needs_background": "light"
     },
     "output_type": "display_data"
    }
   ],
   "source": [
    "vectors = np.array([[1, 8, 5],\n",
    "[8, 8, 2],\n",
    "[7, 9, 1],\n",
    "[5, 6, 3],\n",
    "[9, 1, 2],\n",
    "[6, 5, 9],\n",
    "[5, 8, 6],\n",
    "[3, 4, 8],\n",
    "[6, 8, 4],\n",
    "[7, 2, 7]])\n",
    "target = np.array([3,9,3])\n",
    "\n",
    "# Calculate distances between target point and each point in the array\n",
    "distances = np.linalg.norm(vectors - target, axis=1)\n",
    "\n",
    "# Find index of point with shortest distance\n",
    "index_min_distance = np.argmin(distances)\n",
    "\n",
    "# Retrieve point with shortest distance\n",
    "point_min_distance = vectors[index_min_distance]\n",
    "\n",
    "print(\"Nearest point:\", point_min_distance)\n",
    "\n",
    "\n",
    "#Uncomment below to see plot\n",
    "# Create figure and axis for 3-D scatter plot\n",
    "fig = plt.figure()\n",
    "ax = fig.add_subplot(111, projection='3d')\n",
    "\n",
    "# Plot all points as blue\n",
    "ax.scatter(vectors[:, 0], vectors[:, 1], vectors[:, 2], color='blue')\n",
    "\n",
    "# Plot target point as red\n",
    "ax.scatter(target[0], target[1], target[2], color='red')\n",
    "\n",
    "# Plot nearest point as green\n",
    "ax.scatter(point_min_distance[0], point_min_distance[1], point_min_distance[2], color='yellow')\n",
    "\n",
    "# Set labels and title\n",
    "ax.set_xlabel('X')\n",
    "ax.set_ylabel('Y')\n",
    "ax.set_zlabel('Z')\n",
    "ax.set_title('3-D Scatter Plot')\n",
    "\n",
    "# Show plot\n",
    "plt.show()"
   ]
  },
  {
   "cell_type": "code",
   "execution_count": 87,
   "id": "01b0e0e0-6928-4715-87a4-2692c4be24de",
   "metadata": {},
   "outputs": [
    {
     "data": {
      "image/png": "[encoded data removed]",
      "text/plain": [
       "<Figure size 432x288 with 1 Axes>"
      ]
     },
     "metadata": {
      "needs_background": "light"
     },
     "output_type": "display_data"
    }
   ],
   "source": [
    "vectors = np.array([[1, 8, 5],\n",
    "[8, 8, 2],\n",
    "[7, 9, 1],\n",
    "[5, 6, 3],\n",
    "[9, 1, 2],\n",
    "[6, 5, 9],\n",
    "[5, 8, 6],\n",
    "[3, 4, 8],\n",
    "[6, 8, 4],\n",
    "[7, 2, 7]])\n",
    "target = np.array([3,9,3])\n",
    "\n",
    "# find euclidean distance of target and each point\n",
    "distances = np.linalg.norm(vectors-target,axis=1)\n",
    "\n",
    "# find index of min distance \n",
    "index = np.argmin(distances)\n",
    "# closest point from target is\n",
    "nearest_point = vectors[index]\n",
    "\n",
    "fig = plt.figure()\n",
    "ax = fig.add_subplot(projection='3d')\n",
    "\n",
    "# plotting all points on graph with ax.scatter(x,y,z)\n",
    "ax.scatter(vectors[:,0],vectors[:,1],vectors[:,2],color='blue')\n",
    "\n",
    "# Plot target point as red\n",
    "ax.scatter(target[0], target[1], target[2], color='red')\n",
    "\n",
    "# Plot nearest point on graph orange\n",
    "ax.scatter(nearest_point[0], nearest_point[1], nearest_point[2], color='orange')\n",
    "\n",
    "# Set labels and title\n",
    "ax.set_xlabel('X')\n",
    "ax.set_ylabel('Y')\n",
    "ax.set_zlabel('Z')\n",
    "ax.set_title('3-D Scatter Plot')\n",
    "\n",
    "# Show plot\n",
    "plt.show()"
   ]
  }
 ],
 "metadata": {
  "kernelspec": {
   "display_name": "Python 3 (ipykernel)",
   "language": "python",
   "name": "python3"
  },
  "language_info": {
   "codemirror_mode": {
    "name": "ipython",
    "version": 3
   },
   "file_extension": ".py",
   "mimetype": "text/x-python",
   "name": "python",
   "nbconvert_exporter": "python",
   "pygments_lexer": "ipython3",
   "version": "3.10.6"
  }
 },
 "nbformat": 4,
 "nbformat_minor": 5
}
