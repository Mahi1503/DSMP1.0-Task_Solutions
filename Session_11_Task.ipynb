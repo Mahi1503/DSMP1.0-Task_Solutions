{
 "cells": [
  {
   "cell_type": "markdown",
   "id": "30955174-05e4-404e-8342-51b5141eb89d",
   "metadata": {},
   "source": [
    "### Q-1: You are given a function definition. There might be several issues on execution of this function. You are asked to do exception handling for diffrent errors that this function goes in to without altering this function. And print error text."
   ]
  },
  {
   "cell_type": "code",
   "execution_count": 20,
   "id": "156cd25f-6576-4f43-a10f-596b8b63090a",
   "metadata": {
    "scrolled": true
   },
   "outputs": [
    {
     "name": "stdout",
     "output_type": "stream",
     "text": [
      "Result 452.0\n",
      "Thank You\n"
     ]
    }
   ],
   "source": [
    "#Function parameters l -> list, s -> could be anything\n",
    "\n",
    "def function(l: list, s, **args):\n",
    "    last_element = l[-1]\n",
    "\n",
    "    l[int(s)]=10\n",
    "    any_element = l[int(s)+10]\n",
    "    l[s]=10\n",
    "\n",
    "    res = sum(l)\n",
    "\n",
    "    p = args['p']\n",
    "    # print(p)\n",
    "    return res/last_element * p + any_element\n",
    "# function([1,2,1], 12)\n",
    "# function([1,2,1]*9, '1-2')\n",
    "# function([1,'2',1]*9, 12)\n",
    "# function([1,'2',1]*9, 12)\n",
    "# function([1,2,0]*9, 12  )\n",
    "# function([1,2,1]*9, 12, p=None)\n",
    "# function([1,2,0]*9, 12, p=10)\n",
    "try :\n",
    "    res = function([1,2,1]*9, 12, p=10)\n",
    "except IndexError as e:\n",
    "    print(e)\n",
    "except ValueError as v:\n",
    "    print(v)\n",
    "except TypeError as t:\n",
    "    print(t)\n",
    "except KeyError as k:\n",
    "    print(f\"{k} Key is not present \")\n",
    "except ZeroDivisionError as z:\n",
    "    print(z)\n",
    "else:\n",
    "    print(\"Result\",res)\n",
    "finally:\n",
    "    print(\"Thank You\")"
   ]
  },
  {
   "cell_type": "markdown",
   "id": "77719cc7-e5bf-4737-b98d-b905bf0819e6",
   "metadata": {},
   "source": [
    "### Q-2: You are given a code snippet. There might be several issues on execution of this code. You are asked to do exception handling for diffrent errors, condition is what ever happens we need to execute last line printing correct result of sum of elements."
   ]
  },
  {
   "cell_type": "raw",
   "id": "118e8bf0-380a-4bdf-891b-12451a5900af",
   "metadata": {},
   "source": [
    "List have elemnts as any no of key-pair dict with key as list index and value as any integer, integers and numeric-strings. There is always only one element in the dict."
   ]
  },
  {
   "cell_type": "code",
   "execution_count": 39,
   "id": "90f209bd-8744-4fb4-aaa8-52b9effef5dc",
   "metadata": {},
   "outputs": [
    {
     "name": "stdout",
     "output_type": "stream",
     "text": [
      "26\n"
     ]
    }
   ],
   "source": [
    "l = [{0:2},2,3,4,'5', {5:10}]\n",
    "# For calculating sum of above list\n",
    "s=0\n",
    "for i in range(len(l)):\n",
    "    try:\n",
    "        s += l[i]\n",
    "    except TypeError:\n",
    "        try:\n",
    "            s += l[i].get(i)\n",
    "        except AttributeError:\n",
    "            s += int(l[i])\n",
    "print(s)          "
   ]
  },
  {
   "cell_type": "markdown",
   "id": "5a2f2192-a012-4217-aed7-89373c8a486b",
   "metadata": {},
   "source": [
    "### Q-3:: File Handling with Exception handling\n",
    "### Write a program that opens a text file and write data to it as \"Hello, Good Morning!!!\". Handle exceptions that can be generated during the I/O operations. Do not show the success message on the main exception handling block (write inside the else block)."
   ]
  },
  {
   "cell_type": "code",
   "execution_count": 58,
   "id": "53c7d853-dcc7-4c8c-b8b3-f481277aabfc",
   "metadata": {},
   "outputs": [
    {
     "name": "stdin",
     "output_type": "stream",
     "text": [
      "Enter file name:  Sample.txt\n",
      "what your want to do:\n",
      "                1. Read\n",
      "                2. Write\n",
      "                3. Write in old file on new line\n",
      "                4. Overwrite content and write new content\n",
      "             4\n",
      "Enter content in file Hello, Good Morning!!!\n"
     ]
    }
   ],
   "source": [
    "file_name = input(\"Enter file name: \")\n",
    "mode = input(\"\"\"what your want to do:\n",
    "                1. Read\n",
    "                2. Write\n",
    "                3. Write in old file on new line\n",
    "                4. Overwrite content and write new content\n",
    "            \"\"\")\n",
    "try:\n",
    "    if mode == \"1\" :\n",
    "        x = \"r\"\n",
    "        with open(file_name,x) as f:\n",
    "            print(f.read())\n",
    "    elif mode == \"2\":\n",
    "        x = \"x\"\n",
    "        with open(file_name,x) as f:\n",
    "            content = input(\"Enter content in file\")\n",
    "            f.write(content)\n",
    "    elif mode == \"3\":\n",
    "        x = \"a\"\n",
    "        with open(file_name,x) as f:\n",
    "            content = input(\"Enter content in file\")\n",
    "            f.write(\"\\n\"+content)\n",
    "    else:\n",
    "        x = \"w\"\n",
    "        with open(file_name,x) as f:\n",
    "            content = input(\"Enter content in file\")\n",
    "            f.write(content)\n",
    "\n",
    "except FileExistsError as e :\n",
    "    print(\"File already exist\")\n",
    "except FileNotFoundError as e:\n",
    "    print(\"This file not exist\")"
   ]
  },
  {
   "cell_type": "markdown",
   "id": "dec0e13d-459a-4a59-af33-adf23e4dd708",
   "metadata": {},
   "source": [
    "### Q-4: Number game program.\n",
    "### Write a number game program. Ask the user to enter a number. If the number is greater than number to be guessed, raise a ValueTooLarge exception. If the value is smaller the number to be guessed the, raise a ValueTooSmall exception and prompt the user to enter again. Quit the program only when the user enters the correct number. Also raise GuessError if user guess a number less than 1."
   ]
  },
  {
   "cell_type": "code",
   "execution_count": 61,
   "id": "d768b862-48e2-445f-b68e-6ae48e34a35b",
   "metadata": {},
   "outputs": [
    {
     "name": "stdin",
     "output_type": "stream",
     "text": [
      "Guess num 300\n"
     ]
    },
    {
     "ename": "TypeError",
     "evalue": "exceptions must derive from BaseException",
     "output_type": "error",
     "traceback": [
      "\u001b[1;31m---------------------------------------------------------------------------\u001b[0m",
      "\u001b[1;31mTypeError\u001b[0m                                 Traceback (most recent call last)",
      "Input \u001b[1;32mIn [61]\u001b[0m, in \u001b[0;36m<cell line: 16>\u001b[1;34m()\u001b[0m\n\u001b[0;32m     13\u001b[0m                 \u001b[38;5;28;01mraise\u001b[39;00m \u001b[38;5;124m\"\u001b[39m\u001b[38;5;124mValueTooSmall\u001b[39m\u001b[38;5;124m\"\u001b[39m\n\u001b[0;32m     14\u001b[0m                 guess_num \u001b[38;5;241m=\u001b[39m \u001b[38;5;28mint\u001b[39m(\u001b[38;5;28minput\u001b[39m(\u001b[38;5;124m\"\u001b[39m\u001b[38;5;124mGuess num again\u001b[39m\u001b[38;5;124m\"\u001b[39m))\n\u001b[1;32m---> 16\u001b[0m \u001b[43mGuessing_game\u001b[49m\u001b[43m(\u001b[49m\u001b[43m)\u001b[49m\n",
      "Input \u001b[1;32mIn [61]\u001b[0m, in \u001b[0;36mGuessing_game\u001b[1;34m(guess_num)\u001b[0m\n\u001b[0;32m      8\u001b[0m \u001b[38;5;28;01melse\u001b[39;00m:\n\u001b[0;32m      9\u001b[0m     \u001b[38;5;28;01mif\u001b[39;00m guess_num \u001b[38;5;241m>\u001b[39m lottery_num:\n\u001b[1;32m---> 10\u001b[0m         \u001b[38;5;28;01mraise\u001b[39;00m \u001b[38;5;124m\"\u001b[39m\u001b[38;5;124mValueTooLarge\u001b[39m\u001b[38;5;124m\"\u001b[39m\n\u001b[0;32m     11\u001b[0m         guess_num \u001b[38;5;241m=\u001b[39m \u001b[38;5;28mint\u001b[39m(\u001b[38;5;28minput\u001b[39m(\u001b[38;5;124m\"\u001b[39m\u001b[38;5;124mGuess num again\u001b[39m\u001b[38;5;124m\"\u001b[39m))\n\u001b[0;32m     12\u001b[0m     \u001b[38;5;28;01melif\u001b[39;00m guess_num \u001b[38;5;241m<\u001b[39m lottery_num:\n",
      "\u001b[1;31mTypeError\u001b[0m: exceptions must derive from BaseException"
     ]
    }
   ],
   "source": [
    "import random\n",
    "\n",
    "def Guessing_game(guess_num = int(input(\"Guess num\"))):\n",
    "    try:\n",
    "        \n",
    "            \n",
    "Guessing_game()            "
   ]
  },
  {
   "cell_type": "code",
   "execution_count": 69,
   "id": "a6005cc5-a4f1-4d5f-81cd-28fa1514c6e4",
   "metadata": {},
   "outputs": [
    {
     "name": "stdin",
     "output_type": "stream",
     "text": [
      "Guess num 900\n"
     ]
    },
    {
     "name": "stdout",
     "output_type": "stream",
     "text": [
      "Input value is too large\n"
     ]
    },
    {
     "name": "stdin",
     "output_type": "stream",
     "text": [
      "Guess num 800\n"
     ]
    },
    {
     "name": "stdout",
     "output_type": "stream",
     "text": [
      "Input value is too large\n"
     ]
    },
    {
     "name": "stdin",
     "output_type": "stream",
     "text": [
      "Guess num 780\n"
     ]
    },
    {
     "name": "stdout",
     "output_type": "stream",
     "text": [
      "Input value is too large\n"
     ]
    },
    {
     "name": "stdin",
     "output_type": "stream",
     "text": [
      "Guess num 600\n"
     ]
    },
    {
     "name": "stdout",
     "output_type": "stream",
     "text": [
      "Input value is too large\n"
     ]
    },
    {
     "name": "stdin",
     "output_type": "stream",
     "text": [
      "Guess num 400\n"
     ]
    },
    {
     "name": "stdout",
     "output_type": "stream",
     "text": [
      "Input value is too small\n"
     ]
    },
    {
     "name": "stdin",
     "output_type": "stream",
     "text": [
      "Guess num 550\n"
     ]
    },
    {
     "name": "stdout",
     "output_type": "stream",
     "text": [
      "Input value is too large\n"
     ]
    },
    {
     "name": "stdin",
     "output_type": "stream",
     "text": [
      "Guess num 500\n"
     ]
    },
    {
     "name": "stdout",
     "output_type": "stream",
     "text": [
      "Input value is too large\n"
     ]
    },
    {
     "name": "stdin",
     "output_type": "stream",
     "text": [
      "Guess num 480\n"
     ]
    },
    {
     "name": "stdout",
     "output_type": "stream",
     "text": [
      "Input value is too large\n"
     ]
    },
    {
     "name": "stdin",
     "output_type": "stream",
     "text": [
      "Guess num 450\n"
     ]
    },
    {
     "name": "stdout",
     "output_type": "stream",
     "text": [
      "Input value is too small\n"
     ]
    },
    {
     "name": "stdin",
     "output_type": "stream",
     "text": [
      "Guess num 470\n"
     ]
    },
    {
     "name": "stdout",
     "output_type": "stream",
     "text": [
      "Input value is too large\n"
     ]
    },
    {
     "name": "stdin",
     "output_type": "stream",
     "text": [
      "Guess num 465\n"
     ]
    },
    {
     "name": "stdout",
     "output_type": "stream",
     "text": [
      "Input value is too large\n"
     ]
    },
    {
     "name": "stdin",
     "output_type": "stream",
     "text": [
      "Guess num 455\n"
     ]
    },
    {
     "name": "stdout",
     "output_type": "stream",
     "text": [
      "Input value is too large\n"
     ]
    },
    {
     "name": "stdin",
     "output_type": "stream",
     "text": [
      "Guess num 454\n"
     ]
    },
    {
     "name": "stdout",
     "output_type": "stream",
     "text": [
      "Great !! You win\n"
     ]
    }
   ],
   "source": [
    "class ValueTooLarge(Exception):\n",
    "\n",
    "    def display(self):\n",
    "        print(\"Input value is too large\")\n",
    "\n",
    "class ValueTooSmall(Exception):\n",
    "\n",
    "    def display(self):\n",
    "        print(\"Input value is too small\")\n",
    "\n",
    "class GuessError(Exception):\n",
    "\n",
    "    def display(self):\n",
    "        print(\"Guess Value in between 1 to 1000\")\n",
    "\n",
    "\n",
    "lottery_num = random.randint(1,1000)\n",
    "\n",
    "while True:\n",
    "    try:\n",
    "        guess_num = int(input(\"Guess num\"))\n",
    "        if guess_num == lottery_num:\n",
    "            print(\"Great !! You win\")\n",
    "            break\n",
    "        else:\n",
    "            if guess_num > lottery_num:\n",
    "                raise ValueTooLarge\n",
    "                guess_num = int(input(\"Guess num again\"))\n",
    "            elif guess_num < lottery_num:\n",
    "                raise ValueTooSmall\n",
    "                guess_num = int(input(\"Guess num again\"))\n",
    "            else:\n",
    "                raise GuessError\n",
    "                guess_num = int(input(\"Guess num again\"))\n",
    "    except ValueTooLarge as l:\n",
    "        l.display()\n",
    "    except ValueTooSmall as s:\n",
    "        s.display()\n",
    "    except GuessError as g:\n",
    "        g.display()"
   ]
  },
  {
   "cell_type": "markdown",
   "id": "dc4dcb75-2c24-4d80-93cb-5f38e9ab3705",
   "metadata": {},
   "source": [
    "### Q-5: Cast vote\n",
    "### Write a program that validate name and age as entered by the user to determine whether the person can cast vote or not. To handle the age, create InvalidAge exception and for name, create InvalidName exception. The name will be invalid when the string will be empty or name has only one word."
   ]
  },
  {
   "cell_type": "raw",
   "id": "6febbdea-cafb-46aa-9dfb-69c4937cbab6",
   "metadata": {},
   "source": [
    "Example 1:\n",
    "\n",
    "Input:\n",
    "\n",
    "Enter the name:               goransh singh\n",
    "Enter the age: 25\n",
    "Output:\n",
    "\n",
    "Goransh Singh  Congratulation !!! You can vote."
   ]
  },
  {
   "cell_type": "code",
   "execution_count": 87,
   "id": "9014df7b-e662-4150-a986-a92220658176",
   "metadata": {},
   "outputs": [
    {
     "name": "stdin",
     "output_type": "stream",
     "text": [
      "Enter your name:  Mahesh Dhumal\n",
      "Enter your age 22\n"
     ]
    },
    {
     "name": "stdout",
     "output_type": "stream",
     "text": [
      "Mahesh Dhumal  Congratulation !!! You can vote.\n"
     ]
    }
   ],
   "source": [
    "class InvalidAge(Exception):\n",
    "\n",
    "    def display(self):\n",
    "        print(\"You cant vote your age is not valid\")\n",
    "\n",
    "class InvalidName(Exception):\n",
    "\n",
    "    def display(self):\n",
    "        print(\"You cant vote your name is not valid\")\n",
    "\n",
    "\n",
    "\n",
    "try:\n",
    "    name = input(\"Enter your name: \")\n",
    "    age = int(input(\"Enter your age\"))\n",
    "    if age<18 or age > 100:\n",
    "        raise InvalidAge\n",
    "    elif len(name) == 0 or len(name.split()) <= 1:\n",
    "        raise InvalidName\n",
    "\n",
    "\n",
    "except InvalidName as nameerror :\n",
    "    nameerror.display()\n",
    "\n",
    "except InvalidAge as ageerror :\n",
    "    ageerror.display()\n",
    "\n",
    "else:\n",
    "    print(f\"{name}  Congratulation !!! You can vote.\")\n",
    "    \n",
    "    "
   ]
  },
  {
   "cell_type": "markdown",
   "id": "f367a7e2-cfd0-48ca-b34a-07a0081bb099",
   "metadata": {},
   "source": [
    "### Q-6: Write a python function which infinitely prints natural numbers in a single line. Raise the StopIteration exception after displaying first 20 numnbers to exit from the program."
   ]
  },
  {
   "cell_type": "code",
   "execution_count": 2,
   "id": "409a69ea-9438-4e45-b774-5e966f14c06c",
   "metadata": {},
   "outputs": [
    {
     "name": "stdout",
     "output_type": "stream",
     "text": [
      "1 2 3 4 5 6 7 8 9 10 11 12 13 14 15 16 17 18 19 20 "
     ]
    }
   ],
   "source": [
    "def natural_num(n):\n",
    "    i = 0\n",
    "    while True:\n",
    "        try:\n",
    "            n+=1\n",
    "            i+=1\n",
    "            if i == 21:\n",
    "                raise StopIteration\n",
    "        except StopIteration:\n",
    "            break\n",
    "        else:\n",
    "            print(n,end=\" \")\n",
    "natural_num(0)            "
   ]
  }
 ],
 "metadata": {
  "kernelspec": {
   "display_name": "Python 3 (ipykernel)",
   "language": "python",
   "name": "python3"
  },
  "language_info": {
   "codemirror_mode": {
    "name": "ipython",
    "version": 3
   },
   "file_extension": ".py",
   "mimetype": "text/x-python",
   "name": "python",
   "nbconvert_exporter": "python",
   "pygments_lexer": "ipython3",
   "version": "3.10.6"
  }
 },
 "nbformat": 4,
 "nbformat_minor": 5
}
