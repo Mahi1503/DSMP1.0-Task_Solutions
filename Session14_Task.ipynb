{
 "cells": [
  {
   "cell_type": "markdown",
   "id": "d7447726-5216-462a-86ec-15db0d346356",
   "metadata": {},
   "source": [
    "### Q-1: Find the nearest element in the array to a given integer."
   ]
  },
  {
   "cell_type": "raw",
   "id": "3283d00c-fb76-43db-a856-8082ae9ca5c0",
   "metadata": {},
   "source": [
    "Ex:- \n",
    "a=23 and array - [10 17 24 31 38 45 52 59].\n",
    "Nearest element is 24\n",
    "Hint: Read about this function argmin()"
   ]
  },
  {
   "cell_type": "code",
   "execution_count": 2,
   "id": "6cb7b28d-27b1-4b48-9a88-350842d8c488",
   "metadata": {},
   "outputs": [],
   "source": [
    "import numpy as np"
   ]
  },
  {
   "cell_type": "code",
   "execution_count": 17,
   "id": "e1fe5eab-f071-4a9d-ac93-adbab6ea1c96",
   "metadata": {},
   "outputs": [
    {
     "data": {
      "text/plain": [
       "24"
      ]
     },
     "execution_count": 17,
     "metadata": {},
     "output_type": "execute_result"
    }
   ],
   "source": [
    "arr = np.array([10 ,17 ,24 ,31, 38 ,45, 52 ,59])\n",
    "a = 23\n",
    "arr[abs(arr - a).argmin()]"
   ]
  },
  {
   "cell_type": "markdown",
   "id": "1d9967cb-8b90-417c-a49a-b9fa6c3ce805",
   "metadata": {},
   "source": [
    "### Q-2: Replace multiples of 3 or 5 as 0 in the given array."
   ]
  },
  {
   "cell_type": "code",
   "execution_count": null,
   "id": "673ac403-f603-4922-ab0e-82830f33c710",
   "metadata": {},
   "outputs": [],
   "source": [
    "arr=[1 2 3 4 5 6 7 9]\n",
    "result-> [1 2 0 4 0 0 7 0]"
   ]
  },
  {
   "cell_type": "code",
   "execution_count": 18,
   "id": "78702c01-d1db-4411-ad52-0e5b6f99f5fe",
   "metadata": {},
   "outputs": [
    {
     "data": {
      "text/plain": [
       "array([1, 2, 0, 4, 0, 0, 7, 0])"
      ]
     },
     "execution_count": 18,
     "metadata": {},
     "output_type": "execute_result"
    }
   ],
   "source": [
    "a1 = np.array([1 ,2 ,3 ,4, 5, 6, 7 ,9])\n",
    "a1[(a1%3==0) | (a1%5==0)] = 0\n",
    "a1"
   ]
  },
  {
   "cell_type": "markdown",
   "id": "4270ebe5-e7c2-4c97-901f-367ef439f029",
   "metadata": {},
   "source": [
    "### Q-3: Use Fancy Indexing."
   ]
  },
  {
   "cell_type": "raw",
   "id": "3cf47dfa-120e-441c-b7ba-d10ad944f2e9",
   "metadata": {},
   "source": [
    "Double the array elements at given indexes\n",
    "arr = np.arrange(10)\n",
    "indexes = [0,3,4,9]\n",
    "Result -> [ 0 1 2 6 8 5 6 7 8 18]\n",
    "\n",
    "Using a given array make a different array as in below example\n",
    "\n",
    "array = [1,2,3]\n",
    "result array -> [1 1 1 2 2 2 3 3 3]\n",
    "\n",
    "Internal-repetion should be as length of the array.\n",
    "Hint:\n",
    "\n",
    "if a is an array\n",
    "a = [2,4]\n",
    "a[[1,1,0,1]] will result in-> [4 4 2 4]"
   ]
  },
  {
   "cell_type": "code",
   "execution_count": 28,
   "id": "bb8a3e0a-dd54-4919-a403-e6e2bfde636e",
   "metadata": {},
   "outputs": [
    {
     "data": {
      "text/plain": [
       "array([ 0,  1,  2,  6,  8,  5,  6,  7,  8, 18])"
      ]
     },
     "execution_count": 28,
     "metadata": {},
     "output_type": "execute_result"
    }
   ],
   "source": [
    "arr = np.arange(10)\n",
    "arr[[0,3,4,9]] *=2\n",
    "arr"
   ]
  },
  {
   "cell_type": "code",
   "execution_count": 42,
   "id": "ac65c9a9-cd23-450f-9209-323ffe9a9ba7",
   "metadata": {},
   "outputs": [
    {
     "data": {
      "text/plain": [
       "array([1, 1, 1, 2, 2, 2, 3, 3, 3])"
      ]
     },
     "execution_count": 42,
     "metadata": {},
     "output_type": "execute_result"
    }
   ],
   "source": [
    "array = np.array([1,2,3])\n",
    "np.repeat(array,3)"
   ]
  },
  {
   "cell_type": "code",
   "execution_count": 54,
   "id": "89a119b8-6f16-412a-9a56-e431ea2dbc61",
   "metadata": {},
   "outputs": [
    {
     "data": {
      "text/plain": [
       "array([1, 1, 1, 1, 2, 2, 2, 2, 3, 3, 3, 3, 4, 4, 4, 4])"
      ]
     },
     "execution_count": 54,
     "metadata": {},
     "output_type": "execute_result"
    }
   ],
   "source": [
    "array = np.array([1,2,3,4])\n",
    "index = []\n",
    "for i in range(len(array)):\n",
    "    index.extend([i]*len(array))\n",
    "array[index]  "
   ]
  },
  {
   "cell_type": "markdown",
   "id": "f7af2e7e-c296-413c-a6bf-fab736be8661",
   "metadata": {},
   "source": [
    "### Q-4: Your are given an array which is having some nan value. You job is to fill those nan values with most common element in the array."
   ]
  },
  {
   "cell_type": "code",
   "execution_count": 69,
   "id": "89bc6863-462b-4adc-b0f0-bd7fa49c3af6",
   "metadata": {},
   "outputs": [
    {
     "data": {
      "text/plain": [
       "array([[1., 2., 2.],\n",
       "       [4., 2., 6.],\n",
       "       [2., 2., 5.]])"
      ]
     },
     "execution_count": 69,
     "metadata": {},
     "output_type": "execute_result"
    }
   ],
   "source": [
    "arr=np.array([[1,2,np.nan],[4,2,6],[np.nan,np.nan,5]])\n",
    "d = {}\n",
    "for i in np.ravel(arr):\n",
    "    if i in d:\n",
    "        d[i] +=1\n",
    "    else:\n",
    "        d[i] = 1\n",
    "\n",
    "mode = sorted(d.items(),key= lambda x:x[1],reverse=True)[0][1]\n",
    "arr[np.isnan(arr)] = mode\n",
    "arr"
   ]
  },
  {
   "cell_type": "markdown",
   "id": "befc8b37-b844-446d-8c42-f123f5fda0a7",
   "metadata": {},
   "source": [
    "### Q-5: Write a NumPy program\n",
    "### to find the missing data in a given array. Return a boolean matrix.\n",
    "### also try to fill those missing values with 0. For that, you can use np.nan_to_num(a)"
   ]
  },
  {
   "cell_type": "code",
   "execution_count": 71,
   "id": "a7da3702-5b1c-4afd-bba4-caa567c23587",
   "metadata": {},
   "outputs": [
    {
     "data": {
      "text/plain": [
       "array([[False, False,  True, False],\n",
       "       [False, False, False, False],\n",
       "       [False,  True, False,  True]])"
      ]
     },
     "execution_count": 71,
     "metadata": {},
     "output_type": "execute_result"
    }
   ],
   "source": [
    "arr = np.array([[3, 2, np.nan, 1],\n",
    "          [10, 12, 10, 9],\n",
    "          [5, np.nan, 1, np.nan]])\n",
    "np.isnan(arr)"
   ]
  },
  {
   "cell_type": "code",
   "execution_count": 74,
   "id": "0ab7107f-4714-4d4e-ab0c-0dc2ebfed9ca",
   "metadata": {},
   "outputs": [
    {
     "data": {
      "text/plain": [
       "array([[ 3.,  2.,  0.,  1.],\n",
       "       [10., 12., 10.,  9.],\n",
       "       [ 5.,  0.,  1.,  0.]])"
      ]
     },
     "execution_count": 74,
     "metadata": {},
     "output_type": "execute_result"
    }
   ],
   "source": [
    "np.nan_to_num(arr,0)"
   ]
  },
  {
   "cell_type": "markdown",
   "id": "00d9fff2-e053-4e7d-8d7a-8cf261f2ae2d",
   "metadata": {},
   "source": [
    "### Q-6: Given two arrays, X and Y, construct the Cauchy matrix C."
   ]
  },
  {
   "cell_type": "raw",
   "id": "45401081-0244-4426-9408-6cab198014c7",
   "metadata": {},
   "source": [
    "Cij =1/(xi - yj)\n",
    "\n",
    "http://en.wikipedia.org/wiki/Cauchy_matrix"
   ]
  },
  {
   "cell_type": "code",
   "execution_count": 78,
   "id": "07ea332a-c4f8-481f-9c3e-42b11349cb8a",
   "metadata": {},
   "outputs": [],
   "source": [
    "x = np.array([1,2,3,4]).reshape(-1, 1) # (4,1)\n",
    "y = np.array([5,6,7]) # (3,) >> (1,3) >> "
   ]
  },
  {
   "cell_type": "code",
   "execution_count": 80,
   "id": "58495e9a-367e-46f7-a505-509e49a1650b",
   "metadata": {},
   "outputs": [
    {
     "data": {
      "text/plain": [
       "array([[-0.25      , -0.2       , -0.16666667],\n",
       "       [-0.33333333, -0.25      , -0.2       ],\n",
       "       [-0.5       , -0.33333333, -0.25      ],\n",
       "       [-1.        , -0.5       , -0.33333333]])"
      ]
     },
     "execution_count": 80,
     "metadata": {},
     "output_type": "execute_result"
    }
   ],
   "source": [
    "1/(x-y)"
   ]
  },
  {
   "cell_type": "markdown",
   "id": "32f60d9d-2e8d-4955-952d-7aa021e6c27f",
   "metadata": {},
   "source": [
    "### Q-7: Plot this below equation.\n",
    "###    y =  e^x − e^−x / e^x + e^−x\n",
    "   \n",
    "\n",
    "### Note: This equation is called tanh activation function. In deep learning, many times this function is used. If you find some difference between the sigmoid function and this tanh function, note that to your notebook."
   ]
  },
  {
   "cell_type": "code",
   "execution_count": 84,
   "id": "b9b299d2-907b-4d8a-8eeb-c1f4506860aa",
   "metadata": {},
   "outputs": [],
   "source": [
    "import matplotlib.pyplot as plt"
   ]
  },
  {
   "cell_type": "code",
   "execution_count": 83,
   "id": "585148ff-7070-4490-9d22-59d28498ad24",
   "metadata": {},
   "outputs": [],
   "source": [
    "x = np.linspace(-10,10,100)\n",
    "y = (np.exp(x) - np.exp(-x))/(np.exp(x) + np.exp(-x))"
   ]
  },
  {
   "cell_type": "code",
   "execution_count": 85,
   "id": "31aec5c8-67d6-49e7-b486-a19cf70f1bf2",
   "metadata": {},
   "outputs": [
    {
     "data": {
      "text/plain": [
       "[<matplotlib.lines.Line2D at 0x1f7ff4d8df0>]"
      ]
     },
     "execution_count": 85,
     "metadata": {},
     "output_type": "execute_result"
    },
    {
     "data": {
      "image/png": "[encoded data removed]",
      "text/plain": [
       "<Figure size 432x288 with 1 Axes>"
      ]
     },
     "metadata": {
      "needs_background": "light"
     },
     "output_type": "display_data"
    }
   ],
   "source": [
    "plt.plot(x,y)"
   ]
  },
  {
   "cell_type": "markdown",
   "id": "d285a261-1f5e-4fea-8020-d3a53699c7e5",
   "metadata": {},
   "source": [
    "### Q-8: Plot the below equation.\n",
    "The range of x should be between -2 to 10.  x∈[−2,10] "
   ]
  },
  {
   "cell_type": "raw",
   "id": "d166e589-9055-4633-9e27-c2a65fbeeb2a",
   "metadata": {},
   "source": [
    "y = np.sqrt(36-(x-4)**2) + 2"
   ]
  },
  {
   "cell_type": "code",
   "execution_count": 106,
   "id": "e0fcc166-d334-45e8-a37f-80d98036728e",
   "metadata": {},
   "outputs": [
    {
     "data": {
      "text/plain": [
       "[<matplotlib.lines.Line2D at 0x1f7ff870fd0>]"
      ]
     },
     "execution_count": 106,
     "metadata": {},
     "output_type": "execute_result"
    },
    {
     "data": {
      "image/png": "[encoded data removed]",
      "text/plain": [
       "<Figure size 432x288 with 1 Axes>"
      ]
     },
     "metadata": {
      "needs_background": "light"
     },
     "output_type": "display_data"
    }
   ],
   "source": [
    "x = np.linspace(-2,10,100)\n",
    "y = np.sqrt(36-(x-4)**2) + 2\n",
    "plt.plot(x,y)"
   ]
  },
  {
   "cell_type": "markdown",
   "id": "fd13a389-8a60-4f80-8fcc-f80e3cf7d8ed",
   "metadata": {},
   "source": [
    "### Q-9: Write a program implement Boradcasting Rule to check if two array can be added or not."
   ]
  },
  {
   "cell_type": "raw",
   "id": "307991d5-8b60-4523-b3df-78e909e37d2e",
   "metadata": {},
   "source": [
    "Given tuples of shapes.\n",
    "\n",
    "shape of a- (3,2,2)\n",
    "shape of b- (2,2)\n",
    "\n",
    "check_broadcast(a, b) -> return Boolean (True if can broadcasted, False other wise.)\n"
   ]
  },
  {
   "cell_type": "code",
   "execution_count": 114,
   "id": "8a5c3dd1-ca3e-43b7-aa0d-17005dee5f40",
   "metadata": {},
   "outputs": [
    {
     "data": {
      "text/plain": [
       "True"
      ]
     },
     "execution_count": 114,
     "metadata": {},
     "output_type": "execute_result"
    }
   ],
   "source": [
    "def check_broadcast(a,b):\n",
    "    a = a[::-1]\n",
    "    b = b[::-1]\n",
    "    for a1,b1 in zip(a,b):\n",
    "        if a1!=b1 and a1!=1 and b1!=1:\n",
    "            return False\n",
    "    return True\n",
    "check_broadcast((4,1),(1,2))           "
   ]
  }
 ],
 "metadata": {
  "kernelspec": {
   "display_name": "Python 3 (ipykernel)",
   "language": "python",
   "name": "python3"
  },
  "language_info": {
   "codemirror_mode": {
    "name": "ipython",
    "version": 3
   },
   "file_extension": ".py",
   "mimetype": "text/x-python",
   "name": "python",
   "nbconvert_exporter": "python",
   "pygments_lexer": "ipython3",
   "version": "3.10.6"
  }
 },
 "nbformat": 4,
 "nbformat_minor": 5
}
