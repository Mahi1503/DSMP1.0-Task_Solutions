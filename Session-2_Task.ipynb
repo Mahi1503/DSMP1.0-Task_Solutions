{
 "cells": [
  {
   "cell_type": "markdown",
   "id": "2f50b214",
   "metadata": {},
   "source": [
    "### 1 . Problem 1: Write a program that will give you in hand monthly salary after deduction on CTC - HRA(10%), DA(5%), PF(3%) and taxes deduction as below:\n",
    "### Salary(Lakhs) : Tax(%)\n",
    "\n",
    "##### Below 5 : 0%\n",
    "##### 5-10 : 10%\n",
    "##### 10-20 : 20%\n",
    "##### aboove 20 : 30%"
   ]
  },
  {
   "cell_type": "code",
   "execution_count": 1,
   "id": "1cc9f8e0",
   "metadata": {},
   "outputs": [
    {
     "name": "stdin",
     "output_type": "stream",
     "text": [
      "Enter your CTC in lakh eg 1 is 1 lakh  6\n"
     ]
    },
    {
     "name": "stdout",
     "output_type": "stream",
     "text": [
      "In hand salary with CTC below 5-10  36000.00000000001\n"
     ]
    }
   ],
   "source": [
    "# HRA(10%), DA(5%), PF(3%)\n",
    "Salary_annum = eval(input(\"Enter your CTC in lakh eg 1 is 1 lakh \"))\n",
    "\n",
    "if Salary_annum <= 5 :\n",
    "    salary = (Salary_annum - (Salary_annum*0.1 + Salary_annum*0.05 + Salary_annum*0.03))/12*1e5\n",
    "    print(\"In hand salary with CTC below 5 \",salary)\n",
    "elif Salary_annum > 5 and Salary_annum<10:\n",
    "    salary = (Salary_annum - (Salary_annum*0.1 + Salary_annum*0.05 + Salary_annum*0.03 + Salary_annum*0.1))/12*1e5\n",
    "    print(\"In hand salary with CTC below 5-10 \",salary)\n",
    "elif Salary_annum > 10 and Salary_annum<20:\n",
    "    salary = (Salary_annum - (Salary_annum*0.1 + Salary_annum*0.05 + Salary_annum*0.03 + Salary_annum*0.2))/12*1e5\n",
    "    print(\"In hand salary with CTC below 10-20 \",salary)\n",
    "else:\n",
    "    salary = (Salary_annum - (Salary_annum*0.1 + Salary_annum*0.05 + Salary_annum*0.03 + Salary_annum*0.3))/12*1e5\n",
    "    print(\"In hand salary with CTC below aboove 20 \",salary)\n"
   ]
  },
  {
   "cell_type": "code",
   "execution_count": 24,
   "id": "bc0ff9ca",
   "metadata": {},
   "outputs": [
    {
     "name": "stdout",
     "output_type": "stream",
     "text": [
      "Enter your CTC in lakh: 24\n",
      "In-hand monthly salary with CTC above 20 Lakh: 104000.00 INR\n"
     ]
    }
   ],
   "source": [
    "# Constants for deductions\n",
    "HRA_PERCENT = 0.10  # 10%\n",
    "DA_PERCENT = 0.05   # 5%\n",
    "PF_PERCENT = 0.03   # 3%\n",
    "\n",
    "# Input: Annual Salary (CTC in lakhs)\n",
    "Salary_annum = eval(input(\"Enter your CTC in lakh: \"))\n",
    "\n",
    "# Calculate in-hand salary based on CTC brackets\n",
    "if Salary_annum <= 5:\n",
    "    deductions = Salary_annum * (HRA_PERCENT + DA_PERCENT + PF_PERCENT)\n",
    "    in_hand_salary = (Salary_annum - deductions) / 12 * 1e5\n",
    "    print(f\"In-hand monthly salary with CTC below or equal to 5 Lakh: {in_hand_salary:.2f} INR\")\n",
    "elif 5 < Salary_annum <= 10:\n",
    "    deductions = Salary_annum * (HRA_PERCENT + DA_PERCENT + PF_PERCENT + 0.10)  # Additional 10%\n",
    "    in_hand_salary = (Salary_annum - deductions) / 12 * 1e5\n",
    "    print(f\"In-hand monthly salary with CTC between 5-10 Lakh: {in_hand_salary:.2f} INR\")\n",
    "elif 10 < Salary_annum <= 20:\n",
    "    deductions = Salary_annum * (HRA_PERCENT + DA_PERCENT + PF_PERCENT + 0.20)  # Additional 20%\n",
    "    in_hand_salary = (Salary_annum - deductions) / 12 * 1e5\n",
    "    print(f\"In-hand monthly salary with CTC between 10-20 Lakh: {in_hand_salary:.2f} INR\")\n",
    "else:\n",
    "    deductions = Salary_annum * (HRA_PERCENT + DA_PERCENT + PF_PERCENT + 0.30)  # Additional 30%\n",
    "    in_hand_salary = (Salary_annum - deductions) / 12 * 1e5\n",
    "    print(f\"In-hand monthly salary with CTC above 20 Lakh: {in_hand_salary:.2f} INR\")\n"
   ]
  },
  {
   "cell_type": "markdown",
   "id": "f4e5069a",
   "metadata": {},
   "source": [
    "### Problem 2: Write a program that take a user input of three angles and will find out whether it can form a triangle or not."
   ]
  },
  {
   "cell_type": "code",
   "execution_count": 31,
   "id": "46bd7a95",
   "metadata": {},
   "outputs": [
    {
     "name": "stdout",
     "output_type": "stream",
     "text": [
      "Enter 1st Angle 30\n",
      "Enter 2nd Angle 60\n",
      "Enter 3rd Angle 90\n",
      "Angle is triangle\n"
     ]
    }
   ],
   "source": [
    "# To form triangle sum of all angle should be 180 and angle must be positive angle\n",
    "\n",
    "angle1 = int(input(\"Enter 1st Angle \"))\n",
    "angle2 = int(input(\"Enter 2nd Angle \"))\n",
    "angle3 = int(input(\"Enter 3rd Angle \"))\n",
    "if angle1+angle2+angle3 == 180 and angle1>0 and angle2>0 and angle3>0:\n",
    "    print(\"Angle is triangle\")\n",
    "else:\n",
    "    print(\"Not triangle\")"
   ]
  },
  {
   "cell_type": "markdown",
   "id": "51cb721e",
   "metadata": {},
   "source": [
    "### Problem 3: Write a program that will take user input of cost price and selling price and determines whether its a loss or a profit."
   ]
  },
  {
   "cell_type": "code",
   "execution_count": 33,
   "id": "00a571bb",
   "metadata": {},
   "outputs": [
    {
     "name": "stdout",
     "output_type": "stream",
     "text": [
      "Enter cost price 20000\n",
      "Enter selling price 10000\n",
      "We are in loss\n"
     ]
    }
   ],
   "source": [
    "cost_price = int(input(\"Enter cost price \"))\n",
    "selling_price = int(input(\"Enter selling price \"))\n",
    "\n",
    "if selling_price > cost_price:\n",
    "    print(\"We are in profit\")\n",
    "elif selling_price < cost_price:\n",
    "    print(\"We are in loss\")\n",
    "else:\n",
    "    print(\"We are selling at cost price\")"
   ]
  },
  {
   "cell_type": "markdown",
   "id": "f96b3d3b",
   "metadata": {},
   "source": [
    "### Problem 4: Write a menu-driven program -"
   ]
  },
  {
   "cell_type": "raw",
   "id": "d30d1a04",
   "metadata": {},
   "source": [
    "1. cm to ft\n",
    "2. km to miles\n",
    "3. USD to INR\n",
    "4. exit"
   ]
  },
  {
   "cell_type": "code",
   "execution_count": 53,
   "id": "f2713c4f",
   "metadata": {},
   "outputs": [
    {
     "name": "stdout",
     "output_type": "stream",
     "text": [
      "Hi! Please Enter Your Requirement\n",
      "1. cm to ft\n",
      "2. km to miles\n",
      "3. USD to INR\n",
      "4. exit\n",
      "4\n",
      "Exit\n"
     ]
    }
   ],
   "source": [
    "import math\n",
    "menu = input(\"\"\"Hi! Please Enter Your Requirement\n",
    "1. cm to ft\n",
    "2. km to miles\n",
    "3. USD to INR\n",
    "4. exit\n",
    "\"\"\")\n",
    "if menu == \"1\":\n",
    "    cm = eval(input(\"Enter cm value \"))\n",
    "    print(\"ft value is\",0.0332*cm)\n",
    "elif menu == \"2\":\n",
    "    km = eval(input(\"Enter km value \"))\n",
    "    print(\"distance in miles is\",0.62*km)\n",
    "elif menu == \"3\":\n",
    "    USD = eval(input(\"Enter Amt in USD \"))\n",
    "    print(\"INR value is\",80*USD)\n",
    "else:\n",
    "    print(\"Exit\")"
   ]
  },
  {
   "cell_type": "markdown",
   "id": "5c416e0f",
   "metadata": {},
   "source": [
    "### Problem 5 - Exercise 12: Display Fibonacci series up to 10 terms."
   ]
  },
  {
   "cell_type": "raw",
   "id": "cc6cfa06",
   "metadata": {},
   "source": [
    "Note: The Fibonacci Sequence is a series of numbers. The next number is found by adding up the two numbers before it. The first two numbers are 0 and 1. For example, 0, 1, 1, 2, 3, 5, 8, 13, 21. The next number in this series above is 13+21 = 34"
   ]
  },
  {
   "cell_type": "code",
   "execution_count": 55,
   "id": "7d8e2c1f",
   "metadata": {},
   "outputs": [
    {
     "name": "stdout",
     "output_type": "stream",
     "text": [
      "0\n",
      "1\n",
      "1\n",
      "2\n",
      "3\n",
      "5\n",
      "8\n",
      "13\n",
      "21\n",
      "34\n"
     ]
    }
   ],
   "source": [
    "first_num = 0\n",
    "sec_num = 1\n",
    "for i in range(10):\n",
    "    print(first_num)\n",
    "    next_num = first_num + sec_num\n",
    "    first_num = sec_num\n",
    "    sec_num = next_num  "
   ]
  },
  {
   "cell_type": "markdown",
   "id": "4816fd08",
   "metadata": {},
   "source": [
    "### Problem 6 - Find the factorial of a given number."
   ]
  },
  {
   "cell_type": "raw",
   "id": "a7930ae6",
   "metadata": {},
   "source": [
    "Write a program to use the loop to find the factorial of a given number.\n",
    "\n",
    "The factorial (symbol: !) means to multiply all whole numbers from the chosen number down to 1.\n",
    "\n",
    "For example: calculate the factorial of 5"
   ]
  },
  {
   "cell_type": "code",
   "execution_count": 57,
   "id": "c23d567c",
   "metadata": {},
   "outputs": [
    {
     "name": "stdout",
     "output_type": "stream",
     "text": [
      "Enter no to find Factorial 5\n",
      "120\n"
     ]
    }
   ],
   "source": [
    "n = int(input(\"Enter no to find Factorial \"))\n",
    "fact = 1\n",
    "for i in range(1,n+1):\n",
    "    fact*=i\n",
    "    \n",
    "print(fact)"
   ]
  },
  {
   "cell_type": "markdown",
   "id": "e4cff011",
   "metadata": {},
   "source": [
    "### Problem 7 - Reverse a given integer number."
   ]
  },
  {
   "cell_type": "raw",
   "id": "a214b13d",
   "metadata": {},
   "source": [
    "Example:\n",
    "Input: 76542\n",
    "Output: 24567"
   ]
  },
  {
   "cell_type": "code",
   "execution_count": 62,
   "id": "c67b5116",
   "metadata": {},
   "outputs": [
    {
     "name": "stdout",
     "output_type": "stream",
     "text": [
      "Enter you number 3456\n",
      "6543\n"
     ]
    }
   ],
   "source": [
    "num = int(input(\"Enter you number \"))\n",
    "rev = 0\n",
    "while num > 0 :\n",
    "    last = num%10\n",
    "    rev = rev*10 + last\n",
    "    num//= 10\n",
    "print(rev)    \n",
    "    "
   ]
  },
  {
   "cell_type": "markdown",
   "id": "2e6cc059",
   "metadata": {},
   "source": [
    "### Problem 8: Take a user input as integer N. Find out the sum from 1 to N. If any number if divisible by 5, then skip that number. And if the sum is greater than 300, don't need to calculate the sum further more. Print the final result. And don't use for loop to solve this problem. eg input : 30 output : 276"
   ]
  },
  {
   "cell_type": "code",
   "execution_count": 8,
   "id": "f1502d84",
   "metadata": {},
   "outputs": [
    {
     "name": "stdout",
     "output_type": "stream",
     "text": [
      "Enter you number 30\n",
      "276\n"
     ]
    }
   ],
   "source": [
    "sum1 = 0\n",
    "n = int(input(\"Enter you number \"))\n",
    "for i in range(0,n+1):\n",
    "    if i%5==0:\n",
    "        continue\n",
    "    else:\n",
    "        sum1+=i\n",
    "        \n",
    "    if sum1>300:\n",
    "        sum1 = sum1-i\n",
    "        break\n",
    "print(sum1)"
   ]
  },
  {
   "cell_type": "code",
   "execution_count": 18,
   "id": "f1591bbd",
   "metadata": {},
   "outputs": [
    {
     "name": "stdout",
     "output_type": "stream",
     "text": [
      "Enter your number: 30\n",
      "276\n"
     ]
    }
   ],
   "source": [
    "sum1 = 0\n",
    "n = int(input(\"Enter your number: \"))\n",
    "\n",
    "# Start from 1 and iterate up to n\n",
    "i = 1\n",
    "while i <= n:\n",
    "    if i % 5 == 0:\n",
    "        i += 1  # Skip numbers divisible by 5\n",
    "        continue\n",
    "    \n",
    "    if sum1 + i > 300:\n",
    "        break  # Stop calculation if sum exceeds 300\n",
    "    \n",
    "    sum1 += i\n",
    "    i += 1  # Move to the next number\n",
    "\n",
    "print(sum1)\n"
   ]
  },
  {
   "cell_type": "code",
   "execution_count": 21,
   "id": "52fcafa3",
   "metadata": {},
   "outputs": [
    {
     "name": "stdout",
     "output_type": "stream",
     "text": [
      "Enter your no 50\n",
      "276\n"
     ]
    }
   ],
   "source": [
    "n = int(input(\"Enter your no \"))\n",
    "sum0 = 0 \n",
    "i = 1 \n",
    "while i <= n:\n",
    "    if i % 5 ==0:\n",
    "        i+=1 \n",
    "        continue\n",
    "    else:\n",
    "        sum0+=i\n",
    "        i+=1\n",
    "        \n",
    "    if sum0+i > 300:\n",
    "        break\n",
    "        \n",
    "print(sum0)"
   ]
  },
  {
   "cell_type": "markdown",
   "id": "7924fcd8",
   "metadata": {},
   "source": [
    "# Problem 9: Write a program that keeps on accepting a number from the user until the user enters Zero. Display the sum and average of all the numbers."
   ]
  },
  {
   "cell_type": "code",
   "execution_count": 28,
   "id": "4d06d530",
   "metadata": {},
   "outputs": [
    {
     "name": "stdout",
     "output_type": "stream",
     "text": [
      "Enter your number 1\n",
      "Enter your number 2\n",
      "Enter your number 3\n",
      "Enter your number 4\n",
      "Enter your number 5\n",
      "Enter your number 6\n",
      "Enter your number 7\n",
      "Enter your number 8\n",
      "Enter your number 9\n",
      "Enter your number 0\n",
      "45\n",
      "5.0\n"
     ]
    }
   ],
   "source": [
    "sum0 = 0 \n",
    "count = 0\n",
    "while True:\n",
    "    num = int(input(\"Enter your number \"))\n",
    "    count+=1\n",
    "    if num == 0:\n",
    "        avg = sum2/(count-1)\n",
    "        break\n",
    "    else:\n",
    "        sum0 += num\n",
    "        \n",
    "print(sum0)\n",
    "print(avg)"
   ]
  },
  {
   "cell_type": "markdown",
   "id": "ce2a8647",
   "metadata": {},
   "source": [
    "# Problem 9: Write a program which will find all such numbers which are divisible by 7 but are not a multiple of 5, between 2000 and 3200 (both included). The numbers obtained should be printed in a comma-separated sequence on a single line."
   ]
  },
  {
   "cell_type": "code",
   "execution_count": 32,
   "id": "3b856377",
   "metadata": {},
   "outputs": [
    {
     "name": "stdout",
     "output_type": "stream",
     "text": [
      "2002,2009,2016,2023,2030,2037,2044,2051,2058,2065,2072,2079,2086,2093,2100,2107,2114,2121,2128,2135,2142,2149,2156,2163,2170,2177,2184,2191,2198,2205,2212,2219,2226,2233,2240,2247,2254,2261,2268,2275,2282,2289,2296,2303,2310,2317,2324,2331,2338,2345,2352,2359,2366,2373,2380,2387,2394,2401,2408,2415,2422,2429,2436,2443,2450,2457,2464,2471,2478,2485,2492,2499,2506,2513,2520,2527,2534,2541,2548,2555,2562,2569,2576,2583,2590,2597,2604,2611,2618,2625,2632,2639,2646,2653,2660,2667,2674,2681,2688,2695,2702,2709,2716,2723,2730,2737,2744,2751,2758,2765,2772,2779,2786,2793,2800,2807,2814,2821,2828,2835,2842,2849,2856,2863,2870,2877,2884,2891,2898,2905,2912,2919,2926,2933,2940,2947,2954,2961,2968,2975,2982,2989,2996,3003,3010,3017,3024,3031,3038,3045,3052,3059,3066,3073,3080,3087,3094,3101,3108,3115,3122,3129,3136,3143,3150,3157,3164,3171,3178,3185,3192,3199\n"
     ]
    }
   ],
   "source": [
    "l = []\n",
    "for i in range(2000,3200+1):\n",
    "    if i % 7 ==0 and i % 5 != 5:\n",
    "        l.append(str(i))\n",
    "print(\",\".join(l))        "
   ]
  },
  {
   "cell_type": "code",
   "execution_count": 33,
   "id": "d86be956",
   "metadata": {},
   "outputs": [
    {
     "name": "stdout",
     "output_type": "stream",
     "text": [
      "2002,2009,2016,2023,2030,2037,2044,2051,2058,2065,2072,2079,2086,2093,2100,2107,2114,2121,2128,2135,2142,2149,2156,2163,2170,2177,2184,2191,2198,2205,2212,2219,2226,2233,2240,2247,2254,2261,2268,2275,2282,2289,2296,2303,2310,2317,2324,2331,2338,2345,2352,2359,2366,2373,2380,2387,2394,2401,2408,2415,2422,2429,2436,2443,2450,2457,2464,2471,2478,2485,2492,2499,2506,2513,2520,2527,2534,2541,2548,2555,2562,2569,2576,2583,2590,2597,2604,2611,2618,2625,2632,2639,2646,2653,2660,2667,2674,2681,2688,2695,2702,2709,2716,2723,2730,2737,2744,2751,2758,2765,2772,2779,2786,2793,2800,2807,2814,2821,2828,2835,2842,2849,2856,2863,2870,2877,2884,2891,2898,2905,2912,2919,2926,2933,2940,2947,2954,2961,2968,2975,2982,2989,2996,3003,3010,3017,3024,3031,3038,3045,3052,3059,3066,3073,3080,3087,3094,3101,3108,3115,3122,3129,3136,3143,3150,3157,3164,3171,3178,3185,3192,3199,"
     ]
    }
   ],
   "source": [
    "for i in range(2000,3200+1):\n",
    "    if i % 7 ==0 and i % 5 != 5:\n",
    "        print(i,end=\",\")"
   ]
  },
  {
   "cell_type": "markdown",
   "id": "a2773b11",
   "metadata": {},
   "source": [
    "# Problem 10: Write a program, which will find all such numbers between 1000 and 3000 (both included) such that each digit of the number is an even number. The numbers obtained should be printed in a space-separated sequence on a single line."
   ]
  },
  {
   "cell_type": "code",
   "execution_count": 53,
   "id": "9f99d770",
   "metadata": {},
   "outputs": [
    {
     "data": {
      "text/plain": [
       "'2000,2002,2004,2006,2008,2020,2022,2024,2026,2028,2040,2042,2044,2046,2048,2060,2062,2064,2066,2068,2080,2082,2084,2086,2088,2200,2202,2204,2206,2208,2220,2222,2224,2226,2228,2240,2242,2244,2246,2248,2260,2262,2264,2266,2268,2280,2282,2284,2286,2288,2400,2402,2404,2406,2408,2420,2422,2424,2426,2428,2440,2442,2444,2446,2448,2460,2462,2464,2466,2468,2480,2482,2484,2486,2488,2600,2602,2604,2606,2608,2620,2622,2624,2626,2628,2640,2642,2644,2646,2648,2660,2662,2664,2666,2668,2680,2682,2684,2686,2688,2800,2802,2804,2806,2808,2820,2822,2824,2826,2828,2840,2842,2844,2846,2848,2860,2862,2864,2866,2868,2880,2882,2884,2886,2888'"
      ]
     },
     "execution_count": 53,
     "metadata": {},
     "output_type": "execute_result"
    }
   ],
   "source": [
    "l1 = []\n",
    "for i in range(1000,3000+1):\n",
    "    flag = True\n",
    "    curr = i\n",
    "    \n",
    "    while curr>0:\n",
    "        num = curr%10\n",
    "        if num%2 == 0: # checking no is even \n",
    "            curr = curr//10\n",
    "        else:\n",
    "            flag = False\n",
    "            break\n",
    "    if flag:\n",
    "        l1.append(str(i))\n",
    "\",\".join(l1)        "
   ]
  },
  {
   "cell_type": "markdown",
   "id": "b2a5d741",
   "metadata": {},
   "source": [
    "# Problem 11: A robot moves in a plane starting from the original point (0,0). The robot can move toward UP, DOWN, LEFT and RIGHT with a given steps."
   ]
  },
  {
   "cell_type": "raw",
   "id": "3fc55546",
   "metadata": {},
   "source": [
    "The trace of robot movement is shown as the following:\n",
    "UP 5\n",
    "DOWN 3\n",
    "LEFT 3\n",
    "RIGHT 2\n",
    "!\n",
    "The numbers after the direction are steps.\n",
    "\n",
    "! means robot stop there.\n",
    "Please write a program to compute the distance from current position after a sequence of movement and original point.\n",
    "\n",
    "If the distance is a float, then just print the nearest integer.\n",
    "Example:\n",
    "\n",
    "Input:\n",
    "\n",
    "UP 5\n",
    "DOWN 3\n",
    "LEFT 3\n",
    "RIGHT 2\n",
    "!\n",
    "Output:\n",
    "\n",
    "2"
   ]
  },
  {
   "cell_type": "code",
   "execution_count": 70,
   "id": "854673d2",
   "metadata": {},
   "outputs": [
    {
     "name": "stdout",
     "output_type": "stream",
     "text": [
      "\n",
      "    1. Up\n",
      "    2. Down\n",
      "    3. Left\n",
      "    4. Right\n",
      "    5. ! for Stop\n",
      "    1\n",
      "Enter steps in upword direction 1\n",
      "\n",
      "    1. Up\n",
      "    2. Down\n",
      "    3. Left\n",
      "    4. Right\n",
      "    5. ! for Stop\n",
      "    2\n",
      "Enter steps in upword direction 2\n",
      "\n",
      "    1. Up\n",
      "    2. Down\n",
      "    3. Left\n",
      "    4. Right\n",
      "    5. ! for Stop\n",
      "    4\n",
      "Enter steps in upword direction 4\n",
      "\n",
      "    1. Up\n",
      "    2. Down\n",
      "    3. Left\n",
      "    4. Right\n",
      "    5. ! for Stop\n",
      "    3\n",
      "Enter steps in upword direction 2\n",
      "\n",
      "    1. Up\n",
      "    2. Down\n",
      "    3. Left\n",
      "    4. Right\n",
      "    5. ! for Stop\n",
      "    5\n",
      "2\n"
     ]
    }
   ],
   "source": [
    "import math\n",
    "\n",
    "Pxo = 0\n",
    "Pyo = 0\n",
    "\n",
    "Pox = 0\n",
    "Poy = 0\n",
    "\n",
    "\n",
    "                  \n",
    "while True :\n",
    "    direction = input(\"\"\"\n",
    "    1. Up\n",
    "    2. Down\n",
    "    3. Left\n",
    "    4. Right\n",
    "    5. ! for Stop\n",
    "    \"\"\")\n",
    "    \n",
    "    if direction == \"1\":\n",
    "        val = eval(input(\"Enter steps in upword direction \"))\n",
    "        Pox+=val\n",
    "    elif direction == \"2\":\n",
    "        val = eval(input(\"Enter steps in upword direction \"))\n",
    "        Pox-=val\n",
    "    elif direction == \"3\":\n",
    "        val = eval(input(\"Enter steps in upword direction \"))\n",
    "        Poy-=val\n",
    "    elif direction == \"4\":\n",
    "        val = eval(input(\"Enter steps in upword direction \"))\n",
    "        Poy+=val\n",
    "    elif direction == \"5\":\n",
    "        break\n",
    "    else:\n",
    "        print(\"Please enter valid input\")\n",
    "        \n",
    "distance = ((Pox - Pxo)**2 + (Poy - Pyo)**2)**0.5\n",
    "if distance - int(distance) > 0.5:\n",
    "    distance = math.ceil(distance)\n",
    "else:\n",
    "    distance = math.floor(distance)\n",
    "\n",
    "print(distance)"
   ]
  },
  {
   "cell_type": "code",
   "execution_count": 69,
   "id": "bdf8ae16",
   "metadata": {},
   "outputs": [
    {
     "name": "stdout",
     "output_type": "stream",
     "text": [
      "Enter the robot pathUp 1\n",
      "Enter the robot pathdown 2\n",
      "Enter the robot pathright 4\n",
      "Enter the robot pathleft 2\n",
      "Enter the robot path!\n",
      "new pos [0, 0]\n",
      "0.0\n"
     ]
    }
   ],
   "source": [
    "# Write code here\n",
    "pos = [0,0]\n",
    "while True:\n",
    "    s = input('Enter the robot path')\n",
    "    if s == '!':\n",
    "        break\n",
    "    direction = s.split()[0]\n",
    "    steps = int(s.split()[1])\n",
    "\n",
    "    if direction == 'UP':\n",
    "        pos[1] = pos[1] + steps\n",
    "    elif direction == 'DOWN':\n",
    "        pos[1] = pos[1] - steps\n",
    "    elif direction == 'LEFT':\n",
    "        pos[0] = pos[0] - steps\n",
    "    elif direction == 'RIGHT':\n",
    "        pos[0] = pos[0] + steps\n",
    "    else:\n",
    "        pass\n",
    "\n",
    "print('new pos',pos)\n",
    "print((pos[0]**2 + pos[1]**2)**0.5)"
   ]
  },
  {
   "cell_type": "markdown",
   "id": "24920558",
   "metadata": {},
   "source": [
    "# Problem 12:Write a program to print whether a given number is a prime number or not"
   ]
  },
  {
   "cell_type": "code",
   "execution_count": 129,
   "id": "7241d981",
   "metadata": {},
   "outputs": [
    {
     "name": "stdout",
     "output_type": "stream",
     "text": [
      "9\n",
      "Not Prime\n"
     ]
    }
   ],
   "source": [
    "num = int(input())\n",
    "flag = True\n",
    "if num < 2 :\n",
    "    flag = False\n",
    "    \n",
    "for i in range(2,num):\n",
    "    if num%i==0:\n",
    "        flag = False\n",
    "        \n",
    "if flag:\n",
    "    print(\"Prime\")\n",
    "else:\n",
    "    print(\"Not Prime\")"
   ]
  },
  {
   "cell_type": "code",
   "execution_count": 111,
   "id": "369603c6",
   "metadata": {},
   "outputs": [
    {
     "name": "stdout",
     "output_type": "stream",
     "text": [
      "Enter a number: 4\n",
      "4 is not a prime number.\n"
     ]
    }
   ],
   "source": [
    "def is_prime(num):\n",
    "    # Prime numbers are greater than 1\n",
    "    if num <= 1:\n",
    "        return False\n",
    "    # Check for factors\n",
    "    for i in range(2, int(num**0.5) + 1):\n",
    "        if num % i == 0:\n",
    "            return False\n",
    "    return True\n",
    "\n",
    "# Example usage:\n",
    "number = int(input(\"Enter a number: \"))\n",
    "if is_prime(number):\n",
    "    print(f\"{number} is a prime number.\")\n",
    "else:\n",
    "    print(f\"{number} is not a prime number.\")"
   ]
  },
  {
   "cell_type": "code",
   "execution_count": 112,
   "id": "73e9e23f",
   "metadata": {},
   "outputs": [
    {
     "name": "stdout",
     "output_type": "stream",
     "text": [
      "Enter a number: 4\n",
      "4 is not a prime number\n"
     ]
    }
   ],
   "source": [
    "n = int(input(\"Enter a number: \"))\n",
    "is_prime = n > 1 and all(n % i != 0 for i in range(2, int(n**0.5) + 1))\n",
    "print(f\"{n} is {'a prime number' if is_prime else 'not a prime number'}\")\n"
   ]
  },
  {
   "cell_type": "markdown",
   "id": "ba6eaf77",
   "metadata": {},
   "source": [
    "# Problem 13:Print all the Armstrong numbers in a given range."
   ]
  },
  {
   "cell_type": "raw",
   "id": "08a5483c",
   "metadata": {},
   "source": [
    "Range will be provided by the user\n",
    "Armstrong number is a number that is equal to the sum of cubes of its digits. For example 0, 1, 153, 370, 371 and 407 are the Armstrong numbers."
   ]
  },
  {
   "cell_type": "code",
   "execution_count": 134,
   "id": "bd699c00",
   "metadata": {},
   "outputs": [
    {
     "name": "stdout",
     "output_type": "stream",
     "text": [
      "Enter upper range 0\n",
      "Enter Lower range 500\n",
      "0\n",
      "1\n",
      "153\n",
      "370\n",
      "371\n",
      "407\n"
     ]
    }
   ],
   "source": [
    "upper_range = int(input(\"Enter upper range \"))\n",
    "lower_range = int(input(\"Enter Lower range \"))\n",
    "for i in range(upper_range,lower_range+1):\n",
    "    sum3 = 0\n",
    "    temp = i\n",
    "    while temp > 0:\n",
    "        sum3 = sum3 + (temp%10)**3\n",
    "        temp = temp//10\n",
    "        \n",
    "    if sum3 == i:\n",
    "        print(i)"
   ]
  },
  {
   "cell_type": "code",
   "execution_count": 135,
   "id": "749c9e60",
   "metadata": {},
   "outputs": [
    {
     "name": "stdout",
     "output_type": "stream",
     "text": [
      "Enter upper range 1\n",
      "Enter Lower range 500\n",
      "1\n",
      "2\n",
      "3\n",
      "4\n",
      "5\n",
      "6\n",
      "7\n",
      "8\n",
      "9\n",
      "153\n",
      "370\n",
      "371\n",
      "407\n"
     ]
    }
   ],
   "source": [
    "upper_range = int(input(\"Enter upper range \"))\n",
    "lower_range = int(input(\"Enter Lower range \"))\n",
    "for i in range(upper_range,lower_range+1):\n",
    "    str_i = str(i)\n",
    "    no_digit = len(str_i)\n",
    "    \n",
    "    sum_of_power = sum( int(digit)**no_digit for digit in str_i)\n",
    "    \n",
    "    if sum_of_power == i:\n",
    "        print(i)"
   ]
  },
  {
   "cell_type": "markdown",
   "id": "d457875a",
   "metadata": {},
   "source": [
    "# Problem 14:Calculate the angle between the hour hand and minute hand."
   ]
  },
  {
   "cell_type": "raw",
   "id": "848d3961",
   "metadata": {},
   "source": [
    "Note: There can be two angles between hands; we need to print a minimum of two. Also, we need to print the floor of the final result angle. For example, if the final angle is 10.61, we need to print 10.\n",
    "\n",
    "Input:\n",
    "H = 9 , M = 0\n",
    "Output:\n",
    "90\n",
    "Explanation:\n",
    "The minimum angle between hour and minute hand when the time is 9 is 90 degress."
   ]
  },
  {
   "cell_type": "code",
   "execution_count": 142,
   "id": "18922088",
   "metadata": {},
   "outputs": [
    {
     "name": "stdout",
     "output_type": "stream",
     "text": [
      "Enter hours 13\n",
      "Enter minutes 10\n",
      "Wrong input\n",
      "25.0\n"
     ]
    }
   ],
   "source": [
    "# 12hrs = 360 degree >> 1hr = 30 degree movement of hr hand \n",
    "# 60min = 360 degree >> 1 min = 6 degree movement of minute hand \n",
    "# 1hr = 30 degree = 60 min ie 1 min = 0.5 degree movement of hr hand\n",
    "\n",
    "hr = int(input(\"Enter hours \"))\n",
    "Min = int(input(\"Enter minutes \"))\n",
    "\n",
    "if (hr < 0 or Min < 0 or hr > 12 or Min > 60):\n",
    "    print('Wrong input')\n",
    "\n",
    "hr_angle = 30*hr + 0.5*Min\n",
    "Min_angle = 6*Min\n",
    "angle = abs(hr_angle-Min_angle)\n",
    "\n",
    "if angle > 180:\n",
    "    print(360-angle)\n",
    "else:\n",
    "    print(angle)"
   ]
  },
  {
   "cell_type": "markdown",
   "id": "a2401bbe",
   "metadata": {},
   "source": [
    "# Problem 15:Given two rectangles, find if the given two rectangles overlap or not. A rectangle is denoted by providing the x and y coordinates of two points: the left top corner and the right bottom corner of the rectangle. Two rectangles sharing a side are considered overlapping. (L1 and R1 are the extreme points of the first rectangle and L2 and R2 are the extreme points of the second rectangle)."
   ]
  },
  {
   "cell_type": "raw",
   "id": "73d4bf78",
   "metadata": {},
   "source": [
    "Note: It may be assumed that the rectangles are parallel to the coordinate axis."
   ]
  },
  {
   "cell_type": "code",
   "execution_count": null,
   "id": "30e092d4",
   "metadata": {},
   "outputs": [],
   "source": []
  },
  {
   "cell_type": "code",
   "execution_count": 146,
   "id": "e85873ee",
   "metadata": {},
   "outputs": [],
   "source": []
  },
  {
   "cell_type": "code",
   "execution_count": 148,
   "id": "d3e20b70",
   "metadata": {},
   "outputs": [],
   "source": []
  },
  {
   "cell_type": "code",
   "execution_count": null,
   "id": "290f4975",
   "metadata": {},
   "outputs": [],
   "source": []
  },
  {
   "cell_type": "code",
   "execution_count": null,
   "id": "2f30b470",
   "metadata": {},
   "outputs": [],
   "source": []
  },
  {
   "cell_type": "code",
   "execution_count": null,
   "id": "a331b14d",
   "metadata": {},
   "outputs": [],
   "source": []
  }
 ],
 "metadata": {
  "kernelspec": {
   "display_name": "Python 3 (ipykernel)",
   "language": "python",
   "name": "python3"
  },
  "language_info": {
   "codemirror_mode": {
    "name": "ipython",
    "version": 3
   },
   "file_extension": ".py",
   "mimetype": "text/x-python",
   "name": "python",
   "nbconvert_exporter": "python",
   "pygments_lexer": "ipython3",
   "version": "3.10.6"
  }
 },
 "nbformat": 4,
 "nbformat_minor": 5
}
