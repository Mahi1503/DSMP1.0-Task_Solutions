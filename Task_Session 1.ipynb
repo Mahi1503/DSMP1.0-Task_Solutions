{
 "cells": [
  {
   "cell_type": "markdown",
   "id": "988b0e9f",
   "metadata": {},
   "source": [
    "# Q1 :- Print the given strings as per stated format.\n",
    "\n",
    "### Given strings:\n",
    "\n",
    "##### \"Data\" \"Science\" \"Mentorship\" \"Program\" \n",
    "##### \"By\" \"CampusX\"\n",
    "\n",
    "##### Data-Science-Mentorship-Program-started-By-CampusX"
   ]
  },
  {
   "cell_type": "code",
   "execution_count": 1,
   "id": "ff3f8749",
   "metadata": {},
   "outputs": [
    {
     "name": "stdout",
     "output_type": "stream",
     "text": [
      "Data-Science-Mentorship-Program-By-CampusX\n"
     ]
    }
   ],
   "source": [
    "print(\"Data\",\"Science\",\"Mentorship\",\"Program\", \"By\", \"CampusX\",sep=\"-\")"
   ]
  },
  {
   "cell_type": "code",
   "execution_count": 2,
   "id": "ac8048f5",
   "metadata": {},
   "outputs": [
    {
     "name": "stdout",
     "output_type": "stream",
     "text": [
      "Data-Science-Mentorship-Program-By-CampusX\n"
     ]
    }
   ],
   "source": [
    "print(\"Data\",\"Science\",\"Mentorship\",\"Program\",sep=\"-\",end=\"-\")\n",
    "print(\"By\", \"CampusX\",sep=\"-\")"
   ]
  },
  {
   "cell_type": "markdown",
   "id": "22fb8b8d",
   "metadata": {},
   "source": [
    "# Q2:- Write a program that will convert celsius value to fahrenheit."
   ]
  },
  {
   "cell_type": "code",
   "execution_count": 6,
   "id": "831107d0",
   "metadata": {},
   "outputs": [
    {
     "name": "stdout",
     "output_type": "stream",
     "text": [
      "Enter temperature in celsius 32\n",
      "89.6\n"
     ]
    }
   ],
   "source": [
    "# Formula >> (0°C × 9/5) + 32 = 32°F\n",
    "# int function to convert string into integer type conversion\n",
    "temp = int(input(\"Enter temperature in celsius \")) \n",
    "temp_to_fahrenheit = (temp * (9/5)) + 32 \n",
    "print(temp_to_fahrenheit)"
   ]
  },
  {
   "cell_type": "markdown",
   "id": "2441407b",
   "metadata": {},
   "source": [
    "# Q3:- Take 2 numbers as input from the user.Write a program to swap the numbers without using any special python syntax."
   ]
  },
  {
   "cell_type": "code",
   "execution_count": 9,
   "id": "849c632c",
   "metadata": {},
   "outputs": [
    {
     "name": "stdout",
     "output_type": "stream",
     "text": [
      "Enter Number 1 1\n",
      "Enter Number 2 2\n",
      "Numbers 1 before swap >> 1, Number 2 before swap >> 2\n",
      "Numbers 1 after swap >> 2, Number 2 after swap >> 1\n"
     ]
    }
   ],
   "source": [
    "num1 = int(input(\"Enter Number 1 \"))\n",
    "num2 = int(input(\"Enter Number 2 \"))\n",
    "print(\"Numbers 1 before swap >> {}, Number 2 before swap >> {}\".format(num1,num2))\n",
    "temp = num1 # temp variable use to store value of num1\n",
    "num1 = num2 # Value of num2 is assigned to num1 var\n",
    "num2 = temp # Value of num1 is assigned to num2 var with help of temp var\n",
    "print(\"Numbers 1 after swap >> {}, Number 2 after swap >> {}\".format(num1,num2))\n"
   ]
  },
  {
   "cell_type": "markdown",
   "id": "f2ca5df2",
   "metadata": {},
   "source": [
    "# Q4:- Write a program to find the euclidean distance between two coordinates.Take both the coordinates from the user as input."
   ]
  },
  {
   "cell_type": "code",
   "execution_count": 14,
   "id": "72784d12",
   "metadata": {},
   "outputs": [
    {
     "name": "stdout",
     "output_type": "stream",
     "text": [
      "Enter x1: 3\n",
      "Enter y1: 4\n",
      "Enter x2: 7\n",
      "Enter y2: 1\n",
      "5.0\n"
     ]
    }
   ],
   "source": [
    "# Euclidean Distance Formula =√[(x2 – x1)2 + (y2 – y1)2]\n",
    "x1 = int(input(\"Enter x1: \"))\n",
    "y1 = int(input(\"Enter y1: \"))\n",
    "x2 = int(input(\"Enter x2: \"))\n",
    "y2 = int(input(\"Enter y2: \"))\n",
    "\n",
    "# Calculate Euclidean Distance\n",
    "Euclidean_Distance =((x2 - x1)**2 + (y2 - y1)**2)**0.5\n",
    "\n",
    "# Print the result\n",
    "print(Euclidean_Distance)"
   ]
  },
  {
   "cell_type": "markdown",
   "id": "161ce19f",
   "metadata": {},
   "source": [
    "# Q5:- Write a program to find the simple interest when the value of principle,rate of interest and time period is provided by the user."
   ]
  },
  {
   "cell_type": "code",
   "execution_count": 17,
   "id": "21b425bd",
   "metadata": {},
   "outputs": [
    {
     "name": "stdout",
     "output_type": "stream",
     "text": [
      "Enter Loan Requirement : 200000\n",
      "Enter ROI in % per annum : 10\n",
      "Enter Loan Tenure (in years) : 1\n",
      "Simple Interest for the given details is: 20000.0\n"
     ]
    }
   ],
   "source": [
    "# S.I. = (P × R × T)/100 where P = Principal, R = Rate of Interest in % per annum, and T = Time/Tenure\n",
    "Pamount = int(input(\"Enter Loan Requirement : \"))\n",
    "ROI = int(input(\"Enter ROI in % per annum : \"))\n",
    "Tenure = int(input(\"Enter Loan Tenure (in years) : \"))\n",
    "\n",
    "Simple_Interest = (Pamount * ROI * Tenure)/100\n",
    "\n",
    "# Print the result\n",
    "print(f\"Simple Interest for the given details is: {Simple_Interest}\")"
   ]
  },
  {
   "cell_type": "markdown",
   "id": "f8804dfc",
   "metadata": {},
   "source": [
    "# Q6:- Write a program that will tell the number of dogs and chicken are there when the user will provide the value of total heads and legs."
   ]
  },
  {
   "cell_type": "code",
   "execution_count": 25,
   "id": "5a8affa1",
   "metadata": {},
   "outputs": [
    {
     "name": "stdout",
     "output_type": "stream",
     "text": [
      "Enter no of heads : 18\n",
      "Enter no of legs : 52\n",
      "No of Chicken : 10.0\n",
      "No of dogs : 8.0\n"
     ]
    }
   ],
   "source": [
    "#For example: Input: heads -> 4 legs -> 12\n",
    "#Output: dogs -> 2 chicken -> 2\n",
    "\n",
    "head = int(input(\"Enter no of heads : \"))\n",
    "leg = int(input(\"Enter no of legs : \"))\n",
    "#c >> chicken\n",
    "#d >> dog\n",
    "#c + d = head\n",
    "#d = head - c\n",
    "#2*c + 4*d = leg\n",
    "#2*c + 4*(head-c) = leg\n",
    "#2*c + 4*head - 4*c = leg\n",
    "#-2*c = leg -4*head\n",
    "c = (-leg/2) - ((-4*head)/2)\n",
    "d = head - c\n",
    "print(\"No of Chicken :\",c)\n",
    "print(\"No of dogs :\",d)"
   ]
  },
  {
   "cell_type": "code",
   "execution_count": 37,
   "id": "e3c87690",
   "metadata": {},
   "outputs": [
    {
     "name": "stdout",
     "output_type": "stream",
     "text": [
      "Enter no of heads : 18\n",
      "Enter no of legs : 52\n",
      "No of Chicken : 10.0\n",
      "No of dogs : 8.0\n"
     ]
    }
   ],
   "source": [
    "import numpy as np\n",
    "#c + d = head\n",
    "#2*c + 4*d =leg\n",
    "head = int(input(\"Enter no of heads : \"))\n",
    "leg = int(input(\"Enter no of legs : \"))\n",
    "arr1 = np.array([[1,1],[2,4]])\n",
    "arr2 = np.array([head,leg])\n",
    "arr3 = np.linalg.solve(arr1,arr2)\n",
    "print(\"No of Chicken :\",arr3[0])\n",
    "print(\"No of dogs :\",arr3[1])"
   ]
  },
  {
   "cell_type": "markdown",
   "id": "e4851fea",
   "metadata": {},
   "source": [
    "# Q7:- Write a program to find the sum of squares of first n natural numbers where n will be provided by the user."
   ]
  },
  {
   "cell_type": "code",
   "execution_count": 45,
   "id": "185985b5",
   "metadata": {},
   "outputs": [
    {
     "name": "stdout",
     "output_type": "stream",
     "text": [
      "Enter your num :5\n",
      "sum of squares of first 5 natural numbers 55\n"
     ]
    }
   ],
   "source": [
    "n = int(input(\"Enter your num :\"))\n",
    "sum1 = 0\n",
    "for i in range(1,n+1):\n",
    "    sum1+=i**2\n",
    "    \n",
    "print(f\"sum of squares of first {n} natural numbers\",sum1)\n",
    "    "
   ]
  },
  {
   "cell_type": "code",
   "execution_count": 46,
   "id": "596c29f5",
   "metadata": {},
   "outputs": [
    {
     "name": "stdout",
     "output_type": "stream",
     "text": [
      "Enter your num :5\n",
      "sum of squares of first 5 natural numbers 55.0\n"
     ]
    }
   ],
   "source": [
    "#n(n+1)(2n+1)/6\n",
    "n = int(input(\"Enter your num :\"))\n",
    "sum1 = (n*(n+1)*(2*n+1))/6\n",
    "print(f\"sum of squares of first {n} natural numbers\",sum1)"
   ]
  },
  {
   "cell_type": "markdown",
   "id": "7ccb2117",
   "metadata": {},
   "source": [
    "# Q8:- Given the first 2 terms of an Arithmetic Series.Find the Nth term of the series. Assume all inputs are provided by the user."
   ]
  },
  {
   "cell_type": "code",
   "execution_count": 50,
   "id": "41935b24",
   "metadata": {},
   "outputs": [
    {
     "name": "stdout",
     "output_type": "stream",
     "text": [
      "enter 1st term : 2\n",
      "enter 2nd term : 4\n",
      "Enter your num : 5\n"
     ]
    },
    {
     "data": {
      "text/plain": [
       "10"
      ]
     },
     "execution_count": 50,
     "metadata": {},
     "output_type": "execute_result"
    }
   ],
   "source": [
    "# an = a+(n-1)*d\n",
    "first_term = int(input(\"enter 1st term : \"))\n",
    "second_term = int(input(\"enter 2nd term : \"))\n",
    "n = int(input(\"Enter your num : \"))\n",
    "d = second_term - first_term\n",
    "an = first_term + ((n-1)*d)\n",
    "an"
   ]
  },
  {
   "cell_type": "markdown",
   "id": "ff8de2ce",
   "metadata": {},
   "source": [
    "# Q9:- Given 2 fractions, find the sum of those 2 fractions.Take the numerator and denominator values of the fractions from the user."
   ]
  },
  {
   "cell_type": "code",
   "execution_count": 64,
   "id": "6ee6d3da",
   "metadata": {},
   "outputs": [
    {
     "name": "stdout",
     "output_type": "stream",
     "text": [
      "Enter deno of first fraction : 1\n",
      "Enter nume of first fraction : 2\n",
      "Enter deno of second fraction : 3\n",
      "Enter nume of first fraction : 4\n",
      "Addition of two fraction is 10/8\n"
     ]
    }
   ],
   "source": [
    "class Fraction:\n",
    "    def __init__(self,d1,n1,d2,n2):\n",
    "        self.d1 = d1\n",
    "        self.d2 = d2\n",
    "        self.n1 = n1\n",
    "        self.n2 = n2\n",
    "        self.calculation()\n",
    "    \n",
    "    \n",
    "    def __str__(self):\n",
    "        return \"Addition of two fraction is {}/{}\".format(self.num,self.deno)\n",
    "    \n",
    "    \n",
    "    def calculation(self):\n",
    "        self.num =  self.d1*self.n2 + self.d2*self.n1\n",
    "        self.deno = self.n1 *self.n2\n",
    "\n",
    "d1 = int(input(\"Enter deno of first fraction : \"))\n",
    "n1 = int(input(\"Enter nume of first fraction : \"))\n",
    "d2 = int(input(\"Enter deno of second fraction : \"))\n",
    "n2 = int(input(\"Enter nume of first fraction : \"))\n",
    "        \n",
    "obj = Fraction(d1,n1,d2,n2)\n",
    "print(obj)"
   ]
  },
  {
   "cell_type": "code",
   "execution_count": 63,
   "id": "79bfe011",
   "metadata": {},
   "outputs": [
    {
     "name": "stdout",
     "output_type": "stream",
     "text": [
      "Addition of two fraction is 47/77\n"
     ]
    }
   ],
   "source": [
    "obj = Fraction(3,7,2,11)\n",
    "print(obj)"
   ]
  },
  {
   "cell_type": "code",
   "execution_count": 65,
   "id": "cacf229e",
   "metadata": {},
   "outputs": [
    {
     "name": "stdout",
     "output_type": "stream",
     "text": [
      "Enter deno of first fraction : 1\n",
      "Enter nume of first fraction : 2\n",
      "Enter deno of second fraction : 3\n",
      "Enter nume of first fraction : 4\n",
      "Addition of two fraction is 10/8\n"
     ]
    }
   ],
   "source": [
    "d1 = int(input(\"Enter deno of first fraction : \"))\n",
    "n1 = int(input(\"Enter nume of first fraction : \"))\n",
    "d2 = int(input(\"Enter deno of second fraction : \"))\n",
    "n2 = int(input(\"Enter nume of first fraction : \"))\n",
    "num =  d1*n2 + d2*n1\n",
    "deno = n1 *n2\n",
    "print(\"Addition of two fraction is {}/{}\".format(num,deno))"
   ]
  },
  {
   "cell_type": "markdown",
   "id": "a05dcb2a",
   "metadata": {},
   "source": [
    "### Q10:- Given the height, width and breadth of a milk tank, you have to find out how many glasses of milk can be obtained? Assume all the inputs are provided by the user.\n",
    "\n",
    "### Input:\n",
    "### Dimensions of the milk tank\n",
    "### H = 20cm, L = 20cm, B = 20cm\n",
    "\n",
    "### Dimensions of the glass\n",
    "### h = 3cm, r = 1cm"
   ]
  },
  {
   "cell_type": "code",
   "execution_count": 67,
   "id": "6224a62f",
   "metadata": {},
   "outputs": [
    {
     "name": "stdout",
     "output_type": "stream",
     "text": [
      "Enter height of tank : 20\n",
      "Enter length of tank : 20\n",
      "Enter bridth of tank : 20\n",
      "Enter height of cylinder : 3\n",
      "Enter radius of cylinder : 1\n",
      "Glasses of milk obtained from tank :  848.8263631567752\n"
     ]
    }
   ],
   "source": [
    "import math\n",
    "\n",
    "h = int(input(\"Enter height of tank : \"))\n",
    "l = int(input(\"Enter length of tank : \"))\n",
    "b = int(input(\"Enter bridth of tank : \"))\n",
    "\n",
    "h1 = int(input(\"Enter height of cylinder : \"))\n",
    "r1 = int(input(\"Enter radius of cylinder : \"))\n",
    "\n",
    "# Volume of tank\n",
    "vol1 = h*b*l\n",
    "\n",
    "# Volume of glass\n",
    "vol2 = math.pi*r1**2*h1\n",
    "\n",
    "# No of glasses\n",
    "print(\"Glasses of milk obtained from tank : \",(vol1/vol2))"
   ]
  },
  {
   "cell_type": "code",
   "execution_count": 69,
   "id": "80c5727a",
   "metadata": {},
   "outputs": [
    {
     "name": "stdout",
     "output_type": "stream",
     "text": [
      "Enter height of tank : 10\n",
      "Enter length of tank : 19\n",
      "Enter bridth of tank : 10\n",
      "Enter height of cylinder : 5\n",
      "Enter radius of cylinder : 2\n",
      "Glasses of milk obtained from tank :  30\n"
     ]
    }
   ],
   "source": [
    "import math\n",
    "\n",
    "h = int(input(\"Enter height of tank : \"))\n",
    "l = int(input(\"Enter length of tank : \"))\n",
    "b = int(input(\"Enter bridth of tank : \"))\n",
    "\n",
    "h1 = int(input(\"Enter height of cylinder : \"))\n",
    "r1 = int(input(\"Enter radius of cylinder : \"))\n",
    "\n",
    "# Volume of tank\n",
    "vol1 = h*b*l\n",
    "\n",
    "# Volume of glass\n",
    "vol2 = math.pi*r1**2*h1\n",
    "\n",
    "# No of glasses\n",
    "print(\"Glasses of milk obtained from tank : \",math.floor(vol1/vol2))"
   ]
  }
 ],
 "metadata": {
  "kernelspec": {
   "display_name": "Python 3 (ipykernel)",
   "language": "python",
   "name": "python3"
  },
  "language_info": {
   "codemirror_mode": {
    "name": "ipython",
    "version": 3
   },
   "file_extension": ".py",
   "mimetype": "text/x-python",
   "name": "python",
   "nbconvert_exporter": "python",
   "pygments_lexer": "ipython3",
   "version": "3.10.6"
  }
 },
 "nbformat": 4,
 "nbformat_minor": 5
}
