{
 "cells": [
  {
   "cell_type": "code",
   "execution_count": 1,
   "id": "99774e1a-ba0e-4983-bf1a-75a8ea6cb677",
   "metadata": {},
   "outputs": [],
   "source": [
    "import pandas as pd\n",
    "import numpy as np\n",
    "import seaborn as sns\n",
    "import matplotlib.pyplot as plt"
   ]
  },
  {
   "cell_type": "markdown",
   "id": "6ddb6a9c-9e2f-4e96-a08e-9799ea7aadba",
   "metadata": {},
   "source": [
    "### 1. A company claims that their email marketing campaign has a 15% click-through rate. If you randomly select 100 people to receive the email, what is the probability that exactly 20 will click through to the website?\n",
    "\n",
    "$$\n",
    "P(X = k) = \\binom{n}{k} p^k (1 - p)^{n - k}\n",
    "$$"
   ]
  },
  {
   "cell_type": "code",
   "execution_count": 5,
   "id": "4a3789d8-c857-4f1a-b837-38d54eef3371",
   "metadata": {},
   "outputs": [
    {
     "name": "stdout",
     "output_type": "stream",
     "text": [
      "0.04022449066141772\n",
      "0.04022449066141756\n"
     ]
    }
   ],
   "source": [
    "from scipy.stats import binom\n",
    "from scipy.special import comb\n",
    "n = 100\n",
    "x = 20\n",
    "p = 0.15\n",
    "\n",
    "prob = binom.pmf(x,n,p)\n",
    "print(prob)\n",
    "\n",
    "# P(X=20) = (100 choose 20) * 0.15^20 * 0.85^80\n",
    "result = comb(n, x, exact=True) * ((p)**x) * (1-p)**(n-x)\n",
    "print(result)"
   ]
  },
  {
   "cell_type": "markdown",
   "id": "5bed0a75-b5c0-42cc-8967-48ff2a297cb1",
   "metadata": {},
   "source": [
    "### 2. A researcher is investigating whether a new medication improves patient outcomes. The medication has a success rate of 75%. If the researcher enrolls 50 patients in the study, what is the probability that fewer than 35 will have a positive outcome?"
   ]
  },
  {
   "cell_type": "code",
   "execution_count": 18,
   "id": "acaba159-1c70-4ac0-bf0a-2f333be552b9",
   "metadata": {},
   "outputs": [
    {
     "name": "stdout",
     "output_type": "stream",
     "text": [
      "0.2519188554772399\n",
      "0.2519188554772398\n"
     ]
    }
   ],
   "source": [
    "p = 0.75\n",
    "n = 50\n",
    "x = 35\n",
    "prob = binom.cdf(x,n,p)\n",
    "print(prob)\n",
    "result = 0\n",
    "for i in range(x+1):\n",
    "    result+= comb(n, i, exact=True) * ((p)**i) * (1-p)**(n-i)\n",
    "print(result)"
   ]
  },
  {
   "cell_type": "markdown",
   "id": "9cd12eb7-ee55-460b-957d-8fcefbf057bc",
   "metadata": {},
   "source": [
    "### 3. A website offers a premium subscription service with a 20% sign-up rate. If you randomly select 500 visitors to the website, what is the probability that between 90 and 110 will sign up for the premium service?"
   ]
  },
  {
   "cell_type": "code",
   "execution_count": 27,
   "id": "9081f6fb-fbfe-430e-aaa1-aaec4e21be6c",
   "metadata": {},
   "outputs": [
    {
     "name": "stdout",
     "output_type": "stream",
     "text": [
      "0.7597481607851779\n"
     ]
    }
   ],
   "source": [
    "n = 500\n",
    "x1 = 90\n",
    "x2 = 110\n",
    "p = 0.20\n",
    "\n",
    "prob1 = binom.cdf(x1-1,n,p)\n",
    "prob2 = binom.cdf(x2,n,p)\n",
    "prob2 - prob1\n",
    "\n",
    "def pxeqlessthank(x, n, p):\n",
    "    result=0\n",
    "    for i in range(x+1):\n",
    "        result += comb(n, i, exact=True) * ((p)**i) * (1-p)**(n-i)\n",
    "    return result\n",
    "\n",
    "# P(k1 ≤ X ≤ k2) = P(X ≤ k2) - P(X < k1) = F(k2) - F(k1-1)\n",
    "print(pxeqlessthank(x2, n, p)-pxeqlessthank(x1-1, n, p))"
   ]
  },
  {
   "cell_type": "markdown",
   "id": "3e16883c-56d4-49e0-9c5a-7c31786ae55c",
   "metadata": {},
   "source": [
    "### 4. A school district is investigating the effectiveness of a new reading program. The program has a success rate of 70%. If the district enrolls 200 students in the program, what is the probability that more than 140 will show significant improvement in reading skills?"
   ]
  },
  {
   "cell_type": "code",
   "execution_count": 39,
   "id": "4aee2470-283a-4691-9b11-9f3e8a75e5aa",
   "metadata": {},
   "outputs": [
    {
     "name": "stdout",
     "output_type": "stream",
     "text": [
      "probability that more than 140 will show significant improvement in reading skills is  0.4733474593659296\n",
      "probability that more than 140 will show significant improvement in reading skills is  0.47334745936592904\n"
     ]
    }
   ],
   "source": [
    "p = 0.70\n",
    "n = 200\n",
    "x = 140\n",
    "\n",
    "prob = 1- binom.cdf(x,n,p)\n",
    "print('probability that more than 140 will show significant improvement in reading skills is ',prob)\n",
    "\n",
    "def pxequalorlessthanx(x,n,p):\n",
    "    result = 0\n",
    "    for i in range(x+1):\n",
    "        result+= comb(n,i,exact=True)*(p**i)*(1-p)**(n-i)\n",
    "    return result\n",
    "print('probability that more than 140 will show significant improvement in reading skills is ',1 - pxequalorlessthanx(x,n,p))"
   ]
  },
  {
   "cell_type": "markdown",
   "id": "551aa12f-59c3-47af-bbb6-26e926e657d2",
   "metadata": {},
   "source": [
    "### 5. A factory produces electronic components with a defect rate of 5%. If a shipment of 200 components is sent out, what is the probability that fewer than 10 will be defective?"
   ]
  },
  {
   "cell_type": "code",
   "execution_count": 43,
   "id": "5fee9f21-4032-4f55-a36a-600033ba40c1",
   "metadata": {},
   "outputs": [
    {
     "data": {
      "text/plain": [
       "0.4547098086808191"
      ]
     },
     "execution_count": 43,
     "metadata": {},
     "output_type": "execute_result"
    }
   ],
   "source": [
    "p = 0.05\n",
    "n = 200\n",
    "x = 9 \n",
    "\n",
    "binom.cdf(x,n,p)"
   ]
  },
  {
   "cell_type": "markdown",
   "id": "4c232312-784a-4a9a-ba5e-1bbf5864e035",
   "metadata": {},
   "source": [
    "### Q-6. A survey shows that 70% of people prefer chocolate ice cream over vanilla ice cream. If you randomly survey one person, what is the probability that they prefer vanilla ice cream?"
   ]
  },
  {
   "cell_type": "code",
   "execution_count": 44,
   "id": "4bcbd006-08fa-484d-bb70-78511f092e4b",
   "metadata": {},
   "outputs": [
    {
     "name": "stdout",
     "output_type": "stream",
     "text": [
      "probability that they prefer vanilla ice cream is 0.30000000000000004\n"
     ]
    }
   ],
   "source": [
    "#in this there is value of n is 1 which represent bernoulli distribution\n",
    "# probability of success for chocolate ice creame is 0.7 is probab of failure is 0.3 \n",
    "#  probability of success for vanilla ice creame is 0.3 is probab of failure is 0.7\n",
    "p = 0.7\n",
    "print(\"probability that they prefer vanilla ice cream is\",(1-p))"
   ]
  },
  {
   "cell_type": "markdown",
   "id": "fa7a5795-f75f-48b0-abae-001ab9499bbc",
   "metadata": {},
   "source": [
    "### 7. A software company releases a new product with a bug rate of 2%. If 10,000 copies of the product are sold, what is the probability that at least 250 will have a bug?"
   ]
  },
  {
   "cell_type": "code",
   "execution_count": 48,
   "id": "e729e5e4-569b-40c5-afb6-9df9cec96eae",
   "metadata": {},
   "outputs": [
    {
     "name": "stdout",
     "output_type": "stream",
     "text": [
      "The probability that at least 250 copies have a bug is 0.0003\n"
     ]
    }
   ],
   "source": [
    "p = 0.02 # probability of single copy having bug\n",
    "n = 10000 # num copies sold\n",
    "x = 250 \n",
    "\n",
    "\n",
    "# Calculate the probability using the CDF\n",
    "prob = 1 - binom.cdf(x-1, n, p)\n",
    "\n",
    "print(f\"The probability that at least {x} copies have a bug is {prob:.4f}\")"
   ]
  },
  {
   "cell_type": "markdown",
   "id": "ad747d23-e412-4efc-b80a-51f80ad13d18",
   "metadata": {},
   "source": [
    "### 8. According to data from the National Center for Health Statistics (NCHS), the average height for adult men aged 20 years and over in the United States is approximately 69.2 inches with a standard deviation of approximately 2.9 inches. If you randomly select a sample of 50 adult men aged 20 years and over, what is the probability that the sample mean height is greater than 70 inches?"
   ]
  },
  {
   "cell_type": "code",
   "execution_count": 55,
   "id": "f8dbd19f-5657-4336-8f6b-cf89890180dc",
   "metadata": {},
   "outputs": [
    {
     "data": {
      "text/plain": [
       "0.025549978630102443"
      ]
     },
     "execution_count": 55,
     "metadata": {},
     "output_type": "execute_result"
    }
   ],
   "source": [
    "# Lets understand this problem \n",
    "# We have population mean height 69.2 and population std 2.9 also we selected sample of 50 people want to find probab\n",
    "# of sample mean height is greater than 70 inches \n",
    "from scipy.stats import norm\n",
    "\n",
    "mean = 69.2\n",
    "std = 2.9\n",
    "n = 50\n",
    "x = 70\n",
    "sample_mean = 69.2\n",
    "sample_std = std/(n**0.5)\n",
    "# now to find the probability that sample mean height > 70 \n",
    "z = (x - sample_mean)/sample_std # this will calculate z score value for x = 70 we calculate this because our distribution is normal distribution\n",
    "probab = norm.cdf(z) # probability of sample mean height less than or equal to 70 is this but we want greater than hence\n",
    "1- probab"
   ]
  },
  {
   "cell_type": "markdown",
   "id": "d002c426-c10c-435e-8d21-584d0c4a3dd9",
   "metadata": {},
   "source": [
    "### 9. A company claims that the average salary of its employees is 75,000 with a standard deviation of 10,000. If you randomly select 100 employees, what is the probability that the sample mean salary is less than 72,500?"
   ]
  },
  {
   "cell_type": "code",
   "execution_count": 59,
   "id": "2f0fb2ac-6465-4589-af34-0d7905ba3a16",
   "metadata": {},
   "outputs": [
    {
     "data": {
      "text/plain": [
       "0.006209665325776132"
      ]
     },
     "execution_count": 59,
     "metadata": {},
     "output_type": "execute_result"
    }
   ],
   "source": [
    "mean = 75000\n",
    "std = 10000\n",
    "n = 100\n",
    "x = 72500\n",
    "sample_mean = mean\n",
    "sample_std = std/(n**0.5)\n",
    "# now to find the probability that sample mean salary < 72500\n",
    "z = (x - sample_mean)/sample_std # this will calculate z score value for x = 72500 we calculate this because our distribution is normal distribution\n",
    "probab = norm.cdf(z) # probability of sample mean salary less than 72500 \n",
    "probab"
   ]
  },
  {
   "cell_type": "markdown",
   "id": "e427d30a-92a7-47cc-a4d8-a06ab84cab4d",
   "metadata": {},
   "source": [
    "### 10. A restaurant claims that the average wait time for a table is 15 minutes with a standard deviation of 3 minutes. If you randomly survey 50 customers, what is the probability that the sample mean wait time is greater than 16 minutes?"
   ]
  },
  {
   "cell_type": "code",
   "execution_count": 62,
   "id": "f335c83e-3a6f-4250-9b36-65615c273728",
   "metadata": {},
   "outputs": [
    {
     "data": {
      "text/plain": [
       "0.009211062727049524"
      ]
     },
     "execution_count": 62,
     "metadata": {},
     "output_type": "execute_result"
    }
   ],
   "source": [
    "mean = 15\n",
    "std = 3 \n",
    "n = 50\n",
    "x = 16\n",
    "sample_mean = mean\n",
    "sample_std = std/(n**0.5)\n",
    "z = (x - sample_mean)/sample_std \n",
    "probab = 1- norm.cdf(z) \n",
    "probab"
   ]
  },
  {
   "cell_type": "markdown",
   "id": "802ee36e-91bc-4d4d-bdef-964f03414481",
   "metadata": {},
   "source": [
    "### `Q-11`: DataSet Link: https://www.kaggle.com/datasets/ruchi798/data-science-job-salaries\n",
    "\n",
    "* What is the average and standard deviation for the salary in our data set? Show the distribution of the salary (Histogram and kde both).\n",
    "* Now verify the dataset mean and std from using central limit theorem using following sample and sample size:\n",
    "\n",
    "    * i. 200 samples of size 30\n",
    "\n",
    "    * ii. 100 samples of size 50\n",
    "\n",
    "* Plot samples means distribution and show horizontal line for both mean value: Dataset mean value and means of sample mean."
   ]
  },
  {
   "cell_type": "code",
   "execution_count": 67,
   "id": "8aa672bd-2b65-48a9-be47-79fccb70f68a",
   "metadata": {},
   "outputs": [
    {
     "data": {
      "text/html": [
       "<div>\n",
       "<style scoped>\n",
       "    .dataframe tbody tr th:only-of-type {\n",
       "        vertical-align: middle;\n",
       "    }\n",
       "\n",
       "    .dataframe tbody tr th {\n",
       "        vertical-align: top;\n",
       "    }\n",
       "\n",
       "    .dataframe thead th {\n",
       "        text-align: right;\n",
       "    }\n",
       "</style>\n",
       "<table border=\"1\" class=\"dataframe\">\n",
       "  <thead>\n",
       "    <tr style=\"text-align: right;\">\n",
       "      <th></th>\n",
       "      <th>work_year</th>\n",
       "      <th>experience_level</th>\n",
       "      <th>employment_type</th>\n",
       "      <th>job_title</th>\n",
       "      <th>salary</th>\n",
       "      <th>salary_currency</th>\n",
       "      <th>salary_in_usd</th>\n",
       "      <th>employee_residence</th>\n",
       "      <th>remote_ratio</th>\n",
       "      <th>company_location</th>\n",
       "      <th>company_size</th>\n",
       "    </tr>\n",
       "  </thead>\n",
       "  <tbody>\n",
       "    <tr>\n",
       "      <th>0</th>\n",
       "      <td>2020</td>\n",
       "      <td>MI</td>\n",
       "      <td>FT</td>\n",
       "      <td>Data Scientist</td>\n",
       "      <td>70000</td>\n",
       "      <td>EUR</td>\n",
       "      <td>79833</td>\n",
       "      <td>DE</td>\n",
       "      <td>0</td>\n",
       "      <td>DE</td>\n",
       "      <td>L</td>\n",
       "    </tr>\n",
       "    <tr>\n",
       "      <th>1</th>\n",
       "      <td>2020</td>\n",
       "      <td>SE</td>\n",
       "      <td>FT</td>\n",
       "      <td>Machine Learning Scientist</td>\n",
       "      <td>260000</td>\n",
       "      <td>USD</td>\n",
       "      <td>260000</td>\n",
       "      <td>JP</td>\n",
       "      <td>0</td>\n",
       "      <td>JP</td>\n",
       "      <td>S</td>\n",
       "    </tr>\n",
       "    <tr>\n",
       "      <th>2</th>\n",
       "      <td>2020</td>\n",
       "      <td>SE</td>\n",
       "      <td>FT</td>\n",
       "      <td>Big Data Engineer</td>\n",
       "      <td>85000</td>\n",
       "      <td>GBP</td>\n",
       "      <td>109024</td>\n",
       "      <td>GB</td>\n",
       "      <td>50</td>\n",
       "      <td>GB</td>\n",
       "      <td>M</td>\n",
       "    </tr>\n",
       "    <tr>\n",
       "      <th>3</th>\n",
       "      <td>2020</td>\n",
       "      <td>MI</td>\n",
       "      <td>FT</td>\n",
       "      <td>Product Data Analyst</td>\n",
       "      <td>20000</td>\n",
       "      <td>USD</td>\n",
       "      <td>20000</td>\n",
       "      <td>HN</td>\n",
       "      <td>0</td>\n",
       "      <td>HN</td>\n",
       "      <td>S</td>\n",
       "    </tr>\n",
       "    <tr>\n",
       "      <th>4</th>\n",
       "      <td>2020</td>\n",
       "      <td>SE</td>\n",
       "      <td>FT</td>\n",
       "      <td>Machine Learning Engineer</td>\n",
       "      <td>150000</td>\n",
       "      <td>USD</td>\n",
       "      <td>150000</td>\n",
       "      <td>US</td>\n",
       "      <td>50</td>\n",
       "      <td>US</td>\n",
       "      <td>L</td>\n",
       "    </tr>\n",
       "  </tbody>\n",
       "</table>\n",
       "</div>"
      ],
      "text/plain": [
       "   work_year experience_level employment_type                   job_title  \\\n",
       "0       2020               MI              FT              Data Scientist   \n",
       "1       2020               SE              FT  Machine Learning Scientist   \n",
       "2       2020               SE              FT           Big Data Engineer   \n",
       "3       2020               MI              FT        Product Data Analyst   \n",
       "4       2020               SE              FT   Machine Learning Engineer   \n",
       "\n",
       "   salary salary_currency  salary_in_usd employee_residence  remote_ratio  \\\n",
       "0   70000             EUR          79833                 DE             0   \n",
       "1  260000             USD         260000                 JP             0   \n",
       "2   85000             GBP         109024                 GB            50   \n",
       "3   20000             USD          20000                 HN             0   \n",
       "4  150000             USD         150000                 US            50   \n",
       "\n",
       "  company_location company_size  \n",
       "0               DE            L  \n",
       "1               JP            S  \n",
       "2               GB            M  \n",
       "3               HN            S  \n",
       "4               US            L  "
      ]
     },
     "execution_count": 67,
     "metadata": {},
     "output_type": "execute_result"
    }
   ],
   "source": [
    "df = pd.read_csv(r\"D:\\Jupyter\\ds_salaries.csv\", index_col = [0])\n",
    "df.head()"
   ]
  },
  {
   "cell_type": "code",
   "execution_count": 70,
   "id": "6dc3b980-8988-4ed9-b7dc-874fd85b1b4f",
   "metadata": {},
   "outputs": [
    {
     "name": "stdout",
     "output_type": "stream",
     "text": [
      "Mean salary of population 112297.86985172982\n",
      "Std of population 70957.25941139569\n"
     ]
    }
   ],
   "source": [
    "print(\"Mean salary of population\",df['salary_in_usd'].mean())\n",
    "print(\"Std of population\",df['salary_in_usd'].std())"
   ]
  },
  {
   "cell_type": "code",
   "execution_count": 71,
   "id": "aae2dd3b-31fe-4973-8223-0a3bc0c91497",
   "metadata": {},
   "outputs": [
    {
     "data": {
      "text/plain": [
       "<AxesSubplot: xlabel='salary_in_usd', ylabel='Density'>"
      ]
     },
     "execution_count": 71,
     "metadata": {},
     "output_type": "execute_result"
    },
    {
     "data": {
      "image/png": "[encoded data removed]",
      "text/plain": [
       "<Figure size 432x288 with 1 Axes>"
      ]
     },
     "metadata": {
      "needs_background": "light"
     },
     "output_type": "display_data"
    }
   ],
   "source": [
    "sns.kdeplot(data=df,x='salary_in_usd')"
   ]
  },
  {
   "cell_type": "code",
   "execution_count": 72,
   "id": "1d0a83df-fe25-443f-82fe-1e0accd67b69",
   "metadata": {},
   "outputs": [
    {
     "data": {
      "text/plain": [
       "<AxesSubplot: xlabel='salary_in_usd', ylabel='Count'>"
      ]
     },
     "execution_count": 72,
     "metadata": {},
     "output_type": "execute_result"
    },
    {
     "data": {
      "image/png": "[encoded data removed]",
      "text/plain": [
       "<Figure size 432x288 with 1 Axes>"
      ]
     },
     "metadata": {
      "needs_background": "light"
     },
     "output_type": "display_data"
    }
   ],
   "source": [
    "sns.histplot(data=df,x='salary_in_usd')"
   ]
  },
  {
   "cell_type": "markdown",
   "id": "2e140144-99a4-4514-ad37-23c5992dc03c",
   "metadata": {},
   "source": [
    "### Now verify the dataset mean and std from using central limit theorem using following sample and sample size:\n",
    "#### i. 200 samples of size 30\n",
    "#### ii. 100 samples of size 50"
   ]
  },
  {
   "cell_type": "code",
   "execution_count": 118,
   "id": "9d1116d2-c851-4989-8392-cc2b458b83e2",
   "metadata": {},
   "outputs": [],
   "source": [
    "sample = []\n",
    "for i in range(200):\n",
    "    sample.append(df['salary_in_usd'].sample(30).values.tolist())\n",
    "sample = np.array(sample).mean(axis=1)"
   ]
  },
  {
   "cell_type": "code",
   "execution_count": 119,
   "id": "8c0d63fd-d789-4562-9030-ee49810631ca",
   "metadata": {},
   "outputs": [
    {
     "name": "stdout",
     "output_type": "stream",
     "text": [
      "Mean salary of population 112297.86985172982\n",
      "Mean salary of sample with 200 samples of size 30 is  111550.27516666666\n",
      "Std of population 12954.963866122387\n",
      "Std of sample with 200 samples of size 30 is  11857.41391659759\n"
     ]
    }
   ],
   "source": [
    "print(\"Mean salary of population\",df['salary_in_usd'].mean())\n",
    "print(\"Mean salary of sample with 200 samples of size 30 is \",sample.mean())\n",
    "print(\"Std of population\",df['salary_in_usd'].std()/np.sqrt(30))\n",
    "print(\"Std of sample with 200 samples of size 30 is \",sample.std())"
   ]
  },
  {
   "cell_type": "code",
   "execution_count": 120,
   "id": "197f6553-ca92-4489-af56-3aaa99211756",
   "metadata": {},
   "outputs": [
    {
     "data": {
      "image/png": "[encoded data removed]",
      "text/plain": [
       "<Figure size 432x288 with 1 Axes>"
      ]
     },
     "metadata": {
      "needs_background": "light"
     },
     "output_type": "display_data"
    }
   ],
   "source": [
    "plt.hist(sample,bins=25)\n",
    "plt.title(f\"Distribution of Mean of Salaries ({200} Samples of {30}).\")\n",
    "plt.xlabel(\"Salary\")\n",
    "plt.ylabel(\"Frequency\")\n",
    "plt.axvline(x = np.mean(sample), label = 'Sample Mean', color = 'green')\n",
    "plt.axvline(x = df[\"salary_in_usd\"].mean(), label = 'Population Mean', color = 'red')\n",
    "plt.legend(loc = \"upper right\")\n",
    "plt.show()"
   ]
  },
  {
   "cell_type": "code",
   "execution_count": 121,
   "id": "4b8daa00-b5d8-4453-bf0d-9e70e22b03ce",
   "metadata": {},
   "outputs": [],
   "source": [
    "sample = []\n",
    "for i in range(100):\n",
    "    sample.append(df['salary_in_usd'].sample(50).values.tolist())\n",
    "sample = np.array(sample).mean(axis=1)"
   ]
  },
  {
   "cell_type": "code",
   "execution_count": 122,
   "id": "30e350f2-3719-4c9d-978c-f7055418df6f",
   "metadata": {},
   "outputs": [
    {
     "name": "stdout",
     "output_type": "stream",
     "text": [
      "Mean salary of population 112297.86985172982\n",
      "Mean salary of sample with 200 samples of size 30 is  112391.04739999998\n",
      "Std of population 12954.963866122387\n",
      "Std of sample with 200 samples of size 30 is  9277.092503251934\n"
     ]
    }
   ],
   "source": [
    "print(\"Mean salary of population\",df['salary_in_usd'].mean())\n",
    "print(\"Mean salary of sample with 200 samples of size 30 is \",sample.mean())\n",
    "print(\"Std of population\",df['salary_in_usd'].std()/np.sqrt(30))\n",
    "print(\"Std of sample with 200 samples of size 30 is \",sample.std())"
   ]
  },
  {
   "cell_type": "code",
   "execution_count": 123,
   "id": "a7db7c9a-de35-4469-9ff2-a456f522f551",
   "metadata": {},
   "outputs": [
    {
     "data": {
      "image/png": "[encoded data removed]",
      "text/plain": [
       "<Figure size 432x288 with 1 Axes>"
      ]
     },
     "metadata": {
      "needs_background": "light"
     },
     "output_type": "display_data"
    }
   ],
   "source": [
    "plt.hist(sample,bins=25)\n",
    "plt.title(f\"Distribution of Mean of Salaries ({100} Samples of {50}).\")\n",
    "plt.xlabel(\"Salary\")\n",
    "plt.ylabel(\"Frequency\")\n",
    "plt.axvline(x = np.mean(sample), label = 'Sample Mean', color = 'green')\n",
    "plt.axvline(x = df[\"salary_in_usd\"].mean(), label = 'Population Mean', color = 'red')\n",
    "plt.legend(loc = \"upper right\")\n",
    "plt.show()"
   ]
  }
 ],
 "metadata": {
  "kernelspec": {
   "display_name": "Python 3 (ipykernel)",
   "language": "python",
   "name": "python3"
  },
  "language_info": {
   "codemirror_mode": {
    "name": "ipython",
    "version": 3
   },
   "file_extension": ".py",
   "mimetype": "text/x-python",
   "name": "python",
   "nbconvert_exporter": "python",
   "pygments_lexer": "ipython3",
   "version": "3.10.6"
  }
 },
 "nbformat": 4,
 "nbformat_minor": 5
}
