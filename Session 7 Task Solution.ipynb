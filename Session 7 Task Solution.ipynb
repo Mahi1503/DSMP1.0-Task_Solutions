{
 "cells": [
  {
   "cell_type": "raw",
   "id": "215d951f-2ef6-4c8a-bef0-4713fe5f3854",
   "metadata": {},
   "source": [
    "Q-1: Rectangle Class\n",
    "Write a Rectangle class in Python language, allowing you to build a rectangle with length and width attributes.\n",
    "\n",
    "Create a Perimeter() method to calculate the perimeter of the rectangle and a Area() method to calculate the area of ​​the rectangle.\n",
    "\n",
    "Create a method display() that display the length, width, perimeter and area of an object created using an instantiation on rectangle class."
   ]
  },
  {
   "cell_type": "raw",
   "id": "1356504e-f874-43da-a541-23637ddb1018",
   "metadata": {},
   "source": [
    "Eg. After making above classes and methods, on executing below code:-\n",
    "\n",
    "my_rectangle = Rectangle(3 , 4)\n",
    "my_rectangle.display()\n",
    "Output:\n",
    "\n",
    "The length of rectangle is:  3\n",
    "The width of rectangle is:  4\n",
    "The perimeter of rectangle is:  14\n",
    "The area of rectangle is:  12"
   ]
  },
  {
   "cell_type": "code",
   "execution_count": 82,
   "id": "bc01b261-9da6-4c6a-8fbc-a421d4d13e04",
   "metadata": {},
   "outputs": [],
   "source": [
    "class Rectangle:\n",
    "\n",
    "    def __init__(self,length,width):\n",
    "        self.__length = length\n",
    "        self.__width = width\n",
    "\n",
    "    def display(self):\n",
    "        print(\"The length of rectangle is : {}\".format(self.__length))\n",
    "        print(\"The width o rectangle is : {}\".format(self.__width))\n",
    "        print(self.__perimeter())\n",
    "        print(self.__area())\n",
    "        \n",
    "    def __perimeter(self):\n",
    "        perimeter = (2*self.__length) + (2*self.__width)\n",
    "        self.__perimeter = perimeter\n",
    "        return \"The perimeter of rectangle is : {}\".format(self.__perimeter)\n",
    "\n",
    "    def __area(self):\n",
    "        area = self.__length*self.__width\n",
    "        self.__area = area\n",
    "        return \"The area of rectangle is : {}\".format(self.__area)"
   ]
  },
  {
   "cell_type": "code",
   "execution_count": 83,
   "id": "8d8b00e1-0790-4591-962c-3bb72a4b8fe4",
   "metadata": {},
   "outputs": [
    {
     "name": "stdout",
     "output_type": "stream",
     "text": [
      "The length of rectangle is : 3\n",
      "The width o rectangle is : 4\n",
      "The perimeter of rectangle is : 14\n",
      "The area of rectangle is : 12\n"
     ]
    }
   ],
   "source": [
    "my_ractangle = Rectangle(3,4)\n",
    "my_ractangle.display()"
   ]
  },
  {
   "cell_type": "raw",
   "id": "7ac086ce-1c00-45b6-a06b-828765d3ee5b",
   "metadata": {},
   "source": [
    "Q-2: Bank Class\n",
    "Create a Python class called BankAccount which represents a bank account, having as attributes: accountNumber (numeric type), name (name of the account owner as string type), balance.\n",
    "Create a constructor with parameters: accountNumber, name, balance.\n",
    "Create a Deposit() method which manages the deposit actions.\n",
    "Create a Withdrawal() method which manages withdrawals actions.\n",
    "Create an bankFees() method to apply the bank fees with a percentage of 5% of the balance account.\n",
    "Create a display() method to display account details. Give the complete code for the BankAccount class."
   ]
  },
  {
   "cell_type": "raw",
   "id": "c72c426f-3822-442a-9bfa-7eddfc372de8",
   "metadata": {},
   "source": [
    "Eg. After making above classes and methods, on executing below code:-\n",
    "\n",
    "newAccount = BankAccount(2178514584, \"Mandy\" , 2800)\n",
    "\n",
    "newAccount.Withdrawal(700)\n",
    "\n",
    "newAccount.Deposit(1000)\n",
    "\n",
    "newAccount.display()\n",
    "Output:\n",
    "\n",
    "Account Number :  2178514584\n",
    "Account Name :  Mandy\n",
    "Account Balance :  3100 ₹"
   ]
  },
  {
   "cell_type": "code",
   "execution_count": 91,
   "id": "3a1b65bf-5345-4941-b291-7017d7692ddf",
   "metadata": {},
   "outputs": [],
   "source": [
    "class BankAccount:\n",
    "\n",
    "    def __init__(self,acc_no,name,balance):\n",
    "        self.__acc_no = acc_no\n",
    "        self.__name = name\n",
    "        self.__balance = balance\n",
    "\n",
    "    def deposit(self):\n",
    "        amt = int(input(\"Enter amount to deposite :\"))\n",
    "        self.__balance = self.__balance + amt\n",
    "        print(\"Amount deposited successfully\")\n",
    "        \n",
    "\n",
    "    def withdraw(self):\n",
    "        amt = int(input(\"Enter amount to deposite :\"))\n",
    "        if self.__balance > amt:\n",
    "            self.__bankfees()\n",
    "            self.__balance = self.__balance - amt\n",
    "            print(\"Amount Withdrawn successfully\")\n",
    "        else:\n",
    "            print(\"insufficient balance\")\n",
    "\n",
    "    def __bankfees(self):\n",
    "        self.balance = self.balance - self.balance*0.05\n",
    "        \n",
    "\n",
    "    def dispaly(self):\n",
    "        print(\"Account Number : {}\".format(self.__acc_no))\n",
    "        print(\"Account Holder Name : {}\".format(self.__name))\n",
    "        print(\"Acccount Balance : {} ₹\".format(self.__balance))"
   ]
  },
  {
   "cell_type": "code",
   "execution_count": 92,
   "id": "38289e74-b4cd-4941-ab4f-975c00f29c29",
   "metadata": {},
   "outputs": [
    {
     "name": "stdout",
     "output_type": "stream",
     "text": [
      "Account Number : 12345678\n",
      "Account Holder Name : Mahesh Dhumal\n",
      "Acccount Balance : 500000 ₹\n"
     ]
    }
   ],
   "source": [
    "account = BankAccount(12345678,\"Mahesh Dhumal\", 500000)\n",
    "account.dispaly()"
   ]
  },
  {
   "cell_type": "code",
   "execution_count": 93,
   "id": "bedfe852-debb-45fb-933b-1c4609b5c490",
   "metadata": {},
   "outputs": [
    {
     "name": "stdin",
     "output_type": "stream",
     "text": [
      "Enter amount to deposite : 100000\n"
     ]
    },
    {
     "name": "stdout",
     "output_type": "stream",
     "text": [
      "Amount deposited successfully\n"
     ]
    }
   ],
   "source": [
    "account.deposit()"
   ]
  },
  {
   "cell_type": "code",
   "execution_count": 94,
   "id": "339c64ae-5c9c-4533-91ca-e66fea74c5cc",
   "metadata": {},
   "outputs": [
    {
     "name": "stdout",
     "output_type": "stream",
     "text": [
      "Account Number : 12345678\n",
      "Account Holder Name : Mahesh Dhumal\n",
      "Acccount Balance : 600000 ₹\n"
     ]
    }
   ],
   "source": [
    "account.dispaly()"
   ]
  },
  {
   "cell_type": "raw",
   "id": "db912f1d-f7e2-44ce-b6bf-e76381e20b8a",
   "metadata": {},
   "source": [
    "Q-3:Computation class\n",
    "Create a Computation class with a default constructor (without parameters) allowing to perform various calculations on integers numbers.\n",
    "\n",
    "Create a method called Factorial() which allows to calculate the factorial of an integer n. Integer n as parameter for this method\n",
    "\n",
    "Create a method called naturalSum() allowing to calculate the sum of the first n integers 1 + 2 + 3 + .. + n. Integer n as parameter for this method.\n",
    "\n",
    "Create a method called testPrime() in the Calculation class to test the primality of a given integer n, n is Prime or Not? Integer n as parameter for this method.\n",
    "\n",
    "Create a method called testPrims() allowing to test if two numbers are prime between them. Two integers are prime to one another if they have only 1 as their common divisor. Eg. 4 and 9 are prime to each other.\n",
    "\n",
    "Create a tableMult() method which creates and displays the multiplication table of a given integer. Then create an allTablesMult() method to display all the integer multiplication tables 1, 2, 3, ..., 9.\n",
    "\n",
    "Create a static listDiv() method that gets all the divisors of a given integer on new list called Ldiv. Create another listDivPrim() method that gets all the prime divisors of a given integer."
   ]
  },
  {
   "cell_type": "code",
   "execution_count": 158,
   "id": "94a71952-ed53-415b-b34d-09949d7bc364",
   "metadata": {},
   "outputs": [
    {
     "name": "stdout",
     "output_type": "stream",
     "text": [
      "Two numbers are relatively prime\n",
      "[1, 2, 3, 6, 9, 18]\n",
      "[2, 3]\n",
      "Table of 1\n",
      "1 x 1 = 1\n",
      "1 x 2 = 2\n",
      "1 x 3 = 3\n",
      "1 x 4 = 4\n",
      "1 x 5 = 5\n",
      "1 x 6 = 6\n",
      "1 x 7 = 7\n",
      "1 x 8 = 8\n",
      "1 x 9 = 9\n",
      "1 x 10 = 10\n",
      "Table of 2\n",
      "2 x 1 = 2\n",
      "2 x 2 = 4\n",
      "2 x 3 = 6\n",
      "2 x 4 = 8\n",
      "2 x 5 = 10\n",
      "2 x 6 = 12\n",
      "2 x 7 = 14\n",
      "2 x 8 = 16\n",
      "2 x 9 = 18\n",
      "2 x 10 = 20\n",
      "Table of 3\n",
      "3 x 1 = 3\n",
      "3 x 2 = 6\n",
      "3 x 3 = 9\n",
      "3 x 4 = 12\n",
      "3 x 5 = 15\n",
      "3 x 6 = 18\n",
      "3 x 7 = 21\n",
      "3 x 8 = 24\n",
      "3 x 9 = 27\n",
      "3 x 10 = 30\n",
      "Table of 4\n",
      "4 x 1 = 4\n",
      "4 x 2 = 8\n",
      "4 x 3 = 12\n",
      "4 x 4 = 16\n",
      "4 x 5 = 20\n",
      "4 x 6 = 24\n",
      "4 x 7 = 28\n",
      "4 x 8 = 32\n",
      "4 x 9 = 36\n",
      "4 x 10 = 40\n",
      "Table of 5\n",
      "5 x 1 = 5\n",
      "5 x 2 = 10\n",
      "5 x 3 = 15\n",
      "5 x 4 = 20\n",
      "5 x 5 = 25\n",
      "5 x 6 = 30\n",
      "5 x 7 = 35\n",
      "5 x 8 = 40\n",
      "5 x 9 = 45\n",
      "5 x 10 = 50\n",
      "Table of 6\n",
      "6 x 1 = 6\n",
      "6 x 2 = 12\n",
      "6 x 3 = 18\n",
      "6 x 4 = 24\n",
      "6 x 5 = 30\n",
      "6 x 6 = 36\n",
      "6 x 7 = 42\n",
      "6 x 8 = 48\n",
      "6 x 9 = 54\n",
      "6 x 10 = 60\n",
      "Table of 7\n",
      "7 x 1 = 7\n",
      "7 x 2 = 14\n",
      "7 x 3 = 21\n",
      "7 x 4 = 28\n",
      "7 x 5 = 35\n",
      "7 x 6 = 42\n",
      "7 x 7 = 49\n",
      "7 x 8 = 56\n",
      "7 x 9 = 63\n",
      "7 x 10 = 70\n",
      "Table of 8\n",
      "8 x 1 = 8\n",
      "8 x 2 = 16\n",
      "8 x 3 = 24\n",
      "8 x 4 = 32\n",
      "8 x 5 = 40\n",
      "8 x 6 = 48\n",
      "8 x 7 = 56\n",
      "8 x 8 = 64\n",
      "8 x 9 = 72\n",
      "8 x 10 = 80\n",
      "Table of 9\n",
      "9 x 1 = 9\n",
      "9 x 2 = 18\n",
      "9 x 3 = 27\n",
      "9 x 4 = 36\n",
      "9 x 5 = 45\n",
      "9 x 6 = 54\n",
      "9 x 7 = 63\n",
      "9 x 8 = 72\n",
      "9 x 9 = 81\n",
      "9 x 10 = 90\n"
     ]
    }
   ],
   "source": [
    "class Computation:\n",
    "\n",
    "    def __init__(self):\n",
    "        pass\n",
    "\n",
    "    def factorial(self,n):\n",
    "        fact = 1\n",
    "        for i in range(1,n+1):\n",
    "            fact*=i\n",
    "        return fact\n",
    "\n",
    "    def naturalsum(self,n):\n",
    "        sum0 = 0\n",
    "        for i in range(1,n+1):\n",
    "            sum0+=i\n",
    "        return sum0\n",
    "\n",
    "    def testPrime(self,n):\n",
    "        j = 0\n",
    "        for i in range(1,n+1):\n",
    "            if n%i == 0:\n",
    "                j+=1\n",
    "        if (j==2):\n",
    "            return True\n",
    "        else:\n",
    "            return False\n",
    "\n",
    "    def testPrims(self,n,n1):\n",
    "        factors_n = [i for i in range(1,n+1) if n%i == 0]\n",
    "        factors_n1 = [i for i in range(1,n1+1) if n1%i == 0]\n",
    "        common_factors = [i for i in factors_n if i in factors_n1]\n",
    "        \n",
    "        if max(common_factors) > 1:\n",
    "            print(\"Two numbers are not relatively prime\")\n",
    "        else:\n",
    "            print(\"Two numbers are relatively prime\") \n",
    "\n",
    "    def tableMult(self,n):\n",
    "        for i in range(1,11):\n",
    "            print(n*i,end=\",\")\n",
    "    \n",
    "    def allTablesMult(self):\n",
    "        for i in range(1,10):\n",
    "            print(f\"Table of {i}\")\n",
    "            for j in range(1,11):\n",
    "                print(i,\"x\",j,\"=\",i*j)   \n",
    "\n",
    "    def listDiv(self,n):\n",
    "        ldiv = []\n",
    "        for i in range(1,n+1):\n",
    "            if n%i == 0:\n",
    "                ldiv.append(i)\n",
    "        return ldiv\n",
    "    def listDivPrim(self,n):\n",
    "        l_div = []\n",
    "        for i in range(1,n+1):\n",
    "            if n%i == 0 and self.testPrime(i) :\n",
    "                l_div.append(i)\n",
    "        return l_div\n",
    "ob = Computation()\n",
    "ob.testPrims(13,7)\n",
    "print(ob.listDiv(18))\n",
    "print(ob.listDivPrim(18))\n",
    "ob.allTablesMult()"
   ]
  },
  {
   "cell_type": "code",
   "execution_count": 159,
   "id": "9a9a7163-5ec7-4e3c-84da-2cd0f111d274",
   "metadata": {},
   "outputs": [
    {
     "name": "stdout",
     "output_type": "stream",
     "text": [
      "4 and 9 are relatively prime.\n"
     ]
    }
   ],
   "source": [
    "from math import gcd\n",
    "\n",
    "def testprims(n,n1):\n",
    "    common = gcd(n,n1)\n",
    "\n",
    "    if common == 1:\n",
    "        print(f\"{n} and {n1} are relatively prime.\")\n",
    "    else:\n",
    "        print(f\"{n} and {n1} are not relatively prime.\")\n",
    "testprims(4,9)   "
   ]
  },
  {
   "cell_type": "code",
   "execution_count": 160,
   "id": "ff147bef-426e-43bd-9e33-5e2451565898",
   "metadata": {},
   "outputs": [
    {
     "name": "stdout",
     "output_type": "stream",
     "text": [
      "The numbers 13 and 7 are co-primes\n",
      "List of divisors of 18: [1, 2, 3, 6, 9, 18]\n",
      "List of prime divisors of 18: [2, 3]\n",
      "\n",
      "the multiplication table of: 1 is:\n",
      "1 x 1 = 1\n",
      "2 x 1 = 2\n",
      "3 x 1 = 3\n",
      "4 x 1 = 4\n",
      "5 x 1 = 5\n",
      "6 x 1 = 6\n",
      "7 x 1 = 7\n",
      "8 x 1 = 8\n",
      "9 x 1 = 9\n",
      "\n",
      "the multiplication table of: 2 is:\n",
      "1 x 2 = 2\n",
      "2 x 2 = 4\n",
      "3 x 2 = 6\n",
      "4 x 2 = 8\n",
      "5 x 2 = 10\n",
      "6 x 2 = 12\n",
      "7 x 2 = 14\n",
      "8 x 2 = 16\n",
      "9 x 2 = 18\n",
      "\n",
      "the multiplication table of: 3 is:\n",
      "1 x 3 = 3\n",
      "2 x 3 = 6\n",
      "3 x 3 = 9\n",
      "4 x 3 = 12\n",
      "5 x 3 = 15\n",
      "6 x 3 = 18\n",
      "7 x 3 = 21\n",
      "8 x 3 = 24\n",
      "9 x 3 = 27\n",
      "\n",
      "the multiplication table of: 4 is:\n",
      "1 x 4 = 4\n",
      "2 x 4 = 8\n",
      "3 x 4 = 12\n",
      "4 x 4 = 16\n",
      "5 x 4 = 20\n",
      "6 x 4 = 24\n",
      "7 x 4 = 28\n",
      "8 x 4 = 32\n",
      "9 x 4 = 36\n",
      "\n",
      "the multiplication table of: 5 is:\n",
      "1 x 5 = 5\n",
      "2 x 5 = 10\n",
      "3 x 5 = 15\n",
      "4 x 5 = 20\n",
      "5 x 5 = 25\n",
      "6 x 5 = 30\n",
      "7 x 5 = 35\n",
      "8 x 5 = 40\n",
      "9 x 5 = 45\n",
      "\n",
      "the multiplication table of: 6 is:\n",
      "1 x 6 = 6\n",
      "2 x 6 = 12\n",
      "3 x 6 = 18\n",
      "4 x 6 = 24\n",
      "5 x 6 = 30\n",
      "6 x 6 = 36\n",
      "7 x 6 = 42\n",
      "8 x 6 = 48\n",
      "9 x 6 = 54\n",
      "\n",
      "the multiplication table of: 7 is:\n",
      "1 x 7 = 7\n",
      "2 x 7 = 14\n",
      "3 x 7 = 21\n",
      "4 x 7 = 28\n",
      "5 x 7 = 35\n",
      "6 x 7 = 42\n",
      "7 x 7 = 49\n",
      "8 x 7 = 56\n",
      "9 x 7 = 63\n",
      "\n",
      "the multiplication table of: 8 is:\n",
      "1 x 8 = 8\n",
      "2 x 8 = 16\n",
      "3 x 8 = 24\n",
      "4 x 8 = 32\n",
      "5 x 8 = 40\n",
      "6 x 8 = 48\n",
      "7 x 8 = 56\n",
      "8 x 8 = 64\n",
      "9 x 8 = 72\n",
      "\n",
      "the multiplication table of: 9 is:\n",
      "1 x 9 = 9\n",
      "2 x 9 = 18\n",
      "3 x 9 = 27\n",
      "4 x 9 = 36\n",
      "5 x 9 = 45\n",
      "6 x 9 = 54\n",
      "7 x 9 = 63\n",
      "8 x 9 = 72\n",
      "9 x 9 = 81\n"
     ]
    }
   ],
   "source": [
    "# write your code here\n",
    "#Write your code here\n",
    "\n",
    "class Computation:\n",
    "    def __init__ (self):\n",
    "        pass\n",
    "# --- Factorial ------------\n",
    "    def factorial(self, n):\n",
    "        j = 1\n",
    "        for i in range (1, n + 1):\n",
    "            j = j * i\n",
    "        return j\n",
    "    \n",
    "# --- Sum of the first n numbers ----\n",
    "    def naturalSum(self, n):\n",
    "        j = 1\n",
    "        for i in range (1, n + 1):\n",
    "            j = j + i\n",
    "        return j\n",
    "    \n",
    "# --- Primality test of a number ------------\n",
    "    def testPrime(self, n):\n",
    "        j = 0\n",
    "        for i in range (1, n + 1):\n",
    "            if (n% i == 0):\n",
    "                j = j + 1\n",
    "        if (j == 2):\n",
    "            return True\n",
    "        else:\n",
    "            return False\n",
    "\n",
    "# --- Primality test of two integers ------------\n",
    "    def testPrims(self, n, m):\n",
    "        \n",
    "        # initialize the number of commons divisors\n",
    "        commonDiv = 0\n",
    "        for i in range (1, n + 1):\n",
    "            if (n% i == 0 and m% i == 0):\n",
    "                commonDiv = commonDiv + 1\n",
    "        if commonDiv == 1:\n",
    "            print (\"The numbers\", n, \"and\", m, \"are co-primes\")\n",
    "        else:\n",
    "            print (\"The numbers\", n, \"and\", m, \"are not co-primes\")\n",
    "\n",
    "#---Multiplication table-------------\n",
    "    def tableMult(self, k):\n",
    "        for i in range (1,10):\n",
    "            print (i, \"x\", k, \"=\", i * k)\n",
    "\n",
    "# --- All multiplication tables of the numbers 1, 2, .., 9\n",
    "    def allTables(self):\n",
    "        for k in range (1,10):\n",
    "            print (\"\\nthe multiplication table of:\", k, \"is:\")\n",
    "            for i in range (1,10):\n",
    "                print (i, \"x\", k, \"=\", i * k)\n",
    "\n",
    "# ----- list of divisors of an integer\n",
    "    def listDivisor(self, n):\n",
    "        # initialization of the list of divisors\n",
    "        lDiv = []\n",
    "        for i in range (1, n + 1):\n",
    "            if (n% i == 0):\n",
    "                lDiv.append (i)\n",
    "        return lDiv\n",
    "\n",
    "# ------ list of prime divisors of an integer ----------------\n",
    "    def listPrimeDivisor(self, n):\n",
    "        # initialization of the list of divisors\n",
    "        lDiv = []\n",
    "        for i in range (1, n + 1):\n",
    "            if (n% i == 0 and self.testPrime(i)):\n",
    "                lDiv.append(i)\n",
    "        return lDiv\n",
    "\n",
    "# Instantiation example\n",
    "Comput= Computation ()\n",
    "Comput.testPrims(13, 7)\n",
    "print (\"List of divisors of 18:\", Comput.listDivisor(18))\n",
    "print (\"List of prime divisors of 18:\", Comput.listPrimeDivisor(18))\n",
    "Comput.allTables() "
   ]
  },
  {
   "cell_type": "code",
   "execution_count": 176,
   "id": "8223476f-8512-4285-a61f-a04218d91103",
   "metadata": {},
   "outputs": [
    {
     "name": "stdout",
     "output_type": "stream",
     "text": [
      "Welcome to the fruit quiz\n",
      "Blue\n"
     ]
    },
    {
     "name": "stdin",
     "output_type": "stream",
     "text": [
      "Guess color of fruit  Red\n"
     ]
    },
    {
     "name": "stdout",
     "output_type": "stream",
     "text": [
      "Incorrect guess\n"
     ]
    },
    {
     "name": "stdin",
     "output_type": "stream",
     "text": [
      "enter 0 to play again 1 to exit 0\n"
     ]
    },
    {
     "name": "stdout",
     "output_type": "stream",
     "text": [
      "Red\n"
     ]
    },
    {
     "name": "stdin",
     "output_type": "stream",
     "text": [
      "Guess color of fruit  Blue\n"
     ]
    },
    {
     "name": "stdout",
     "output_type": "stream",
     "text": [
      "Incorrect guess\n"
     ]
    },
    {
     "name": "stdin",
     "output_type": "stream",
     "text": [
      "enter 0 to play again 1 to exit 0\n"
     ]
    },
    {
     "name": "stdout",
     "output_type": "stream",
     "text": [
      "Blue\n"
     ]
    },
    {
     "name": "stdin",
     "output_type": "stream",
     "text": [
      "Guess color of fruit  Blue\n"
     ]
    },
    {
     "name": "stdout",
     "output_type": "stream",
     "text": [
      "Correct guess\n"
     ]
    },
    {
     "name": "stdin",
     "output_type": "stream",
     "text": [
      "enter 0 to play again 1 to exit 1\n"
     ]
    }
   ],
   "source": [
    "import random\n",
    "\n",
    "class FlashCard:\n",
    "\n",
    "    def __init__(self):\n",
    "        self.__fruit_dict = {\n",
    "            \"Banana\":\"Yellow\",\n",
    "            \"Apple\":\"Red\",\n",
    "            \"Berries\":\"Blue\",\n",
    "            \"Chiku\":\"Brown\",\n",
    "            \"Watermelon\":\"Green\"\n",
    "        }\n",
    "    def quiz(self):\n",
    "\n",
    "        while True:\n",
    "            fruit,color = random.choices(list(self.__fruit_dict.items()))[0]\n",
    "            print(color)\n",
    "\n",
    "            user_guess = input(\"Guess color of fruit \")\n",
    "\n",
    "            if user_guess.capitalize() == color:\n",
    "                print(\"Correct guess\")\n",
    "            else:\n",
    "                print(\"Incorrect guess\")\n",
    "                \n",
    "            option = int(input('enter 0 to play again 1 to exit'))\n",
    "\n",
    "            if option:\n",
    "                break\n",
    "\n",
    "print('Welcome to the fruit quiz')\n",
    "fc = FlashCard()\n",
    "fc.quiz()       "
   ]
  },
  {
   "cell_type": "raw",
   "id": "624fd433-f599-499f-871c-85cd03d2875d",
   "metadata": {},
   "source": [
    "Q-5: Problem 5 based on OOP Python.\n",
    "TechWorld, a technology training center, wants to allocate courses to instructors. An instructor is identified by name, technology skills, experience and average feedback. An instructor will get allocated to course, if he/she satisfies the below two conditions:\n",
    "\n",
    "eligibility criteria:\n",
    "if experience is more than 3 years, average feedback should be 4.5 or more\n",
    "if experience is 3 years or less, average feedback should be 4 or more\n",
    "he/she should posses the technology skill for the course\n",
    "Identify the class name and attributes to represent instructors. Write a Python program to implement the class chosen with its attributes and methods.\n",
    "\n",
    "Note:\n",
    "\n",
    "Consider all instance variables to be private and methods to be public.\n",
    "An instructor may have multiple technology skills, so consider instance variable, technology_skill to be a list.\n",
    "check_eligibility(): Return true if eligibility criteria is satisfied by the instructor. Else, return false\n",
    "allocate_course(technology): Return true if the course which requires the given technology can be allocated to the instructor. Else, return false.\n",
    "Represent a few objects of the class, initialize instance variables using setter methods, invoke appropriate methods and test your program."
   ]
  },
  {
   "cell_type": "code",
   "execution_count": 182,
   "id": "77cdf8a0-2b95-45cd-bf8a-95fed971a93f",
   "metadata": {},
   "outputs": [],
   "source": [
    "class TechInstructor:\n",
    "\n",
    "    def __init__(self,name,tech_skill,exp,feedback):\n",
    "        self.__name = name\n",
    "        self.__tech_skill = tech_skill\n",
    "        self.__exp = exp\n",
    "        self.__feedback = feedback\n",
    "    \n",
    "    def check_eligibility(self):\n",
    "        if self.__exp > 3 and self.__feedback >= 4.5:\n",
    "            return True\n",
    "        elif self.__exp <= 3 and self.__feedback >= 4:\n",
    "            return True\n",
    "        else:\n",
    "            False\n",
    "\n",
    "    def course_allocation(self,tech):\n",
    "        eligible = self.check_eligibility() \n",
    "\n",
    "        if eligible:\n",
    "            if tech in self.__tech_skill:\n",
    "                return \"He is aware of this technology\"\n",
    "            else:\n",
    "                return \"This technology is new for him\"\n",
    "\n",
    "        else:\n",
    "            return \"This instructor is not eligible\"\n",
    "                    "
   ]
  },
  {
   "cell_type": "code",
   "execution_count": 183,
   "id": "62158a51-0e75-43c9-9e2d-d53b485a9cec",
   "metadata": {},
   "outputs": [],
   "source": [
    "ins = TechInstructor(\"Mahesh\",[\"Python\",\"DS\",\"Machine Learning\"],4,5)"
   ]
  },
  {
   "cell_type": "code",
   "execution_count": 185,
   "id": "869b2c58-4415-4ac7-9743-2c7dc23be7fc",
   "metadata": {},
   "outputs": [
    {
     "data": {
      "text/plain": [
       "True"
      ]
     },
     "execution_count": 185,
     "metadata": {},
     "output_type": "execute_result"
    }
   ],
   "source": [
    "ins.check_eligibility()"
   ]
  },
  {
   "cell_type": "code",
   "execution_count": 186,
   "id": "99485f7b-ee0c-4a6b-9260-3b88745a27e4",
   "metadata": {},
   "outputs": [
    {
     "data": {
      "text/plain": [
       "'This technology is new for him'"
      ]
     },
     "execution_count": 186,
     "metadata": {},
     "output_type": "execute_result"
    }
   ],
   "source": [
    "ins.course_allocation(\"Deep Learning\")"
   ]
  },
  {
   "cell_type": "code",
   "execution_count": 187,
   "id": "1b697f39-1fbe-46df-b8ba-5d94570bf180",
   "metadata": {},
   "outputs": [
    {
     "data": {
      "text/plain": [
       "'He is aware of this technology'"
      ]
     },
     "execution_count": 187,
     "metadata": {},
     "output_type": "execute_result"
    }
   ],
   "source": [
    "ins.course_allocation(\"DS\")"
   ]
  },
  {
   "cell_type": "code",
   "execution_count": null,
   "id": "a097ea74-aa44-4784-ac96-c416eedca51e",
   "metadata": {},
   "outputs": [],
   "source": []
  }
 ],
 "metadata": {
  "kernelspec": {
   "display_name": "Python 3 (ipykernel)",
   "language": "python",
   "name": "python3"
  },
  "language_info": {
   "codemirror_mode": {
    "name": "ipython",
    "version": 3
   },
   "file_extension": ".py",
   "mimetype": "text/x-python",
   "name": "python",
   "nbconvert_exporter": "python",
   "pygments_lexer": "ipython3",
   "version": "3.10.6"
  }
 },
 "nbformat": 4,
 "nbformat_minor": 5
}
