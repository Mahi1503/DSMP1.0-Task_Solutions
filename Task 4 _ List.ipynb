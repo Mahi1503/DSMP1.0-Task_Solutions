{
 "cells": [
  {
   "cell_type": "markdown",
   "id": "256d8ae4",
   "metadata": {},
   "source": [
    "# Problem 1: Combine two lists index-wise(columns wise)\n",
    "# Write a program to add two lists index-wise. Create a new list that contains the 0th index item from both the list, then the 1st index item, and so on till the last element. any leftover items will get added at the end of the new list."
   ]
  },
  {
   "cell_type": "raw",
   "id": "daa5ab41",
   "metadata": {},
   "source": [
    "Given List:\n",
    "list1 = [\"M\", \"na\", \"i\", \"Kh\"]\n",
    "list2 = [\"y\", \"me\", \"s\", \"an\"]\n",
    "Output:\n",
    "[['M','y'], ['na', me'], ['i', 's'], ['Kh', 'an']]"
   ]
  },
  {
   "cell_type": "code",
   "execution_count": 3,
   "id": "25db8a3d",
   "metadata": {},
   "outputs": [
    {
     "data": {
      "text/plain": [
       "[['M', 'y'], ['na', 'me'], ['i', 's'], ['Kh', 'an']]"
      ]
     },
     "execution_count": 3,
     "metadata": {},
     "output_type": "execute_result"
    }
   ],
   "source": [
    "list1 = [\"M\", \"na\", \"i\", \"Kh\"]\n",
    "list2 = [\"y\", \"me\", \"s\", \"an\"]\n",
    "[list(i)for i in list(zip(list1,list2))]"
   ]
  },
  {
   "cell_type": "code",
   "execution_count": 7,
   "id": "962648a5",
   "metadata": {},
   "outputs": [
    {
     "data": {
      "text/plain": [
       "[['M', 'y'], ['na', 'me'], ['i', 's'], ['Kh', 'an']]"
      ]
     },
     "execution_count": 7,
     "metadata": {},
     "output_type": "execute_result"
    }
   ],
   "source": [
    "[[list1[i],list2[i]] for i in range(len(list1))]"
   ]
  },
  {
   "cell_type": "markdown",
   "id": "4d4cce65",
   "metadata": {},
   "source": [
    "# Problem 2: Add new item to list after a specified item Write a program to add item 7000 after 6000 in the following Python List"
   ]
  },
  {
   "cell_type": "raw",
   "id": "a0ff1645",
   "metadata": {},
   "source": [
    "list1 = [10, 20, [300, 400, [5000, 6000], 500], 30, 40]\n",
    "Output: [10, 20, [300, 400, [5000, 6000, 7000], 500], 30, 40]"
   ]
  },
  {
   "cell_type": "code",
   "execution_count": 11,
   "id": "ef95f4c9",
   "metadata": {},
   "outputs": [
    {
     "data": {
      "text/plain": [
       "[10, 20, [300, 400, [5000, 6000, 7000], 500], 30, 40]"
      ]
     },
     "execution_count": 11,
     "metadata": {},
     "output_type": "execute_result"
    }
   ],
   "source": [
    "list1 = [10, 20, [300, 400, [5000, 6000], 500], 30, 40]\n",
    "list1[2][2].append(7000)\n",
    "list1"
   ]
  },
  {
   "cell_type": "code",
   "execution_count": 20,
   "id": "696e712b",
   "metadata": {},
   "outputs": [
    {
     "name": "stdout",
     "output_type": "stream",
     "text": [
      "[10, 20, [300, 400, [5000, 6000, 7000], 500], 30, 40]\n"
     ]
    }
   ],
   "source": [
    "list1 = [10, 20, [300, 400, [5000, 6000], 500], 30, 40]\n",
    "for i in list1:\n",
    "    if i == 6000:\n",
    "        list1.insert(list1.index(6000)+1,7000)\n",
    "    else:\n",
    "        if type(i) == list:\n",
    "            for j in i:\n",
    "                if j == 6000:\n",
    "                    i.insert(i.index(6000)+1,7000)\n",
    "                else:\n",
    "                    if type(j) == list:\n",
    "                        for k in j:\n",
    "                            if k == 6000:\n",
    "                                j.insert(j.index(6000)+1,7000)\n",
    "                            else:\n",
    "                                if type(k) == list:\n",
    "                                    for l in k:\n",
    "                                        if l == 6000:\n",
    "                                            k.insert(k.index(6000)+1,7000)\n",
    "                                    else:\n",
    "                                            print(\"item not found\")\n",
    "\n",
    "print(list1)                     "
   ]
  },
  {
   "cell_type": "code",
   "execution_count": 25,
   "id": "b91704bd",
   "metadata": {},
   "outputs": [
    {
     "name": "stdout",
     "output_type": "stream",
     "text": [
      "Updated list: [10, 20, [300, 400, [5000, 6000, 7000], 500], 30, 40]\n"
     ]
    }
   ],
   "source": [
    "def find_and_insert(lst, target, value_to_insert):\n",
    "    found = False  # Flag to check if the target is found\n",
    "    \n",
    "    for i in range(len(lst)):\n",
    "        if lst[i] == target:\n",
    "            lst.insert(i + 1, value_to_insert)\n",
    "            found = True\n",
    "        elif isinstance(lst[i], list):  # If the element is a nested list, recurse\n",
    "            if find_and_insert(lst[i], target, value_to_insert):\n",
    "                found = True\n",
    "\n",
    "    return found\n",
    "\n",
    "# Input list\n",
    "list1 = [10, 20, [300, 400, [5000, 6000], 500], 30, 40]\n",
    "\n",
    "# Target number and the value to insert\n",
    "target = 6000\n",
    "value_to_insert = 7000\n",
    "\n",
    "# Call the function\n",
    "if not find_and_insert(list1, target, value_to_insert):\n",
    "    print(f\"Item {target} not found in the list.\")\n",
    "\n",
    "# Print the updated list\n",
    "print(\"Updated list:\", list1)\n"
   ]
  },
  {
   "cell_type": "code",
   "execution_count": 26,
   "id": "54088337",
   "metadata": {},
   "outputs": [
    {
     "name": "stdout",
     "output_type": "stream",
     "text": [
      "Item 6000 not found in the list.\n",
      "Updated list: [10, 20, [300, 400, [5000, 8000], 500], 30, 40]\n"
     ]
    }
   ],
   "source": [
    "def find_and_insert(lst, target, value_to_insert):\n",
    "    found = False  # Flag to check if the target is found\n",
    "    \n",
    "    for i in range(len(lst)):\n",
    "        if lst[i] == target:\n",
    "            lst.insert(i + 1, value_to_insert)\n",
    "            found = True\n",
    "        elif isinstance(lst[i], list):  # If the element is a nested list, recurse\n",
    "            if find_and_insert(lst[i], target, value_to_insert):\n",
    "                found = True\n",
    "\n",
    "    return found\n",
    "\n",
    "# Input list\n",
    "list1 = [10, 20, [300, 400, [5000, 8000], 500], 30, 40]\n",
    "\n",
    "# Target number and the value to insert\n",
    "target = 6000\n",
    "value_to_insert = 7000\n",
    "\n",
    "# Call the function\n",
    "if not find_and_insert(list1, target, value_to_insert):\n",
    "    print(f\"Item {target} not found in the list.\")\n",
    "\n",
    "# Print the updated list\n",
    "print(\"Updated list:\", list1)"
   ]
  },
  {
   "cell_type": "markdown",
   "id": "35322753",
   "metadata": {},
   "source": [
    "# Problem 3: Update no of items available\n",
    "# Suppose you are given a list of candy and another list of same size representing no of items of respective candy."
   ]
  },
  {
   "cell_type": "raw",
   "id": "78e80fac",
   "metadata": {},
   "source": [
    "i.e -\n",
    "candy_list = ['Jelly Belly','Kit Kat','Double Bubble','Milky Way','Three Musketeers']\n",
    "no_of_items = [10,20,34,74,32]\n",
    "Write a program to show no. of items of each candy type.\n",
    "\n",
    "Output:\n",
    "\n",
    "Jelly Belly-10\n",
    "Kit Kat-20\n",
    "Double Bubble-34\n",
    "Milky Way-74\n",
    "Three Musketeers-32"
   ]
  },
  {
   "cell_type": "code",
   "execution_count": 28,
   "id": "ca96e79d",
   "metadata": {},
   "outputs": [
    {
     "data": {
      "text/plain": [
       "['Jelly Belly-10',\n",
       " 'Kit Kat-20',\n",
       " 'Double Bubble-34',\n",
       " 'Milky Way-74',\n",
       " 'Three Musketeers-32']"
      ]
     },
     "execution_count": 28,
     "metadata": {},
     "output_type": "execute_result"
    }
   ],
   "source": [
    "candy_list = ['Jelly Belly','Kit Kat','Double Bubble','Milky Way','Three Musketeers']\n",
    "no_of_items = [10,20,34,74,32]\n",
    "[\"{}-{}\".format(candy_list[i],no_of_items[i]) for i in range(len(candy_list))]"
   ]
  },
  {
   "cell_type": "code",
   "execution_count": 30,
   "id": "ac5033b0",
   "metadata": {},
   "outputs": [
    {
     "name": "stdout",
     "output_type": "stream",
     "text": [
      "Jelly Belly-10\n",
      "Kit Kat-20\n",
      "Double Bubble-34\n",
      "Milky Way-74\n",
      "Three Musketeers-32\n"
     ]
    }
   ],
   "source": [
    "candy_list = ['Jelly Belly','Kit Kat','Double Bubble','Milky Way','Three Musketeers']\n",
    "no_of_items = [10,20,34,74,32]\n",
    "for i in range(len(candy_list)):\n",
    "    print(candy_list[i],\"-\",no_of_items[i],sep=\"\")"
   ]
  },
  {
   "cell_type": "markdown",
   "id": "4f82f707",
   "metadata": {},
   "source": [
    "# Problem 4: Running Sum on list Write a program to print a list after performing running sum on it."
   ]
  },
  {
   "cell_type": "raw",
   "id": "85a81e4f",
   "metadata": {},
   "source": [
    "i.e:\n",
    "Input:\n",
    "list1 = [1,2,3,4,5,6]\n",
    "Output:\n",
    "[1,3,6,10,15,21]"
   ]
  },
  {
   "cell_type": "code",
   "execution_count": 35,
   "id": "892212a1",
   "metadata": {},
   "outputs": [
    {
     "data": {
      "text/plain": [
       "[1, 3, 6, 10, 15, 21]"
      ]
     },
     "execution_count": 35,
     "metadata": {},
     "output_type": "execute_result"
    }
   ],
   "source": [
    "Output = []\n",
    "list1 = [1,2,3,4,5,6]\n",
    "sum1 = 0\n",
    "for i in list1:\n",
    "    Output.append(sum1+i)\n",
    "    sum1+=i\n",
    "Output"
   ]
  },
  {
   "cell_type": "markdown",
   "id": "17f0a1c5",
   "metadata": {},
   "source": [
    "# Problem 5: You are given a list of integers. You are asked to make a list by running through elements of the list by adding all elements greater and itself. i.e. Say given list is [2,4,6,10,1] resultant list will be [22,20,16,10,23]."
   ]
  },
  {
   "cell_type": "raw",
   "id": "c5412d29",
   "metadata": {},
   "source": [
    "For 1st element 2 ->> these are greater (4+6+10) values and 2 itself so on adding becomes 22.\n",
    "\n",
    "For 2nd element 4 ->> greater elements are (6, 10) and 4 itself, so on adding 20\n",
    "\n",
    "like wise for all other elememts.\n",
    "\n",
    "[2,4,6,10,1]-->[22,20,16,10,23]"
   ]
  },
  {
   "cell_type": "code",
   "execution_count": 36,
   "id": "2a3830ea",
   "metadata": {},
   "outputs": [
    {
     "data": {
      "text/plain": [
       "[22, 20, 16, 10, 23]"
      ]
     },
     "execution_count": 36,
     "metadata": {},
     "output_type": "execute_result"
    }
   ],
   "source": [
    "list1 = [2,4,6,10,1]\n",
    "res = []\n",
    "sum1 = 0\n",
    "for i in list1:\n",
    "    for j in list1:\n",
    "        if j>=i:\n",
    "            sum1+=j\n",
    "        else:\n",
    "            continue\n",
    "    res.append(sum1)\n",
    "    sum1 = 0\n",
    "res       "
   ]
  },
  {
   "cell_type": "markdown",
   "id": "a9227fad",
   "metadata": {},
   "source": [
    "# Problem 6: Find list of common unique items from two list. and show in increasing order"
   ]
  },
  {
   "cell_type": "raw",
   "id": "aa63ad64",
   "metadata": {},
   "source": [
    "Input\n",
    "num1 = [23,45,67,78,89,34]\n",
    "num2 = [34,89,55,56,39,67]\n",
    "Output: [34, 67, 89]"
   ]
  },
  {
   "cell_type": "code",
   "execution_count": 52,
   "id": "f191b035",
   "metadata": {},
   "outputs": [
    {
     "data": {
      "text/plain": [
       "[34, 67, 67, 89]"
      ]
     },
     "execution_count": 52,
     "metadata": {},
     "output_type": "execute_result"
    }
   ],
   "source": [
    "num1 = [23,45,67,78,89,34,67]\n",
    "num2 = [34,89,55,56,39,67,67]\n",
    "output = sorted([i for i in num1 if i in num2])\n",
    "output"
   ]
  },
  {
   "cell_type": "code",
   "execution_count": 54,
   "id": "dcdb34a5",
   "metadata": {},
   "outputs": [
    {
     "data": {
      "text/plain": [
       "[34, 67, 89]"
      ]
     },
     "execution_count": 54,
     "metadata": {},
     "output_type": "execute_result"
    }
   ],
   "source": [
    "num1 = [23,45,67,78,89,34,67]\n",
    "num2 = [34,89,55,56,39,67,67]\n",
    "output = []\n",
    "for i in num1:\n",
    "    if i in num2:\n",
    "        if i not in output:\n",
    "            output.append(i)\n",
    "sorted(output)"
   ]
  },
  {
   "cell_type": "markdown",
   "id": "63f844e6",
   "metadata": {},
   "source": [
    "# Problem 7: Sort a list of alphanumeric strings based on product value of numeric character in it. If in any string there is no numeric character take it's product value as 1."
   ]
  },
  {
   "cell_type": "raw",
   "id": "a6e02dd0",
   "metadata": {},
   "source": [
    "Input:\n",
    "['1ac21', '23fg', '456', '098d','1','kls']\n",
    "Output:\n",
    "['456', '23fg', '1ac21', '1', 'kls', '098d']"
   ]
  },
  {
   "cell_type": "code",
   "execution_count": 74,
   "id": "2918a64b",
   "metadata": {},
   "outputs": [
    {
     "data": {
      "text/plain": [
       "[2, 6, 120, 0, 1, 1]"
      ]
     },
     "execution_count": 74,
     "metadata": {},
     "output_type": "execute_result"
    }
   ],
   "source": [
    "Input = ['1ac21', '23fg', '456', '098d','1','kls']\n",
    "product = []\n",
    "res = []\n",
    "for i in Input:\n",
    "    if i.isalnum():\n",
    "        prod = 1\n",
    "        for j in i:\n",
    "            if j.isdigit():\n",
    "                prod*= int(j)\n",
    "            else:\n",
    "                continue\n",
    "    else:\n",
    "        prod = 1\n",
    "    product.append(prod)\n",
    "product"
   ]
  },
  {
   "cell_type": "code",
   "execution_count": 81,
   "id": "a2a9d2a5",
   "metadata": {},
   "outputs": [
    {
     "data": {
      "text/plain": [
       "['456', '23fg', '1ac21', 'kls', '1', '098d']"
      ]
     },
     "execution_count": 81,
     "metadata": {},
     "output_type": "execute_result"
    }
   ],
   "source": [
    "Input = ['1ac21', '23fg', '456', '098d','1','kls']\n",
    "product = []\n",
    "\n",
    "for i in Input:\n",
    "    prod = 1\n",
    "    for j in i:\n",
    "        if j.isdigit():\n",
    "            prod*= int(j)\n",
    "    product.append(prod)\n",
    "    \n",
    "#print(product)\n",
    "[i[1] for i in sorted(list(zip(product,Input)),reverse=True)]"
   ]
  },
  {
   "cell_type": "markdown",
   "id": "fc45f16c",
   "metadata": {},
   "source": [
    "# Problem 8: Split String of list on K character."
   ]
  },
  {
   "cell_type": "raw",
   "id": "8620dc8f",
   "metadata": {},
   "source": [
    "Example :\n",
    "Input: ['CampusX is a channel', 'for data-science', 'aspirants.']\n",
    "Output: ['CampusX', 'is', 'a', 'channel', 'for', 'data-science', 'aspirants.']"
   ]
  },
  {
   "cell_type": "code",
   "execution_count": 90,
   "id": "19953146",
   "metadata": {},
   "outputs": [
    {
     "data": {
      "text/plain": [
       "['CampusX', 'is', 'a', 'channel', 'for', 'data-science', 'aspirants.']"
      ]
     },
     "execution_count": 90,
     "metadata": {},
     "output_type": "execute_result"
    }
   ],
   "source": [
    "Input = ['CampusX is a channel', 'for data-science', 'aspirants.']\n",
    "l1 = []\n",
    "for i in Input:\n",
    "    l1+= i.split()\n",
    "l1"
   ]
  },
  {
   "cell_type": "code",
   "execution_count": 95,
   "id": "b9ae13bc",
   "metadata": {},
   "outputs": [
    {
     "data": {
      "text/plain": [
       "['CampusX', 'is', 'a', 'channel', 'for', 'data-science', 'aspirants.']"
      ]
     },
     "execution_count": 95,
     "metadata": {},
     "output_type": "execute_result"
    }
   ],
   "source": [
    "Input = ['CampusX is a channel', 'for data-science', 'aspirants.']\n",
    "l1 = []\n",
    "inp = \" \"\n",
    "for i in Input:\n",
    "    l1.extend(i.split(inp))\n",
    "l1"
   ]
  },
  {
   "cell_type": "markdown",
   "id": "a212ca8f",
   "metadata": {},
   "source": [
    "# Problem 9: Convert Character Matrix to single String using string comprehension."
   ]
  },
  {
   "cell_type": "raw",
   "id": "763b6d07",
   "metadata": {},
   "source": [
    "Example 1:\n",
    "Input: [['c', 'a', 'm', 'p', 'u', 'x'], ['i', 's'], ['b', 'e', 's', 't'], ['c', 'h', 'a', 'n', 'n', 'e', 'l']]\n",
    "Output: campux is best channel"
   ]
  },
  {
   "cell_type": "code",
   "execution_count": 101,
   "id": "c9ea5932",
   "metadata": {},
   "outputs": [
    {
     "name": "stdout",
     "output_type": "stream",
     "text": [
      "campux is best channel\n"
     ]
    }
   ],
   "source": [
    "str_list = [['c', 'a', 'm', 'p', 'u', 'x'], ['i', 's'], ['b', 'e', 's', 't'], ['c', 'h', 'a', 'n', 'n', 'e', 'l']]\n",
    "str_combine = [\"\".join(i) for i in str_list]\n",
    "print(\" \".join(str_combine))"
   ]
  },
  {
   "cell_type": "markdown",
   "id": "2bd6c93d",
   "metadata": {},
   "source": [
    "# Problem 10: Add Space between Potential Words."
   ]
  },
  {
   "cell_type": "raw",
   "id": "fd863fe9",
   "metadata": {},
   "source": [
    "Example:\n",
    "Input: ['campusxIs', 'bestFor', 'dataScientist']\n",
    "Output: ['campusx Is', 'best For', 'data Scientist']"
   ]
  },
  {
   "cell_type": "code",
   "execution_count": 104,
   "id": "13aefb56",
   "metadata": {},
   "outputs": [
    {
     "data": {
      "text/plain": [
       "['campusx Is', 'best For', 'data Scientist']"
      ]
     },
     "execution_count": 104,
     "metadata": {},
     "output_type": "execute_result"
    }
   ],
   "source": [
    "Input = ['campusxIs', 'bestFor', 'dataScientist']\n",
    "Output = []\n",
    "for i in Input:\n",
    "    res = \"\"\n",
    "    for j in i:\n",
    "        if j.isupper():\n",
    "            res+=\" \" + j\n",
    "        else:\n",
    "            res+=j\n",
    "    Output.append(res)\n",
    "Output"
   ]
  },
  {
   "cell_type": "markdown",
   "id": "b6137a68",
   "metadata": {},
   "source": [
    "# Problem 11: Write a program that can perform union operation on 2 lists"
   ]
  },
  {
   "cell_type": "raw",
   "id": "d236d106",
   "metadata": {},
   "source": [
    "Input:\n",
    "[1,2,3,4,5,1]\n",
    "[2,3,5,7,8]\n",
    "\n",
    "Output:\n",
    "[1,2,3,4,5,7,8]"
   ]
  },
  {
   "cell_type": "code",
   "execution_count": 123,
   "id": "9e2c821e",
   "metadata": {},
   "outputs": [
    {
     "data": {
      "text/plain": [
       "[1, 2, 3, 4, 5, 7, 8]"
      ]
     },
     "execution_count": 123,
     "metadata": {},
     "output_type": "execute_result"
    }
   ],
   "source": [
    "l1 = [1,2,3,4,5,1]\n",
    "l2 = [2,3,5,7,8]\n",
    "l3 = []\n",
    "for i in l1:\n",
    "    if i not in l3:\n",
    "        l3.append(i)\n",
    "for j in l2:\n",
    "    if j not in l3:\n",
    "        l3.append(j)\n",
    "l3"
   ]
  },
  {
   "cell_type": "code",
   "execution_count": 124,
   "id": "f2b6c668",
   "metadata": {},
   "outputs": [
    {
     "data": {
      "text/plain": [
       "[1, 2, 3, 4, 5, 7, 8]"
      ]
     },
     "execution_count": 124,
     "metadata": {},
     "output_type": "execute_result"
    }
   ],
   "source": [
    "set1 = set(l1)\n",
    "set1.update(l2)\n",
    "list(set1)"
   ]
  },
  {
   "cell_type": "markdown",
   "id": "e65830ba",
   "metadata": {},
   "source": [
    "# Problem 12: Write a program that can find the max number of each row of a matrix"
   ]
  },
  {
   "cell_type": "code",
   "execution_count": null,
   "id": "f51ba2ce",
   "metadata": {},
   "outputs": [],
   "source": [
    "Example:\n",
    "Input: [[1,2,3],[4,5,6],[7,8,9]]\n",
    "Output: [3,6,9]        "
   ]
  },
  {
   "cell_type": "code",
   "execution_count": 133,
   "id": "8360eef9",
   "metadata": {},
   "outputs": [
    {
     "data": {
      "text/plain": [
       "[3, 6, 9]"
      ]
     },
     "execution_count": 133,
     "metadata": {},
     "output_type": "execute_result"
    }
   ],
   "source": [
    "l1 = [[1,2,3],[4,5,6],[7,8,9]]\n",
    "l2 = [max(i) for i in l1 ]\n",
    "l2    "
   ]
  },
  {
   "cell_type": "markdown",
   "id": "3d5e9949",
   "metadata": {},
   "source": [
    "# Problem 13: Write a list comprehension to print the following matrix"
   ]
  },
  {
   "cell_type": "raw",
   "id": "a2950f50",
   "metadata": {},
   "source": [
    "[[0, 1, 2], [3, 4, 5], [6, 7, 8]]"
   ]
  },
  {
   "cell_type": "code",
   "execution_count": 152,
   "id": "46f9ab5c",
   "metadata": {},
   "outputs": [
    {
     "data": {
      "text/plain": [
       "[[0, 1, 2], [3, 4, 5], [6, 7, 8]]"
      ]
     },
     "execution_count": 152,
     "metadata": {},
     "output_type": "execute_result"
    }
   ],
   "source": [
    "[[i*3+j for j in range(0,3)]for i in range(0,3)] # 0 1 2 "
   ]
  },
  {
   "cell_type": "markdown",
   "id": "b59db8f0",
   "metadata": {},
   "source": [
    "# Problem 14: Write a list comprehension that can transpose a given matrix"
   ]
  },
  {
   "cell_type": "raw",
   "id": "f04db2e8",
   "metadata": {},
   "source": [
    "matrix = [\n",
    "[1,2,3],\n",
    "[4,5,6],\n",
    "[7,8,9]\n",
    "]\n",
    "Output :\n",
    "[1, 4, 7]\n",
    "[2, 5, 8]\n",
    "[3, 6, 9]      "
   ]
  },
  {
   "cell_type": "code",
   "execution_count": 159,
   "id": "f3426099",
   "metadata": {},
   "outputs": [
    {
     "data": {
      "text/plain": [
       "[[1, 4, 7], [2, 5, 8], [3, 6, 9]]"
      ]
     },
     "execution_count": 159,
     "metadata": {},
     "output_type": "execute_result"
    }
   ],
   "source": [
    "matrix = [ [1,2,3], [4,5,6], [7,8,9]]\n",
    "[list(i) for i in list(zip(matrix[0],matrix[1],matrix[2]))]"
   ]
  },
  {
   "cell_type": "code",
   "execution_count": 160,
   "id": "90343160",
   "metadata": {},
   "outputs": [
    {
     "data": {
      "text/plain": [
       "[[1, 4, 7], [2, 5, 8], [3, 6, 9]]"
      ]
     },
     "execution_count": 160,
     "metadata": {},
     "output_type": "execute_result"
    }
   ],
   "source": [
    "[[row[i]for row in matrix]for i in range(len(matrix))]"
   ]
  },
  {
   "cell_type": "markdown",
   "id": "79c46e25",
   "metadata": {},
   "source": [
    "# Problem 15: Write a list comprehension that can flatten a nested list"
   ]
  },
  {
   "cell_type": "raw",
   "id": "d7e76122",
   "metadata": {},
   "source": [
    "Input\n",
    "matrix = [\n",
    "[1,2,3],\n",
    "[4,5,6],\n",
    "[7,8,9]\n",
    "]\n",
    "\n",
    "Output:\n",
    "[1, 2, 3, 4, 5, 6, 7, 8, 9]"
   ]
  },
  {
   "cell_type": "code",
   "execution_count": 167,
   "id": "8c6a81e5",
   "metadata": {},
   "outputs": [
    {
     "data": {
      "text/plain": [
       "[1, 2, 3, 4, 5, 6, 7, 8, 9]"
      ]
     },
     "execution_count": 167,
     "metadata": {},
     "output_type": "execute_result"
    }
   ],
   "source": [
    "matrix = [\n",
    "[1,2,3],\n",
    "[4,5,6],\n",
    "[7,8,9]\n",
    "]\n",
    "[j for i in matrix for j in i ]\n",
    "   "
   ]
  }
 ],
 "metadata": {
  "kernelspec": {
   "display_name": "Python 3 (ipykernel)",
   "language": "python",
   "name": "python3"
  },
  "language_info": {
   "codemirror_mode": {
    "name": "ipython",
    "version": 3
   },
   "file_extension": ".py",
   "mimetype": "text/x-python",
   "name": "python",
   "nbconvert_exporter": "python",
   "pygments_lexer": "ipython3",
   "version": "3.10.6"
  }
 },
 "nbformat": 4,
 "nbformat_minor": 5
}
