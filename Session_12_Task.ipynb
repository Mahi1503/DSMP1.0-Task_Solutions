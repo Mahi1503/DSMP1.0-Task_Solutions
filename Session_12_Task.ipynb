{
 "cells": [
  {
   "cell_type": "markdown",
   "id": "9abd05ba-b86a-42d2-9619-ee04489c8298",
   "metadata": {},
   "source": [
    "### Q1: Write Person Class as given below and then display it's namespace."
   ]
  },
  {
   "cell_type": "code",
   "execution_count": null,
   "id": "ba958aea-03c2-4c6a-8769-81376f3f00b1",
   "metadata": {},
   "outputs": [],
   "source": [
    "Class Name - Person\n",
    "\n",
    "Attributes:\n",
    "name - public\n",
    "state - public\n",
    "city - private\n",
    "age - private\n",
    "\n",
    "Methods:\n",
    "address - public\n",
    "It give address of the person as \"<name>, <city>, <state>\""
   ]
  },
  {
   "cell_type": "code",
   "execution_count": 16,
   "id": "afbf9447-cedb-4629-88bf-74f941099e71",
   "metadata": {},
   "outputs": [
    {
     "data": {
      "text/plain": [
       "'<Mahesh>,<Pune>,<Maharashtra>'"
      ]
     },
     "execution_count": 16,
     "metadata": {},
     "output_type": "execute_result"
    }
   ],
   "source": [
    "class Person:\n",
    "\n",
    "    def __init__(self,name,age,address):\n",
    "        self.name = name\n",
    "        self.__age = age\n",
    "        self.__address = address\n",
    "\n",
    "    def address(self):\n",
    "        return f\"<{self.name}>,<{self.__address.get_city()}>,<{self.__address.state}>\"\n",
    "\n",
    "class Address:\n",
    "\n",
    "    def __init__(self,city,state):\n",
    "        self.__city = city\n",
    "        self.state = state\n",
    "\n",
    "    def get_city(self):\n",
    "        return self.__city\n",
    "\n",
    "    def __get_state(self):\n",
    "        return self.state\n",
    "\n",
    "    def display(self):\n",
    "        new_var = 125\n",
    "add = Address(\"Pune\",\"Maharashtra\")      \n",
    "person = Person(\"Mahesh\",27,add)\n",
    "person.address()"
   ]
  },
  {
   "cell_type": "code",
   "execution_count": 17,
   "id": "46573cdb-7784-4aa5-8645-6df7e001291e",
   "metadata": {},
   "outputs": [
    {
     "name": "stdout",
     "output_type": "stream",
     "text": [
      "__module__\n",
      "__init__\n",
      "address\n",
      "__dict__\n",
      "__weakref__\n",
      "__doc__\n"
     ]
    }
   ],
   "source": [
    "# Name space of class Person\n",
    "for i in Person.__dict__:\n",
    "    print(i)"
   ]
  },
  {
   "cell_type": "code",
   "execution_count": 18,
   "id": "877a51d4-579d-4654-ad91-659e9b40d790",
   "metadata": {},
   "outputs": [
    {
     "name": "stdout",
     "output_type": "stream",
     "text": [
      "__module__\n",
      "__init__\n",
      "get_city\n",
      "_Address__get_state\n",
      "display\n",
      "__dict__\n",
      "__weakref__\n",
      "__doc__\n"
     ]
    }
   ],
   "source": [
    "# Name space of class Address\n",
    "for i in Address.__dict__:\n",
    "    print(i)"
   ]
  },
  {
   "cell_type": "markdown",
   "id": "9810c1cb-9e00-4268-9795-97bdf74c56ca",
   "metadata": {},
   "source": [
    "### Q2: Write a program to show namespace of object/instance of above(Person) class."
   ]
  },
  {
   "cell_type": "code",
   "execution_count": 19,
   "id": "9afd2f3e-ccad-43ef-98e1-fb26f86e6621",
   "metadata": {},
   "outputs": [
    {
     "data": {
      "text/plain": [
       "'<Mahesh>,<Pune>,<Maharashtra>'"
      ]
     },
     "execution_count": 19,
     "metadata": {},
     "output_type": "execute_result"
    }
   ],
   "source": [
    "class Person:\n",
    "\n",
    "    def __init__(self,name,age,address):\n",
    "        self.name = name\n",
    "        self.__age = age\n",
    "        self.__address = address\n",
    "\n",
    "    def address(self):\n",
    "        return f\"<{self.name}>,<{self.__address.get_city()}>,<{self.__address.state}>\"\n",
    "\n",
    "class Address:\n",
    "\n",
    "    def __init__(self,city,state):\n",
    "        self.__city = city\n",
    "        self.state = state\n",
    "\n",
    "    def get_city(self):\n",
    "        return self.__city\n",
    "\n",
    "    def __get_state(self):\n",
    "        return self.state\n",
    "\n",
    "    def display(self):\n",
    "        new_var = 125\n",
    "add = Address(\"Pune\",\"Maharashtra\")      \n",
    "person = Person(\"Mahesh\",27,add)\n",
    "person.address()"
   ]
  },
  {
   "cell_type": "code",
   "execution_count": 20,
   "id": "6a717462-55bf-49d8-9901-cda4d4df2874",
   "metadata": {},
   "outputs": [
    {
     "name": "stdout",
     "output_type": "stream",
     "text": [
      "name\n",
      "_Person__age\n",
      "_Person__address\n"
     ]
    }
   ],
   "source": [
    "# Name space of object person\n",
    "for i in person.__dict__:\n",
    "    print(i)"
   ]
  },
  {
   "cell_type": "code",
   "execution_count": 21,
   "id": "42c68224-c4b8-4489-be40-8550b8f5d15b",
   "metadata": {},
   "outputs": [
    {
     "name": "stdout",
     "output_type": "stream",
     "text": [
      "_Address__city\n",
      "state\n"
     ]
    }
   ],
   "source": [
    "# Name space of object add\n",
    "for i in add.__dict__:\n",
    "    print(i)"
   ]
  },
  {
   "cell_type": "markdown",
   "id": "87795f66-d166-4f74-b6fb-9bbf24906a2a",
   "metadata": {},
   "source": [
    "### Q3: Write a recursive program to to calculate gcd and print no. of function calls taken to find the solution."
   ]
  },
  {
   "cell_type": "code",
   "execution_count": null,
   "id": "f60bead3-d782-496a-af3e-2d37c58fcf9e",
   "metadata": {},
   "outputs": [],
   "source": [
    "gcd(5,10) -> result in 5 as gcd and function call 3"
   ]
  },
  {
   "cell_type": "code",
   "execution_count": 25,
   "id": "17aa505a-c1f6-4034-8ac1-290693f0acdc",
   "metadata": {},
   "outputs": [
    {
     "data": {
      "text/plain": [
       "12"
      ]
     },
     "execution_count": 25,
     "metadata": {},
     "output_type": "execute_result"
    }
   ],
   "source": [
    "# Solution with time complexity O(max(a,b)) >> Worst Case ,O(min(a,b)) >> best Case\n",
    "def gcd(a,b):\n",
    "    if a == b:\n",
    "        return a\n",
    "    elif a>b:\n",
    "        return gcd(a-b,b)\n",
    "    elif b>a:\n",
    "        return gcd(b-a,a)\n",
    "gcd(36,12)    "
   ]
  },
  {
   "cell_type": "code",
   "execution_count": 32,
   "id": "331dee95-afa8-4cb8-8408-c778d4b1ff0a",
   "metadata": {},
   "outputs": [
    {
     "name": "stdout",
     "output_type": "stream",
     "text": [
      "GCD is: 5 No of function calls to calculate GCD is:  3\n"
     ]
    }
   ],
   "source": [
    "# Solution with time complexity O(log(min(a,b))\n",
    "counter = 0\n",
    "def gcd(a,b):\n",
    "    global counter\n",
    "    counter +=1\n",
    "    if b == 0:\n",
    "        return a\n",
    "    else:\n",
    "        return gcd(b,a%b)\n",
    "print(\"GCD is:\",gcd(5,10),\"No of function calls to calculate GCD is: \",counter)"
   ]
  },
  {
   "cell_type": "markdown",
   "id": "d52ad2b4-67e0-4280-9819-1c9e1eb2e00b",
   "metadata": {},
   "source": [
    "### Q4: Create MyEnumerate class,\n",
    "### Create your own MyEnumerate class such that someone can use it instead of enumerate. It will need to return a tuple with each iteration, with the first element in the tuple being the index (starting with 0) and the second element being the current element from the underlying data structure. Trying to use MyEnumerate with a noniterable argument will result in an error.\n",
    "        "
   ]
  },
  {
   "cell_type": "raw",
   "id": "2e61c877-c8f4-4670-a70e-52063337bc67",
   "metadata": {},
   "source": [
    "for index, letter in MyEnumerate('abc'):\n",
    "    print(f'{index} : {letter}')\n",
    "Output:\n",
    "\n",
    "0 : a\n",
    "1 : b\n",
    "2 : c"
   ]
  },
  {
   "cell_type": "code",
   "execution_count": 62,
   "id": "2bad08c2-7581-4f75-bf65-49fe67fcf05b",
   "metadata": {},
   "outputs": [
    {
     "name": "stdout",
     "output_type": "stream",
     "text": [
      "Error: Provided object is not iterable.\n",
      "(1, 1)\n",
      "(2, 2)\n",
      "(3, 3)\n",
      "(4, 4)\n"
     ]
    }
   ],
   "source": [
    "from collections.abc import Iterable\n",
    "\n",
    "class MyEnumerate:\n",
    "\n",
    "    def __init__(self,iterable,start=0):\n",
    "        if not isinstance(iterable, Iterable):\n",
    "            raise TypeError(\"Error: Provided object is not iterable.\")\n",
    "            \n",
    "        self.start = start\n",
    "        self.iterable = iterable\n",
    "\n",
    "    def __iter__(self):\n",
    "        return MyEnumerateiterator(self)\n",
    "\n",
    "class MyEnumerateiterator:\n",
    "\n",
    "    def __init__(self,enu_obj):\n",
    "        self.enu_obj = enu_obj\n",
    "        self.index = 0\n",
    "\n",
    "    def __iter__(self):\n",
    "        return self\n",
    "\n",
    "    def __next__(self):\n",
    "        if self.index >= len(self.enu_obj.iterable):\n",
    "            raise StopIteration\n",
    "\n",
    "        value = (self.enu_obj.start,self.enu_obj.iterable[self.index])\n",
    "        self.enu_obj.start+=1\n",
    "        self.index+=1\n",
    "        return value      \n",
    "\n",
    "try:\n",
    "    for i in MyEnumerate(1, start=10):  # Passing an integer instead of an iterable\n",
    "        print(i)\n",
    "except TypeError as e:\n",
    "    print(e) \n",
    "\n",
    "try:\n",
    "    for i in MyEnumerate([1,2,3,4], start=1):  # Passing an integer instead of an iterable\n",
    "        print(i)\n",
    "except TypeError as e:\n",
    "    print(e) "
   ]
  },
  {
   "cell_type": "code",
   "execution_count": 60,
   "id": "65ed79e7-297c-41c7-94e7-1677ef6cf80b",
   "metadata": {},
   "outputs": [
    {
     "name": "stdout",
     "output_type": "stream",
     "text": [
      "(10, 1)\n",
      "(11, 2)\n",
      "(12, 3)\n",
      "(13, 4)\n",
      "(14, 5)\n",
      "(15, 6)\n",
      "(16, 7)\n",
      "(17, 8)\n",
      "(18, 9)\n",
      "(19, 10)\n"
     ]
    }
   ],
   "source": [
    "for i in enumerate(range(1,11),start=10):\n",
    "    print(i)"
   ]
  },
  {
   "cell_type": "markdown",
   "id": "d7ea7e06-e4f6-49ed-a99e-11bc17e6cf9f",
   "metadata": {},
   "source": [
    "### Q5: Iterate in circle\n",
    "### Define a class, Circle, that takes two arguments when defined: a sequence and a number. The idea is that the object will then return elements the defined number of times. If the number is greater than the number of elements, then the sequence repeats as necessary. You can define an another class used as a helper (like I call CircleIterator)."
   ]
  },
  {
   "cell_type": "raw",
   "id": "a8f165e7-b88d-4e81-9fd9-d648bbbfcbe6",
   "metadata": {},
   "source": [
    "c = Circle('abc', 5)\n",
    "d = Circle('abc', 7)\n",
    "print(list(c))\n",
    "print(list(d))\n",
    "Output\n",
    "\n",
    "[a, b, c, a, b]\n",
    "[a, b, c, a, b, c, a]"
   ]
  },
  {
   "cell_type": "code",
   "execution_count": 82,
   "id": "10a3ca8b-1694-4870-aeda-6e800d4c6960",
   "metadata": {},
   "outputs": [
    {
     "name": "stdout",
     "output_type": "stream",
     "text": [
      "['a', 'b', 'c', 'a', 'b']\n",
      "['a', 'b', 'c', 'a', 'b', 'c', 'a']\n"
     ]
    }
   ],
   "source": [
    "class Circle:\n",
    "\n",
    "    def __init__(self,sequence,num):\n",
    "        self.sequence= sequence\n",
    "        self.num = num\n",
    "\n",
    "    def __iter__(self):\n",
    "        return CircleIterator(self)\n",
    "\n",
    "class CircleIterator:\n",
    "\n",
    "    def __init__(self,circle_obj):\n",
    "        self.circle_obj = circle_obj\n",
    "        self.index = 0\n",
    "\n",
    "    def __iter__(self):\n",
    "        return self\n",
    "\n",
    "    def __next__(self):\n",
    "        if self.index >= self.circle_obj.num:\n",
    "           raise StopIteration\n",
    "        value = self.circle_obj.sequence[self.index % len(self.circle_obj.sequence)]\n",
    "        self.index+=1\n",
    "        return value\n",
    "\n",
    "c = Circle('abc', 5)\n",
    "d = Circle('abc', 7)\n",
    "print(list(c))\n",
    "print(list(d))"
   ]
  },
  {
   "cell_type": "markdown",
   "id": "ad5139a5-33bc-4314-a16f-d821dc78ac93",
   "metadata": {},
   "source": [
    "### Q6: Generator time elapsed\n",
    "### Write a generator function whose argument must be iterable. With each iteration, the generator will return a two-element tuple. The first element in the tuple will be an integer indicating how many seconds have passed since the previous iteration. The tuple’s second element will be the next item from the passed argument.\n",
    "\n",
    "### Note that the timing should be relative to the previous iteration, not when the generator was first created or invoked. Thus the timing number in the first iteration will be 0"
   ]
  },
  {
   "cell_type": "raw",
   "id": "c39372e5-70c2-4f0e-b7d3-0bb5e23f7495",
   "metadata": {},
   "source": [
    "for t in elapsed_since('abcd'):\n",
    "    print(t)\n",
    "    time.sleep(2)\n",
    "Output:\n",
    "\n",
    "(0.0, 'a')\n",
    "(2.005651817999933, 'b')\n",
    "(2.0023095009998997, 'c')\n",
    "(2.001949742000079, 'd')"
   ]
  },
  {
   "cell_type": "code",
   "execution_count": 90,
   "id": "70c5d5e9-072e-450c-94b7-4a78c82c97a1",
   "metadata": {},
   "outputs": [],
   "source": [
    "import time\n",
    "def elapsed_since(iterable):\n",
    "    start = time.time()\n",
    "    for i in iterable:\n",
    "        t = time.time() - start\n",
    "        start = time.time()\n",
    "        \n",
    "        yield (t,i)"
   ]
  },
  {
   "cell_type": "code",
   "execution_count": 91,
   "id": "1c435d2f-799b-4a5d-b451-a2f919e2c553",
   "metadata": {},
   "outputs": [
    {
     "name": "stdout",
     "output_type": "stream",
     "text": [
      "(0.0, 'a')\n",
      "(2.0058484077453613, 'b')\n",
      "(2.000988245010376, 'c')\n",
      "(2.0049211978912354, 'd')\n"
     ]
    }
   ],
   "source": [
    "for t in elapsed_since('abcd'):\n",
    "    print(t)\n",
    "    time.sleep(2)"
   ]
  },
  {
   "cell_type": "markdown",
   "id": "fa03fbab-be06-4d32-9aff-114904f79589",
   "metadata": {},
   "source": [
    "### Q7: Write a Python program to make a chain of function decorators (bold, italic, underline etc.) on a given function which prints \"hello world\""
   ]
  },
  {
   "cell_type": "raw",
   "id": "a6c46a7d-f6a2-4a4b-b61f-6f0d1c765d96",
   "metadata": {},
   "source": [
    "def hello():\n",
    "    return \"hello world\"\n",
    "bold - wrap string with <b> tag. <b>Str</b>\n",
    "italic - wrap string with <i> tag. <i>Str</i>\n",
    "underline- wrap string with <u> tag. <u>Str</u>"
   ]
  },
  {
   "cell_type": "code",
   "execution_count": 93,
   "id": "75a20294-9c5d-448b-a679-b0d6ac1c694c",
   "metadata": {},
   "outputs": [
    {
     "name": "stdout",
     "output_type": "stream",
     "text": [
      "<u><i><b>hello world</b></i></u>\n"
     ]
    }
   ],
   "source": [
    "def bold_decorator(fun):\n",
    "    def wrapper():\n",
    "        return \"<b>\"+fun()+\"</b>\"\n",
    "    return wrapper\n",
    "def italic_decorator(fun):\n",
    "    def wrapper():\n",
    "        return \"<i>\"+fun()+\"</i>\"\n",
    "    return wrapper\n",
    "def underline_decorator(fun):\n",
    "    def wrapper():\n",
    "        return \"<u>\"+fun()+\"</u>\"\n",
    "    return wrapper\n",
    "\n",
    "\n",
    "@underline_decorator\n",
    "@italic_decorator\n",
    "@bold_decorator\n",
    "def hello():\n",
    "    return \"hello world\"\n",
    "\n",
    "print(hello())"
   ]
  },
  {
   "cell_type": "code",
   "execution_count": 96,
   "id": "e85a4587-4057-427a-b315-9b2aff714f85",
   "metadata": {},
   "outputs": [
    {
     "name": "stdout",
     "output_type": "stream",
     "text": [
      "['HELLO', 'WORLD', 'MY', 'NAME', 'IS', 'MAHESH']\n"
     ]
    }
   ],
   "source": [
    "def upper_decorator(fun):\n",
    "    def wrapper():\n",
    "        return fun().upper()\n",
    "    return wrapper\n",
    "def concat_decorator(fun):\n",
    "    def wrapper():\n",
    "        return fun() + \" my name is Mahesh\"\n",
    "    return wrapper\n",
    "def split_decorator(fun):\n",
    "    def wrapper():\n",
    "        return fun().split()\n",
    "    return wrapper\n",
    "\n",
    "\n",
    "@split_decorator\n",
    "@upper_decorator\n",
    "@concat_decorator\n",
    "def hello():\n",
    "    return \"hello world\"\n",
    "\n",
    "print(hello())"
   ]
  },
  {
   "cell_type": "markdown",
   "id": "b1c7984c-84df-41f2-8a1f-5489e8e024e9",
   "metadata": {},
   "source": [
    "### Q8: Write a decorator called printer which causes any decorated function to print their return values. If the return value of a given function is None, printer should do nothing."
   ]
  },
  {
   "cell_type": "code",
   "execution_count": 114,
   "id": "ba2ad221-0750-4dd3-8059-948f6b1562dd",
   "metadata": {},
   "outputs": [
    {
     "name": "stdout",
     "output_type": "stream",
     "text": [
      "Hi \n"
     ]
    }
   ],
   "source": [
    "from functools import wraps\n",
    "def printer_decorator(fun):\n",
    "    @wraps(fun)\n",
    "    def wrapper(*args,**kwargs):\n",
    "        return_value = fun(*args,**kwargs)\n",
    "        if return_value is None:\n",
    "            return return_value\n",
    "        else:\n",
    "            print(return_value)\n",
    "            #return return_value\n",
    "\n",
    "    return wrapper\n",
    "            \n",
    "@printer_decorator\n",
    "def hello(st):\n",
    "    return f\"{st}\"  \n",
    "\n",
    "hello(\"Hi \")"
   ]
  },
  {
   "cell_type": "code",
   "execution_count": 115,
   "id": "a276c113-7cc5-49e4-a948-21b7b76e0e75",
   "metadata": {},
   "outputs": [
    {
     "name": "stdout",
     "output_type": "stream",
     "text": [
      "Help on function hello in module __main__:\n",
      "\n",
      "hello(st)\n",
      "\n"
     ]
    }
   ],
   "source": [
    "help(hello)"
   ]
  },
  {
   "cell_type": "markdown",
   "id": "cafb6cdc-405f-4f1a-9bf9-e60be25ab08c",
   "metadata": {},
   "source": [
    "### Q9: Make a decorator which calls a given function twice. You can assume the functions don't return anything important, but they may take arguments."
   ]
  },
  {
   "cell_type": "raw",
   "id": "512d47dc-7209-455b-89a1-541ee370c6c5",
   "metadata": {},
   "source": [
    "# Lets say given function \n",
    "def hello(string):\n",
    "    print(string)\n",
    "\n",
    "# on calling after specified decorator is inplaced\n",
    "hello('hello')\n",
    "Output:\n",
    "\n",
    "hello\n",
    "hello"
   ]
  },
  {
   "cell_type": "code",
   "execution_count": 121,
   "id": "5e201b3d-6a84-4c14-8278-7b23612b8b3d",
   "metadata": {},
   "outputs": [
    {
     "name": "stdout",
     "output_type": "stream",
     "text": [
      "hello\n",
      "hello\n"
     ]
    }
   ],
   "source": [
    "from functools import wraps\n",
    "\n",
    "def print_twise(fun):\n",
    "    @wraps(fun)\n",
    "    def wrapper(*args,**kwargs):\n",
    "        fun(*args,**kwargs)\n",
    "        fun(*args,**kwargs)\n",
    "    return wrapper\n",
    "\n",
    "@print_twise\n",
    "def hello(string):\n",
    "    print(string) \n",
    "\n",
    "hello('hello')"
   ]
  },
  {
   "cell_type": "code",
   "execution_count": 122,
   "id": "c93de282-a0c2-4112-9cbe-089043dc4a0d",
   "metadata": {},
   "outputs": [
    {
     "name": "stdout",
     "output_type": "stream",
     "text": [
      "nonsense\n",
      "nonsense\n"
     ]
    }
   ],
   "source": [
    "hello('nonsense')"
   ]
  },
  {
   "cell_type": "markdown",
   "id": "9533c51e-be92-49b6-b36e-bbc97a1c97e4",
   "metadata": {},
   "source": [
    "### Q10: Write a decorator which doubles the return value of any function. And test that decoratos is working correctly or not using assert."
   ]
  },
  {
   "cell_type": "raw",
   "id": "8168f38c-4772-4a51-a7ac-a13246fe4d77",
   "metadata": {},
   "source": [
    "add(2,3) -> result in 10. Without decorator it should be 5."
   ]
  },
  {
   "cell_type": "code",
   "execution_count": 133,
   "id": "e1e6066f-b311-49ac-ad76-b8139ea62e43",
   "metadata": {},
   "outputs": [
    {
     "name": "stdout",
     "output_type": "stream",
     "text": [
      "Values are matching\n"
     ]
    }
   ],
   "source": [
    "from functools import wraps\n",
    "def double(fun):\n",
    "    @wraps(fun)\n",
    "    def wrapper(*args,**kwargs):\n",
    "        res = fun(*args,**kwargs)*2\n",
    "        return res\n",
    "    return wrapper\n",
    "\n",
    "a = 3\n",
    "b = 3\n",
    "\n",
    "@double\n",
    "def add(a,b):\n",
    "    return a+b\n",
    "\n",
    "def add1(a,b):\n",
    "    return a+b\n",
    "\n",
    "assert add1(2,3)*2 == add(2,3), \"Values are not matching\"\n",
    "print(\"Values are matching\")"
   ]
  },
  {
   "cell_type": "code",
   "execution_count": 127,
   "id": "cd32756e-4368-4cb3-936c-241eec91a9bb",
   "metadata": {},
   "outputs": [
    {
     "data": {
      "text/plain": [
       "10"
      ]
     },
     "execution_count": 127,
     "metadata": {},
     "output_type": "execute_result"
    }
   ],
   "source": [
    "add(2,3)"
   ]
  },
  {
   "cell_type": "code",
   "execution_count": 128,
   "id": "9a4849ef-8199-482b-a683-4b7f27a2975f",
   "metadata": {},
   "outputs": [
    {
     "data": {
      "text/plain": [
       "5"
      ]
     },
     "execution_count": 128,
     "metadata": {},
     "output_type": "execute_result"
    }
   ],
   "source": [
    "add1(2,3)"
   ]
  }
 ],
 "metadata": {
  "kernelspec": {
   "display_name": "Python 3 (ipykernel)",
   "language": "python",
   "name": "python3"
  },
  "language_info": {
   "codemirror_mode": {
    "name": "ipython",
    "version": 3
   },
   "file_extension": ".py",
   "mimetype": "text/x-python",
   "name": "python",
   "nbconvert_exporter": "python",
   "pygments_lexer": "ipython3",
   "version": "3.10.6"
  }
 },
 "nbformat": 4,
 "nbformat_minor": 5
}
