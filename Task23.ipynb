{
 "cells": [
  {
   "cell_type": "code",
   "execution_count": 1,
   "id": "4f018cbf-0e60-4c65-a3c6-b5f656b6ec21",
   "metadata": {},
   "outputs": [],
   "source": [
    "import numpy as np\n",
    "import pandas as pd\n",
    "\n",
    "import matplotlib.pyplot as plt\n",
    "\n",
    "plt.style.use('default')"
   ]
  },
  {
   "cell_type": "markdown",
   "id": "b332aab4-b169-4905-9c30-0a222b2f43bc",
   "metadata": {},
   "source": [
    "### Problem 1 to 5:\n",
    "### Dataset link: https://tinyurl.com/2fe6vz4u\n",
    "\n",
    "### Add a label to every axis and add a proper title for the charts. Also add proper labels if there are multiple representations. Then, you can customize it as your wish.\n",
    "\n"
   ]
  },
  {
   "cell_type": "markdown",
   "id": "52c6a884-42cd-4031-ba2f-b3c4e533e83e",
   "metadata": {},
   "source": [
    "### Problem-1: Draw a line plot of which, the x-axis is the \"Year\" and the y-axis is sum of \"PM2.5\" of two countries Iran and China."
   ]
  },
  {
   "cell_type": "code",
   "execution_count": 2,
   "id": "31dcd92d-bfea-4adc-a6c3-ff605df375ae",
   "metadata": {},
   "outputs": [
    {
     "data": {
      "text/html": [
       "<div>\n",
       "<style scoped>\n",
       "    .dataframe tbody tr th:only-of-type {\n",
       "        vertical-align: middle;\n",
       "    }\n",
       "\n",
       "    .dataframe tbody tr th {\n",
       "        vertical-align: top;\n",
       "    }\n",
       "\n",
       "    .dataframe thead th {\n",
       "        text-align: right;\n",
       "    }\n",
       "</style>\n",
       "<table border=\"1\" class=\"dataframe\">\n",
       "  <thead>\n",
       "    <tr style=\"text-align: right;\">\n",
       "      <th></th>\n",
       "      <th>Unnamed: 0</th>\n",
       "      <th>Position</th>\n",
       "      <th>Country</th>\n",
       "      <th>City/Town</th>\n",
       "      <th>Year</th>\n",
       "      <th>PM2.5</th>\n",
       "      <th>Temporal coverage</th>\n",
       "      <th>PM10</th>\n",
       "      <th>Temporal coverage.1</th>\n",
       "      <th>Database version (year)</th>\n",
       "    </tr>\n",
       "  </thead>\n",
       "  <tbody>\n",
       "    <tr>\n",
       "      <th>0</th>\n",
       "      <td>0</td>\n",
       "      <td>1</td>\n",
       "      <td>India</td>\n",
       "      <td>Kanpur</td>\n",
       "      <td>2016</td>\n",
       "      <td>173</td>\n",
       "      <td>&gt;75%</td>\n",
       "      <td>319</td>\n",
       "      <td>NaN</td>\n",
       "      <td>2018</td>\n",
       "    </tr>\n",
       "    <tr>\n",
       "      <th>1</th>\n",
       "      <td>1</td>\n",
       "      <td>2</td>\n",
       "      <td>India</td>\n",
       "      <td>Faridabad</td>\n",
       "      <td>2016</td>\n",
       "      <td>172</td>\n",
       "      <td>&gt;75%</td>\n",
       "      <td>316</td>\n",
       "      <td>NaN</td>\n",
       "      <td>2018</td>\n",
       "    </tr>\n",
       "    <tr>\n",
       "      <th>2</th>\n",
       "      <td>2</td>\n",
       "      <td>3</td>\n",
       "      <td>India</td>\n",
       "      <td>Gaya</td>\n",
       "      <td>2016</td>\n",
       "      <td>149</td>\n",
       "      <td>50% -&lt; 75%</td>\n",
       "      <td>275</td>\n",
       "      <td>NaN</td>\n",
       "      <td>2018</td>\n",
       "    </tr>\n",
       "    <tr>\n",
       "      <th>3</th>\n",
       "      <td>3</td>\n",
       "      <td>4</td>\n",
       "      <td>India</td>\n",
       "      <td>Varanasi</td>\n",
       "      <td>2016</td>\n",
       "      <td>146</td>\n",
       "      <td>&gt;75%</td>\n",
       "      <td>260</td>\n",
       "      <td>NaN</td>\n",
       "      <td>2018</td>\n",
       "    </tr>\n",
       "    <tr>\n",
       "      <th>4</th>\n",
       "      <td>4</td>\n",
       "      <td>5</td>\n",
       "      <td>India</td>\n",
       "      <td>Patna</td>\n",
       "      <td>2016</td>\n",
       "      <td>144</td>\n",
       "      <td>&gt;75%</td>\n",
       "      <td>266</td>\n",
       "      <td>NaN</td>\n",
       "      <td>2018</td>\n",
       "    </tr>\n",
       "  </tbody>\n",
       "</table>\n",
       "</div>"
      ],
      "text/plain": [
       "   Unnamed: 0  Position Country  City/Town  Year  PM2.5 Temporal coverage  \\\n",
       "0           0         1   India     Kanpur  2016    173              >75%   \n",
       "1           1         2   India  Faridabad  2016    172              >75%   \n",
       "2           2         3   India       Gaya  2016    149        50% -< 75%   \n",
       "3           3         4   India   Varanasi  2016    146              >75%   \n",
       "4           4         5   India      Patna  2016    144              >75%   \n",
       "\n",
       "   PM10 Temporal coverage.1  Database version (year)  \n",
       "0   319                 NaN                     2018  \n",
       "1   316                 NaN                     2018  \n",
       "2   275                 NaN                     2018  \n",
       "3   260                 NaN                     2018  \n",
       "4   266                 NaN                     2018  "
      ]
     },
     "execution_count": 2,
     "metadata": {},
     "output_type": "execute_result"
    }
   ],
   "source": [
    "df = pd.read_csv(r\"D:\\Jupyter\\List of most-polluted cities by particulate matter concentration - List of most-polluted cities by particulate matter concentration.csv\")\n",
    "df.head()"
   ]
  },
  {
   "cell_type": "code",
   "execution_count": 38,
   "id": "d79798f4-4240-4c6e-aa33-ce18131e03cc",
   "metadata": {},
   "outputs": [
    {
     "data": {
      "image/png": "[encoded data removed]",
      "text/plain": [
       "<Figure size 432x288 with 1 Axes>"
      ]
     },
     "metadata": {
      "needs_background": "light"
     },
     "output_type": "display_data"
    }
   ],
   "source": [
    "iran = df[df[\"Country\"] == \"Iran\"].groupby(\"Year\")[\"PM2.5\"].sum().reset_index()\n",
    "china = df[df[\"Country\"] == \"China\"].groupby(\"Year\")[\"PM2.5\"].sum().reset_index()\n",
    "plt.plot(iran[\"Year\"],iran[\"PM2.5\"],marker=\"D\",label=\"Iran\",linestyle=\"dashed\")\n",
    "plt.plot(china[\"Year\"],china[\"PM2.5\"],marker=\"D\",label=\"China\",linestyle=\"dotted\")\n",
    "\n",
    "plt.title(\"Iran vs China Yearly Total PM2.5 Analysis \")\n",
    "plt.xlabel(\"Year\")\n",
    "plt.ylabel(\"PM2.5\")\n",
    "plt.xticks(df[\"Year\"].unique())\n",
    "plt.xlim(2011,2017)\n",
    "plt.grid()\n",
    "plt.legend()\n",
    "plt.show()"
   ]
  },
  {
   "cell_type": "markdown",
   "id": "cf495e2b-fe87-4fb8-a9c2-f3b358d2cce9",
   "metadata": {},
   "source": [
    "### Problem-2: Draw a histogram of the column \"PM10\" of which the y-axis represents the probability (see the documentation how to draw the probability)."
   ]
  },
  {
   "cell_type": "code",
   "execution_count": 39,
   "id": "3aa9b55e-7b91-4194-a7f4-1dbe06e050a1",
   "metadata": {},
   "outputs": [
    {
     "data": {
      "text/html": [
       "<div>\n",
       "<style scoped>\n",
       "    .dataframe tbody tr th:only-of-type {\n",
       "        vertical-align: middle;\n",
       "    }\n",
       "\n",
       "    .dataframe tbody tr th {\n",
       "        vertical-align: top;\n",
       "    }\n",
       "\n",
       "    .dataframe thead th {\n",
       "        text-align: right;\n",
       "    }\n",
       "</style>\n",
       "<table border=\"1\" class=\"dataframe\">\n",
       "  <thead>\n",
       "    <tr style=\"text-align: right;\">\n",
       "      <th></th>\n",
       "      <th>Unnamed: 0</th>\n",
       "      <th>Position</th>\n",
       "      <th>Country</th>\n",
       "      <th>City/Town</th>\n",
       "      <th>Year</th>\n",
       "      <th>PM2.5</th>\n",
       "      <th>Temporal coverage</th>\n",
       "      <th>PM10</th>\n",
       "      <th>Temporal coverage.1</th>\n",
       "      <th>Database version (year)</th>\n",
       "    </tr>\n",
       "  </thead>\n",
       "  <tbody>\n",
       "    <tr>\n",
       "      <th>0</th>\n",
       "      <td>0</td>\n",
       "      <td>1</td>\n",
       "      <td>India</td>\n",
       "      <td>Kanpur</td>\n",
       "      <td>2016</td>\n",
       "      <td>173</td>\n",
       "      <td>&gt;75%</td>\n",
       "      <td>319</td>\n",
       "      <td>NaN</td>\n",
       "      <td>2018</td>\n",
       "    </tr>\n",
       "    <tr>\n",
       "      <th>1</th>\n",
       "      <td>1</td>\n",
       "      <td>2</td>\n",
       "      <td>India</td>\n",
       "      <td>Faridabad</td>\n",
       "      <td>2016</td>\n",
       "      <td>172</td>\n",
       "      <td>&gt;75%</td>\n",
       "      <td>316</td>\n",
       "      <td>NaN</td>\n",
       "      <td>2018</td>\n",
       "    </tr>\n",
       "    <tr>\n",
       "      <th>2</th>\n",
       "      <td>2</td>\n",
       "      <td>3</td>\n",
       "      <td>India</td>\n",
       "      <td>Gaya</td>\n",
       "      <td>2016</td>\n",
       "      <td>149</td>\n",
       "      <td>50% -&lt; 75%</td>\n",
       "      <td>275</td>\n",
       "      <td>NaN</td>\n",
       "      <td>2018</td>\n",
       "    </tr>\n",
       "    <tr>\n",
       "      <th>3</th>\n",
       "      <td>3</td>\n",
       "      <td>4</td>\n",
       "      <td>India</td>\n",
       "      <td>Varanasi</td>\n",
       "      <td>2016</td>\n",
       "      <td>146</td>\n",
       "      <td>&gt;75%</td>\n",
       "      <td>260</td>\n",
       "      <td>NaN</td>\n",
       "      <td>2018</td>\n",
       "    </tr>\n",
       "    <tr>\n",
       "      <th>4</th>\n",
       "      <td>4</td>\n",
       "      <td>5</td>\n",
       "      <td>India</td>\n",
       "      <td>Patna</td>\n",
       "      <td>2016</td>\n",
       "      <td>144</td>\n",
       "      <td>&gt;75%</td>\n",
       "      <td>266</td>\n",
       "      <td>NaN</td>\n",
       "      <td>2018</td>\n",
       "    </tr>\n",
       "  </tbody>\n",
       "</table>\n",
       "</div>"
      ],
      "text/plain": [
       "   Unnamed: 0  Position Country  City/Town  Year  PM2.5 Temporal coverage  \\\n",
       "0           0         1   India     Kanpur  2016    173              >75%   \n",
       "1           1         2   India  Faridabad  2016    172              >75%   \n",
       "2           2         3   India       Gaya  2016    149        50% -< 75%   \n",
       "3           3         4   India   Varanasi  2016    146              >75%   \n",
       "4           4         5   India      Patna  2016    144              >75%   \n",
       "\n",
       "   PM10 Temporal coverage.1  Database version (year)  \n",
       "0   319                 NaN                     2018  \n",
       "1   316                 NaN                     2018  \n",
       "2   275                 NaN                     2018  \n",
       "3   260                 NaN                     2018  \n",
       "4   266                 NaN                     2018  "
      ]
     },
     "execution_count": 39,
     "metadata": {},
     "output_type": "execute_result"
    }
   ],
   "source": [
    "df.head()"
   ]
  },
  {
   "cell_type": "code",
   "execution_count": 48,
   "id": "27193a7c-50ba-4050-a59e-44605e839be5",
   "metadata": {},
   "outputs": [
    {
     "data": {
      "image/png": "[encoded data removed]",
      "text/plain": [
       "<Figure size 432x288 with 1 Axes>"
      ]
     },
     "metadata": {
      "needs_background": "light"
     },
     "output_type": "display_data"
    }
   ],
   "source": [
    "plt.hist(df[\"PM10\"],density=True,bins=50,facecolor=\"#f8c471\",alpha=0.7)\n",
    "\n",
    "plt.xlabel(\"Bins\")\n",
    "plt.ylabel(\"Probability\")\n",
    "plt.title(\"Histogram of PM10\")\n",
    "plt.grid()\n",
    "plt.show()"
   ]
  },
  {
   "cell_type": "markdown",
   "id": "69b7419a-6038-4d55-b49e-148d733c16e3",
   "metadata": {},
   "source": [
    "### Problem-3: Draw a scatter plot where x-axis represents \"PM2.5\" and y-axis represents \"PM10\" for two countries Poland and Chile."
   ]
  },
  {
   "cell_type": "code",
   "execution_count": 74,
   "id": "a198bc37-898e-4317-94f6-ec09063c2270",
   "metadata": {},
   "outputs": [
    {
     "data": {
      "image/png": "[encoded data removed]",
      "text/plain": [
       "<Figure size 432x288 with 1 Axes>"
      ]
     },
     "metadata": {
      "needs_background": "light"
     },
     "output_type": "display_data"
    }
   ],
   "source": [
    "poland = df.query(\"Country == 'Poland'\")\n",
    "chile = df.query(\"Country == 'Chile'\")\n",
    "plt.scatter(poland[\"PM2.5\"],poland[\"PM10\"],marker=\"+\",color=\"#8e44ad\",s=70,label=\"Poland\")\n",
    "plt.scatter(chile[\"PM2.5\"],chile[\"PM10\"],marker=\"o\",color=\"#e74c3c\",label=\"Chile\")\n",
    "\n",
    "plt.title(\"PM2.5 vs PM10 Chile vs Poland\")\n",
    "plt.legend()\n",
    "plt.grid()\n",
    "plt.xlabel(\"PM2.5\")\n",
    "plt.ylabel(\"PM10\")\n",
    "plt.show()"
   ]
  },
  {
   "cell_type": "code",
   "execution_count": 50,
   "id": "902f1897-bdd0-46c4-a255-56e045ab3eef",
   "metadata": {},
   "outputs": [
    {
     "data": {
      "text/plain": [
       "array(['India', 'Cameroon', 'Pakistan', 'Uganda', 'Bangladesh', 'China',\n",
       "       'Qatar', 'Mongolia', 'Kuwait', 'Saudi Arabia', 'Chile', 'Bahrain',\n",
       "       'Iran', 'Bosnia and Herzegovina', 'South Africa', 'Ghana', 'Nepal',\n",
       "       'Vietnam', 'Philippines', 'Indonesia', 'Colombia', 'Guatemala',\n",
       "       'Croatia', 'North Macedonia', 'Peru', 'Turkey', 'Madagascar',\n",
       "       'Mexico', 'Cuba', 'Lebanon', 'Poland', 'Taiwan', 'Czech Republic',\n",
       "       'Republic of Korea', 'Costa Rica', 'Italy', 'Bulgaria', 'Israel',\n",
       "       'Morocco', 'Thailand', 'El Salvador'], dtype=object)"
      ]
     },
     "execution_count": 50,
     "metadata": {},
     "output_type": "execute_result"
    }
   ],
   "source": [
    "df[\"Country\"].unique()"
   ]
  },
  {
   "cell_type": "markdown",
   "id": "4b85da11-f635-4280-bba6-dfbedff24981",
   "metadata": {},
   "source": [
    "### Problem-4: Draw a pie chart of top 5 most frequent countries."
   ]
  },
  {
   "cell_type": "code",
   "execution_count": 75,
   "id": "f1a788f8-41b3-4f98-b29a-08ca45c78c87",
   "metadata": {},
   "outputs": [
    {
     "data": {
      "text/html": [
       "<div>\n",
       "<style scoped>\n",
       "    .dataframe tbody tr th:only-of-type {\n",
       "        vertical-align: middle;\n",
       "    }\n",
       "\n",
       "    .dataframe tbody tr th {\n",
       "        vertical-align: top;\n",
       "    }\n",
       "\n",
       "    .dataframe thead th {\n",
       "        text-align: right;\n",
       "    }\n",
       "</style>\n",
       "<table border=\"1\" class=\"dataframe\">\n",
       "  <thead>\n",
       "    <tr style=\"text-align: right;\">\n",
       "      <th></th>\n",
       "      <th>Unnamed: 0</th>\n",
       "      <th>Position</th>\n",
       "      <th>Country</th>\n",
       "      <th>City/Town</th>\n",
       "      <th>Year</th>\n",
       "      <th>PM2.5</th>\n",
       "      <th>Temporal coverage</th>\n",
       "      <th>PM10</th>\n",
       "      <th>Temporal coverage.1</th>\n",
       "      <th>Database version (year)</th>\n",
       "    </tr>\n",
       "  </thead>\n",
       "  <tbody>\n",
       "    <tr>\n",
       "      <th>0</th>\n",
       "      <td>0</td>\n",
       "      <td>1</td>\n",
       "      <td>India</td>\n",
       "      <td>Kanpur</td>\n",
       "      <td>2016</td>\n",
       "      <td>173</td>\n",
       "      <td>&gt;75%</td>\n",
       "      <td>319</td>\n",
       "      <td>NaN</td>\n",
       "      <td>2018</td>\n",
       "    </tr>\n",
       "    <tr>\n",
       "      <th>1</th>\n",
       "      <td>1</td>\n",
       "      <td>2</td>\n",
       "      <td>India</td>\n",
       "      <td>Faridabad</td>\n",
       "      <td>2016</td>\n",
       "      <td>172</td>\n",
       "      <td>&gt;75%</td>\n",
       "      <td>316</td>\n",
       "      <td>NaN</td>\n",
       "      <td>2018</td>\n",
       "    </tr>\n",
       "    <tr>\n",
       "      <th>2</th>\n",
       "      <td>2</td>\n",
       "      <td>3</td>\n",
       "      <td>India</td>\n",
       "      <td>Gaya</td>\n",
       "      <td>2016</td>\n",
       "      <td>149</td>\n",
       "      <td>50% -&lt; 75%</td>\n",
       "      <td>275</td>\n",
       "      <td>NaN</td>\n",
       "      <td>2018</td>\n",
       "    </tr>\n",
       "    <tr>\n",
       "      <th>3</th>\n",
       "      <td>3</td>\n",
       "      <td>4</td>\n",
       "      <td>India</td>\n",
       "      <td>Varanasi</td>\n",
       "      <td>2016</td>\n",
       "      <td>146</td>\n",
       "      <td>&gt;75%</td>\n",
       "      <td>260</td>\n",
       "      <td>NaN</td>\n",
       "      <td>2018</td>\n",
       "    </tr>\n",
       "    <tr>\n",
       "      <th>4</th>\n",
       "      <td>4</td>\n",
       "      <td>5</td>\n",
       "      <td>India</td>\n",
       "      <td>Patna</td>\n",
       "      <td>2016</td>\n",
       "      <td>144</td>\n",
       "      <td>&gt;75%</td>\n",
       "      <td>266</td>\n",
       "      <td>NaN</td>\n",
       "      <td>2018</td>\n",
       "    </tr>\n",
       "  </tbody>\n",
       "</table>\n",
       "</div>"
      ],
      "text/plain": [
       "   Unnamed: 0  Position Country  City/Town  Year  PM2.5 Temporal coverage  \\\n",
       "0           0         1   India     Kanpur  2016    173              >75%   \n",
       "1           1         2   India  Faridabad  2016    172              >75%   \n",
       "2           2         3   India       Gaya  2016    149        50% -< 75%   \n",
       "3           3         4   India   Varanasi  2016    146              >75%   \n",
       "4           4         5   India      Patna  2016    144              >75%   \n",
       "\n",
       "   PM10 Temporal coverage.1  Database version (year)  \n",
       "0   319                 NaN                     2018  \n",
       "1   316                 NaN                     2018  \n",
       "2   275                 NaN                     2018  \n",
       "3   260                 NaN                     2018  \n",
       "4   266                 NaN                     2018  "
      ]
     },
     "execution_count": 75,
     "metadata": {},
     "output_type": "execute_result"
    }
   ],
   "source": [
    "df.head()"
   ]
  },
  {
   "cell_type": "code",
   "execution_count": 78,
   "id": "65f9cca1-e1f4-43b4-a29e-da8a1b616d68",
   "metadata": {},
   "outputs": [
    {
     "data": {
      "text/plain": [
       "China     283\n",
       "Iran       43\n",
       "India      32\n",
       "Chile      19\n",
       "Poland     17\n",
       "Name: Country, dtype: int64"
      ]
     },
     "execution_count": 78,
     "metadata": {},
     "output_type": "execute_result"
    }
   ],
   "source": [
    "s = df[\"Country\"].value_counts().head()\n",
    "s"
   ]
  },
  {
   "cell_type": "code",
   "execution_count": 96,
   "id": "27ac087c-37de-4cc7-8253-77953daa9c20",
   "metadata": {},
   "outputs": [
    {
     "data": {
      "image/png": "[encoded data removed]",
      "text/plain": [
       "<Figure size 432x288 with 1 Axes>"
      ]
     },
     "metadata": {},
     "output_type": "display_data"
    }
   ],
   "source": [
    "plt.pie(s,labels=s.index,shadow=True,autopct=\"%0.1f%%\")\n",
    "plt.show()"
   ]
  },
  {
   "cell_type": "markdown",
   "id": "7a3b0bcb-dab4-42fe-b483-ae27acefdae2",
   "metadata": {},
   "source": [
    "### Problem-5: Draw a bar chart which represents the counts of top 5 most frequent countries."
   ]
  },
  {
   "cell_type": "code",
   "execution_count": 102,
   "id": "3fa9b587-f4e4-4bca-944a-0d5036555f40",
   "metadata": {},
   "outputs": [
    {
     "data": {
      "image/png": "[encoded data removed]",
      "text/plain": [
       "<Figure size 432x288 with 1 Axes>"
      ]
     },
     "metadata": {
      "needs_background": "light"
     },
     "output_type": "display_data"
    }
   ],
   "source": [
    "plt.bar(s.index,s.values,color=[\"#76d7c4\",\"#f7dc6f\",\"#c39bd3\",\"#f1948a\",\"#f8c471\"])\n",
    "plt.xlabel(\"Countries\")\n",
    "plt.ylabel(\"Frequency Count\")\n",
    "plt.xticks(rotation=\"vertical\")\n",
    "plt.show()"
   ]
  },
  {
   "cell_type": "markdown",
   "id": "6f659bf8-7e38-485f-ac5f-bfe833936e20",
   "metadata": {},
   "source": [
    "### Problem 6-10\n",
    "### Data Set - https://docs.google.com/spreadsheets/d/e/2PACX-1vTJh6X4_mqixWsfK9mgkllGQkKYW9Wj9kOIMGY2uYsWeS8n5np87DO-SDGQWJ1HXEnxiOVFVzYFYEcR/pub?gid=558678488&single=true&output=csv\n",
    "### This is a Sales data of any company in a Year."
   ]
  },
  {
   "cell_type": "markdown",
   "id": "f9512b47-d3de-4aef-a6cc-abb11bfcd93c",
   "metadata": {},
   "source": [
    "### Problem-6\n",
    "### Show a line plot of Total Profit for each month with below styling.\n",
    "\n",
    "- Dotted Line\n",
    "- Line Color Blue\n",
    "- Show Legend at top left\n",
    "- Circle Marker"
   ]
  },
  {
   "cell_type": "code",
   "execution_count": 117,
   "id": "73918287-181e-4858-ad0d-e2f30dd05630",
   "metadata": {},
   "outputs": [
    {
     "name": "stdout",
     "output_type": "stream",
     "text": [
      "['January', 'February', 'March', 'April', 'May', 'June', 'July', 'August', 'September', 'October', 'November', 'December']\n"
     ]
    }
   ],
   "source": [
    "import calendar\n",
    "\n",
    "# Get all month names (1 to 12)\n",
    "months = list(calendar.month_name)[1:]  # Skipping the first empty element\n",
    "print(months)"
   ]
  },
  {
   "cell_type": "code",
   "execution_count": 130,
   "id": "b6e9db77-28ba-4aab-b4bc-9e75d6cac955",
   "metadata": {},
   "outputs": [
    {
     "data": {
      "text/html": [
       "<div>\n",
       "<style scoped>\n",
       "    .dataframe tbody tr th:only-of-type {\n",
       "        vertical-align: middle;\n",
       "    }\n",
       "\n",
       "    .dataframe tbody tr th {\n",
       "        vertical-align: top;\n",
       "    }\n",
       "\n",
       "    .dataframe thead th {\n",
       "        text-align: right;\n",
       "    }\n",
       "</style>\n",
       "<table border=\"1\" class=\"dataframe\">\n",
       "  <thead>\n",
       "    <tr style=\"text-align: right;\">\n",
       "      <th></th>\n",
       "      <th>month_number</th>\n",
       "      <th>facecream</th>\n",
       "      <th>facewash</th>\n",
       "      <th>toothpaste</th>\n",
       "      <th>bathingsoap</th>\n",
       "      <th>shampoo</th>\n",
       "      <th>moisturizer</th>\n",
       "      <th>total_units</th>\n",
       "      <th>total_profit</th>\n",
       "    </tr>\n",
       "  </thead>\n",
       "  <tbody>\n",
       "    <tr>\n",
       "      <th>0</th>\n",
       "      <td>1</td>\n",
       "      <td>2500</td>\n",
       "      <td>1500</td>\n",
       "      <td>5200</td>\n",
       "      <td>9200</td>\n",
       "      <td>1200</td>\n",
       "      <td>1500</td>\n",
       "      <td>21100</td>\n",
       "      <td>211000</td>\n",
       "    </tr>\n",
       "  </tbody>\n",
       "</table>\n",
       "</div>"
      ],
      "text/plain": [
       "   month_number  facecream  facewash  toothpaste  bathingsoap  shampoo  \\\n",
       "0             1       2500      1500        5200         9200     1200   \n",
       "\n",
       "   moisturizer  total_units  total_profit  \n",
       "0         1500        21100        211000  "
      ]
     },
     "execution_count": 130,
     "metadata": {},
     "output_type": "execute_result"
    }
   ],
   "source": [
    "df = pd.read_csv(r\"D:\\Jupyter\\company_sales_data - company_sales_data.csv\")\n",
    "df.head(1)"
   ]
  },
  {
   "cell_type": "code",
   "execution_count": 131,
   "id": "84a47fe5-e645-41ff-ac76-cf06fc00cbc0",
   "metadata": {},
   "outputs": [
    {
     "data": {
      "text/html": [
       "<div>\n",
       "<style scoped>\n",
       "    .dataframe tbody tr th:only-of-type {\n",
       "        vertical-align: middle;\n",
       "    }\n",
       "\n",
       "    .dataframe tbody tr th {\n",
       "        vertical-align: top;\n",
       "    }\n",
       "\n",
       "    .dataframe thead th {\n",
       "        text-align: right;\n",
       "    }\n",
       "</style>\n",
       "<table border=\"1\" class=\"dataframe\">\n",
       "  <thead>\n",
       "    <tr style=\"text-align: right;\">\n",
       "      <th></th>\n",
       "      <th>month_number</th>\n",
       "      <th>facecream</th>\n",
       "      <th>facewash</th>\n",
       "      <th>toothpaste</th>\n",
       "      <th>bathingsoap</th>\n",
       "      <th>shampoo</th>\n",
       "      <th>moisturizer</th>\n",
       "      <th>total_units</th>\n",
       "      <th>total_profit</th>\n",
       "    </tr>\n",
       "  </thead>\n",
       "  <tbody>\n",
       "    <tr>\n",
       "      <th>0</th>\n",
       "      <td>January</td>\n",
       "      <td>2500</td>\n",
       "      <td>1500</td>\n",
       "      <td>5200</td>\n",
       "      <td>9200</td>\n",
       "      <td>1200</td>\n",
       "      <td>1500</td>\n",
       "      <td>21100</td>\n",
       "      <td>211000</td>\n",
       "    </tr>\n",
       "  </tbody>\n",
       "</table>\n",
       "</div>"
      ],
      "text/plain": [
       "  month_number  facecream  facewash  toothpaste  bathingsoap  shampoo  \\\n",
       "0      January       2500      1500        5200         9200     1200   \n",
       "\n",
       "   moisturizer  total_units  total_profit  \n",
       "0         1500        21100        211000  "
      ]
     },
     "execution_count": 131,
     "metadata": {},
     "output_type": "execute_result"
    }
   ],
   "source": [
    "for i in df[\"month_number\"]:\n",
    "    df[\"month_number\"].replace({i:months[i-1]},inplace=True)\n",
    "df.head(1)"
   ]
  },
  {
   "cell_type": "code",
   "execution_count": 142,
   "id": "4a5ba402-cdae-4100-aa94-37df6f9ceae5",
   "metadata": {},
   "outputs": [
    {
     "data": {
      "image/png": "[encoded data removed]",
      "text/plain": [
       "<Figure size 432x288 with 1 Axes>"
      ]
     },
     "metadata": {
      "needs_background": "light"
     },
     "output_type": "display_data"
    }
   ],
   "source": [
    "plt.plot(df[\"month_number\"],df[\"total_profit\"],linestyle=\"dotted\",color=\"blue\",marker=\"o\",label=\"month on month profit\")\n",
    "plt.xticks(rotation=\"vertical\")\n",
    "plt.title(\"Company Sales Profit\")\n",
    "plt.xlabel(\"Month\")\n",
    "plt.ylabel(\"Total Profit\")\n",
    "plt.legend(loc=\"upper left\")\n",
    "plt.grid()\n",
    "plt.show()"
   ]
  },
  {
   "cell_type": "markdown",
   "id": "d6b33f22-0701-42f4-ad84-0ca00358e684",
   "metadata": {},
   "source": [
    "### Problem-7\n",
    "### Show sales of each product in march month as pie chart.\n",
    "\n",
    "- Show Percentage value\n",
    "- Give Title \"Sales in March\"\n",
    "- Explode ToothPaste with shadow"
   ]
  },
  {
   "cell_type": "code",
   "execution_count": 155,
   "id": "0262e88f-9775-4a23-a931-8f3080a46cbf",
   "metadata": {},
   "outputs": [],
   "source": [
    "s = df.query(\"month_number == 'March'\").stack()\n",
    "s = s.droplevel(0)"
   ]
  },
  {
   "cell_type": "code",
   "execution_count": 167,
   "id": "0222c415-444e-44a0-b1d0-8b40306ec5ef",
   "metadata": {},
   "outputs": [
    {
     "data": {
      "image/png": "[encoded data removed]",
      "text/plain": [
       "<Figure size 432x288 with 1 Axes>"
      ]
     },
     "metadata": {},
     "output_type": "display_data"
    }
   ],
   "source": [
    "plt.pie(s[1:-2],labels=s.index[1:-2],autopct=\"%0.1f%%\",explode=[0,0,0.1,0,0,0],shadow=True)\n",
    "plt.title(\"Sales in March\")\n",
    "plt.show()"
   ]
  },
  {
   "cell_type": "markdown",
   "id": "761071d5-2daf-442d-ae2e-6e8c2af91f24",
   "metadata": {},
   "source": [
    "### Problem-8 Multiline Plot of all products sales.\n",
    "### Give different styes for each products\n",
    "### Add legend at top right"
   ]
  },
  {
   "cell_type": "code",
   "execution_count": 185,
   "id": "ad254a11-5c22-4f70-9431-7ddb4396bbde",
   "metadata": {},
   "outputs": [
    {
     "data": {
      "text/html": [
       "<div>\n",
       "<style scoped>\n",
       "    .dataframe tbody tr th:only-of-type {\n",
       "        vertical-align: middle;\n",
       "    }\n",
       "\n",
       "    .dataframe tbody tr th {\n",
       "        vertical-align: top;\n",
       "    }\n",
       "\n",
       "    .dataframe thead th {\n",
       "        text-align: right;\n",
       "    }\n",
       "</style>\n",
       "<table border=\"1\" class=\"dataframe\">\n",
       "  <thead>\n",
       "    <tr style=\"text-align: right;\">\n",
       "      <th></th>\n",
       "      <th>month_number</th>\n",
       "      <th>facecream</th>\n",
       "      <th>facewash</th>\n",
       "      <th>toothpaste</th>\n",
       "      <th>bathingsoap</th>\n",
       "      <th>shampoo</th>\n",
       "      <th>moisturizer</th>\n",
       "      <th>total_units</th>\n",
       "      <th>total_profit</th>\n",
       "    </tr>\n",
       "  </thead>\n",
       "  <tbody>\n",
       "    <tr>\n",
       "      <th>0</th>\n",
       "      <td>January</td>\n",
       "      <td>2500</td>\n",
       "      <td>1500</td>\n",
       "      <td>5200</td>\n",
       "      <td>9200</td>\n",
       "      <td>1200</td>\n",
       "      <td>1500</td>\n",
       "      <td>21100</td>\n",
       "      <td>211000</td>\n",
       "    </tr>\n",
       "    <tr>\n",
       "      <th>1</th>\n",
       "      <td>February</td>\n",
       "      <td>2630</td>\n",
       "      <td>1200</td>\n",
       "      <td>5100</td>\n",
       "      <td>6100</td>\n",
       "      <td>2100</td>\n",
       "      <td>1200</td>\n",
       "      <td>18330</td>\n",
       "      <td>183300</td>\n",
       "    </tr>\n",
       "    <tr>\n",
       "      <th>2</th>\n",
       "      <td>March</td>\n",
       "      <td>2140</td>\n",
       "      <td>1340</td>\n",
       "      <td>4550</td>\n",
       "      <td>9550</td>\n",
       "      <td>3550</td>\n",
       "      <td>1340</td>\n",
       "      <td>22470</td>\n",
       "      <td>224700</td>\n",
       "    </tr>\n",
       "    <tr>\n",
       "      <th>3</th>\n",
       "      <td>April</td>\n",
       "      <td>3400</td>\n",
       "      <td>1130</td>\n",
       "      <td>5870</td>\n",
       "      <td>8870</td>\n",
       "      <td>1870</td>\n",
       "      <td>1130</td>\n",
       "      <td>22270</td>\n",
       "      <td>222700</td>\n",
       "    </tr>\n",
       "    <tr>\n",
       "      <th>4</th>\n",
       "      <td>May</td>\n",
       "      <td>3600</td>\n",
       "      <td>1740</td>\n",
       "      <td>4560</td>\n",
       "      <td>7760</td>\n",
       "      <td>1560</td>\n",
       "      <td>1740</td>\n",
       "      <td>20960</td>\n",
       "      <td>209600</td>\n",
       "    </tr>\n",
       "  </tbody>\n",
       "</table>\n",
       "</div>"
      ],
      "text/plain": [
       "  month_number  facecream  facewash  toothpaste  bathingsoap  shampoo  \\\n",
       "0      January       2500      1500        5200         9200     1200   \n",
       "1     February       2630      1200        5100         6100     2100   \n",
       "2        March       2140      1340        4550         9550     3550   \n",
       "3        April       3400      1130        5870         8870     1870   \n",
       "4          May       3600      1740        4560         7760     1560   \n",
       "\n",
       "   moisturizer  total_units  total_profit  \n",
       "0         1500        21100        211000  \n",
       "1         1200        18330        183300  \n",
       "2         1340        22470        224700  \n",
       "3         1130        22270        222700  \n",
       "4         1740        20960        209600  "
      ]
     },
     "execution_count": 185,
     "metadata": {},
     "output_type": "execute_result"
    }
   ],
   "source": [
    "df.head()"
   ]
  },
  {
   "cell_type": "code",
   "execution_count": 194,
   "id": "d511bab1-5de6-4084-8c97-93cd2da98853",
   "metadata": {},
   "outputs": [
    {
     "data": {
      "image/png": "[encoded data removed]",
      "text/plain": [
       "<Figure size 432x288 with 1 Axes>"
      ]
     },
     "metadata": {
      "needs_background": "light"
     },
     "output_type": "display_data"
    }
   ],
   "source": [
    "plt.plot(df[\"month_number\"],df[\"facecream\"],linestyle=\"dashed\",marker=\"D\",label=\"facecream\")\n",
    "plt.plot(df[\"month_number\"],df[\"facewash\"],linestyle=\"solid\",marker=\"*\",label=\"facewash\")\n",
    "plt.plot(df[\"month_number\"],df[\"toothpaste\"],linestyle=\"dotted\",marker=\"o\",label=\"toothpaste\")\n",
    "plt.plot(df[\"month_number\"],df[\"bathingsoap\"],linestyle=\"-.\",marker=\".\",label=\"bathingsoap\")\n",
    "plt.plot(df[\"month_number\"],df[\"shampoo\"],linestyle=\"dashed\",marker=\"<\",label=\"shampoo\")\n",
    "plt.plot(df[\"month_number\"],df[\"moisturizer\"],linestyle=\"solid\",marker=\"+\",label=\"moisturizer\")\n",
    "\n",
    "plt.legend(loc=\"upper right\")\n",
    "plt.title(\"Product Sales data\")\n",
    "plt.xticks(rotation=\"vertical\")\n",
    "plt.xlabel(\"Month\")\n",
    "plt.ylabel(\"Sale\")\n",
    "plt.show()"
   ]
  },
  {
   "cell_type": "markdown",
   "id": "2d2440b8-3d51-41c9-934d-f673823588d4",
   "metadata": {},
   "source": [
    "### Problem-9 Show Quarter wise Sales data for all products as multi Bar chart."
   ]
  },
  {
   "cell_type": "code",
   "execution_count": 283,
   "id": "ae061009-8274-4350-8476-493054b06ae1",
   "metadata": {},
   "outputs": [
    {
     "data": {
      "text/html": [
       "<div>\n",
       "<style scoped>\n",
       "    .dataframe tbody tr th:only-of-type {\n",
       "        vertical-align: middle;\n",
       "    }\n",
       "\n",
       "    .dataframe tbody tr th {\n",
       "        vertical-align: top;\n",
       "    }\n",
       "\n",
       "    .dataframe thead th {\n",
       "        text-align: right;\n",
       "    }\n",
       "</style>\n",
       "<table border=\"1\" class=\"dataframe\">\n",
       "  <thead>\n",
       "    <tr style=\"text-align: right;\">\n",
       "      <th></th>\n",
       "      <th>month_number</th>\n",
       "      <th>facecream</th>\n",
       "      <th>facewash</th>\n",
       "      <th>toothpaste</th>\n",
       "      <th>bathingsoap</th>\n",
       "      <th>shampoo</th>\n",
       "      <th>moisturizer</th>\n",
       "      <th>total_units</th>\n",
       "      <th>total_profit</th>\n",
       "    </tr>\n",
       "  </thead>\n",
       "  <tbody>\n",
       "    <tr>\n",
       "      <th>0</th>\n",
       "      <td>1</td>\n",
       "      <td>2500</td>\n",
       "      <td>1500</td>\n",
       "      <td>5200</td>\n",
       "      <td>9200</td>\n",
       "      <td>1200</td>\n",
       "      <td>1500</td>\n",
       "      <td>21100</td>\n",
       "      <td>211000</td>\n",
       "    </tr>\n",
       "    <tr>\n",
       "      <th>1</th>\n",
       "      <td>2</td>\n",
       "      <td>2630</td>\n",
       "      <td>1200</td>\n",
       "      <td>5100</td>\n",
       "      <td>6100</td>\n",
       "      <td>2100</td>\n",
       "      <td>1200</td>\n",
       "      <td>18330</td>\n",
       "      <td>183300</td>\n",
       "    </tr>\n",
       "    <tr>\n",
       "      <th>2</th>\n",
       "      <td>3</td>\n",
       "      <td>2140</td>\n",
       "      <td>1340</td>\n",
       "      <td>4550</td>\n",
       "      <td>9550</td>\n",
       "      <td>3550</td>\n",
       "      <td>1340</td>\n",
       "      <td>22470</td>\n",
       "      <td>224700</td>\n",
       "    </tr>\n",
       "    <tr>\n",
       "      <th>3</th>\n",
       "      <td>4</td>\n",
       "      <td>3400</td>\n",
       "      <td>1130</td>\n",
       "      <td>5870</td>\n",
       "      <td>8870</td>\n",
       "      <td>1870</td>\n",
       "      <td>1130</td>\n",
       "      <td>22270</td>\n",
       "      <td>222700</td>\n",
       "    </tr>\n",
       "    <tr>\n",
       "      <th>4</th>\n",
       "      <td>5</td>\n",
       "      <td>3600</td>\n",
       "      <td>1740</td>\n",
       "      <td>4560</td>\n",
       "      <td>7760</td>\n",
       "      <td>1560</td>\n",
       "      <td>1740</td>\n",
       "      <td>20960</td>\n",
       "      <td>209600</td>\n",
       "    </tr>\n",
       "  </tbody>\n",
       "</table>\n",
       "</div>"
      ],
      "text/plain": [
       "   month_number  facecream  facewash  toothpaste  bathingsoap  shampoo  \\\n",
       "0             1       2500      1500        5200         9200     1200   \n",
       "1             2       2630      1200        5100         6100     2100   \n",
       "2             3       2140      1340        4550         9550     3550   \n",
       "3             4       3400      1130        5870         8870     1870   \n",
       "4             5       3600      1740        4560         7760     1560   \n",
       "\n",
       "   moisturizer  total_units  total_profit  \n",
       "0         1500        21100        211000  \n",
       "1         1200        18330        183300  \n",
       "2         1340        22470        224700  \n",
       "3         1130        22270        222700  \n",
       "4         1740        20960        209600  "
      ]
     },
     "execution_count": 283,
     "metadata": {},
     "output_type": "execute_result"
    }
   ],
   "source": [
    "df = pd.read_csv(r\"D:\\Jupyter\\company_sales_data - company_sales_data.csv\")\n",
    "df.head()"
   ]
  },
  {
   "cell_type": "code",
   "execution_count": 224,
   "id": "d1d16ba6-a03c-4c85-b24c-3f4a32aa20b6",
   "metadata": {},
   "outputs": [],
   "source": [
    "year = 2024\n",
    "df[\"Quarter\"] = pd.Series([pd.Timestamp(year=year,month=i,day=1).quarter for i in df[\"month_number\"]])"
   ]
  },
  {
   "cell_type": "code",
   "execution_count": 227,
   "id": "3dadce3a-aa30-46ba-bf51-28378a13b6b5",
   "metadata": {},
   "outputs": [
    {
     "data": {
      "text/html": [
       "<div>\n",
       "<style scoped>\n",
       "    .dataframe tbody tr th:only-of-type {\n",
       "        vertical-align: middle;\n",
       "    }\n",
       "\n",
       "    .dataframe tbody tr th {\n",
       "        vertical-align: top;\n",
       "    }\n",
       "\n",
       "    .dataframe thead th {\n",
       "        text-align: right;\n",
       "    }\n",
       "</style>\n",
       "<table border=\"1\" class=\"dataframe\">\n",
       "  <thead>\n",
       "    <tr style=\"text-align: right;\">\n",
       "      <th></th>\n",
       "      <th>month_number</th>\n",
       "      <th>facecream</th>\n",
       "      <th>facewash</th>\n",
       "      <th>toothpaste</th>\n",
       "      <th>bathingsoap</th>\n",
       "      <th>shampoo</th>\n",
       "      <th>moisturizer</th>\n",
       "      <th>total_units</th>\n",
       "      <th>total_profit</th>\n",
       "    </tr>\n",
       "    <tr>\n",
       "      <th>Quarter</th>\n",
       "      <th></th>\n",
       "      <th></th>\n",
       "      <th></th>\n",
       "      <th></th>\n",
       "      <th></th>\n",
       "      <th></th>\n",
       "      <th></th>\n",
       "      <th></th>\n",
       "      <th></th>\n",
       "    </tr>\n",
       "  </thead>\n",
       "  <tbody>\n",
       "    <tr>\n",
       "      <th>1</th>\n",
       "      <td>6</td>\n",
       "      <td>7270</td>\n",
       "      <td>4040</td>\n",
       "      <td>14850</td>\n",
       "      <td>24850</td>\n",
       "      <td>6850</td>\n",
       "      <td>4040</td>\n",
       "      <td>61900</td>\n",
       "      <td>619000</td>\n",
       "    </tr>\n",
       "    <tr>\n",
       "      <th>2</th>\n",
       "      <td>15</td>\n",
       "      <td>9760</td>\n",
       "      <td>4425</td>\n",
       "      <td>15320</td>\n",
       "      <td>24120</td>\n",
       "      <td>5320</td>\n",
       "      <td>4425</td>\n",
       "      <td>63370</td>\n",
       "      <td>633700</td>\n",
       "    </tr>\n",
       "    <tr>\n",
       "      <th>3</th>\n",
       "      <td>24</td>\n",
       "      <td>10220</td>\n",
       "      <td>4300</td>\n",
       "      <td>16740</td>\n",
       "      <td>27040</td>\n",
       "      <td>6740</td>\n",
       "      <td>4300</td>\n",
       "      <td>89090</td>\n",
       "      <td>890900</td>\n",
       "    </tr>\n",
       "    <tr>\n",
       "      <th>4</th>\n",
       "      <td>33</td>\n",
       "      <td>7230</td>\n",
       "      <td>5750</td>\n",
       "      <td>23000</td>\n",
       "      <td>38000</td>\n",
       "      <td>6500</td>\n",
       "      <td>5750</td>\n",
       "      <td>97970</td>\n",
       "      <td>979700</td>\n",
       "    </tr>\n",
       "  </tbody>\n",
       "</table>\n",
       "</div>"
      ],
      "text/plain": [
       "         month_number  facecream  facewash  toothpaste  bathingsoap  shampoo  \\\n",
       "Quarter                                                                        \n",
       "1                   6       7270      4040       14850        24850     6850   \n",
       "2                  15       9760      4425       15320        24120     5320   \n",
       "3                  24      10220      4300       16740        27040     6740   \n",
       "4                  33       7230      5750       23000        38000     6500   \n",
       "\n",
       "         moisturizer  total_units  total_profit  \n",
       "Quarter                                          \n",
       "1               4040        61900        619000  \n",
       "2               4425        63370        633700  \n",
       "3               4300        89090        890900  \n",
       "4               5750        97970        979700  "
      ]
     },
     "execution_count": 227,
     "metadata": {},
     "output_type": "execute_result"
    }
   ],
   "source": [
    "quarter_df = df.groupby(\"Quarter\").sum()\n",
    "quarter_df"
   ]
  },
  {
   "cell_type": "code",
   "execution_count": 282,
   "id": "9a6cbfd4-035a-4887-92c3-3a8b9f66fbad",
   "metadata": {},
   "outputs": [
    {
     "data": {
      "image/png": "[encoded data removed]",
      "text/plain": [
       "<Figure size 432x288 with 1 Axes>"
      ]
     },
     "metadata": {
      "needs_background": "light"
     },
     "output_type": "display_data"
    }
   ],
   "source": [
    "x = -0.05\n",
    "for i in quarter_df.columns[1:-2:2]:\n",
    "    plt.bar(quarter_df.index+x,quarter_df[i],width=0.1,label=i)\n",
    "    x=x-0.1\n",
    "y=0.05\n",
    "for i in quarter_df.columns[2:-2:2]:\n",
    "    plt.bar(quarter_df.index+y,quarter_df[i],width=0.1,label=i)\n",
    "    y=y+0.1\n",
    "\n",
    "plt.xticks(quarter_df.index)\n",
    "plt.xlabel('Product')\n",
    "plt.ylabel('Sales')\n",
    "plt.legend()\n",
    "plt.show() \n"
   ]
  },
  {
   "cell_type": "code",
   "execution_count": 275,
   "id": "e9c05f2c-2a28-4688-814d-5d00b0b72ad9",
   "metadata": {},
   "outputs": [
    {
     "data": {
      "image/png": "[encoded data removed]",
      "text/plain": [
       "<Figure size 432x288 with 1 Axes>"
      ]
     },
     "metadata": {
      "needs_background": "light"
     },
     "output_type": "display_data"
    }
   ],
   "source": [
    "i = -1\n",
    "for col in quarter_df.columns[1:7]:\n",
    "  plt.bar(quarter_df.index + i,quarter_df[col],width=0.15,label=col)\n",
    "  i = i - 0.15"
   ]
  },
  {
   "cell_type": "markdown",
   "id": "4d6a91e5-e361-40ce-8778-4e3874df34eb",
   "metadata": {},
   "source": [
    "### Problem-10 Plot Stacked Bar chart quarter wise for each product."
   ]
  },
  {
   "cell_type": "code",
   "execution_count": 284,
   "id": "edf771ed-7cb3-4ba6-b7bf-02d09387b422",
   "metadata": {},
   "outputs": [
    {
     "data": {
      "text/html": [
       "<div>\n",
       "<style scoped>\n",
       "    .dataframe tbody tr th:only-of-type {\n",
       "        vertical-align: middle;\n",
       "    }\n",
       "\n",
       "    .dataframe tbody tr th {\n",
       "        vertical-align: top;\n",
       "    }\n",
       "\n",
       "    .dataframe thead th {\n",
       "        text-align: right;\n",
       "    }\n",
       "</style>\n",
       "<table border=\"1\" class=\"dataframe\">\n",
       "  <thead>\n",
       "    <tr style=\"text-align: right;\">\n",
       "      <th></th>\n",
       "      <th>month_number</th>\n",
       "      <th>facecream</th>\n",
       "      <th>facewash</th>\n",
       "      <th>toothpaste</th>\n",
       "      <th>bathingsoap</th>\n",
       "      <th>shampoo</th>\n",
       "      <th>moisturizer</th>\n",
       "      <th>total_units</th>\n",
       "      <th>total_profit</th>\n",
       "    </tr>\n",
       "    <tr>\n",
       "      <th>Quarter</th>\n",
       "      <th></th>\n",
       "      <th></th>\n",
       "      <th></th>\n",
       "      <th></th>\n",
       "      <th></th>\n",
       "      <th></th>\n",
       "      <th></th>\n",
       "      <th></th>\n",
       "      <th></th>\n",
       "    </tr>\n",
       "  </thead>\n",
       "  <tbody>\n",
       "    <tr>\n",
       "      <th>1</th>\n",
       "      <td>6</td>\n",
       "      <td>7270</td>\n",
       "      <td>4040</td>\n",
       "      <td>14850</td>\n",
       "      <td>24850</td>\n",
       "      <td>6850</td>\n",
       "      <td>4040</td>\n",
       "      <td>61900</td>\n",
       "      <td>619000</td>\n",
       "    </tr>\n",
       "    <tr>\n",
       "      <th>2</th>\n",
       "      <td>15</td>\n",
       "      <td>9760</td>\n",
       "      <td>4425</td>\n",
       "      <td>15320</td>\n",
       "      <td>24120</td>\n",
       "      <td>5320</td>\n",
       "      <td>4425</td>\n",
       "      <td>63370</td>\n",
       "      <td>633700</td>\n",
       "    </tr>\n",
       "    <tr>\n",
       "      <th>3</th>\n",
       "      <td>24</td>\n",
       "      <td>10220</td>\n",
       "      <td>4300</td>\n",
       "      <td>16740</td>\n",
       "      <td>27040</td>\n",
       "      <td>6740</td>\n",
       "      <td>4300</td>\n",
       "      <td>89090</td>\n",
       "      <td>890900</td>\n",
       "    </tr>\n",
       "    <tr>\n",
       "      <th>4</th>\n",
       "      <td>33</td>\n",
       "      <td>7230</td>\n",
       "      <td>5750</td>\n",
       "      <td>23000</td>\n",
       "      <td>38000</td>\n",
       "      <td>6500</td>\n",
       "      <td>5750</td>\n",
       "      <td>97970</td>\n",
       "      <td>979700</td>\n",
       "    </tr>\n",
       "  </tbody>\n",
       "</table>\n",
       "</div>"
      ],
      "text/plain": [
       "         month_number  facecream  facewash  toothpaste  bathingsoap  shampoo  \\\n",
       "Quarter                                                                        \n",
       "1                   6       7270      4040       14850        24850     6850   \n",
       "2                  15       9760      4425       15320        24120     5320   \n",
       "3                  24      10220      4300       16740        27040     6740   \n",
       "4                  33       7230      5750       23000        38000     6500   \n",
       "\n",
       "         moisturizer  total_units  total_profit  \n",
       "Quarter                                          \n",
       "1               4040        61900        619000  \n",
       "2               4425        63370        633700  \n",
       "3               4300        89090        890900  \n",
       "4               5750        97970        979700  "
      ]
     },
     "execution_count": 284,
     "metadata": {},
     "output_type": "execute_result"
    }
   ],
   "source": [
    "quarter_df"
   ]
  },
  {
   "cell_type": "code",
   "execution_count": 309,
   "id": "52145ca2-503e-4f80-bece-bb0ad44c6555",
   "metadata": {},
   "outputs": [
    {
     "data": {
      "image/png": "[encoded data removed]",
      "text/plain": [
       "<Figure size 432x288 with 1 Axes>"
      ]
     },
     "metadata": {
      "needs_background": "light"
     },
     "output_type": "display_data"
    }
   ],
   "source": [
    "cols = []\n",
    "for col in quarter_df.columns[1:-2]:\n",
    "    if len(cols) == 0:\n",
    "        plt.bar(quarter_df.index,quarter_df[col],label=col)\n",
    "    else:\n",
    "        plt.bar(quarter_df.index,quarter_df[col],bottom=sum(cols),label=col)\n",
    "    cols.append(quarter_df[col])\n",
    "\n",
    "plt.xticks(quarter_df.index)\n",
    "plt.legend(loc=\"upper left\")    \n",
    "plt.show()"
   ]
  },
  {
   "cell_type": "code",
   "execution_count": null,
   "id": "2f71d5b1-ace8-4494-895a-355fb6b9d502",
   "metadata": {},
   "outputs": [],
   "source": []
  }
 ],
 "metadata": {
  "kernelspec": {
   "display_name": "Python 3 (ipykernel)",
   "language": "python",
   "name": "python3"
  },
  "language_info": {
   "codemirror_mode": {
    "name": "ipython",
    "version": 3
   },
   "file_extension": ".py",
   "mimetype": "text/x-python",
   "name": "python",
   "nbconvert_exporter": "python",
   "pygments_lexer": "ipython3",
   "version": "3.10.6"
  }
 },
 "nbformat": 4,
 "nbformat_minor": 5
}
