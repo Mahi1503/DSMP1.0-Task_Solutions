{
 "cells": [
  {
   "cell_type": "markdown",
   "id": "1e8ecad8-bf7e-40a2-9a0d-388ca74ea58e",
   "metadata": {},
   "source": [
    "### Task-1\n",
    "Suppose we have a dataset containing the math test scores of two different schools, and we want to determine if there is a significant difference between the mean math scores of the two schools. The null hypothesis is that the mean math scores of the two schools are equal, and the alternative hypothesis is that they are not equal. Using a significance level of 0.05, perform an independent two-sample t-test on the data and interpret the results.\n",
    "\n",
    "Dataset:\n",
    "```\n",
    "School A: [75, 80, 90, 85, 70, 75, 80, 85, 90, 95, 80, 75, 85, 90, 95, 80, 75, 70, 85, 90, 95, 75, 70, 80, 85]\n",
    "School B: [80, 75, 85, 90, 95, 70, 75, 80, 85, 90, 85, 75, 80, 90, 95, 85, 75, 70, 80, 90, 85, 70, 75, 80, 85]\n",
    "```\n",
    "Question 1: Perform normality test and equal variance test for both schools.\n",
    "\n",
    "Question 2: Is there a significant difference between the mean math scores of the two schools?"
   ]
  },
  {
   "cell_type": "code",
   "execution_count": null,
   "id": "acc25a70-3ec8-4d1c-8ad4-b3d37b737ba7",
   "metadata": {},
   "outputs": [],
   "source": [
    "# H0 mean_A = mean_B\n",
    "# H1 mean_A != mean_B"
   ]
  },
  {
   "cell_type": "markdown",
   "id": "b26befdd-4251-48a0-9a28-049d2fe4b5ea",
   "metadata": {},
   "source": [
    "### Question 1: Perform normality test and equal variance test for both schools."
   ]
  },
  {
   "cell_type": "code",
   "execution_count": 28,
   "id": "56a42404-aabe-4114-9472-872c6592daa9",
   "metadata": {},
   "outputs": [],
   "source": [
    "import numpy as np\n",
    "from scipy.stats import shapiro,levene,t,norm\n",
    "import seaborn as sns\n",
    "import scipy.stats as stats"
   ]
  },
  {
   "cell_type": "code",
   "execution_count": 12,
   "id": "9ba0be4c-5024-4d4d-89fd-b58f987285bb",
   "metadata": {},
   "outputs": [],
   "source": [
    "alpha = 0.05"
   ]
  },
  {
   "cell_type": "code",
   "execution_count": 13,
   "id": "f00040ce-d991-49e7-ad3e-5091cdf387ae",
   "metadata": {},
   "outputs": [],
   "source": [
    "schoolA = [75, 80, 90, 85, 70, 75, 80, 85, 90, 95, 80, 75, 85, 90, 95, 80, 75, 70, 85, 90, 95, 75, 70, 80, 85]\n",
    "schoolB = [80, 75, 85, 90, 95, 70, 75, 80, 85, 90, 85, 75, 80, 90, 95, 85, 75, 70, 80, 90, 85, 70, 75, 80, 85]"
   ]
  },
  {
   "cell_type": "markdown",
   "id": "fadbfd93-1e66-4fe9-967f-0655782f7a19",
   "metadata": {},
   "source": [
    "##### Check normality assumption"
   ]
  },
  {
   "cell_type": "code",
   "execution_count": 14,
   "id": "633dc13a-7f4a-4832-9b89-65e2c2ee891d",
   "metadata": {},
   "outputs": [
    {
     "name": "stdout",
     "output_type": "stream",
     "text": [
      "ShapiroResult(statistic=0.9325841069221497, pvalue=0.09972038120031357)\n",
      "ShapiroResult(statistic=0.9396081566810608, pvalue=0.14497657120227814)\n"
     ]
    }
   ],
   "source": [
    "shapiro_test_A = shapiro(schoolA)\n",
    "shapiro_test_B = shapiro(schoolB)\n",
    "print(shapiro_test_A)\n",
    "print(shapiro_test_B)"
   ]
  },
  {
   "cell_type": "code",
   "execution_count": null,
   "id": "eb93e5ad-f493-4fdc-86aa-33b8e44f67e3",
   "metadata": {},
   "outputs": [],
   "source": [
    "# in both samples pvalue > 0.05 hence both samples are normally distributed by shapiro test"
   ]
  },
  {
   "cell_type": "code",
   "execution_count": 19,
   "id": "a92c766d-0105-402a-b9b0-8cc1e5c12b6c",
   "metadata": {},
   "outputs": [
    {
     "data": {
      "text/plain": [
       "<AxesSubplot: ylabel='Density'>"
      ]
     },
     "execution_count": 19,
     "metadata": {},
     "output_type": "execute_result"
    },
    {
     "data": {
      "image/png": "[encoded data removed]",
      "text/plain": [
       "<Figure size 432x288 with 1 Axes>"
      ]
     },
     "metadata": {
      "needs_background": "light"
     },
     "output_type": "display_data"
    }
   ],
   "source": [
    "import warnings\n",
    "warnings.filterwarnings('ignore')\n",
    "sns.distplot(schoolA)"
   ]
  },
  {
   "cell_type": "code",
   "execution_count": 20,
   "id": "4349d955-3f7f-415b-9a6f-1bc1ee65e795",
   "metadata": {},
   "outputs": [
    {
     "data": {
      "text/plain": [
       "<AxesSubplot: ylabel='Density'>"
      ]
     },
     "execution_count": 20,
     "metadata": {},
     "output_type": "execute_result"
    },
    {
     "data": {
      "image/png": "[encoded data removed]",
      "text/plain": [
       "<Figure size 432x288 with 1 Axes>"
      ]
     },
     "metadata": {
      "needs_background": "light"
     },
     "output_type": "display_data"
    }
   ],
   "source": [
    "sns.distplot(schoolB)"
   ]
  },
  {
   "cell_type": "markdown",
   "id": "24739899-00da-4127-804b-c8095dab2d6c",
   "metadata": {},
   "source": [
    "##### Check homoscedasticity assumption(Equal variance test)"
   ]
  },
  {
   "cell_type": "code",
   "execution_count": 22,
   "id": "31d2e9c2-b178-4d1a-80a8-f1b8658b273b",
   "metadata": {},
   "outputs": [
    {
     "name": "stdout",
     "output_type": "stream",
     "text": [
      "LeveneResult(statistic=0.09599999999999974, pvalue=0.7580248392839517)\n"
     ]
    }
   ],
   "source": [
    "levene_test = levene(schoolA,schoolB)\n",
    "print(levene_test)"
   ]
  },
  {
   "cell_type": "code",
   "execution_count": null,
   "id": "eae237f0-c567-4b38-b69b-ea749a5d88d5",
   "metadata": {},
   "outputs": [],
   "source": [
    "# since pvalue > 0.05 var(schoolA) = var(schoolB)"
   ]
  },
  {
   "cell_type": "markdown",
   "id": "0f58565e-b984-4522-9699-8f033fdcf38f",
   "metadata": {},
   "source": [
    "### Question 2: Is there a significant difference between the mean math scores of the two schools?"
   ]
  },
  {
   "cell_type": "markdown",
   "id": "88cb62f5-e2cf-4e5b-a922-79972313d3fa",
   "metadata": {},
   "source": [
    "##### Calculate t score"
   ]
  },
  {
   "cell_type": "code",
   "execution_count": 44,
   "id": "6e6cafb5-0ba8-4bda-b35d-0f64dc020864",
   "metadata": {},
   "outputs": [],
   "source": [
    "t_score = x1_bar - x2_bar / np.sqrt((s1**2/n1)+(s2**2/n2))"
   ]
  },
  {
   "cell_type": "code",
   "execution_count": 67,
   "id": "bc2ea1a1-d2fd-467f-a41b-4be596119418",
   "metadata": {},
   "outputs": [],
   "source": [
    "x1_bar = np.array(schoolA).mean()\n",
    "x2_bar = np.array(schoolB).mean()\n",
    "s1 = np.array(schoolA).std(ddof=1) # ddof is use to calculate std for sample ddof is degree of freedom \n",
    "s2 = np.array(schoolB).std(ddof=1)\n",
    "n1 = len(schoolA)\n",
    "n2 = len(schoolB)\n",
    "df = n1+n2-2"
   ]
  },
  {
   "cell_type": "markdown",
   "id": "c923b806-e56d-44a4-9c13-61da473d0b71",
   "metadata": {},
   "source": [
    "##### Note This formula is for Welch t test where assumption of equal variance fail "
   ]
  },
  {
   "cell_type": "code",
   "execution_count": 46,
   "id": "c8626443-d188-4210-9342-2bed38b4e10b",
   "metadata": {},
   "outputs": [
    {
     "data": {
      "text/plain": [
       "0.18738292224896805"
      ]
     },
     "execution_count": 46,
     "metadata": {},
     "output_type": "execute_result"
    }
   ],
   "source": [
    "t_score = (x1_bar - x2_bar) / np.sqrt((s1**2/n1)+(s2**2/n2))\n",
    "t_score"
   ]
  },
  {
   "cell_type": "markdown",
   "id": "ded15263-035f-4d39-b87f-98cf347afd43",
   "metadata": {},
   "source": [
    "### Correct Formula\n",
    "- t_score = (x1_bar - x2_bar) / Sp * np.sqrt((1/n1)+(1/n2))\n",
    "- Sp is pooled standard deviation\n",
    "- Sp = np.sqrt(((n1-1)*s1**2 + (n2-1)*s2**2)/df)\n",
    "- df = n1+n2-2"
   ]
  },
  {
   "cell_type": "markdown",
   "id": "9768e129-d7d5-42ae-82d2-92c5432c9301",
   "metadata": {},
   "source": [
    "$$\n",
    "s_p = \\sqrt{ \\frac{(n_1 - 1)s_1^2 + (n_2 - 1)s_2^2}{n_1 + n_2 - 2} }\n",
    "$$"
   ]
  },
  {
   "cell_type": "code",
   "execution_count": 75,
   "id": "da07ece5-c46a-49ab-8187-9a83bc37ca3f",
   "metadata": {},
   "outputs": [
    {
     "data": {
      "text/plain": [
       "0.183597018408634"
      ]
     },
     "execution_count": 75,
     "metadata": {},
     "output_type": "execute_result"
    }
   ],
   "source": [
    "Sp = np.sqrt(((n1-1)*s1**2 + (n2-1)*s2**2)/(n1+n2-2))\n",
    "t_score = (x1_bar - x2_bar) / (Sp * np.sqrt(1/n1+1/n2))\n",
    "t_score"
   ]
  },
  {
   "cell_type": "code",
   "execution_count": 76,
   "id": "f71e4679-a415-42c4-a072-9f740038c3e0",
   "metadata": {},
   "outputs": [
    {
     "data": {
      "text/plain": [
       "0.8551029845205447"
      ]
     },
     "execution_count": 76,
     "metadata": {},
     "output_type": "execute_result"
    }
   ],
   "source": [
    "# pvalue by cdf\n",
    "cdf_value = t.cdf(-t_score,df)\n",
    "pvalue = cdf_value*2\n",
    "pvalue"
   ]
  },
  {
   "cell_type": "code",
   "execution_count": 77,
   "id": "e9982eea-d42a-4b0f-af6c-1784e0a3fa36",
   "metadata": {},
   "outputs": [
    {
     "name": "stdout",
     "output_type": "stream",
     "text": [
      "0.18359701840863396\n",
      "0.8551029845205448\n"
     ]
    }
   ],
   "source": [
    "t_statistic,pvalue = stats.ttest_ind(schoolA,schoolB)\n",
    "print(t_statistic)\n",
    "print(pvalue)"
   ]
  },
  {
   "cell_type": "code",
   "execution_count": 78,
   "id": "71386fee-3fd8-4c9c-93e6-86f096576858",
   "metadata": {},
   "outputs": [],
   "source": [
    "# Since pvalue > 0.05 fail to reject null hypothesis, though we fail to reject it does not mean null hypothesis is true"
   ]
  },
  {
   "cell_type": "markdown",
   "id": "76b917ac-e605-456d-8458-c93e64828600",
   "metadata": {},
   "source": [
    "- H0 mean_A = mean_B &#9989;\n",
    "- H1 mean_A != mean_B &#10060; "
   ]
  },
  {
   "cell_type": "markdown",
   "id": "bbd716e5-3915-4b66-afcb-bde23f87890e",
   "metadata": {},
   "source": [
    "### Task 2:\n",
    "Suppose we have a dataset containing the weights (in pounds) of 30 randomly selected male college students and 25 randomly selected female college students. We want to test if there is a significant difference in the average weight between male and female college students using a significance level of 0.05. Perform an independent two-sample t-test on the data and interpret the results.\n",
    "\n",
    "Dataset:\n",
    "```\n",
    "Male Students: [155, 165, 170, 160, 180, 175, 185, 165, 175, 170, 165, 160, 180, 190, 195, 200, 185, 175, 170, 160, 180, 185, 190, 195, 200, 180, 175, 170, 160, 175]\n",
    "Female Students: [125, 130, 135, 120, 140, 130, 135, 125, 115, 120, 130, 125, 140, 130, 135, 125, 115, 120, 130, 125, 140, 130, 135, 125, 115]"
   ]
  },
  {
   "cell_type": "code",
   "execution_count": 121,
   "id": "ed1e8763-faf6-4e88-a8fb-2c57e7fe7616",
   "metadata": {},
   "outputs": [],
   "source": [
    "n1 = 30 \n",
    "n2 = 25 \n",
    "alpha = 0.05\n",
    "df = n1 + n2 -2"
   ]
  },
  {
   "cell_type": "markdown",
   "id": "d715ca32-816d-4f50-b480-52479e751b38",
   "metadata": {},
   "source": [
    "- H0 : mean_weight(male) = mean_weight(female)\n",
    "- H1 : mean_weight(male) != mean_weight(female)"
   ]
  },
  {
   "cell_type": "code",
   "execution_count": 111,
   "id": "d1682279-a715-4f9d-b883-72116b5bbe0d",
   "metadata": {},
   "outputs": [],
   "source": [
    "male = [155, 165, 170, 160, 180, 175, 185, 165, 175, 170, 165, 160, 180, 190, 195, 200, 185, 175, 170, 160, 180, 185, 190, 195, 200, 180, 175, 170, 160, 175]\n",
    "female = [125, 130, 135, 120, 140, 130, 135, 125, 115, 120, 130, 125, 140, 130, 135, 125, 115, 120, 130, 125, 140, 130, 135, 125, 115]"
   ]
  },
  {
   "cell_type": "markdown",
   "id": "c7cf13bc-82bf-4500-a3a1-010a8ec04581",
   "metadata": {},
   "source": [
    "##### Check normality assumption"
   ]
  },
  {
   "cell_type": "code",
   "execution_count": 101,
   "id": "8215b6ff-1759-48d3-8e44-98abcd6d7a04",
   "metadata": {},
   "outputs": [],
   "source": [
    "from scipy.stats import shapiro"
   ]
  },
  {
   "cell_type": "code",
   "execution_count": 112,
   "id": "07061509-d619-4248-8e93-4c47ae9059b3",
   "metadata": {},
   "outputs": [
    {
     "name": "stdout",
     "output_type": "stream",
     "text": [
      "ShapiroResult(statistic=0.9600324034690857, pvalue=0.31036627292633057)\n",
      "ShapiroResult(statistic=0.9377318024635315, pvalue=0.1311926692724228)\n"
     ]
    }
   ],
   "source": [
    "shapiro_test_male = shapiro(male)\n",
    "shapiro_test_female = shapiro(female)\n",
    "print(shapiro_test_male)\n",
    "print(shapiro_test_female)"
   ]
  },
  {
   "cell_type": "code",
   "execution_count": 103,
   "id": "8ee86d3e-6678-40be-b287-76b3b9e3dd33",
   "metadata": {},
   "outputs": [],
   "source": [
    "# Since pvalue > 0.05 samples are normally distributed by shapiro test"
   ]
  },
  {
   "cell_type": "markdown",
   "id": "5acde3dc-4190-4af8-99c1-0fe37f7f6292",
   "metadata": {},
   "source": [
    "##### Check equal variance assumption"
   ]
  },
  {
   "cell_type": "code",
   "execution_count": 113,
   "id": "eece4661-1fe6-4c3c-a7b9-512d2fa966ad",
   "metadata": {},
   "outputs": [],
   "source": [
    "from scipy.stats import levene"
   ]
  },
  {
   "cell_type": "code",
   "execution_count": 114,
   "id": "5a1ff7a0-a5f1-495d-8171-40759e42a9da",
   "metadata": {},
   "outputs": [
    {
     "data": {
      "text/plain": [
       "LeveneResult(statistic=4.822634851285497, pvalue=0.03248601340920137)"
      ]
     },
     "execution_count": 114,
     "metadata": {},
     "output_type": "execute_result"
    }
   ],
   "source": [
    "levene_test = levene(male,female)\n",
    "levene_test"
   ]
  },
  {
   "cell_type": "code",
   "execution_count": 115,
   "id": "49b98ac3-2f6c-446b-93d5-dab83253218d",
   "metadata": {},
   "outputs": [],
   "source": [
    "# Since pvalue < 0.05 var of sample male != var of sample female we cannot use equal variance t test use welch-ttest"
   ]
  },
  {
   "cell_type": "code",
   "execution_count": 116,
   "id": "a608aeab-f2e2-4daa-9787-de39117ee71e",
   "metadata": {},
   "outputs": [],
   "source": [
    "x1_bar = np.mean(male)\n",
    "x2_bar = np.mean(female)\n",
    "s1 = np.std(male,ddof=1)\n",
    "s2 = np.std(female,ddof=1)"
   ]
  },
  {
   "cell_type": "code",
   "execution_count": 117,
   "id": "3395630e-6ca6-4862-8e20-b102050807d3",
   "metadata": {},
   "outputs": [
    {
     "data": {
      "text/plain": [
       "17.6443397731328"
      ]
     },
     "execution_count": 117,
     "metadata": {},
     "output_type": "execute_result"
    }
   ],
   "source": [
    "t_score = (x1_bar - x2_bar) / np.sqrt((s1**2/n1)+(s2**2/n2))\n",
    "t_score"
   ]
  },
  {
   "cell_type": "code",
   "execution_count": 127,
   "id": "c2952e1f-8ff2-4326-ac56-e4a9bffecb0b",
   "metadata": {},
   "outputs": [
    {
     "data": {
      "text/plain": [
       "7.664459654664423e-24"
      ]
     },
     "execution_count": 127,
     "metadata": {},
     "output_type": "execute_result"
    }
   ],
   "source": [
    "cdf_value = t.cdf(-t_score,df)\n",
    "p_value = cdf_value*2\n",
    "p_value"
   ]
  },
  {
   "cell_type": "code",
   "execution_count": 119,
   "id": "6ec8ea31-ab6d-42e2-8e26-be35a022a350",
   "metadata": {},
   "outputs": [],
   "source": [
    "t_stat, p_value = stats.ttest_ind(male, female,equal_var=False)"
   ]
  },
  {
   "cell_type": "code",
   "execution_count": 128,
   "id": "3aa2aafc-1e5c-4378-9e0c-2501d30ee0fb",
   "metadata": {},
   "outputs": [
    {
     "data": {
      "text/plain": [
       "7.664459654664423e-24"
      ]
     },
     "execution_count": 128,
     "metadata": {},
     "output_type": "execute_result"
    }
   ],
   "source": [
    "p_value"
   ]
  },
  {
   "cell_type": "code",
   "execution_count": 129,
   "id": "247655e6-5324-4a29-93da-d66afbb77529",
   "metadata": {},
   "outputs": [
    {
     "name": "stdout",
     "output_type": "stream",
     "text": [
      "Reject null hypothesis\n"
     ]
    }
   ],
   "source": [
    "if p_value < 0.05:\n",
    "    print(\"Reject null hypothesis\")\n",
    "else:\n",
    "    print(\"Accept null hypothesis\")"
   ]
  },
  {
   "cell_type": "markdown",
   "id": "28aa86d6-6a5d-4b51-aea0-aa5ba8bebe15",
   "metadata": {},
   "source": [
    "- H0 : mean_weight(male) = mean_weight(female) &#10060; \n",
    "- H1 : mean_weight(male) != mean_weight(female) &#9989;"
   ]
  },
  {
   "cell_type": "markdown",
   "id": "bcfda312-2a0a-4cc5-9868-df188ff29763",
   "metadata": {},
   "source": [
    "### Task 3:\n",
    "A professor wants to know if her introductory statistics class has a good grasp of basic math. Six students are chosen at random from the class and given a math proficiency test. The professor wants the class to be able to score above 70 on the test. The six students get scores of 62, 92, 75, 68, 83, and 95. Can the professor have 90 percent confidence that the mean score for the class on the test would be above 70?\n"
   ]
  },
  {
   "cell_type": "code",
   "execution_count": 137,
   "id": "4b99dae0-aef3-453c-9855-091c7890455b",
   "metadata": {},
   "outputs": [],
   "source": [
    "n = 6\n",
    "score = [62,92,75,68,83,95]\n",
    "confidence_level = 0.90\n",
    "alpha = 1 - confidence_level #(significance level)\n",
    "alpha = round(alpha,2)"
   ]
  },
  {
   "cell_type": "markdown",
   "id": "4b2aac5b-0f64-408c-848d-bcc3f1bf158c",
   "metadata": {},
   "source": [
    "- H0 : mean(score) = 70 \n",
    "- H1 : mean(score) > 70"
   ]
  },
  {
   "cell_type": "code",
   "execution_count": 139,
   "id": "8bc18766-2977-4e87-a88a-6557d1681d3a",
   "metadata": {},
   "outputs": [
    {
     "data": {
      "text/plain": [
       "<AxesSubplot: ylabel='Density'>"
      ]
     },
     "execution_count": 139,
     "metadata": {},
     "output_type": "execute_result"
    },
    {
     "data": {
      "image/png": "[encoded data removed]",
      "text/plain": [
       "<Figure size 432x288 with 1 Axes>"
      ]
     },
     "metadata": {
      "needs_background": "light"
     },
     "output_type": "display_data"
    }
   ],
   "source": [
    "score = [62,92,75,68,83,95]\n",
    "sns.distplot(score)"
   ]
  },
  {
   "cell_type": "code",
   "execution_count": 140,
   "id": "ace1e794-257e-4aad-b8f0-b20b95c7aa06",
   "metadata": {},
   "outputs": [],
   "source": [
    "from scipy.stats import shapiro"
   ]
  },
  {
   "cell_type": "code",
   "execution_count": 141,
   "id": "6c47b086-afe7-4633-a49e-7920ce9ce68a",
   "metadata": {},
   "outputs": [
    {
     "data": {
      "text/plain": [
       "ShapiroResult(statistic=0.9476593732833862, pvalue=0.7212929725646973)"
      ]
     },
     "execution_count": 141,
     "metadata": {},
     "output_type": "execute_result"
    }
   ],
   "source": [
    "shapiro_test = shapiro(score)\n",
    "shapiro_test # here pvalue > 0.05 hence sample is normally distributed"
   ]
  },
  {
   "cell_type": "code",
   "execution_count": 142,
   "id": "784ecc06-7bf1-4176-bf3e-cea015450102",
   "metadata": {},
   "outputs": [],
   "source": [
    "# define the null hypothesis mean\n",
    "null_mean = 70"
   ]
  },
  {
   "cell_type": "code",
   "execution_count": null,
   "id": "3cfc3f4a-3fee-4d31-adc3-4c2bae150d65",
   "metadata": {},
   "outputs": [],
   "source": [
    "alternative Parameter\n",
    "This defines the type of hypothesis test you're performing:\n",
    "\n",
    "Value\t              Meaning\n",
    "'two-sided'\t   Default. Tests if the mean ≠ null_mean\n",
    "'less'\t       Tests if the mean < null_mean (left-tailed test)\n",
    "'greater'\t   Tests if the mean > null_mean (right-tailed test)"
   ]
  },
  {
   "cell_type": "code",
   "execution_count": 150,
   "id": "2915f184-915c-4bf8-9806-a5386d17dd35",
   "metadata": {},
   "outputs": [
    {
     "name": "stdout",
     "output_type": "stream",
     "text": [
      "P-value: 0.074\n"
     ]
    }
   ],
   "source": [
    "t_stat,p_value = stats.ttest_1samp(score,null_mean,alternative='greater',nan_policy='omit')\n",
    "print(f\"P-value: {p_value:.3f}\") # Weak evidence against null hypothesis 0.05 <= p < 0.1"
   ]
  },
  {
   "cell_type": "code",
   "execution_count": 151,
   "id": "eecaa0a7-785b-4fe8-8427-764aea5d4cba",
   "metadata": {},
   "outputs": [
    {
     "name": "stdout",
     "output_type": "stream",
     "text": [
      "Reject null hypothesis: The mean score for the class is significantly greater than 70.\n"
     ]
    }
   ],
   "source": [
    "if p_value < alpha:\n",
    "    print(\"Reject null hypothesis: The mean score for the class is significantly greater than 70.\")\n",
    "else:\n",
    "    print(\"Fail to reject null hypothesis: The mean score for the class is not significantly greater than 70.\")"
   ]
  },
  {
   "cell_type": "markdown",
   "id": "70e1c18c-c415-4912-81a3-6f74de44bf96",
   "metadata": {},
   "source": [
    "- H0 : mean(score) = 70 &#10060; \n",
    "- H1 : mean(score) > 70 &#9989;"
   ]
  },
  {
   "cell_type": "markdown",
   "id": "48d8df44-8a04-43dd-b69b-f314d694f501",
   "metadata": {},
   "source": [
    "### Task 4: \n",
    "An experiment is conducted to determine whether intensive tutoring (covering a great deal of material in a fixed amount of time) is more effective than paced tutoring (covering less material in the same amount of time). Two randomly chosen groups are tutored separately and then administered proficiency tests. Use a significance level of α < 0.05.\n",
    "\n",
    "![image.png](data:image/png;base64,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)"
   ]
  },
  {
   "cell_type": "markdown",
   "id": "51b8fb9d-7764-415b-a869-f43dbc854f24",
   "metadata": {},
   "source": [
    "- H0 : μ1 = μ2\n",
    "- H1 : μ1 > μ2"
   ]
  },
  {
   "cell_type": "code",
   "execution_count": 162,
   "id": "207dde29-ec6a-45bc-884f-7939dbfc4251",
   "metadata": {},
   "outputs": [],
   "source": [
    "n1 = 12\n",
    "n2 = 10\n",
    "x1_bar = 46.31\n",
    "x2_bar = 42.79\n",
    "s1 = 6.44\n",
    "s2 = 7.52\n",
    "alpha = 0.05\n",
    "df = None"
   ]
  },
  {
   "cell_type": "markdown",
   "id": "49f209e7-7db5-42aa-a0db-dc90833e16ce",
   "metadata": {},
   "source": [
    "### 🎯 Welch’s Degrees of Freedom Formula:\n",
    "\n",
    "$$\n",
    "df = \\frac{\n",
    "\\left( \\frac{s_1^2}{n_1} + \\frac{s_2^2}{n_2} \\right)^2\n",
    "}{\n",
    "\\frac{ \\left( \\frac{s_1^2}{n_1} \\right)^2 }{n_1 - 1} +\n",
    "\\frac{ \\left( \\frac{s_2^2}{n_2} \\right)^2 }{n_2 - 1}\n",
    "}\n",
    "$$\n"
   ]
  },
  {
   "cell_type": "code",
   "execution_count": 163,
   "id": "edd9e689-c6fc-4db3-9030-84446159aa17",
   "metadata": {},
   "outputs": [
    {
     "data": {
      "text/plain": [
       "17.894031520595746"
      ]
     },
     "execution_count": 163,
     "metadata": {},
     "output_type": "execute_result"
    }
   ],
   "source": [
    "num = ((s1**2/n1) + (s2**2/n2))**2\n",
    "den = ((s1**2/n1)**2/(n1-1)) + ((s2**2/n2)**2/(n2-1))\n",
    "df = num/den\n",
    "df"
   ]
  },
  {
   "cell_type": "code",
   "execution_count": 178,
   "id": "fcf3ac77-95ea-451c-9c85-30fc31d08074",
   "metadata": {},
   "outputs": [
    {
     "data": {
      "text/plain": [
       "1.17"
      ]
     },
     "execution_count": 178,
     "metadata": {},
     "output_type": "execute_result"
    }
   ],
   "source": [
    "t_score = (x1_bar - x2_bar) / np.sqrt((s1**2/n1)+(s2**2/n2))\n",
    "t_score = round(t_score,2)\n",
    "t_score"
   ]
  },
  {
   "cell_type": "code",
   "execution_count": 176,
   "id": "97e19b82-cee7-4a5f-b84c-5b4cfd7f6826",
   "metadata": {},
   "outputs": [
    {
     "data": {
      "text/plain": [
       "0.13"
      ]
     },
     "execution_count": 176,
     "metadata": {},
     "output_type": "execute_result"
    }
   ],
   "source": [
    "cdf_value = t.cdf(t_score,df)\n",
    "p_value = 1 - cdf_value\n",
    "round(p_value,2)"
   ]
  },
  {
   "cell_type": "code",
   "execution_count": 177,
   "id": "69d57e74-abbb-42bd-8269-b438429d1fb7",
   "metadata": {},
   "outputs": [
    {
     "name": "stdout",
     "output_type": "stream",
     "text": [
      "fail to reject null hypothesis\n"
     ]
    }
   ],
   "source": [
    "if p_value < alpha:\n",
    "    print('reject null hypothesis')\n",
    "else:\n",
    "    print('fail to reject null hypothesis')"
   ]
  },
  {
   "cell_type": "markdown",
   "id": "2e39ea95-fc14-48c1-b60b-558551e98408",
   "metadata": {},
   "source": [
    "- H0 : μ1 = μ2 &#9989;\n",
    "- H1 : μ1 > μ2 &#10060;"
   ]
  },
  {
   "cell_type": "code",
   "execution_count": 190,
   "id": "4648501d-e4ad-42e0-8b8e-6f366b436b47",
   "metadata": {},
   "outputs": [],
   "source": [
    "import math"
   ]
  },
  {
   "cell_type": "markdown",
   "id": "f9cf77f7-971d-41c6-bd62-fd28266cf6e9",
   "metadata": {},
   "source": [
    "### Task 5:\n",
    "Estimate a 90 percent confidence interval for the difference between the number of raisins per box in two brands of breakfast cereal.\n",
    "\n",
    "![image.png](data:image/png;base64,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)"
   ]
  },
  {
   "cell_type": "code",
   "execution_count": 186,
   "id": "43611055-cd2e-4422-9ccf-ee92d39d7d37",
   "metadata": {},
   "outputs": [],
   "source": [
    "#Brand A\n",
    "n1 = 6\n",
    "x1_bar = 102.1\n",
    "s1 = 12.3\n",
    "\n",
    "#Brand B\n",
    "n2 = 9\n",
    "x2_bar = 93.6\n",
    "s2 = 7.52\n",
    "\n",
    "alpha = (1-0.90)\n",
    "alpha = round(alpha,2)"
   ]
  },
  {
   "cell_type": "code",
   "execution_count": 188,
   "id": "89529557-17db-4e95-a0f4-ba4e0246dad5",
   "metadata": {},
   "outputs": [
    {
     "name": "stdout",
     "output_type": "stream",
     "text": [
      "Point estimate:  8.5\n"
     ]
    }
   ],
   "source": [
    "# point estimate\n",
    "point_estimate = x1_bar - x2_bar\n",
    "print(\"Point estimate: \", point_estimate)"
   ]
  },
  {
   "cell_type": "code",
   "execution_count": 191,
   "id": "7400519c-e169-42c8-af18-926747d6a4cd",
   "metadata": {},
   "outputs": [
    {
     "name": "stdout",
     "output_type": "stream",
     "text": [
      "Standard error:  5.61234155925829\n"
     ]
    }
   ],
   "source": [
    "# standard error\n",
    "std_error = math.sqrt(((s1 ** 2) / n1) + ((s2 ** 2) / n2))\n",
    "print(\"Standard error: \", std_error)"
   ]
  },
  {
   "cell_type": "code",
   "execution_count": 199,
   "id": "f642f863-68f9-4979-85f1-ca4a5f46bfcb",
   "metadata": {},
   "outputs": [
    {
     "data": {
      "text/plain": [
       "7.51"
      ]
     },
     "execution_count": 199,
     "metadata": {},
     "output_type": "execute_result"
    }
   ],
   "source": [
    "# degrees of freedom\n",
    "num = ((s1**2/n1) + (s2**2/n2))**2\n",
    "den = ((s1**2/n1)**2/(n1-1)) + ((s2**2/n2)**2/(n2-1))\n",
    "df = num/den\n",
    "df= round(df,2)\n",
    "df"
   ]
  },
  {
   "cell_type": "code",
   "execution_count": 200,
   "id": "a462ac8e-01f4-46f2-886f-06659fb21d9c",
   "metadata": {},
   "outputs": [
    {
     "data": {
      "text/plain": [
       "1.8753996658908556"
      ]
     },
     "execution_count": 200,
     "metadata": {},
     "output_type": "execute_result"
    }
   ],
   "source": [
    "# Critical t-value\n",
    "from scipy import stats\n",
    "t_crit = stats.t.ppf(1 - (alpha/2),df)\n",
    "t_crit"
   ]
  },
  {
   "cell_type": "code",
   "execution_count": null,
   "id": "31dfe51d-093c-42ef-9d6f-1ebd2fc1f7bc",
   "metadata": {},
   "outputs": [],
   "source": [
    "CI = x_bar +- MOE\n",
    "MOE = t_crit * standard_error\n",
    "standard_error = s/sqrt(n)"
   ]
  },
  {
   "cell_type": "code",
   "execution_count": 201,
   "id": "3c2094fd-41ea-440d-9cf5-53e9b634995a",
   "metadata": {},
   "outputs": [],
   "source": [
    "margin_error = t_crit * std_error"
   ]
  },
  {
   "cell_type": "code",
   "execution_count": 202,
   "id": "4be75485-7778-4d79-97cf-18694439b678",
   "metadata": {},
   "outputs": [],
   "source": [
    "lower_limit = point_estimate - margin_error\n",
    "upper_limit = point_estimate + margin_error"
   ]
  },
  {
   "cell_type": "code",
   "execution_count": 203,
   "id": "e8db2f4a-97ea-47a9-970e-0addd6f56c15",
   "metadata": {},
   "outputs": [
    {
     "name": "stdout",
     "output_type": "stream",
     "text": [
      "90% Confidence interval: ( -2.025383485098361 , 19.02538348509836 )\n"
     ]
    }
   ],
   "source": [
    "print(\"90% Confidence interval: (\", lower_limit, \",\", upper_limit, \")\")"
   ]
  }
 ],
 "metadata": {
  "kernelspec": {
   "display_name": "Python 3 (ipykernel)",
   "language": "python",
   "name": "python3"
  },
  "language_info": {
   "codemirror_mode": {
    "name": "ipython",
    "version": 3
   },
   "file_extension": ".py",
   "mimetype": "text/x-python",
   "name": "python",
   "nbconvert_exporter": "python",
   "pygments_lexer": "ipython3",
   "version": "3.10.6"
  }
 },
 "nbformat": 4,
 "nbformat_minor": 5
}
