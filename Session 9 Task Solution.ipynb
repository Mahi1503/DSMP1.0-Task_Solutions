{
 "cells": [
  {
   "cell_type": "markdown",
   "id": "668f361e-1aa7-4dba-bea2-a9161992443e",
   "metadata": {},
   "source": [
    "### Problem-1: Class inheritence\n",
    "### Create a Bus child class that inherits from the Vehicle class. The default fare charge of any vehicle is seating capacity * 100. If Vehicle is Bus instance, we need to add an extra 10% on full fare as a maintenance charge. So total fare for bus instance will become the final amount = total fare + 10% of the total fare.\n",
    "\n",
    "### Note: The bus seating capacity is 50. so the final fare amount should be 5500. You need to override the fare() method of a Vehicle class in Bus class.\n",
    "\n",
    "### Total Bus fare is: 5500.0"
   ]
  },
  {
   "cell_type": "code",
   "execution_count": 9,
   "id": "825b91ad-9181-4b47-bc33-ba58f8d68ec4",
   "metadata": {},
   "outputs": [
    {
     "data": {
      "text/plain": [
       "5500.0"
      ]
     },
     "execution_count": 9,
     "metadata": {},
     "output_type": "execute_result"
    }
   ],
   "source": [
    "class Vehicle:\n",
    "\n",
    "    def __init__(self,seating_capacity):\n",
    "        self.seating_capacity = seating_capacity\n",
    "        #self.vtype = vtype\n",
    "\n",
    "\n",
    "    def fare(self):\n",
    "        return self.seating_capacity*100\n",
    "\n",
    "\n",
    "class Bus(Vehicle):\n",
    "    \n",
    "    def fare(self):\n",
    "        base_fare = super().fare()\n",
    "        bus_fare = base_fare + 0.1*base_fare\n",
    "        return bus_fare\n",
    "\n",
    "bus = Bus(50)    \n",
    "bus.fare()"
   ]
  },
  {
   "cell_type": "markdown",
   "id": "b44a1595-4b2f-4a50-9cae-60e17c7e0f88",
   "metadata": {},
   "source": [
    "### Problem-2: Class Inheritence\n",
    "### Create a Bus class that inherits from the Vehicle class. Give the capacity argument of Bus.seating_capacity() a default value of 50.\n",
    "### Use the following code for your parent Vehicle class. Incomplete Code"
   ]
  },
  {
   "cell_type": "markdown",
   "id": "e687bb33-6001-4cb7-abac-4babf4a40309",
   "metadata": {},
   "source": [
    "### Problem-3: Write a program that has a class Point. Define another class Location which has two objects (Location & Destination) of class Point. Also define a function in Location that prints the reflection of Destination on the x axis."
   ]
  },
  {
   "cell_type": "code",
   "execution_count": 27,
   "id": "ff4bd601-1a4c-4d7e-9f7f-1e858cd33d2c",
   "metadata": {},
   "outputs": [
    {
     "name": "stdout",
     "output_type": "stream",
     "text": [
      "Reflection of destination on x axis,(4,-5)\n"
     ]
    }
   ],
   "source": [
    "class Point:\n",
    "\n",
    "    def __init__(self,x,y):\n",
    "        self.x = x\n",
    "        self.y = y\n",
    "        \n",
    "\n",
    "class Location:\n",
    "\n",
    "    def __init__(self,loc,desti):\n",
    "        self.location = loc\n",
    "        self.destination = desti\n",
    "\n",
    "    def reflection(self):\n",
    "        refle = -self.destination.y\n",
    "        print(f\"Reflection of destination on x axis,({self.destination.x},{refle})\")\n",
    "\n",
    "p1 = Point(2,3)\n",
    "p2 = Point(4,5)\n",
    "l1 = Location(p1,p2)\n",
    "l1.reflection()"
   ]
  },
  {
   "cell_type": "markdown",
   "id": "844feff0-385d-4851-bc11-4afc5cb768e8",
   "metadata": {},
   "source": [
    "### Problem-4: Write a program that has an abstract class Polygon. Derive two classes Rectangle and Triamgle from Polygon and write methods to get the details of their dimensions and hence calculate the area."
   ]
  },
  {
   "cell_type": "code",
   "execution_count": 45,
   "id": "303feaa3-e7c7-4724-841d-a1e42087c660",
   "metadata": {},
   "outputs": [
    {
     "name": "stdout",
     "output_type": "stream",
     "text": [
      "Area of Triangle is : 10.0\n",
      "Area of Rectangle is : 120\n"
     ]
    }
   ],
   "source": [
    "from abc import ABC,abstractmethod\n",
    "\n",
    "class Polygon(ABC):\n",
    "\n",
    "    @abstractmethod\n",
    "    def area():\n",
    "        pass\n",
    "\n",
    "\n",
    "class Rectangle(Polygon):\n",
    "\n",
    "    def __init__(self,l,b):\n",
    "        self.__length = l\n",
    "        self.__bridth = b\n",
    "\n",
    "    def get_length(self):\n",
    "        return self.__length\n",
    "\n",
    "    def get_bridth(self):\n",
    "        return self.__bridth\n",
    "\n",
    "    def area(self):\n",
    "        return \"Area of Rectangle is : {}\".format(self.__length*self.__bridth)\n",
    "\n",
    "class Triangle(Polygon):\n",
    "\n",
    "    def __init__(self,base,height):\n",
    "        self.__base = base\n",
    "        self.__height = height\n",
    "\n",
    "    def get_base(self):\n",
    "        return self.__base\n",
    "\n",
    "    def get_height(self):\n",
    "        return self.__height\n",
    "\n",
    "    def area(self):\n",
    "        return \"Area of Triangle is : {}\".format(0.5*self.__base*self.__height)\n",
    "\n",
    "Tri = Triangle(4,5)\n",
    "print(Tri.area())\n",
    "\n",
    "rec = Rectangle(10,12)\n",
    "print(rec.area())"
   ]
  },
  {
   "cell_type": "markdown",
   "id": "321b10c5-79bf-4dab-9ba7-f949268d2c69",
   "metadata": {},
   "source": [
    "### Problem-5: Write a program with class Bill. The users have the option to pay the bill either by cheque or by cash. Use the inheritance to model this situation."
   ]
  },
  {
   "cell_type": "code",
   "execution_count": 260,
   "id": "306e64ed-1fdb-4b81-8b51-3a10c8af6198",
   "metadata": {},
   "outputs": [],
   "source": [
    "import datetime\n",
    "\n",
    "class Bill:\n",
    "    \"\"\" Bill class has two methods get total method will provide amount of total bill purchased by customer\n",
    "        display bill method will provide summary of bill including product purchased and its amount also provide information of total \n",
    "        product purchased and total bill\n",
    "        record attribute shows which products are currenly present in stock and their amount you can simply check the record and alter \n",
    "        product amount if you require\n",
    "    \"\"\"\n",
    "\n",
    "    def __init__(self,product_rec = [\"External Hard Disk\", \"RAM\", \"Printer\", \"Pen Drive\"],price_rec = [5000, 2000, 6000, 800],item=[]):\n",
    "      \n",
    "        self.__product_rec = product_rec # list store product details \n",
    "        self.__price_rec = price_rec # list store product values \n",
    "        self.__item = item # this variable holds list of product purchased by customer\n",
    "        #print(self.item)\n",
    "        self.record = dict(zip(self.__product_rec,self.__price_rec)) # created dictonary to keep record of product and its value\n",
    "        self.__d = {} # product purchased by customer get added in this dictionary with value \n",
    "        self.__total = 0 # initialize to get total amount of product purchased\n",
    "        self.__count = 0 # initialize to get total count of product purchased\n",
    "        for i in self.__item: # iterate over product purchased by customer time complexity O(n)\n",
    "            if i in self.record: # check if product in our record with time complexity O(k)\n",
    "                self.__d[i] = self.record[i] # if product found in record get updated in dictionary d with product value\n",
    "                self.__total+= self.record[i] # total increased with each product added in dictionary d\n",
    "                self.__count+=1 # count increased with each product added in dictionary d\n",
    "            else:\n",
    "                print(f\"{i} Product is not in record\") \n",
    "                self.__new_prod = input(\"Please enter product :\") # if product not in our record take product name from user \n",
    "                self.__new_prod_price = int(input(\"Please Enter Price\")) # if product not in our record take product amount from user\n",
    "                self.record[self.__new_prod] = self.__new_prod_price # both product and its amount updated in record\n",
    "                print(\"Product added in record\")\n",
    "                self.__d[i] = self.record[i] # now product added also purchased by customer so added in product purchased dict d with amt\n",
    "                self.__total+= self.record[i] # total increased with each product added in dictionary d\n",
    "                self.__count+=1 # count increased with each product added in dictionary d\n",
    "\n",
    "    \n",
    "    def menu(self):\n",
    "        payment_mode = input(\"\"\"\n",
    "\n",
    "        1. To proceed with cash payment\n",
    "        2. To proceed with cheque payment\n",
    "        3. To return to main menu\n",
    "        \n",
    "        \"\"\")\n",
    "\n",
    "        if payment_mode == \"1\":\n",
    "            items = input(\"Enter product list \")\n",
    "            denos = input(\"Enter denomination of cash\")\n",
    "            values = input(\"Enter Values against each denomination\")\n",
    "            return CashPayment(item = items.split(\",\") ,deno= denos.split(\",\"),value= values.split(\",\"))\n",
    "\n",
    "        #cheque=0,amt=0,bank_name,\"\",item=[]\n",
    "        elif payment_mode == \"2\":\n",
    "            chequen = input(\"Enter Cheque No: \")\n",
    "            amt = int(input(\"Enter Cheque Amount: \"))\n",
    "            bank_names = input(\"Enter Bank Name: \")\n",
    "            items = input(\"Enter product list \")\n",
    "            return ChequePayment(cheque=chequen,amt=amt,bank_name= bank_names,item = items.split(\",\"))\n",
    "\n",
    "        else:\n",
    "            print(\"Please try again\")\n",
    "            self.menu()\n",
    "            \n",
    "            \n",
    "    \n",
    "    # getter to return total bill amount\n",
    "    def get_total(self): \n",
    "        return self.__total\n",
    "\n",
    "        \n",
    "    # this method displays bill summary product purchased and total product count and total bill\n",
    "    def display_bill(self):\n",
    "        for i in self.__d:\n",
    "            print(f\"Product >> {i} , Price >> {self.__d[i]}\")\n",
    "        print(f\"Total no of product {self.__count} of total bill {self.__total}\")\n",
    "    \n",
    "\n",
    "\n",
    "class CashPayment(Bill):\n",
    "    \"\"\" CashPayment class is child class of Bill class having constructor and display_payment method\n",
    "        display_payment method display payment check amount with total bill and provide summary with payment illustration \n",
    "    \"\"\"\n",
    "    def __init__(self,item,deno=[],value=[]):\n",
    "        super().__init__(item = item)\n",
    "        super().display_bill()\n",
    "        self.__deno = deno\n",
    "        self.__value = value\n",
    "\n",
    "    def display_payment(self):\n",
    "        self.__total_paid = 0\n",
    "        for i,j in zip(self.__deno,self.__value):\n",
    "            self.__total_paid += int(i)*int(j)\n",
    "\n",
    "        if self.get_total() > self.__total_paid:\n",
    "            print(f\"Please give more {self.get_total()-self.__total_paid} Rs\")\n",
    "        else:\n",
    "            for i,j in zip(self.__deno,self.__value):\n",
    "                print(f\"{j} notes of {i} Rs\")\n",
    "            print(\"Cash Payment done\")\n",
    "            \n",
    "class ChequePayment(Bill):\n",
    "    def __init__(self,cheque=0,amt=0,bank_name=\"\",item=[]):\n",
    "        super().__init__(item = item)\n",
    "        super().display_bill()\n",
    "        self.__cheque = cheque\n",
    "        self.__bank_name = bank_name\n",
    "        self.__amt = amt\n",
    "        self.__date = input(\"Enter date in dd/mm/yy eg 31/01/2025: \")\n",
    "        \n",
    "\n",
    "    def __cheque_validation(self):\n",
    "\n",
    "        self.__current = datetime.datetime.now()\n",
    "        self.__curr_date = self.__current.date()\n",
    "        \n",
    "        try:\n",
    "            self.__given = datetime.datetime.strptime(self.__date,\"%d/%m/%Y\")\n",
    "            self.__given_date = self.__given.date()\n",
    "            self.__future_valid_date = self.__given + datetime.timedelta(90)\n",
    "        except:\n",
    "            print(\"Please enter valid date\")\n",
    "        else:\n",
    "            self.__obj = self.__given_date - self.__curr_date\n",
    "            if self.__obj.days < 0:\n",
    "                print(\"we do not accept past dated cheque \")\n",
    "            else:\n",
    "                if self.__obj.days > 2 :\n",
    "                    print(\"We only accept post dated cheque with max 2 days\")\n",
    "                else:\n",
    "                    if self.__amt < self.get_total():\n",
    "                        print(f\"Cheque amount is less with {self.get_total()-self.amt}Rs\")\n",
    "                    else:\n",
    "                        print(f\"Cheque is valid till {self.__future_valid_date.date()} \")\n",
    "                        print(f\"Payment done through cheque : Cheque details are : [Cheque No: {self.__cheque}, Cheque amount:{self.__amt}, Cheque date: {self.__date},Bank Name: {self.__bank_name}\")\n",
    "                    \n",
    "                    \n",
    "                    \n",
    "    def display_payment(self):\n",
    "        return self.__cheque_validation()\n",
    "\n",
    "obj = Bill(item=[\"External Hard Disk\", \"RAM\"])"
   ]
  },
  {
   "cell_type": "code",
   "execution_count": 263,
   "id": "d5176bdc-8591-42e4-a6ff-0d369fccf25a",
   "metadata": {},
   "outputs": [
    {
     "name": "stdin",
     "output_type": "stream",
     "text": [
      "\n",
      "\n",
      "        1. To proceed with cash payment\n",
      "        2. To proceed with cheque payment\n",
      "        3. To return to main menu\n",
      "        \n",
      "         1\n",
      "Enter product list  External Hard Disk,RAM\n",
      "Enter denomination of cash 500,200,2000\n",
      "Enter Values against each denomination 8,5,1\n"
     ]
    },
    {
     "name": "stdout",
     "output_type": "stream",
     "text": [
      "Product >> External Hard Disk , Price >> 5000\n",
      "Product >> RAM , Price >> 2000\n",
      "Total no of product 2 of total bill 7000\n"
     ]
    }
   ],
   "source": [
    "cash1 = obj.menu()"
   ]
  },
  {
   "cell_type": "code",
   "execution_count": 264,
   "id": "e1146787-a2a9-4d69-a733-3b691296e74c",
   "metadata": {},
   "outputs": [
    {
     "name": "stdout",
     "output_type": "stream",
     "text": [
      "8 notes of 500 Rs\n",
      "5 notes of 200 Rs\n",
      "1 notes of 2000 Rs\n",
      "Cash Payment done\n"
     ]
    }
   ],
   "source": [
    "cash1.display_payment()"
   ]
  },
  {
   "cell_type": "code",
   "execution_count": 261,
   "id": "586b5d7a-662c-4cbd-acf2-ae59f82a9119",
   "metadata": {},
   "outputs": [
    {
     "name": "stdin",
     "output_type": "stream",
     "text": [
      "\n",
      "\n",
      "        1. To proceed with cash payment\n",
      "        2. To proceed with cheque payment\n",
      "        3. To return to main menu\n",
      "        \n",
      "         2\n",
      "Enter Cheque No:  1234\n",
      "Enter Cheque Amount:  7000\n",
      "Enter Bank Name:  SBI\n",
      "Enter product list  External Hard Disk,RAM\n"
     ]
    },
    {
     "name": "stdout",
     "output_type": "stream",
     "text": [
      "Product >> External Hard Disk , Price >> 5000\n",
      "Product >> RAM , Price >> 2000\n",
      "Total no of product 2 of total bill 7000\n"
     ]
    },
    {
     "name": "stdin",
     "output_type": "stream",
     "text": [
      "Enter date in dd/mm/yy eg 31/01/2025:  02/02/2025\n"
     ]
    }
   ],
   "source": [
    "cheque = obj.menu()"
   ]
  },
  {
   "cell_type": "code",
   "execution_count": 262,
   "id": "11953804-6d03-4fed-bc72-dbdfdb0c04ef",
   "metadata": {},
   "outputs": [
    {
     "name": "stdout",
     "output_type": "stream",
     "text": [
      "Cheque is valid till 2025-05-03 \n",
      "Payment done through cheque : Cheque details are : [Cheque No: 1234, Cheque amount:7000, Cheque date: 02/02/2025,Bank Name: SBI\n"
     ]
    }
   ],
   "source": [
    "cheque.display_payment()"
   ]
  },
  {
   "cell_type": "code",
   "execution_count": 246,
   "id": "7918b760-ffb6-4a59-a613-a1b1c5b038d6",
   "metadata": {},
   "outputs": [
    {
     "data": {
      "text/plain": [
       "{'External Hard Disk': 5000, 'RAM': 2000, 'Printer': 6000, 'Pen Drive': 800}"
      ]
     },
     "execution_count": 246,
     "metadata": {},
     "output_type": "execute_result"
    }
   ],
   "source": [
    "obj.record"
   ]
  },
  {
   "cell_type": "code",
   "execution_count": 247,
   "id": "cc83cf99-f5ef-4333-9b70-d7e8967fb1b4",
   "metadata": {},
   "outputs": [
    {
     "name": "stdout",
     "output_type": "stream",
     "text": [
      "Power Bank Product is not in record\n"
     ]
    },
    {
     "name": "stdin",
     "output_type": "stream",
     "text": [
      "Please enter product : Power Bank\n",
      "Please Enter Price 2000\n"
     ]
    },
    {
     "name": "stdout",
     "output_type": "stream",
     "text": [
      "Product added in record\n"
     ]
    }
   ],
   "source": [
    "obj1 = Bill(item=[\"External Hard Disk\",\"Power Bank\"])"
   ]
  },
  {
   "cell_type": "code",
   "execution_count": 188,
   "id": "9fe70c34-a6e0-4b54-a707-0b7cc7e45411",
   "metadata": {},
   "outputs": [
    {
     "data": {
      "text/plain": [
       "{'External Hard Disk': 5000,\n",
       " 'RAM': 2000,\n",
       " 'Printer': 6000,\n",
       " 'Pen Drive': 800,\n",
       " 'Power Bank': 2000}"
      ]
     },
     "execution_count": 188,
     "metadata": {},
     "output_type": "execute_result"
    }
   ],
   "source": [
    "obj1.record"
   ]
  },
  {
   "cell_type": "code",
   "execution_count": 189,
   "id": "a56e93b2-151e-4310-bff3-871bbefa111e",
   "metadata": {},
   "outputs": [
    {
     "name": "stdout",
     "output_type": "stream",
     "text": [
      "Product >> External Hard Disk , Price >> 5000\n",
      "Product >> RAM , Price >> 2000\n",
      "Total no of product 2 of total bill 7000\n"
     ]
    }
   ],
   "source": [
    "cash = CashPayment(item = [\"External Hard Disk\", \"RAM\"],deno=[500,200],value=[6,5])"
   ]
  },
  {
   "cell_type": "code",
   "execution_count": 191,
   "id": "f7e09c50-d8d6-4b69-8ab3-93e386bb4808",
   "metadata": {},
   "outputs": [
    {
     "name": "stdout",
     "output_type": "stream",
     "text": [
      "Please give more 3000 Rs\n"
     ]
    }
   ],
   "source": [
    "cash.display_payment()"
   ]
  },
  {
   "cell_type": "code",
   "execution_count": 192,
   "id": "c9ec15aa-12cf-4ff8-a199-b857b90db317",
   "metadata": {},
   "outputs": [
    {
     "name": "stdout",
     "output_type": "stream",
     "text": [
      "Product >> External Hard Disk , Price >> 5000\n",
      "Product >> RAM , Price >> 2000\n",
      "Total no of product 2 of total bill 7000\n"
     ]
    }
   ],
   "source": [
    "cash = CashPayment(item = [\"External Hard Disk\", \"RAM\"],deno=[500,200,2000],value=[8,5,1])"
   ]
  },
  {
   "cell_type": "code",
   "execution_count": 193,
   "id": "d1a4b0f1-4b67-4f6e-8e87-ddd73d675ffa",
   "metadata": {},
   "outputs": [
    {
     "name": "stdout",
     "output_type": "stream",
     "text": [
      "8 notes of 500 Rs\n",
      "5 notes of 200 Rs\n",
      "1 notes of 2000 Rs\n",
      "Cash Payment done\n"
     ]
    }
   ],
   "source": [
    "cash.display_payment()"
   ]
  },
  {
   "cell_type": "code",
   "execution_count": 205,
   "id": "39837ccb-0857-4e0e-a148-db5f8b7fb661",
   "metadata": {},
   "outputs": [
    {
     "name": "stdout",
     "output_type": "stream",
     "text": [
      "Product >> External Hard Disk , Price >> 5000\n",
      "Product >> RAM , Price >> 2000\n",
      "Total no of product 2 of total bill 7000\n"
     ]
    },
    {
     "name": "stdin",
     "output_type": "stream",
     "text": [
      "Enter date in dd/mm/yy eg 31/01/2025:  30/01/2025\n"
     ]
    }
   ],
   "source": [
    "cheque = ChequePayment(1234,7000,\"SBI\",item = [\"External Hard Disk\", \"RAM\"])"
   ]
  },
  {
   "cell_type": "code",
   "execution_count": 206,
   "id": "ba9dee53-e51c-4d26-a0c3-bd5960dc9db5",
   "metadata": {},
   "outputs": [
    {
     "name": "stdout",
     "output_type": "stream",
     "text": [
      "we do not accept past dated cheque \n"
     ]
    }
   ],
   "source": [
    "cheque.display_payment()"
   ]
  },
  {
   "cell_type": "code",
   "execution_count": 207,
   "id": "d76d7260-5fb8-43df-96ea-77dee3a3035a",
   "metadata": {},
   "outputs": [
    {
     "name": "stdout",
     "output_type": "stream",
     "text": [
      "Product >> External Hard Disk , Price >> 5000\n",
      "Product >> RAM , Price >> 2000\n",
      "Total no of product 2 of total bill 7000\n"
     ]
    },
    {
     "name": "stdin",
     "output_type": "stream",
     "text": [
      "Enter date in dd/mm/yy eg 31/01/2025:  03/02/2025\n"
     ]
    }
   ],
   "source": [
    "cheque = ChequePayment(1234,7000,\"SBI\",item = [\"External Hard Disk\", \"RAM\"])"
   ]
  },
  {
   "cell_type": "code",
   "execution_count": 208,
   "id": "ec2ee911-935d-448d-88c2-5742c17d1fa6",
   "metadata": {},
   "outputs": [
    {
     "name": "stdout",
     "output_type": "stream",
     "text": [
      "We only accept post dated cheque with max 2 days\n"
     ]
    }
   ],
   "source": [
    "cheque.display_payment()"
   ]
  },
  {
   "cell_type": "code",
   "execution_count": 209,
   "id": "390eb04e-57ea-46af-a82c-43e37c771984",
   "metadata": {},
   "outputs": [
    {
     "name": "stdout",
     "output_type": "stream",
     "text": [
      "Product >> External Hard Disk , Price >> 5000\n",
      "Product >> RAM , Price >> 2000\n",
      "Total no of product 2 of total bill 7000\n"
     ]
    },
    {
     "name": "stdin",
     "output_type": "stream",
     "text": [
      "Enter date in dd/mm/yy eg 31/01/2025:  02/02/2025\n"
     ]
    }
   ],
   "source": [
    "cheque = ChequePayment(1234,7000,\"SBI\",item = [\"External Hard Disk\", \"RAM\"])"
   ]
  },
  {
   "cell_type": "code",
   "execution_count": 210,
   "id": "04ec8063-fdf8-4735-ba87-7f3a432fb731",
   "metadata": {},
   "outputs": [
    {
     "name": "stdout",
     "output_type": "stream",
     "text": [
      "Cheque is valid till 2025-05-03 \n",
      "Payment done through cheque : Cheque details are : [Cheque No: 1234, Cheque amount:7000, Cheque date: 02/02/2025,Bank Name: SBI\n"
     ]
    }
   ],
   "source": [
    "cheque.display_payment()"
   ]
  },
  {
   "cell_type": "markdown",
   "id": "dc049a40-b2cc-41a2-8db7-9777038f4a71",
   "metadata": {},
   "source": [
    "# Some Optimization Performed Use of dictionary comprehension, builtin methods sum and len, handling rejection cases first for cheque payment"
   ]
  },
  {
   "cell_type": "code",
   "execution_count": null,
   "id": "fe04c26b-cf51-4443-bbf5-e9b1a72cea0f",
   "metadata": {},
   "outputs": [],
   "source": [
    "import datetime\n",
    "\n",
    "class Bill:\n",
    "    \"\"\" Bill class has two methods get total method will provide amount of total bill purchased by customer\n",
    "        display bill method will provide summary of bill including product purchased and its amount also provide information of total \n",
    "        product purchased and total bill\n",
    "        record attribute shows which products are currenly present in stock and their amount you can simply check the record and alter \n",
    "        product amount if you require\n",
    "    \"\"\"\n",
    "\n",
    "    def __init__(self,product_rec = [\"External Hard Disk\", \"RAM\", \"Printer\", \"Pen Drive\"],price_rec = [5000, 2000, 6000, 800],item=[]):\n",
    "      \n",
    "        self.__product_rec = product_rec # list store product details \n",
    "        self.__price_rec = price_rec # list store product values \n",
    "        self.__item = item # this variable holds list of product purchased by customer\n",
    "        self.record = dict(zip(self.__product_rec,self.__price_rec)) # created dictonary to keep record of product and its value\n",
    "        self.__total = 0 # initialize to get total amount of product purchased\n",
    "        self.__count = 0 # initialize to get total count of product purchased\n",
    "        self.__d = {i: self.record[i] for i in self.__item if i in self.record} # iterate over product purchased by customer time complexity O(n)\n",
    "        self.__total = sum(self.__d.values()) # total increased with each product added in dictionary d\n",
    "        self.__count = len(self.__d) # count increased with each product added in dictionary d\n",
    "    \n",
    "    def add_new_product(self):\n",
    "        self.__new_prod = input(\"Please enter product :\") # if product not in our record take product name from user \n",
    "        self.__new_prod_price = int(input(\"Please Enter Price\")) # if product not in our record take product amount from user\n",
    "        self.record[self.__new_prod] = self.__new_prod_price # both product and its amount updated in record\n",
    "        print(\"Product added in record\")\n",
    "        self.__d[self.__new_prod] = self.__new_prod_price  # now product added also purchased by customer so added in product purchased dict d with amt\n",
    "        self.__total = sum(self.__d.values())  # total increased with each product added in dictionary d\n",
    "        self.__count = len(self.__d) # count increased with each product added in dictionary d\n",
    "        \n",
    "\n",
    "    # getter to return total bill amount\n",
    "    def get_total(self): \n",
    "        return self.__total\n",
    "\n",
    "        \n",
    "    # this method displays bill summary product purchased and total product count and total bill\n",
    "    def display_bill(self):\n",
    "        for i in self.__d:\n",
    "            print(f\"Product >> {i} , Price >> {self.__d[i]}\")\n",
    "        print(f\"Total no of product {self.__count} of total bill {self.__total}\")\n",
    "    \n",
    "\n",
    "\n",
    "class CashPayment(Bill):\n",
    "    \"\"\" CashPayment class is child class of Bill class having constructor and display_payment method\n",
    "        display_payment method display payment check amount with total bill and provide summary with payment illustration \n",
    "    \"\"\"\n",
    "    def __init__(self,item,deno=[],value=[]):\n",
    "        super().__init__(item = item)\n",
    "        self.__deno = deno\n",
    "        self.__value = value\n",
    "\n",
    "    def display_payment(self):\n",
    "        self.__total_paid = 0\n",
    "        for i,j in zip(self.__deno,self.__value):\n",
    "            self.__total_paid += i*j\n",
    "\n",
    "        if self.get_total() > self.__total_paid:\n",
    "            print(f\"Please give more {self.get_total()-self.__total_paid} Rs\")\n",
    "        else:\n",
    "            for i,j in zip(self.__deno,self.__value):\n",
    "                print(f\"{j} notes of {i} Rs\")\n",
    "            print(\"Cash Payment done\")\n",
    "            \n",
    "class ChequePayment(Bill):\n",
    "    def __init__(self,cheque,amt,bank_name,item):\n",
    "        super().__init__(item = item)\n",
    "        self.__cheque = cheque\n",
    "        self.__bank_name = bank_name\n",
    "        self.__amt = amt\n",
    "        self.__date = input(\"Enter date in dd/mm/yy eg 31/01/2025: \")\n",
    "        \n",
    "\n",
    "    def __cheque_validation(self):\n",
    "\n",
    "        self.__current_date = datetime.datetime.now().date()\n",
    "        \n",
    "        try:\n",
    "            self.__given_date = datetime.datetime.strptime(self.__date,\"%d/%m/%Y\").date()\n",
    "          \n",
    "        except ValueError:\n",
    "            return \"Please enter valid date\"\n",
    "        \n",
    "        \n",
    "        if self.__given_date < self.__current_date:\n",
    "            return \"we do not accept past dated cheque \"\n",
    "            \n",
    "        if (self.__given_date - self.__current_date).days > 2 :\n",
    "            return \"We only accept post dated cheque with max 2 days\"\n",
    "                \n",
    "        if self.__amt < self.get_total():\n",
    "            return f\"Cheque amount is less with {self.get_total()-self.amt}Rs\"\n",
    "                 \n",
    "                        \n",
    "        self.__future_valid_date = self.__given_date + datetime.timedelta(90)\n",
    "        print(f\"Cheque is valid till : {self.__future_valid_date}\")\n",
    "        print(f\"Payment done through cheque : Cheque details are : [Cheque No: {self.__cheque}, Cheque amount:{self.__amt}, Cheque date: {self.__date},Bank Name: {self.__bank_name}\")\n",
    "                    \n",
    "                    \n",
    "    def display_payment(self):\n",
    "        return self.__cheque_validation()\n",
    "\n",
    "obj = Bill(item=[\"External Hard Disk\", \"RAM\"])"
   ]
  },
  {
   "cell_type": "code",
   "execution_count": null,
   "id": "01d5596f-9be5-42f6-8d6f-d4c9a95bfc78",
   "metadata": {},
   "outputs": [],
   "source": []
  }
 ],
 "metadata": {
  "kernelspec": {
   "display_name": "Python 3 (ipykernel)",
   "language": "python",
   "name": "python3"
  },
  "language_info": {
   "codemirror_mode": {
    "name": "ipython",
    "version": 3
   },
   "file_extension": ".py",
   "mimetype": "text/x-python",
   "name": "python",
   "nbconvert_exporter": "python",
   "pygments_lexer": "ipython3",
   "version": "3.10.6"
  }
 },
 "nbformat": 4,
 "nbformat_minor": 5
}
