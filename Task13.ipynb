{
 "cells": [
  {
   "cell_type": "code",
   "execution_count": 1,
   "id": "4057a3a6-6e79-45c0-bcd2-a5ddaf50fb99",
   "metadata": {},
   "outputs": [],
   "source": [
    "import numpy as np"
   ]
  },
  {
   "cell_type": "markdown",
   "id": "d6cd4aa5-2adc-47b2-854f-73c6528bc8f7",
   "metadata": {},
   "source": [
    "### Q-1 Create a null vector of size 10 but the fifth value which is 1."
   ]
  },
  {
   "cell_type": "code",
   "execution_count": 22,
   "id": "44765164-f197-4404-aee3-25187f418175",
   "metadata": {},
   "outputs": [
    {
     "data": {
      "text/plain": [
       "array([nan, nan, nan, nan,  1., nan, nan, nan, nan, nan])"
      ]
     },
     "execution_count": 22,
     "metadata": {},
     "output_type": "execute_result"
    }
   ],
   "source": [
    "arr = np.zeros(10)*np.nan\n",
    "arr[4] = 1\n",
    "arr"
   ]
  },
  {
   "cell_type": "markdown",
   "id": "160dd127-ea79-4b70-9b53-73055fe3bb30",
   "metadata": {},
   "source": [
    "### Q-2 Ask user to input two numbers a, b. Write a program to generate a random array of shape (a, b) and print the array and avg of the array."
   ]
  },
  {
   "cell_type": "code",
   "execution_count": 9,
   "id": "3de75d0f-dadf-4f64-b980-bc816fa68af5",
   "metadata": {},
   "outputs": [
    {
     "data": {
      "text/plain": [
       "(array([[0.27579494, 0.29723587, 0.27647416, 0.83934084],\n",
       "        [0.28111073, 0.79016567, 0.68611837, 0.38087316],\n",
       "        [0.4061745 , 0.38094712, 0.84359709, 0.91567763]]),\n",
       " 0.5311258382730392)"
      ]
     },
     "execution_count": 9,
     "metadata": {},
     "output_type": "execute_result"
    }
   ],
   "source": [
    "def random_array(a,b):\n",
    "    arr = np.random.random((a,b))\n",
    "    return arr,np.mean(arr)\n",
    "random_array(3,4)    "
   ]
  },
  {
   "cell_type": "markdown",
   "id": "cb41d0b5-d82e-4506-ace0-1db1d8548cbc",
   "metadata": {},
   "source": [
    "### Q-3 Write a function to create a 2d array with 1 on the border and 0 inside. Take 2-D array shape as (a,b) as parameter to function."
   ]
  },
  {
   "cell_type": "raw",
   "id": "302219de-45a8-4c27-9814-b0651f42f980",
   "metadata": {},
   "source": [
    "Eg.-\n",
    "\n",
    "[[1,1,1,1],\n",
    "[1,0,0,1],\n",
    "[1,0,0,1],\n",
    "[1,1,1,1]]"
   ]
  },
  {
   "cell_type": "code",
   "execution_count": 19,
   "id": "4d1189d9-7143-459f-8fb1-736ad8274a91",
   "metadata": {},
   "outputs": [
    {
     "data": {
      "text/plain": [
       "array([[1., 1., 1., 1.],\n",
       "       [1., 0., 0., 1.],\n",
       "       [1., 1., 1., 1.]])"
      ]
     },
     "execution_count": 19,
     "metadata": {},
     "output_type": "execute_result"
    }
   ],
   "source": [
    "def array2d(a,b):\n",
    "    arr = np.ones((a,b))\n",
    "    arr[1:-1,1:-1] = 0\n",
    "    return arr\n",
    "array2d(3,4)"
   ]
  },
  {
   "cell_type": "code",
   "execution_count": 20,
   "id": "dc0c38dc-8620-400f-bed9-ebb9dce5a3b8",
   "metadata": {},
   "outputs": [
    {
     "data": {
      "text/plain": [
       "array([[1., 1., 1., 1.],\n",
       "       [1., 0., 0., 1.],\n",
       "       [1., 0., 0., 1.],\n",
       "       [1., 1., 1., 1.]])"
      ]
     },
     "execution_count": 20,
     "metadata": {},
     "output_type": "execute_result"
    }
   ],
   "source": [
    "array2d(4,4)"
   ]
  },
  {
   "cell_type": "code",
   "execution_count": 21,
   "id": "f322b061-6411-4a17-b79b-28c42e4c5959",
   "metadata": {},
   "outputs": [
    {
     "data": {
      "text/plain": [
       "array([[1., 1., 1., 1., 1.],\n",
       "       [1., 0., 0., 0., 1.],\n",
       "       [1., 0., 0., 0., 1.],\n",
       "       [1., 0., 0., 0., 1.],\n",
       "       [1., 1., 1., 1., 1.]])"
      ]
     },
     "execution_count": 21,
     "metadata": {},
     "output_type": "execute_result"
    }
   ],
   "source": [
    "array2d(5,5)"
   ]
  },
  {
   "cell_type": "markdown",
   "id": "ae8cf9be-553e-4bee-8173-06923d0c49a5",
   "metadata": {},
   "source": [
    "### Q-4 Create a vector of size 10 with values ranging from 0 to 1, both excluded."
   ]
  },
  {
   "cell_type": "code",
   "execution_count": 30,
   "id": "c7a4e818-94da-475a-8f78-57fe3ad42828",
   "metadata": {},
   "outputs": [
    {
     "data": {
      "text/plain": [
       "array([0.1       , 0.18181818, 0.26363636, 0.34545455, 0.42727273,\n",
       "       0.50909091, 0.59090909, 0.67272727, 0.75454545, 0.83636364,\n",
       "       0.91818182])"
      ]
     },
     "execution_count": 30,
     "metadata": {},
     "output_type": "execute_result"
    }
   ],
   "source": [
    "arr = np.linspace(0.1,1,11,endpoint=False)\n",
    "arr"
   ]
  },
  {
   "cell_type": "markdown",
   "id": "a4fe3833-cd2f-4877-80cb-3c12c190a5e0",
   "metadata": {},
   "source": [
    "### Q-5 Can you create a identity mattrix of shape (3,4). If yes write code for it."
   ]
  },
  {
   "cell_type": "code",
   "execution_count": 32,
   "id": "80e3bdfb-353f-483f-919f-6195c02b094d",
   "metadata": {},
   "outputs": [
    {
     "ename": "TypeError",
     "evalue": "Cannot interpret '4' as a data type",
     "output_type": "error",
     "traceback": [
      "\u001b[1;31m---------------------------------------------------------------------------\u001b[0m",
      "\u001b[1;31mTypeError\u001b[0m                                 Traceback (most recent call last)",
      "Input \u001b[1;32mIn [32]\u001b[0m, in \u001b[0;36m<cell line: 1>\u001b[1;34m()\u001b[0m\n\u001b[1;32m----> 1\u001b[0m \u001b[43mnp\u001b[49m\u001b[38;5;241;43m.\u001b[39;49m\u001b[43midentity\u001b[49m\u001b[43m(\u001b[49m\u001b[38;5;241;43m3\u001b[39;49m\u001b[43m,\u001b[49m\u001b[38;5;241;43m4\u001b[39;49m\u001b[43m)\u001b[49m\n",
      "File \u001b[1;32m~\\AppData\\Local\\Programs\\Python\\Python310\\lib\\site-packages\\numpy\\core\\numeric.py:2182\u001b[0m, in \u001b[0;36midentity\u001b[1;34m(n, dtype, like)\u001b[0m\n\u001b[0;32m   2179\u001b[0m     \u001b[38;5;28;01mreturn\u001b[39;00m _identity_with_like(n, dtype\u001b[38;5;241m=\u001b[39mdtype, like\u001b[38;5;241m=\u001b[39mlike)\n\u001b[0;32m   2181\u001b[0m \u001b[38;5;28;01mfrom\u001b[39;00m \u001b[38;5;21;01mnumpy\u001b[39;00m \u001b[38;5;28;01mimport\u001b[39;00m eye\n\u001b[1;32m-> 2182\u001b[0m \u001b[38;5;28;01mreturn\u001b[39;00m \u001b[43meye\u001b[49m\u001b[43m(\u001b[49m\u001b[43mn\u001b[49m\u001b[43m,\u001b[49m\u001b[43m \u001b[49m\u001b[43mdtype\u001b[49m\u001b[38;5;241;43m=\u001b[39;49m\u001b[43mdtype\u001b[49m\u001b[43m,\u001b[49m\u001b[43m \u001b[49m\u001b[43mlike\u001b[49m\u001b[38;5;241;43m=\u001b[39;49m\u001b[43mlike\u001b[49m\u001b[43m)\u001b[49m\n",
      "File \u001b[1;32m~\\AppData\\Local\\Programs\\Python\\Python310\\lib\\site-packages\\numpy\\lib\\twodim_base.py:215\u001b[0m, in \u001b[0;36meye\u001b[1;34m(N, M, k, dtype, order, like)\u001b[0m\n\u001b[0;32m    213\u001b[0m \u001b[38;5;28;01mif\u001b[39;00m M \u001b[38;5;129;01mis\u001b[39;00m \u001b[38;5;28;01mNone\u001b[39;00m:\n\u001b[0;32m    214\u001b[0m     M \u001b[38;5;241m=\u001b[39m N\n\u001b[1;32m--> 215\u001b[0m m \u001b[38;5;241m=\u001b[39m \u001b[43mzeros\u001b[49m\u001b[43m(\u001b[49m\u001b[43m(\u001b[49m\u001b[43mN\u001b[49m\u001b[43m,\u001b[49m\u001b[43m \u001b[49m\u001b[43mM\u001b[49m\u001b[43m)\u001b[49m\u001b[43m,\u001b[49m\u001b[43m \u001b[49m\u001b[43mdtype\u001b[49m\u001b[38;5;241;43m=\u001b[39;49m\u001b[43mdtype\u001b[49m\u001b[43m,\u001b[49m\u001b[43m \u001b[49m\u001b[43morder\u001b[49m\u001b[38;5;241;43m=\u001b[39;49m\u001b[43morder\u001b[49m\u001b[43m)\u001b[49m\n\u001b[0;32m    216\u001b[0m \u001b[38;5;28;01mif\u001b[39;00m k \u001b[38;5;241m>\u001b[39m\u001b[38;5;241m=\u001b[39m M:\n\u001b[0;32m    217\u001b[0m     \u001b[38;5;28;01mreturn\u001b[39;00m m\n",
      "\u001b[1;31mTypeError\u001b[0m: Cannot interpret '4' as a data type"
     ]
    }
   ],
   "source": [
    "np.identity(3,4) # Not possible No of rows must be equal to no of columns"
   ]
  },
  {
   "cell_type": "code",
   "execution_count": 33,
   "id": "4514d9ce-cfa8-4dde-9939-73074f863eef",
   "metadata": {},
   "outputs": [
    {
     "data": {
      "text/plain": [
       "array([[1., 0., 0.],\n",
       "       [0., 1., 0.],\n",
       "       [0., 0., 1.]])"
      ]
     },
     "execution_count": 33,
     "metadata": {},
     "output_type": "execute_result"
    }
   ],
   "source": [
    "np.eye(3)"
   ]
  },
  {
   "cell_type": "code",
   "execution_count": 35,
   "id": "9243b370-4cde-4dd2-9fa2-177b295ff171",
   "metadata": {},
   "outputs": [
    {
     "data": {
      "text/plain": [
       "array([[1., 0., 0., 0.],\n",
       "       [0., 1., 0., 0.],\n",
       "       [0., 0., 1., 0.],\n",
       "       [0., 0., 0., 1.]])"
      ]
     },
     "execution_count": 35,
     "metadata": {},
     "output_type": "execute_result"
    }
   ],
   "source": [
    "np.identity(4)"
   ]
  },
  {
   "cell_type": "code",
   "execution_count": 37,
   "id": "da2e0604-95a0-4590-a8be-5d3f50f7fec0",
   "metadata": {},
   "outputs": [
    {
     "data": {
      "text/plain": [
       "array([[1., 0., 0., 0.],\n",
       "       [0., 1., 0., 0.],\n",
       "       [0., 0., 1., 0.]])"
      ]
     },
     "execution_count": 37,
     "metadata": {},
     "output_type": "execute_result"
    }
   ],
   "source": [
    "np.eye(3,4)"
   ]
  },
  {
   "cell_type": "markdown",
   "id": "32ebf2ad-8849-4b0e-a81d-c064262d5ac6",
   "metadata": {},
   "source": [
    "### Q-6: Create a 5x5 matrix with row values ranging from 0 to 4."
   ]
  },
  {
   "cell_type": "code",
   "execution_count": 44,
   "id": "6e4cccae-34f3-4f2d-ad09-459235fcae4e",
   "metadata": {},
   "outputs": [
    {
     "data": {
      "text/plain": [
       "array([[0., 1., 2., 3., 4.],\n",
       "       [0., 1., 2., 3., 4.],\n",
       "       [0., 1., 2., 3., 4.],\n",
       "       [0., 1., 2., 3., 4.],\n",
       "       [0., 1., 2., 3., 4.]])"
      ]
     },
     "execution_count": 44,
     "metadata": {},
     "output_type": "execute_result"
    }
   ],
   "source": [
    "arr = np.zeros((5,5))\n",
    "ar = np.arange(5)\n",
    "arr = arr+ar\n",
    "arr"
   ]
  },
  {
   "cell_type": "markdown",
   "id": "f48f4106-90eb-44d3-8442-81f1d3ed3c69",
   "metadata": {},
   "source": [
    "### Q-7: Consider a random integer (in range 1 to 100) vector with shape (10,2) representing coordinates, and coordinates of a point as array is given. Create an array of distance of each point in the random vectros from the given point. Distance array should be interger type. point = np.array([2,3]) "
   ]
  },
  {
   "cell_type": "code",
   "execution_count": 73,
   "id": "c08202e3-ef8c-4184-b188-02ebaa900040",
   "metadata": {},
   "outputs": [
    {
     "data": {
      "text/plain": [
       "array([ 86,  57,  80,  30,  80,  49, 111,  93,  27,  60])"
      ]
     },
     "execution_count": 73,
     "metadata": {},
     "output_type": "execute_result"
    }
   ],
   "source": [
    "arr = np.random.randint(1,100,size=(10,2))\n",
    "point = np.array([2,3])\n",
    "dist_arr = np.sqrt(np.sum((point-arr)**2,axis=1)).astype(int)\n",
    "dist_arr"
   ]
  },
  {
   "cell_type": "markdown",
   "id": "fbf5048a-92e7-468b-a931-3ca16f674438",
   "metadata": {},
   "source": [
    "### Q-8: Consider a (6,7,8) shape array, what is the index (x,y,z) of the 100th element?"
   ]
  },
  {
   "cell_type": "code",
   "execution_count": 79,
   "id": "f2080aed-b926-4abc-bebb-b92e008a87fb",
   "metadata": {},
   "outputs": [
    {
     "data": {
      "text/plain": [
       "array([[[  0,   1,   2,   3,   4,   5,   6,   7],\n",
       "        [  8,   9,  10,  11,  12,  13,  14,  15],\n",
       "        [ 16,  17,  18,  19,  20,  21,  22,  23],\n",
       "        [ 24,  25,  26,  27,  28,  29,  30,  31],\n",
       "        [ 32,  33,  34,  35,  36,  37,  38,  39],\n",
       "        [ 40,  41,  42,  43,  44,  45,  46,  47],\n",
       "        [ 48,  49,  50,  51,  52,  53,  54,  55]],\n",
       "\n",
       "       [[ 56,  57,  58,  59,  60,  61,  62,  63],\n",
       "        [ 64,  65,  66,  67,  68,  69,  70,  71],\n",
       "        [ 72,  73,  74,  75,  76,  77,  78,  79],\n",
       "        [ 80,  81,  82,  83,  84,  85,  86,  87],\n",
       "        [ 88,  89,  90,  91,  92,  93,  94,  95],\n",
       "        [ 96,  97,  98,  99, 100, 101, 102, 103],\n",
       "        [104, 105, 106, 107, 108, 109, 110, 111]],\n",
       "\n",
       "       [[112, 113, 114, 115, 116, 117, 118, 119],\n",
       "        [120, 121, 122, 123, 124, 125, 126, 127],\n",
       "        [128, 129, 130, 131, 132, 133, 134, 135],\n",
       "        [136, 137, 138, 139, 140, 141, 142, 143],\n",
       "        [144, 145, 146, 147, 148, 149, 150, 151],\n",
       "        [152, 153, 154, 155, 156, 157, 158, 159],\n",
       "        [160, 161, 162, 163, 164, 165, 166, 167]],\n",
       "\n",
       "       [[168, 169, 170, 171, 172, 173, 174, 175],\n",
       "        [176, 177, 178, 179, 180, 181, 182, 183],\n",
       "        [184, 185, 186, 187, 188, 189, 190, 191],\n",
       "        [192, 193, 194, 195, 196, 197, 198, 199],\n",
       "        [200, 201, 202, 203, 204, 205, 206, 207],\n",
       "        [208, 209, 210, 211, 212, 213, 214, 215],\n",
       "        [216, 217, 218, 219, 220, 221, 222, 223]],\n",
       "\n",
       "       [[224, 225, 226, 227, 228, 229, 230, 231],\n",
       "        [232, 233, 234, 235, 236, 237, 238, 239],\n",
       "        [240, 241, 242, 243, 244, 245, 246, 247],\n",
       "        [248, 249, 250, 251, 252, 253, 254, 255],\n",
       "        [256, 257, 258, 259, 260, 261, 262, 263],\n",
       "        [264, 265, 266, 267, 268, 269, 270, 271],\n",
       "        [272, 273, 274, 275, 276, 277, 278, 279]],\n",
       "\n",
       "       [[280, 281, 282, 283, 284, 285, 286, 287],\n",
       "        [288, 289, 290, 291, 292, 293, 294, 295],\n",
       "        [296, 297, 298, 299, 300, 301, 302, 303],\n",
       "        [304, 305, 306, 307, 308, 309, 310, 311],\n",
       "        [312, 313, 314, 315, 316, 317, 318, 319],\n",
       "        [320, 321, 322, 323, 324, 325, 326, 327],\n",
       "        [328, 329, 330, 331, 332, 333, 334, 335]]])"
      ]
     },
     "execution_count": 79,
     "metadata": {},
     "output_type": "execute_result"
    }
   ],
   "source": [
    "arr = np.arange(336).reshape(6,7,8)\n",
    "arr"
   ]
  },
  {
   "cell_type": "code",
   "execution_count": 110,
   "id": "7410c4bc-398d-4df6-940c-d731f16536b6",
   "metadata": {},
   "outputs": [
    {
     "data": {
      "text/plain": [
       "100"
      ]
     },
     "execution_count": 110,
     "metadata": {},
     "output_type": "execute_result"
    }
   ],
   "source": [
    "arr[1,5,4]"
   ]
  },
  {
   "cell_type": "code",
   "execution_count": 109,
   "id": "7aa716c2-0822-422a-96fc-92398e18423f",
   "metadata": {},
   "outputs": [
    {
     "data": {
      "text/plain": [
       "(1, 5, 4)"
      ]
     },
     "execution_count": 109,
     "metadata": {},
     "output_type": "execute_result"
    }
   ],
   "source": [
    "np.unravel_index(100,(6,7,8))"
   ]
  },
  {
   "cell_type": "markdown",
   "id": "f910b162-0c9f-428c-a0df-9b41dcf66ed0",
   "metadata": {},
   "source": [
    "### Q-9: Arrays\n",
    "### You are given a space separated list of numbers. Your task is to print a reversed NumPy array with the element type float."
   ]
  },
  {
   "cell_type": "raw",
   "id": "addbffe4-5045-43d7-80bf-e1eaf708b08c",
   "metadata": {},
   "source": [
    "Input Format:\n",
    "\n",
    "A single line of input containing space separated numbers.\n",
    "\n",
    "Output Format:\n",
    "\n",
    "Print the reverse NumPy array with type float.\n",
    "\n",
    "Example 1:\n",
    "\n",
    "Input:\n",
    "\n",
    "1 2 3 4 -8 -10\n",
    "\n",
    "Output:\n",
    "\n",
    "[-10.  -8.   4.   3.   2.   1.]"
   ]
  },
  {
   "cell_type": "code",
   "execution_count": 111,
   "id": "6c7ab646-561c-409a-a0e5-037e695efbc0",
   "metadata": {},
   "outputs": [
    {
     "name": "stdin",
     "output_type": "stream",
     "text": [
      "Provide num 1 2 3 4 -8 -10\n"
     ]
    }
   ],
   "source": [
    "ip = input(\"Provide num\")"
   ]
  },
  {
   "cell_type": "code",
   "execution_count": 116,
   "id": "5b9ffdd8-40bb-4c24-a2f1-6a820b53afb7",
   "metadata": {},
   "outputs": [
    {
     "data": {
      "text/plain": [
       "array([-10.,  -8.,   4.,   3.,   2.,   1.])"
      ]
     },
     "execution_count": 116,
     "metadata": {},
     "output_type": "execute_result"
    }
   ],
   "source": [
    "arr = np.array(ip.split()[::-1],dtype=float)\n",
    "arr"
   ]
  },
  {
   "cell_type": "markdown",
   "id": "8a4f78eb-6689-4a26-8bf3-9cdb3a148eb2",
   "metadata": {},
   "source": [
    "### Q-10: Elements count\n",
    "### Count the number of elements of a numpy array."
   ]
  },
  {
   "cell_type": "raw",
   "id": "141bc1fe-5b10-4c93-a611-712b8555ef91",
   "metadata": {},
   "source": [
    "Example 1:\n",
    "\n",
    "Input:\n",
    "\n",
    "np.array([])\n",
    "Output:\n",
    "\n",
    "elements_count :  0\n",
    "Example 2:\n",
    "\n",
    "Input:\n",
    "\n",
    "np.array([1, 2])\n",
    "Output:\n",
    "\n",
    "elements_count :  2"
   ]
  },
  {
   "cell_type": "code",
   "execution_count": 117,
   "id": "9a57b742-6e7d-4abd-9454-3b0c8507348a",
   "metadata": {},
   "outputs": [
    {
     "name": "stdout",
     "output_type": "stream",
     "text": [
      "0\n",
      "2\n"
     ]
    }
   ],
   "source": [
    "arr1 = np.array([])\n",
    "arr2 = np.array([1, 2])\n",
    "\n",
    "print(np.size(arr1))\n",
    "print(np.size(arr2))"
   ]
  },
  {
   "cell_type": "markdown",
   "id": "bb5e0a5e-b6f5-4a83-bfe9-da1f752f55f8",
   "metadata": {},
   "source": [
    "### Q-11: Softmax function\n",
    "### Create a Python function to calculate the Softmax of the given numpy 1D array. The function only accepts the numpy 1D array, otherwise raise error."
   ]
  },
  {
   "cell_type": "raw",
   "id": "62ff8a46-04d5-4bcd-89fd-b5e901a8b315",
   "metadata": {},
   "source": [
    "Example 1:\n",
    "\n",
    "Input:\n",
    "\n",
    "[86.03331084 37.7285648  48.64908087 87.16563062 38.40852563 37.20006318]\n",
    "Output:\n",
    "\n",
    "[2.43733249e-01, 2.56112115e-22, 1.41628284e-17, 7.56266751e-01, \n",
    "       5.05514197e-22, 1.50974911e-22]\n",
    "Example 2:\n",
    "\n",
    "Input:\n",
    "\n",
    "[33.17344305 45.61961654 82.05405781 80.9647098  68.82830233 91.52064278]\n",
    "Output:\n",
    "\n",
    "[4.57181035e-26, 1.16249923e-20, 7.73872596e-05, 2.60358426e-05,\n",
    "       1.39571531e-10, 9.99896577e-01]"
   ]
  },
  {
   "cell_type": "code",
   "execution_count": 122,
   "id": "b8547fef-2ce9-4f9b-9e99-342361e79037",
   "metadata": {},
   "outputs": [
    {
     "data": {
      "text/plain": [
       "array([2.43733248e-01, 2.56112114e-22, 1.41628283e-17, 7.56266752e-01,\n",
       "       5.05514197e-22, 1.50974911e-22])"
      ]
     },
     "execution_count": 122,
     "metadata": {},
     "output_type": "execute_result"
    }
   ],
   "source": [
    "def softmax(arr):\n",
    "    if type(arr) != np.ndarray:\n",
    "        raise TypeError(\"Requires Numpy Array\")\n",
    "    elif arr.ndim > 1:\n",
    "        raise TypeError(\"Requires 1D Array\")\n",
    "    s = np.sum(np.exp(arr))\n",
    "    return np.exp(arr)/s\n",
    "softmax(np.array([86.03331084, 37.7285648,  48.64908087, 87.16563062, 38.40852563, 37.20006318]))"
   ]
  },
  {
   "cell_type": "markdown",
   "id": "9c1be408-0c16-4fd2-a958-08bf47ac4c50",
   "metadata": {},
   "source": [
    "### Q-12: Vertical stack\n",
    "### Write a python function that accepts infinite number of numpy arrays and do the vertical stack to them. Then return that new array as result. The function only accepts the numpy array, otherwise raise error."
   ]
  },
  {
   "cell_type": "raw",
   "id": "d24416d2-4113-43ae-8070-b936a2437101",
   "metadata": {},
   "source": [
    "Example 1:\n",
    "\n",
    "Input:\n",
    "\n",
    "a= [[0 1 2 3 4]\n",
    " [5 6 7 8 9]]\n",
    "\n",
    "b= [[1 1 1 1 1]\n",
    " [1 1 1 1 1]]\n",
    "Output:\n",
    "\n",
    "[[0 1 2 3 4]\n",
    " [5 6 7 8 9]\n",
    " [1 1 1 1 1]\n",
    " [1 1 1 1 1]]\n",
    "Example 2:\n",
    "\n",
    "Input:\n",
    "\n",
    "a= [[0 1 2 3 4]\n",
    " [5 6 7 8 9]]\n",
    "\n",
    "b= [[1 1 1 1 1]\n",
    " [1 1 1 1 1]]\n",
    "\n",
    "c= [[0.10117373 0.1677244  0.73764059 0.83166097 0.48985695]\n",
    " [0.44581567 0.13502419 0.55692335 0.16479622 0.61193593]] \n",
    "Output:\n",
    "\n",
    "[[0.         1.         2.         3.         4.        ]\n",
    " [5.         6.         7.         8.         9.        ]\n",
    " [1.         1.         1.         1.         1.        ]\n",
    " [1.         1.         1.         1.         1.        ]\n",
    " [0.10117373 0.1677244  0.73764059 0.83166097 0.48985695]\n",
    " [0.44581567 0.13502419 0.55692335 0.16479622 0.61193593]]"
   ]
  },
  {
   "cell_type": "code",
   "execution_count": 270,
   "id": "756254fb-9199-4b79-bde4-db4a492c4cb6",
   "metadata": {},
   "outputs": [
    {
     "name": "stdout",
     "output_type": "stream",
     "text": [
      "[[ 1  2  3]\n",
      " [10 11 12]]\n",
      "[[4 5 6]\n",
      " [7 8 9]\n",
      " [1 2 3]]\n",
      "[[4 5 6]\n",
      " [7 8 9]\n",
      " [4 5 6]\n",
      " [7 8 9]]\n"
     ]
    }
   ],
   "source": [
    "# Code for stacking of 1d and 2d array\n",
    "import numpy as np\n",
    "\n",
    "def vertical_stack(*arrays):\n",
    "    # Check if all inputs are numpy arrays\n",
    "    if not all(isinstance(arr, np.ndarray) for arr in arrays):\n",
    "        return \"Error: All inputs must be numpy arrays.\"\n",
    "\n",
    "    # Get dimensions of all arrays\n",
    "    dimensions = [arr.ndim for arr in arrays]\n",
    "\n",
    "    # If all arrays are 1D, stack them as rows\n",
    "    if all(dim == 1 for dim in dimensions):\n",
    "        return np.vstack(arrays)\n",
    "\n",
    "    # If all arrays are 2D, check for shape compatibility\n",
    "    if all(dim == 2 for dim in dimensions):\n",
    "        y_shapes = {arr.shape[1] for arr in arrays}\n",
    "        if len(y_shapes) == 1:\n",
    "            return np.vstack(arrays)\n",
    "        else:\n",
    "            return \"Error: For 2D stacking, number of columns must be the same.\"\n",
    "\n",
    "    # If mixing 1D and 2D arrays\n",
    "    if 1 in dimensions and 2 in dimensions:\n",
    "        ref_shape = None\n",
    "        for arr in arrays:\n",
    "            if arr.ndim == 2:\n",
    "                ref_shape = arr.shape[1]\n",
    "                break\n",
    "\n",
    "        if ref_shape is None:\n",
    "            return \"Error: Invalid reference shape.\"\n",
    "\n",
    "        for arr in arrays:\n",
    "            if arr.ndim == 1:\n",
    "                if arr.shape[0] != ref_shape:\n",
    "                    return \"Error: 1D array length must match the number of columns in 2D arrays.\"\n",
    "\n",
    "        reshaped_arrays = [arr if arr.ndim == 2 else arr.reshape(1, -1) for arr in arrays]\n",
    "        return np.vstack(reshaped_arrays)\n",
    "\n",
    "    return \"Error: Incompatible dimensions.\"\n",
    "\n",
    "# Example usage:\n",
    "a = np.array([1, 2, 3])  # 1D array\n",
    "b = np.array([[4, 5, 6], [7, 8, 9]])  # 2D array\n",
    "c = np.array([10, 11, 12])  # 1D array\n",
    "\n",
    "print(vertical_stack(a, c))  # Stacking two 1D arrays\n",
    "print(vertical_stack(b, a))  # Stacking 2D with 1D\n",
    "print(vertical_stack(b, b))  # Stacking two 2D arrays"
   ]
  },
  {
   "cell_type": "code",
   "execution_count": 290,
   "id": "474923a5-c984-4c72-9125-2b01fa3d0408",
   "metadata": {},
   "outputs": [
    {
     "name": "stdout",
     "output_type": "stream",
     "text": [
      "[[ 1  2  3]\n",
      " [10 11 12]]\n",
      "[[4 5 6]\n",
      " [7 8 9]\n",
      " [1 2 3]]\n",
      "[[4 5 6]\n",
      " [7 8 9]\n",
      " [4 5 6]\n",
      " [7 8 9]]\n",
      "[[[ 1  2]\n",
      "  [ 3  4]]\n",
      "\n",
      " [[ 5  6]\n",
      "  [ 7  8]]\n",
      "\n",
      " [[ 9 10]\n",
      "  [11 12]]\n",
      "\n",
      " [[13 14]\n",
      "  [15 16]]]\n"
     ]
    }
   ],
   "source": [
    "# My code for stacking of 1d and 2d and 3d array\n",
    "def vstacking(*arrays):\n",
    "    \n",
    "    if not all(isinstance(arr,np.ndarray) for arr in arrays):\n",
    "        return \"Error: All input must be numpy array\"\n",
    "\n",
    "    # get dimensions of all array\n",
    "    dimensions = [arr.ndim for arr in arrays]\n",
    "\n",
    "    if all(dim == 1 for dim in dimensions):\n",
    "        return np.vstack(arrays)\n",
    "\n",
    "    if all(dim == 2 for dim in dimensions):\n",
    "        y_shape = {arr.shape[1] for arr in arrays}\n",
    "        if len(y_shape) == 1:\n",
    "            return np.vstack(arrays)\n",
    "        else:\n",
    "            return \"Error: For 2D stacking, number of columns must be the same.\"\n",
    "    \n",
    "    if all(dim == 3 for dim in dimensions):\n",
    "        y_shape = {arr.shape[1] for arr in arrays}\n",
    "        z_shape = {arr.shape[2] for arr in arrays}\n",
    "        if len(y_shape)== 1 and len(z_shape) == 1:\n",
    "            return np.vstack(arrays)\n",
    "        else:\n",
    "            return \"Error: For 3D stacking, Y & Z dimensions must match.\"\n",
    "\n",
    "    if 1 in dimensions and 2 in dimensions:\n",
    "        ref_shape = None\n",
    "        for arr in arrays:\n",
    "            if arr.ndim == 2:\n",
    "                ref_shape = arr.shape[1]\n",
    "                break\n",
    "        \n",
    "        if ref_shape is None:\n",
    "            return \"Error: Invalid reference shape.\"\n",
    "\n",
    "        for arr in arrays:\n",
    "            if arr.ndim == 1:\n",
    "                if arr.shape[0] != ref_shape:\n",
    "                    return \"Error: 1D array length must match the number of columns in 2D arrays.\"\n",
    "        reshaped_arrays = [arr if arr.ndim == 2 else arr.reshape(1, -1) for arr in arrays]\n",
    "        return np.vstack(reshaped_arrays)\n",
    "\n",
    "    if 1 in dimensions and 2 in dimensions and 3 in dimension:\n",
    "        return \"Error: Incompatible dimensions.\"\n",
    "    \n",
    "    if 2 in dimensions and 3 in dimension:\n",
    "        ref_shape_y = None\n",
    "        ref_shape_z = None\n",
    "        for arr in arrays:\n",
    "            if arr.ndim == 3:\n",
    "                ref_shape_y = arr.shape[1]\n",
    "                ref_shape_z = arr.shape[2]\n",
    "                break\n",
    "        \n",
    "        if ref_shape is None:\n",
    "            return \"Error: Invalid reference shape.\"\n",
    "\n",
    "        for arr in arrays:\n",
    "            if arr.ndim == 2:\n",
    "                if arr.shape[0] != ref_shape_y or arr.shape[1] != ref_shape_z:\n",
    "                    return \"Error: For 2D-3D stacking, Y & Z dimensions must match.\"\n",
    "        reshaped_arrays = [arr if arr.ndim == 3 else arr.reshape(1, arr.shape[0], arr.shape[1]) for arr in arrays]\n",
    "        return np.vstack(reshaped_arrays)\n",
    "\n",
    "    return \"Error: Incompatible dimensions\"\n",
    "\n",
    "a = np.array([1, 2, 3])  # 1D\n",
    "b = np.array([[4, 5, 6], [7, 8, 9]])  # 2D\n",
    "c = np.array([10, 11, 12])  # 1D\n",
    "d = np.array([[[1, 2], [3, 4]], [[5, 6], [7, 8]]])  # 3D\n",
    "e = np.array([[[9, 10], [11, 12]], [[13, 14], [15, 16]]])  # 3D\n",
    "\n",
    "print(vstacking(a, c))   # Stacking two 1D arrays\n",
    "print(vstacking(b, a))   # Stacking 2D with 1D\n",
    "print(vstacking(b, b))   # Stacking two 2D arrays\n",
    "print(vstacking(d, e))   # Stacking two 3D arrays\n",
    "#print(vertical_stack(b, d))   # Stacking 2D with 3D (Error expected)\n",
    "#print(vertical_stack(a, b, d)) # Stacking 1D, 2D, and 3D (Error expected)   "
   ]
  },
  {
   "cell_type": "code",
   "execution_count": 288,
   "id": "4a1ffbb1-d585-4436-8a21-2ca77357eed2",
   "metadata": {},
   "outputs": [
    {
     "name": "stdout",
     "output_type": "stream",
     "text": [
      "[[ 1  2  3]\n",
      " [10 11 12]]\n",
      "[[4 5 6]\n",
      " [7 8 9]\n",
      " [1 2 3]]\n",
      "[[4 5 6]\n",
      " [7 8 9]\n",
      " [4 5 6]\n",
      " [7 8 9]]\n",
      "[[[ 1  2]\n",
      "  [ 3  4]]\n",
      "\n",
      " [[ 5  6]\n",
      "  [ 7  8]]\n",
      "\n",
      " [[ 9 10]\n",
      "  [11 12]]\n",
      "\n",
      " [[13 14]\n",
      "  [15 16]]]\n"
     ]
    }
   ],
   "source": [
    "# chatgpt code\n",
    "import numpy as np\n",
    "\n",
    "def vstacking(*arrays):\n",
    "    if not all(isinstance(arr, np.ndarray) for arr in arrays):\n",
    "        return \"Error: All inputs must be numpy arrays.\"\n",
    "\n",
    "    # Get dimensions of all arrays\n",
    "    dimensions = [arr.ndim for arr in arrays]\n",
    "\n",
    "    # Case 1: All 1D arrays → Stack as rows\n",
    "    if all(dim == 1 for dim in dimensions):\n",
    "        return np.vstack(arrays)\n",
    "\n",
    "    # Case 2: All 2D arrays → Ensure same number of columns\n",
    "    if all(dim == 2 for dim in dimensions):\n",
    "        y_shapes = {arr.shape[1] for arr in arrays}\n",
    "        if len(y_shapes) == 1:\n",
    "            return np.vstack(arrays)\n",
    "        return \"Error: For 2D stacking, number of columns must be the same.\"\n",
    "\n",
    "    # Case 3: All 3D arrays → Ensure same Y & Z dimensions\n",
    "    if all(dim == 3 for dim in dimensions):\n",
    "        y_shapes = {arr.shape[1] for arr in arrays}\n",
    "        z_shapes = {arr.shape[2] for arr in arrays}\n",
    "        if len(y_shapes) == 1 and len(z_shapes) == 1:\n",
    "            return np.vstack(arrays)\n",
    "        return \"Error: For 3D stacking, Y & Z dimensions must match.\"\n",
    "\n",
    "    # Case 4: Mixing 1D and 2D\n",
    "    if 1 in dimensions and 2 in dimensions:\n",
    "        ref_shape = None\n",
    "        for arr in arrays:\n",
    "            if arr.ndim == 2:\n",
    "                ref_shape = arr.shape[1]\n",
    "                break\n",
    "        \n",
    "        if ref_shape is None:\n",
    "            return \"Error: Invalid reference shape.\"\n",
    "\n",
    "        for arr in arrays:\n",
    "            if arr.ndim == 1 and arr.shape[0] != ref_shape:\n",
    "                return \"Error: 1D array length must match the number of columns in 2D arrays.\"\n",
    "\n",
    "        reshaped_arrays = [arr if arr.ndim == 2 else arr.reshape(1, -1) for arr in arrays]\n",
    "        return np.vstack(reshaped_arrays)\n",
    "\n",
    "    # Case 5: Mixing 2D and 3D\n",
    "    if 2 in dimensions and 3 in dimensions:\n",
    "        ref_shape_y, ref_shape_z = None, None\n",
    "        for arr in arrays:\n",
    "            if arr.ndim == 3:\n",
    "                ref_shape_y, ref_shape_z = arr.shape[1], arr.shape[2]\n",
    "                break\n",
    "        \n",
    "        if ref_shape_y is None or ref_shape_z is None:\n",
    "            return \"Error: Invalid reference shape.\"\n",
    "\n",
    "        for arr in arrays:\n",
    "            if arr.ndim == 2:\n",
    "                if arr.shape[0] != ref_shape_y or arr.shape[1] != ref_shape_z:\n",
    "                    return \"Error: For 2D-3D stacking, Y & Z dimensions must match.\"\n",
    "\n",
    "        reshaped_arrays = [arr if arr.ndim == 3 else arr.reshape(1, arr.shape[0], arr.shape[1]) for arr in arrays]\n",
    "        return np.vstack(reshaped_arrays)\n",
    "\n",
    "    # Case 6: If 1D, 2D, and 3D are mixed → Invalid stacking\n",
    "    return \"Error: Incompatible dimensions.\"\n",
    "\n",
    "# Example Tests:\n",
    "a = np.array([1, 2, 3])  # 1D\n",
    "b = np.array([[4, 5, 6], [7, 8, 9]])  # 2D\n",
    "c = np.array([10, 11, 12])  # 1D\n",
    "d = np.array([[[1, 2], [3, 4]], [[5, 6], [7, 8]]])  # 3D\n",
    "e = np.array([[[9, 10], [11, 12]], [[13, 14], [15, 16]]])  # 3D\n",
    "\n",
    "print(vstacking(a, c))   # Stacking two 1D arrays\n",
    "print(vstacking(b, a))   # Stacking 2D with 1D\n",
    "print(vstacking(b, b))   # Stacking two 2D arrays\n",
    "print(vstacking(d, e))   # Stacking two 3D arrays\n",
    "#print(vertical_stack(b, d))   # Stacking 2D with 3D (Error expected)\n",
    "#print(vertical_stack(a, b, d)) # Stacking 1D, 2D, and 3D (Error expected)    "
   ]
  },
  {
   "cell_type": "markdown",
   "id": "39911bb7-df6e-4029-a5e2-f2a24e8de0e9",
   "metadata": {},
   "source": [
    "### Q-13: Dates Create a python function named date_array that accepts two dates as string format and returns a numpy array of dates between those 2 dates. The function only accept 2 strings, otherwise raise error. The date format should be like this only: 2022-12-6. The end date should be included and for simplicity, choose dates from a same year."
   ]
  },
  {
   "cell_type": "raw",
   "id": "ab46d217-17b5-419d-8007-3b12741172b7",
   "metadata": {},
   "source": [
    "Example 1:\n",
    "\n",
    "Input:\n",
    "\n",
    "date_array(start = '2020-09-15', end = '2020-09-25')\n",
    "Output:\n",
    "\n",
    "['2020-09-15', '2020-09-16', '2020-09-17', '2020-09-18',\n",
    " '2020-09-19', '2020-09-20', '2020-09-21', '2020-09-22',\n",
    " '2020-09-23', '2020-09-24', '2020-09-25']\n",
    "Example 2:\n",
    "\n",
    "Input:\n",
    "\n",
    "date_array(start = '2022-12-01', end = '2022-12-06')\n",
    "Output:\n",
    "\n",
    "['2022-12-01', '2022-12-02', '2022-12-03', '2022-12-04', '2022-12-05', '2022-12-06']\n",
    "Example 3:\n",
    "\n",
    "Input:\n",
    "\n",
    "date_array(start = '2020-11-25', end = '2020-11-30')\n",
    "Output:\n",
    "\n",
    "['2020-11-25', '2020-11-26', '2020-11-27', '2020-11-28',\n",
    " '2020-11-29', '2020-11-30']"
   ]
  },
  {
   "cell_type": "code",
   "execution_count": 373,
   "id": "79f2590e-0339-4bbf-8869-c6cb18f2ec8f",
   "metadata": {},
   "outputs": [
    {
     "name": "stdin",
     "output_type": "stream",
     "text": [
      "Please enter from date in YYYY-MM-DD format 2020-11-25\n",
      "Please enter to date in YYYY-MM-DD format 2020-11-30\n"
     ]
    },
    {
     "data": {
      "text/plain": [
       "array(['2020-11-25', '2020-11-26', '2020-11-27', '2020-11-28',\n",
       "       '2020-11-29', '2020-11-30'], dtype='<U32')"
      ]
     },
     "execution_count": 373,
     "metadata": {},
     "output_type": "execute_result"
    }
   ],
   "source": [
    "import datetime\n",
    "from functools import wraps\n",
    "\n",
    "def input_decor(fun):\n",
    "    @wraps(fun)\n",
    "    def wrapper(*args):\n",
    "        from_date = input(\"Please enter from date in YYYY-MM-DD format\")\n",
    "        to_date = input(\"Please enter to date in YYYY-MM-DD format\")\n",
    "        return fun(from_date,to_date)\n",
    "        \n",
    "    return wrapper\n",
    "\n",
    "@input_decor\n",
    "def date_array(from_date,to_date):\n",
    "    try:\n",
    "        date1 = datetime.datetime.strptime(from_date,\"%Y-%m-%d\")\n",
    "        date2 = datetime.datetime.strptime(to_date,\"%Y-%m-%d\")\n",
    "    except ValueError:\n",
    "        return \"Please enter correct dates in YYYY-MM-DD format only eg 2025-08-02\"\n",
    "    if date1 > date2:\n",
    "        print(\"from date is after than to date. Please Enter correct dates\")\n",
    "        return date_array()\n",
    "    else:\n",
    "        curr = date1\n",
    "        array = np.empty(0)\n",
    "        while curr <= date2:\n",
    "            array = np.append(array,(curr.strftime(\"%Y-%m-%d\")))\n",
    "            curr = curr + datetime.timedelta(1)\n",
    "        return array\n",
    "            \n",
    "date_array()        "
   ]
  },
  {
   "cell_type": "code",
   "execution_count": 374,
   "id": "414f1207-98fb-407d-ba21-ee16fd0cb894",
   "metadata": {},
   "outputs": [
    {
     "data": {
      "text/plain": [
       "array(['2020-12-25', '2020-12-26', '2020-12-27', '2020-12-28',\n",
       "       '2020-12-29', '2020-12-30', '2020-12-31', '2021-01-01',\n",
       "       '2021-01-02'], dtype='datetime64[D]')"
      ]
     },
     "execution_count": 374,
     "metadata": {},
     "output_type": "execute_result"
    }
   ],
   "source": [
    "def date_array(start: str, end: str):\n",
    "    if type(start) != str or type(end) != str:\n",
    "        raise TypeError\n",
    "        \n",
    "    total_days_of_month = {\"01\": 31, \"02\": 28, \"03\": 31, \"04\":30, \"05\": 31, \"06\":30, \"07\":31, \"08\":31, \"09\":30, \"10\": 31, \"11\":30, \"12\":31}\n",
    "\n",
    "    end = end.split(\"-\")\n",
    "    end_last = int(end[-1]) + 1\n",
    "    \n",
    "    # If the next day of end falls in the next month, account for that\n",
    "    if total_days_of_month[end[-2]] < end_last:\n",
    "        days_diff = end_last - total_days_of_month[end[-2]]\n",
    "        end[-1] = f'0{days_diff}' if days_diff< 10 else f'{days_diff}'\n",
    "        next_month = int(end[-2]) + 1\n",
    "        end[-2] = f'0{next_month}' if next_month< 10 else f'{next_month}'\n",
    "    else:\n",
    "        end[-1] = f'0{end_last}' if end_last < 10 else f'{end_last}'\n",
    "    end = \"-\".join(end)\n",
    "    return np.arange(start, end, dtype=\"datetime64[D]\")    # Use arange() to generate all dates between start and end \n",
    "date_array(start = '2020-12-25', end = '2021-01-02')"
   ]
  },
  {
   "cell_type": "code",
   "execution_count": 376,
   "id": "b4dd64b0-e954-4919-ac2a-7ba82074d342",
   "metadata": {},
   "outputs": [
    {
     "name": "stdout",
     "output_type": "stream",
     "text": [
      "['2025-01-01', '2025-01-02', '2025-01-03', '2025-01-04', '2025-01-05']\n"
     ]
    }
   ],
   "source": [
    "import pandas as pd\n",
    "\n",
    "def get_dates(from_date, to_date):\n",
    "    return pd.date_range(start=from_date, end=to_date).strftime(\"%Y-%m-%d\").tolist()\n",
    "\n",
    "# Example usage\n",
    "dates = get_dates(\"2025-01-01\", \"2025-01-05\")\n",
    "print(dates)"
   ]
  },
  {
   "cell_type": "code",
   "execution_count": 378,
   "id": "01b3d3cf-1694-47c3-964f-fa2e657f2dee",
   "metadata": {},
   "outputs": [
    {
     "name": "stdout",
     "output_type": "stream",
     "text": [
      "['2025-01-01', '2025-01-02', '2025-01-03', '2025-01-04', '2025-01-05']\n"
     ]
    }
   ],
   "source": [
    "from datetime import datetime, timedelta\n",
    "\n",
    "def get_dates(from_date, to_date):\n",
    "    date1 = datetime.strptime(from_date, \"%Y-%m-%d\")\n",
    "    date2 = datetime.strptime(to_date, \"%Y-%m-%d\")\n",
    "    return [(date1 + timedelta(days=i)).strftime(\"%Y-%m-%d\") for i in range((date2 - date1).days + 1)]\n",
    "\n",
    "# Example usage\n",
    "dates = get_dates(\"2025-01-01\", \"2025-01-05\")\n",
    "print(dates)\n"
   ]
  },
  {
   "cell_type": "code",
   "execution_count": 384,
   "id": "c87dc5ce-5074-409e-81f5-103afec858de",
   "metadata": {},
   "outputs": [
    {
     "data": {
      "text/plain": [
       "array(['2025-01-01', '2025-01-02', '2025-01-03', '2025-01-04'],\n",
       "      dtype='datetime64[D]')"
      ]
     },
     "execution_count": 384,
     "metadata": {},
     "output_type": "execute_result"
    }
   ],
   "source": [
    "np.arange(\"2025-01-01\", \"2025-01-05\",dtype=\"datetime64\")"
   ]
  },
  {
   "cell_type": "markdown",
   "id": "18a0ef60-c024-434b-910b-ffde2371e820",
   "metadata": {},
   "source": [
    "### Q-14: Subtract the mean of each row from a matrix."
   ]
  },
  {
   "cell_type": "code",
   "execution_count": 391,
   "id": "ac07fd3f-e89e-48fe-908e-a237be3f70be",
   "metadata": {},
   "outputs": [
    {
     "data": {
      "text/plain": [
       "array([[-0.37506661,  0.0466166 ,  0.04918897,  0.27926104],\n",
       "       [ 0.01858414, -0.4119193 ,  0.34325564,  0.05007952],\n",
       "       [ 0.22015668, -0.48058075,  0.25643942,  0.00398466],\n",
       "       [ 0.31034533, -0.0542455 ,  0.18571865, -0.44181847],\n",
       "       [-0.24076684, -0.21173515,  0.32553346,  0.12696852]])"
      ]
     },
     "execution_count": 391,
     "metadata": {},
     "output_type": "execute_result"
    }
   ],
   "source": [
    "x = np.random.random((5,4))\n",
    "x- np.mean(x,axis=1,keepdims=True)"
   ]
  },
  {
   "cell_type": "code",
   "execution_count": 397,
   "id": "b557cb8c-d55e-44f7-802f-9d6612877535",
   "metadata": {},
   "outputs": [
    {
     "name": "stdout",
     "output_type": "stream",
     "text": [
      "[[ 0  1  2  3]\n",
      " [ 4  5  6  7]\n",
      " [ 8  9 10 11]]\n"
     ]
    },
    {
     "data": {
      "text/plain": [
       "array([[1.5],\n",
       "       [5.5],\n",
       "       [9.5]])"
      ]
     },
     "execution_count": 397,
     "metadata": {},
     "output_type": "execute_result"
    }
   ],
   "source": [
    "arr = np.arange(12).reshape(3,4)\n",
    "print(arr)\n",
    "np.mean(arr,axis=1,keepdims=True)"
   ]
  },
  {
   "cell_type": "code",
   "execution_count": 398,
   "id": "d6376294-f24b-437a-b8d1-741915b80652",
   "metadata": {},
   "outputs": [
    {
     "data": {
      "text/plain": [
       "array([[-1.5, -0.5,  0.5,  1.5],\n",
       "       [-1.5, -0.5,  0.5,  1.5],\n",
       "       [-1.5, -0.5,  0.5,  1.5]])"
      ]
     },
     "execution_count": 398,
     "metadata": {},
     "output_type": "execute_result"
    }
   ],
   "source": [
    "arr - np.mean(arr,axis=1,keepdims=True)"
   ]
  },
  {
   "cell_type": "markdown",
   "id": "2a15ae94-565e-42fe-af89-64b144415f91",
   "metadata": {},
   "source": [
    "### Q-15: Swap column-1 of array with column-2 in the array."
   ]
  },
  {
   "cell_type": "code",
   "execution_count": 408,
   "id": "2fe7e942-25b6-43d3-82cc-3c61ceaf69fa",
   "metadata": {},
   "outputs": [
    {
     "name": "stdout",
     "output_type": "stream",
     "text": [
      "[[ 0  1  2  3]\n",
      " [ 4  5  6  7]\n",
      " [ 8  9 10 11]]\n"
     ]
    }
   ],
   "source": [
    "arr = np.arange(12).reshape(3,4)\n",
    "print(arr)"
   ]
  },
  {
   "cell_type": "code",
   "execution_count": 410,
   "id": "21cec894-6200-41f3-bd95-720ee64b492e",
   "metadata": {},
   "outputs": [
    {
     "data": {
      "text/plain": [
       "array([[ 0,  2,  1,  3],\n",
       "       [ 4,  6,  5,  7],\n",
       "       [ 8, 10,  9, 11]])"
      ]
     },
     "execution_count": 410,
     "metadata": {},
     "output_type": "execute_result"
    }
   ],
   "source": [
    "arr[:,[0,2,1,3]]"
   ]
  },
  {
   "cell_type": "markdown",
   "id": "a56039d8-8f6c-4679-b245-aee231f2f879",
   "metadata": {},
   "source": [
    "### Q-16: Replace odd elements in arrays with -1."
   ]
  },
  {
   "cell_type": "code",
   "execution_count": 415,
   "id": "dd2966b5-51d3-4610-9616-3f897f36a97e",
   "metadata": {},
   "outputs": [
    {
     "data": {
      "text/plain": [
       "array([[ 0, -1,  2, -1],\n",
       "       [ 4, -1,  6, -1],\n",
       "       [ 8, -1, 10, -1]])"
      ]
     },
     "execution_count": 415,
     "metadata": {},
     "output_type": "execute_result"
    }
   ],
   "source": [
    "arr[arr%2 == 1] = -1\n",
    "arr"
   ]
  },
  {
   "cell_type": "markdown",
   "id": "344efcd8-8684-4c48-aa5c-f88e9c24e0ac",
   "metadata": {},
   "source": [
    "### Q-17: Given two arrays of same shape make an array of max out of two arrays. (Numpy way)"
   ]
  },
  {
   "cell_type": "raw",
   "id": "a6dd1996-d697-4975-89f2-d8e67a249e17",
   "metadata": {},
   "source": [
    "a=np.array([6,3,1,5,8])\n",
    "b=np.array([3,2,1,7,2])\n",
    "\n",
    "Result-> [6 3 1 7 8]"
   ]
  },
  {
   "cell_type": "code",
   "execution_count": 425,
   "id": "b1007393-9b34-4603-9c67-888e279a1411",
   "metadata": {},
   "outputs": [
    {
     "data": {
      "text/plain": [
       "[6, 3, 1, 7, 8]"
      ]
     },
     "execution_count": 425,
     "metadata": {},
     "output_type": "execute_result"
    }
   ],
   "source": [
    "a=np.array([6,3,1,5,8])\n",
    "b=np.array([3,2,1,7,2])\n",
    "[  for i,j in zip(a,b) ]"
   ]
  },
  {
   "cell_type": "code",
   "execution_count": 446,
   "id": "237f2c5e-ef28-4a4b-843e-28154c3d28cb",
   "metadata": {},
   "outputs": [
    {
     "data": {
      "text/plain": [
       "[6, 3, 1, 7, 8]"
      ]
     },
     "execution_count": 446,
     "metadata": {},
     "output_type": "execute_result"
    }
   ],
   "source": [
    "list(map((lambda x : a[x] if a[x] > b[x] else b[x] ),range(len(a))))"
   ]
  },
  {
   "cell_type": "code",
   "execution_count": 454,
   "id": "e92bad65-6bda-4843-9947-d232e53175d3",
   "metadata": {},
   "outputs": [
    {
     "data": {
      "text/plain": [
       "array([6, 3, 1, 7, 8])"
      ]
     },
     "execution_count": 454,
     "metadata": {},
     "output_type": "execute_result"
    }
   ],
   "source": [
    "a=np.array([6,3,1,5,8])\n",
    "b=np.array([3,2,1,7,2])\n",
    "a[a<b] = b[b>a]\n",
    "a"
   ]
  },
  {
   "cell_type": "markdown",
   "id": "a84bd6e8-7c3f-4ad4-84a3-fa32fc88e391",
   "metadata": {},
   "source": [
    "### Q-18 Answer below asked questions on given array:\n",
    "### Fetch Every alternate column of the array\n",
    "### Normalise the given array\n",
    "### https://en.wikipedia.org/wiki/Normalization_(statistics)\n",
    "\n",
    "### There are different form of normalisation for this question use below formula."
   ]
  },
  {
   "cell_type": "code",
   "execution_count": null,
   "id": "86ee7df3-974b-44ee-8788-6873125fe1bd",
   "metadata": {},
   "outputs": [],
   "source": [
    "Xnormalized=X−Xmin/Xmax−Xmin"
   ]
  },
  {
   "cell_type": "code",
   "execution_count": 456,
   "id": "94434ac8-4d94-4fca-b588-bababcd43cb5",
   "metadata": {},
   "outputs": [
    {
     "data": {
      "text/plain": [
       "array([[9459, 5075, 5087, 6726, 7427],\n",
       "       [9310, 8558, 2192, 9013, 3289],\n",
       "       [3651, 1575, 3758,  495, 6997],\n",
       "       [7023, 4709, 6344, 6226, 5534],\n",
       "       [5228, 5108,  981, 5834, 5314],\n",
       "       [4274, 2040, 6371, 1618, 1875],\n",
       "       [6660, 2524,  895, 9513, 7461],\n",
       "       [7004, 4439, 7163, 6979,  384]])"
      ]
     },
     "execution_count": 456,
     "metadata": {},
     "output_type": "execute_result"
    }
   ],
   "source": [
    "#Given\n",
    "arr1=np.random.randint(low=1, high=10000, size=40).reshape(8,5)\n",
    "arr1"
   ]
  },
  {
   "cell_type": "code",
   "execution_count": 457,
   "id": "e438d33d-b608-4b49-9e12-613395b43a93",
   "metadata": {},
   "outputs": [
    {
     "data": {
      "text/plain": [
       "array([[9459, 5087, 7427],\n",
       "       [9310, 2192, 3289],\n",
       "       [3651, 3758, 6997],\n",
       "       [7023, 6344, 5534],\n",
       "       [5228,  981, 5314],\n",
       "       [4274, 6371, 1875],\n",
       "       [6660,  895, 7461],\n",
       "       [7004, 7163,  384]])"
      ]
     },
     "execution_count": 457,
     "metadata": {},
     "output_type": "execute_result"
    }
   ],
   "source": [
    "arr1[:,::2]"
   ]
  },
  {
   "cell_type": "code",
   "execution_count": 460,
   "id": "9ec4b155-caa3-4867-815d-733f32db9de3",
   "metadata": {},
   "outputs": [
    {
     "data": {
      "text/plain": [
       "array([[0.99408478, 0.51385694, 0.51517143, 0.69470917, 0.77149743],\n",
       "       [0.97776317, 0.89538832, 0.19805017, 0.94522949, 0.31821667],\n",
       "       [0.35787052, 0.13046336, 0.36959141, 0.01215905, 0.72439479],\n",
       "       [0.72724285, 0.47376492, 0.6528645 , 0.63993866, 0.56413627],\n",
       "       [0.53061672, 0.51747179, 0.06539599, 0.59699858, 0.54003724],\n",
       "       [0.42611458, 0.18139993, 0.65582211, 0.13517362, 0.16332567],\n",
       "       [0.68747946, 0.23441779, 0.05597546, 1.        , 0.77522182],\n",
       "       [0.72516157, 0.44418885, 0.7425786 , 0.72242305, 0.        ]])"
      ]
     },
     "execution_count": 460,
     "metadata": {},
     "output_type": "execute_result"
    }
   ],
   "source": [
    "(arr1 - arr1.min())/(arr1.max() - arr1.min())"
   ]
  },
  {
   "cell_type": "code",
   "execution_count": 462,
   "id": "57e37021-d75b-4039-aed9-b306d4eca933",
   "metadata": {},
   "outputs": [
    {
     "data": {
      "text/plain": [
       "array([[0.99408478, 0.51385694, 0.51517143, 0.69470917, 0.77149743],\n",
       "       [0.97776317, 0.89538832, 0.19805017, 0.94522949, 0.31821667],\n",
       "       [0.35787052, 0.13046336, 0.36959141, 0.01215905, 0.72439479],\n",
       "       [0.72724285, 0.47376492, 0.6528645 , 0.63993866, 0.56413627],\n",
       "       [0.53061672, 0.51747179, 0.06539599, 0.59699858, 0.54003724],\n",
       "       [0.42611458, 0.18139993, 0.65582211, 0.13517362, 0.16332567],\n",
       "       [0.68747946, 0.23441779, 0.05597546, 1.        , 0.77522182],\n",
       "       [0.72516157, 0.44418885, 0.7425786 , 0.72242305, 0.        ]])"
      ]
     },
     "execution_count": 462,
     "metadata": {},
     "output_type": "execute_result"
    }
   ],
   "source": [
    "(arr1 - np.min(arr1))/(np.max(arr1)-np.min(arr1))"
   ]
  },
  {
   "cell_type": "markdown",
   "id": "09d0ec20-22e8-4aed-8935-6fbceed67acb",
   "metadata": {},
   "source": [
    "### Q-19: Write a function which will accept 2 arguments.\n"
   ]
  },
  {
   "cell_type": "raw",
   "id": "929158db-43fe-4a60-9b8a-87c844e26eb1",
   "metadata": {},
   "source": [
    "First: A 1D numpy array arr\n",
    "\n",
    "Second: An integer n {Please make sure n<=len(arr)}\n",
    "\n",
    "Output: The output should be the nth largest item out of the array\n",
    "\n",
    "# Example1 : arr=(12,34,40,7,1,0) and n=3, the output should be 12\n",
    "# Example2 : arr=(12,34,40,7,1,0) and n=1, the output should be 40"
   ]
  },
  {
   "cell_type": "code",
   "execution_count": 473,
   "id": "ea198428-cbcd-4e5e-a935-c3ecc3c77027",
   "metadata": {},
   "outputs": [
    {
     "data": {
      "text/plain": [
       "34"
      ]
     },
     "execution_count": 473,
     "metadata": {},
     "output_type": "execute_result"
    }
   ],
   "source": [
    "def nthlargest_num(arr,n):\n",
    "    if not n <= len(arr):\n",
    "        return \"n must be less than length of array\"\n",
    "    return np.sort(arr)[-n]\n",
    "\n",
    "arr=(12,34,40,7,1,0)\n",
    "arr = np.array(arr)\n",
    "nthlargest_num(arr,2)   "
   ]
  },
  {
   "cell_type": "markdown",
   "id": "527e9bdf-7948-4324-989d-f6e89398d165",
   "metadata": {},
   "source": [
    "### Q-20: Create the following pattern without hardcoding. Use only numpy functions and the below input array a.\n"
   ]
  },
  {
   "cell_type": "code",
   "execution_count": null,
   "id": "ed16079e-f1e0-4a62-b5f5-044545cd2afa",
   "metadata": {},
   "outputs": [],
   "source": [
    "Input: a = np.array([1,2,3])\n",
    "Output: array([1, 1, 1, 2, 2, 2, 3, 3, 3, 1, 2, 3, 1, 2, 3, 1, 2, 3])"
   ]
  },
  {
   "cell_type": "code",
   "execution_count": 477,
   "id": "38ab0b77-3999-4889-a6f9-813b85fb1f94",
   "metadata": {},
   "outputs": [
    {
     "data": {
      "text/plain": [
       "array([1, 1, 1, 2, 2, 2, 3, 3, 3, 1, 2, 3, 1, 2, 3, 1, 2, 3])"
      ]
     },
     "execution_count": 477,
     "metadata": {},
     "output_type": "execute_result"
    }
   ],
   "source": [
    "a = np.array([1,2,3])\n",
    "np.hstack([np.repeat(a, 3), np.tile(a, 3)])"
   ]
  },
  {
   "cell_type": "code",
   "execution_count": null,
   "id": "a5940406-cc25-43cb-88e6-6e06b97a9bac",
   "metadata": {},
   "outputs": [],
   "source": []
  }
 ],
 "metadata": {
  "kernelspec": {
   "display_name": "Python 3 (ipykernel)",
   "language": "python",
   "name": "python3"
  },
  "language_info": {
   "codemirror_mode": {
    "name": "ipython",
    "version": 3
   },
   "file_extension": ".py",
   "mimetype": "text/x-python",
   "name": "python",
   "nbconvert_exporter": "python",
   "pygments_lexer": "ipython3",
   "version": "3.10.6"
  }
 },
 "nbformat": 4,
 "nbformat_minor": 5
}
