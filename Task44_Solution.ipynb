{
 "cells": [
  {
   "cell_type": "markdown",
   "id": "1416faa3-23cf-4957-afe5-61bd23f417b1",
   "metadata": {},
   "source": [
    "### Question: 1 A company wants to estimate the average time spent by customers on their website per session. They collect a random sample of 100 customers and find that the sample mean time spent is 4.5 minutes with a sample standard deviation of 1.2 minutes. Calculate a 99% confidence interval for the true population mean time spent on the website per session."
   ]
  },
  {
   "cell_type": "code",
   "execution_count": 3,
   "id": "274aba01-44c4-4d46-87a2-6f06a2f2ae0c",
   "metadata": {},
   "outputs": [],
   "source": [
    "n = 100\n",
    "x_bar = 4.5\n",
    "s = 1.2\n",
    "alpha = 0.01\n",
    "#(1 - alpha) = 0.99"
   ]
  },
  {
   "cell_type": "raw",
   "id": "f30f6607-2c89-463a-b962-a3e877c76e4b",
   "metadata": {},
   "source": [
    "lower_bound = x_bar - t_score*s/np.sqrt(n)\n",
    "upper_bound = x_bar - t_score*s/np.sqrt(n)"
   ]
  },
  {
   "cell_type": "code",
   "execution_count": 4,
   "id": "859a4956-07cf-40fd-9eca-6e2bd4634ec8",
   "metadata": {},
   "outputs": [],
   "source": [
    "# We have to find t_score\n",
    "import scipy.stats as stats\n",
    "import math\n",
    "import numpy as np"
   ]
  },
  {
   "cell_type": "code",
   "execution_count": 9,
   "id": "5dd250f3-8009-4a31-9fd9-b9c7c6cfd31d",
   "metadata": {},
   "outputs": [
    {
     "name": "stdout",
     "output_type": "stream",
     "text": [
      "CI is 4.1848313452337775 4.8151686547662225\n"
     ]
    }
   ],
   "source": [
    "t_score = stats.t.ppf(1-(alpha/2),n-1)\n",
    "lower_bound = x_bar - t_score*s/np.sqrt(n)\n",
    "upper_bound = x_bar + t_score*s/np.sqrt(n)\n",
    "print('CI is',lower_bound,upper_bound)"
   ]
  },
  {
   "cell_type": "markdown",
   "id": "11ad31b8-83b8-45e7-909a-2241e7836f2b",
   "metadata": {},
   "source": [
    "### Question 2: A car manufacturer is interested in estimating the mean gas mileage of their new SUV. A sample of 25 SUVs is taken, and their mean gas mileage is found to be 28.6 miles per gallon with a standard deviation of 2.8 miles per gallon. Calculate a 95% confidence interval for the true mean gas mileage of the SUV."
   ]
  },
  {
   "cell_type": "code",
   "execution_count": 15,
   "id": "408980da-b0a1-46cf-ab0e-3e0ee582d1b9",
   "metadata": {},
   "outputs": [
    {
     "name": "stdout",
     "output_type": "stream",
     "text": [
      "CI is 27.44421680548831 29.755783194511693\n"
     ]
    }
   ],
   "source": [
    "n = 25\n",
    "x_bar = 28.6\n",
    "s = 2.8\n",
    "alpha = 0.05\n",
    "t_score = stats.t.ppf(1-(alpha/2),n-1)\n",
    "lower_bound = x_bar - t_score*s/np.sqrt(n)\n",
    "upper_bound = x_bar + t_score*s/np.sqrt(n)\n",
    "print('CI is',lower_bound,upper_bound)"
   ]
  },
  {
   "cell_type": "markdown",
   "id": "321018b8-4193-49e5-8483-7bfc2f173343",
   "metadata": {},
   "source": [
    "### Question -3: Dataset - India temperature dataset.\n",
    "\n",
    "Data link: https://drive.google.com/file/d/1whb8Rjdk9TBKOwVi8NwZD1Tc8Tdv7iEc/view?usp=share_link\n",
    "\n",
    "Kaggle Link : (Just take IND data for this question, have to apply filtering). https://www.kaggle.com/datasets/berkeleyearth/climate-change-earth-surface-temperature-data\n",
    "\n",
    "A climate research organization wants to estimate the average temperature of a certain country. They collect temperature data for 2613 days but due to certain limitations, they only have information about the average temperature for 2508 days. The organization assumes that the population follows a normal distribution and wants to estimate the population mean temperature with a 95% confidence interval.\n",
    "\n",
    "* Standard deviation is assumed as given data standard deviation. z Procedure\n",
    "* Standard deviation is not given. Apply t Procedure"
   ]
  },
  {
   "cell_type": "code",
   "execution_count": 20,
   "id": "071275f8-dadd-4628-b559-5d799e5da56f",
   "metadata": {},
   "outputs": [],
   "source": [
    "import pandas as pd\n",
    "import numpy as np\n",
    "import matplotlib.pyplot as plt\n",
    "import seaborn as sns\n",
    "from scipy.stats import t, norm"
   ]
  },
  {
   "cell_type": "code",
   "execution_count": 19,
   "id": "5d6a85ed-2517-485b-ba4d-40e4b1ec61a0",
   "metadata": {},
   "outputs": [
    {
     "data": {
      "text/html": [
       "<div>\n",
       "<style scoped>\n",
       "    .dataframe tbody tr th:only-of-type {\n",
       "        vertical-align: middle;\n",
       "    }\n",
       "\n",
       "    .dataframe tbody tr th {\n",
       "        vertical-align: top;\n",
       "    }\n",
       "\n",
       "    .dataframe thead th {\n",
       "        text-align: right;\n",
       "    }\n",
       "</style>\n",
       "<table border=\"1\" class=\"dataframe\">\n",
       "  <thead>\n",
       "    <tr style=\"text-align: right;\">\n",
       "      <th></th>\n",
       "      <th>dt</th>\n",
       "      <th>AverageTemperature</th>\n",
       "      <th>AverageTemperatureUncertainty</th>\n",
       "      <th>Country</th>\n",
       "    </tr>\n",
       "  </thead>\n",
       "  <tbody>\n",
       "    <tr>\n",
       "      <th>0</th>\n",
       "      <td>1796-01-01</td>\n",
       "      <td>17.044</td>\n",
       "      <td>2.044</td>\n",
       "      <td>India</td>\n",
       "    </tr>\n",
       "    <tr>\n",
       "      <th>1</th>\n",
       "      <td>1796-02-01</td>\n",
       "      <td>19.193</td>\n",
       "      <td>1.359</td>\n",
       "      <td>India</td>\n",
       "    </tr>\n",
       "    <tr>\n",
       "      <th>2</th>\n",
       "      <td>1796-03-01</td>\n",
       "      <td>22.319</td>\n",
       "      <td>2.125</td>\n",
       "      <td>India</td>\n",
       "    </tr>\n",
       "    <tr>\n",
       "      <th>3</th>\n",
       "      <td>1796-04-01</td>\n",
       "      <td>27.233</td>\n",
       "      <td>1.510</td>\n",
       "      <td>India</td>\n",
       "    </tr>\n",
       "    <tr>\n",
       "      <th>4</th>\n",
       "      <td>1796-05-01</td>\n",
       "      <td>30.035</td>\n",
       "      <td>1.338</td>\n",
       "      <td>India</td>\n",
       "    </tr>\n",
       "  </tbody>\n",
       "</table>\n",
       "</div>"
      ],
      "text/plain": [
       "           dt  AverageTemperature  AverageTemperatureUncertainty Country\n",
       "0  1796-01-01              17.044                          2.044   India\n",
       "1  1796-02-01              19.193                          1.359   India\n",
       "2  1796-03-01              22.319                          2.125   India\n",
       "3  1796-04-01              27.233                          1.510   India\n",
       "4  1796-05-01              30.035                          1.338   India"
      ]
     },
     "execution_count": 19,
     "metadata": {},
     "output_type": "execute_result"
    }
   ],
   "source": [
    "ind_climate = pd.read_csv(r\"D:\\Jupyter\\ind_temp.csv\")\n",
    "ind_climate.head()"
   ]
  },
  {
   "cell_type": "code",
   "execution_count": 21,
   "id": "99a5b501-c27a-44db-aada-160f9570ac62",
   "metadata": {},
   "outputs": [
    {
     "data": {
      "text/plain": [
       "(2613, 4)"
      ]
     },
     "execution_count": 21,
     "metadata": {},
     "output_type": "execute_result"
    }
   ],
   "source": [
    "ind_climate.shape"
   ]
  },
  {
   "cell_type": "code",
   "execution_count": 23,
   "id": "afb9a4ef-b95d-4723-85c6-35c34e169dd8",
   "metadata": {},
   "outputs": [
    {
     "name": "stdout",
     "output_type": "stream",
     "text": [
      "<class 'pandas.core.frame.DataFrame'>\n",
      "RangeIndex: 2613 entries, 0 to 2612\n",
      "Data columns (total 4 columns):\n",
      " #   Column                         Non-Null Count  Dtype  \n",
      "---  ------                         --------------  -----  \n",
      " 0   dt                             2613 non-null   object \n",
      " 1   AverageTemperature             2508 non-null   float64\n",
      " 2   AverageTemperatureUncertainty  2508 non-null   float64\n",
      " 3   Country                        2613 non-null   object \n",
      "dtypes: float64(2), object(2)\n",
      "memory usage: 81.8+ KB\n"
     ]
    }
   ],
   "source": [
    "ind_climate.info()"
   ]
  },
  {
   "cell_type": "code",
   "execution_count": 25,
   "id": "2e295c79-c309-463b-b426-417bc5b547b1",
   "metadata": {},
   "outputs": [
    {
     "data": {
      "text/plain": [
       "<AxesSubplot: ylabel='Density'>"
      ]
     },
     "execution_count": 25,
     "metadata": {},
     "output_type": "execute_result"
    },
    {
     "data": {
      "image/png": "[encoded data removed]",
      "text/plain": [
       "<Figure size 432x288 with 1 Axes>"
      ]
     },
     "metadata": {
      "needs_background": "light"
     },
     "output_type": "display_data"
    }
   ],
   "source": [
    "ind_climate.AverageTemperature.dropna().plot(kind='kde')"
   ]
  },
  {
   "cell_type": "code",
   "execution_count": 34,
   "id": "0a2ea8a1-bb45-4fc2-aaec-e98ffacc50a9",
   "metadata": {},
   "outputs": [],
   "source": [
    "sigma = ind_climate.AverageTemperature.dropna().std()\n",
    "#(1-alpha) = 0.95\n",
    "alpha = 0.05"
   ]
  },
  {
   "cell_type": "code",
   "execution_count": 29,
   "id": "820ae5e1-9415-412d-9e42-ec8c1d5c9743",
   "metadata": {},
   "outputs": [],
   "source": [
    "# sample size = 50 -> 200 times\n",
    "sampling_dist_mean = []\n",
    "sampling_dist_std = []\n",
    "for i in range(200):\n",
    "    sampling_dist_mean.append(ind_climate.AverageTemperature.dropna().sample(50).mean())\n",
    "    sampling_dist_std.append(ind_climate.AverageTemperature.dropna().sample(50).std())   "
   ]
  },
  {
   "cell_type": "code",
   "execution_count": 33,
   "id": "3740a258-c587-4c8a-a41d-b326e26f0c9f",
   "metadata": {},
   "outputs": [
    {
     "data": {
      "text/plain": [
       "<AxesSubplot: ylabel='Density'>"
      ]
     },
     "execution_count": 33,
     "metadata": {},
     "output_type": "execute_result"
    },
    {
     "data": {
      "image/png": "[encoded data removed]",
      "text/plain": [
       "<Figure size 432x288 with 1 Axes>"
      ]
     },
     "metadata": {
      "needs_background": "light"
     },
     "output_type": "display_data"
    }
   ],
   "source": [
    "sns.kdeplot(sampling_dist_mean)"
   ]
  },
  {
   "cell_type": "markdown",
   "id": "f6ba47be-ca22-40c5-8cf2-44ee0bd5a150",
   "metadata": {},
   "source": [
    "#### Z Procedure"
   ]
  },
  {
   "cell_type": "code",
   "execution_count": 44,
   "id": "5640b4dc-0e79-4c41-b59d-246866d5d094",
   "metadata": {},
   "outputs": [
    {
     "name": "stdout",
     "output_type": "stream",
     "text": [
      "CI is(z-procedure) : (22.182048064732225, 25.573421735267775)\n",
      "Actual mean temp : 23.873789473684212\n"
     ]
    }
   ],
   "source": [
    "z_score = norm.ppf(1-(alpha/2))\n",
    "lower_bound = np.array(sampling_dist_mean).mean() - z_score*sigma/np.sqrt(n)\n",
    "upper_bound = np.array(sampling_dist_mean).mean() + z_score*sigma/np.sqrt(n)\n",
    "print('CI is(z-procedure) :',(lower_bound,upper_bound))\n",
    "print('Actual mean temp :',ind_climate.AverageTemperature.dropna().mean())"
   ]
  },
  {
   "cell_type": "markdown",
   "id": "db2eb651-fa40-4abc-b38c-ab6a88818867",
   "metadata": {},
   "source": [
    "#### t Procedure"
   ]
  },
  {
   "cell_type": "code",
   "execution_count": 46,
   "id": "b760e434-4adc-44bb-bbd2-308b8c7628a9",
   "metadata": {},
   "outputs": [
    {
     "name": "stdout",
     "output_type": "stream",
     "text": [
      "CI is(t-procedure) : (22.084174628472685, 25.671295171527316)\n",
      "Actual mean temp : 23.873789473684212\n"
     ]
    }
   ],
   "source": [
    "t_score = t.ppf(1-(alpha/2),(n-1))\n",
    "lower_bound = np.array(sampling_dist_mean).mean() - t_score* (np.array(sampling_dist_std).mean())/np.sqrt(n)\n",
    "upper_bound = np.array(sampling_dist_mean).mean() + t_score* (np.array(sampling_dist_std).mean())/np.sqrt(n)\n",
    "print('CI is(t-procedure) :',(lower_bound,upper_bound))\n",
    "print('Actual mean temp :',ind_climate.AverageTemperature.dropna().mean())"
   ]
  },
  {
   "cell_type": "markdown",
   "id": "c618981f-9079-4783-9783-cee68672deeb",
   "metadata": {},
   "source": [
    "### Question 5: BMW Dataset : https://drive.google.com/file/d/18amVv1WKKHEmwyvVy0RuXp4A6xrGOelc/view?usp=share_link\n",
    "* Task 1:\n",
    "The sales manager of a used car company wants to know what is the average selling price of all the used bmw cars.\n",
    "The analyst can collect only a sample of sales of 500 cars in the area. Since this estimate is going to be used by the company to strategize sales of his company, the sample mean should be a good approximation of all the account.\n",
    "What level of confidence is the sales manager going to be satisfied with? What +/- interval number is going to be acceptable?\n",
    "\n",
    "* Task 2:\n",
    "In addition to the price of the car, the manager also wants to now know the average mileage that the car has been driven. But the manager does not have the population standard deviation for the mileage. But the mileage data is available only from the 25 cars that they have sold so far.\n",
    "How do the analyst approach this problem to calculate 95% confidence interval, with only 25 samples?\n",
    "\n",
    "* Task 3:\n",
    "The manager is not happy with both the intervals (intervals from task 1 and 2) as the interval for the confidence is very high. The manager now asks the analyst to estimate the average price of the car (similar to task 1) but within a bound of 750 from the mean with 95% condidence level. How many sample does the analyst have to collect to arrive at this confidence interval level?\n",
    "\n",
    "* Task 4:\n",
    "Conversely, after the analyst started collecting the data, after a week he was only able to collect for 420 samples, though he needs 540 samples for Bound of 1,000, if he has to do the analysis now, what is the best interval he can acheive for 95% confidence levels?"
   ]
  },
  {
   "cell_type": "code",
   "execution_count": 47,
   "id": "3205c20f-70f7-432c-a727-f222ebac1f2c",
   "metadata": {},
   "outputs": [
    {
     "data": {
      "text/html": [
       "<div>\n",
       "<style scoped>\n",
       "    .dataframe tbody tr th:only-of-type {\n",
       "        vertical-align: middle;\n",
       "    }\n",
       "\n",
       "    .dataframe tbody tr th {\n",
       "        vertical-align: top;\n",
       "    }\n",
       "\n",
       "    .dataframe thead th {\n",
       "        text-align: right;\n",
       "    }\n",
       "</style>\n",
       "<table border=\"1\" class=\"dataframe\">\n",
       "  <thead>\n",
       "    <tr style=\"text-align: right;\">\n",
       "      <th></th>\n",
       "      <th>model</th>\n",
       "      <th>year</th>\n",
       "      <th>price</th>\n",
       "      <th>transmission</th>\n",
       "      <th>mileage</th>\n",
       "      <th>fuelType</th>\n",
       "      <th>tax</th>\n",
       "      <th>mpg</th>\n",
       "      <th>engineSize</th>\n",
       "    </tr>\n",
       "  </thead>\n",
       "  <tbody>\n",
       "    <tr>\n",
       "      <th>0</th>\n",
       "      <td>5 Series</td>\n",
       "      <td>2014</td>\n",
       "      <td>11200</td>\n",
       "      <td>Automatic</td>\n",
       "      <td>67068</td>\n",
       "      <td>Diesel</td>\n",
       "      <td>125</td>\n",
       "      <td>57.6</td>\n",
       "      <td>2.0</td>\n",
       "    </tr>\n",
       "    <tr>\n",
       "      <th>1</th>\n",
       "      <td>6 Series</td>\n",
       "      <td>2018</td>\n",
       "      <td>27000</td>\n",
       "      <td>Automatic</td>\n",
       "      <td>14827</td>\n",
       "      <td>Petrol</td>\n",
       "      <td>145</td>\n",
       "      <td>42.8</td>\n",
       "      <td>2.0</td>\n",
       "    </tr>\n",
       "    <tr>\n",
       "      <th>2</th>\n",
       "      <td>5 Series</td>\n",
       "      <td>2016</td>\n",
       "      <td>16000</td>\n",
       "      <td>Automatic</td>\n",
       "      <td>62794</td>\n",
       "      <td>Diesel</td>\n",
       "      <td>160</td>\n",
       "      <td>51.4</td>\n",
       "      <td>3.0</td>\n",
       "    </tr>\n",
       "    <tr>\n",
       "      <th>3</th>\n",
       "      <td>1 Series</td>\n",
       "      <td>2017</td>\n",
       "      <td>12750</td>\n",
       "      <td>Automatic</td>\n",
       "      <td>26676</td>\n",
       "      <td>Diesel</td>\n",
       "      <td>145</td>\n",
       "      <td>72.4</td>\n",
       "      <td>1.5</td>\n",
       "    </tr>\n",
       "    <tr>\n",
       "      <th>4</th>\n",
       "      <td>7 Series</td>\n",
       "      <td>2014</td>\n",
       "      <td>14500</td>\n",
       "      <td>Automatic</td>\n",
       "      <td>39554</td>\n",
       "      <td>Diesel</td>\n",
       "      <td>160</td>\n",
       "      <td>50.4</td>\n",
       "      <td>3.0</td>\n",
       "    </tr>\n",
       "  </tbody>\n",
       "</table>\n",
       "</div>"
      ],
      "text/plain": [
       "       model  year  price transmission  mileage fuelType  tax   mpg  \\\n",
       "0   5 Series  2014  11200    Automatic    67068   Diesel  125  57.6   \n",
       "1   6 Series  2018  27000    Automatic    14827   Petrol  145  42.8   \n",
       "2   5 Series  2016  16000    Automatic    62794   Diesel  160  51.4   \n",
       "3   1 Series  2017  12750    Automatic    26676   Diesel  145  72.4   \n",
       "4   7 Series  2014  14500    Automatic    39554   Diesel  160  50.4   \n",
       "\n",
       "   engineSize  \n",
       "0         2.0  \n",
       "1         2.0  \n",
       "2         3.0  \n",
       "3         1.5  \n",
       "4         3.0  "
      ]
     },
     "execution_count": 47,
     "metadata": {},
     "output_type": "execute_result"
    }
   ],
   "source": [
    "bmw = pd.read_csv(r\"D:\\Jupyter\\bmw.csv\")\n",
    "bmw.head()"
   ]
  },
  {
   "cell_type": "code",
   "execution_count": 48,
   "id": "e2024abe-6959-4d67-aad5-2292d739426b",
   "metadata": {},
   "outputs": [
    {
     "data": {
      "text/plain": [
       "(10781, 9)"
      ]
     },
     "execution_count": 48,
     "metadata": {},
     "output_type": "execute_result"
    }
   ],
   "source": [
    "bmw.shape"
   ]
  },
  {
   "cell_type": "code",
   "execution_count": 55,
   "id": "ca9e789e-b4c2-4e1b-95c8-a3a6dcd88dcf",
   "metadata": {},
   "outputs": [
    {
     "name": "stdout",
     "output_type": "stream",
     "text": [
      "<class 'pandas.core.frame.DataFrame'>\n",
      "RangeIndex: 10781 entries, 0 to 10780\n",
      "Data columns (total 9 columns):\n",
      " #   Column        Non-Null Count  Dtype  \n",
      "---  ------        --------------  -----  \n",
      " 0   model         10781 non-null  object \n",
      " 1   year          10781 non-null  int64  \n",
      " 2   price         10781 non-null  int64  \n",
      " 3   transmission  10781 non-null  object \n",
      " 4   mileage       10781 non-null  int64  \n",
      " 5   fuelType      10781 non-null  object \n",
      " 6   tax           10781 non-null  int64  \n",
      " 7   mpg           10781 non-null  float64\n",
      " 8   engineSize    10781 non-null  float64\n",
      "dtypes: float64(2), int64(4), object(3)\n",
      "memory usage: 758.2+ KB\n"
     ]
    }
   ],
   "source": [
    "bmw.info()"
   ]
  },
  {
   "cell_type": "code",
   "execution_count": 56,
   "id": "2cdf6347-bce6-447a-b878-a21a1c379327",
   "metadata": {},
   "outputs": [
    {
     "data": {
      "text/plain": [
       "<AxesSubplot: ylabel='Density'>"
      ]
     },
     "execution_count": 56,
     "metadata": {},
     "output_type": "execute_result"
    },
    {
     "data": {
      "image/png": "[encoded data removed]",
      "text/plain": [
       "<Figure size 432x288 with 1 Axes>"
      ]
     },
     "metadata": {
      "needs_background": "light"
     },
     "output_type": "display_data"
    }
   ],
   "source": [
    "bmw.price.plot(kind='kde')"
   ]
  },
  {
   "cell_type": "markdown",
   "id": "e1368860-9455-4883-9e72-870945502e5d",
   "metadata": {},
   "source": [
    "### Task 1: The sales manager of a used car company wants to know what is the average selling price of all the used bmw cars. The analyst can collect only a sample of sales of 500 cars in the area. Since this estimate is going to be used by the company to strategize sales of his company, the sample mean should be a good approximation of all the account. What level of confidence is the sales manager going to be satisfied with? What +/- interval number is going to be acceptable?"
   ]
  },
  {
   "cell_type": "code",
   "execution_count": 67,
   "id": "486b67fb-3007-40c4-b36c-476dc0017789",
   "metadata": {},
   "outputs": [],
   "source": [
    "sample = bmw.price.sample(500,random_state=42).values"
   ]
  },
  {
   "cell_type": "code",
   "execution_count": 68,
   "id": "ebf8926e-828d-4b98-962d-b77d6bf59157",
   "metadata": {},
   "outputs": [],
   "source": [
    "sample_mean = sample.mean()\n",
    "pop_std = bmw.price.std(ddof=1)\n",
    "n = 500\n",
    "confidence_level = 0.95\n",
    "alpha = 1-confidence_level"
   ]
  },
  {
   "cell_type": "code",
   "execution_count": 69,
   "id": "8db41ee7-f60a-4fab-879f-378653802307",
   "metadata": {},
   "outputs": [
    {
     "name": "stdout",
     "output_type": "stream",
     "text": [
      "CI is(z-procedure) : (22010.571222972292, 24011.76477702771)\n"
     ]
    }
   ],
   "source": [
    "z_score = norm.ppf(1-(alpha/2))\n",
    "lower_bound = sample_mean - z_score*pop_std/np.sqrt(n)\n",
    "upper_bound = sample_mean + z_score*pop_std/np.sqrt(n)\n",
    "print('CI is(z-procedure) :',(lower_bound,upper_bound))"
   ]
  },
  {
   "cell_type": "markdown",
   "id": "b8800d99-68df-4b51-b296-2f88a55456f6",
   "metadata": {},
   "source": [
    "### Task 2: In addition to the price of the car, the manager also wants to now know the average mileage that the car has been driven. But the manager does not have the population standard deviation for the mileage. But the mileage data is available only from the 25 cars that they have sold so far. How do the analyst approach this problem to calculate 95% confidence interval, with only 25 samples?"
   ]
  },
  {
   "cell_type": "code",
   "execution_count": 81,
   "id": "7bd56a6d-aa8f-4b9f-bef8-323640f83c90",
   "metadata": {},
   "outputs": [],
   "source": [
    "mileage_sample = bmw['mileage'].sample(n=25, random_state=1)"
   ]
  },
  {
   "cell_type": "code",
   "execution_count": 82,
   "id": "9a28d832-9150-45f7-b330-2ba0806b4a92",
   "metadata": {},
   "outputs": [],
   "source": [
    "n = 25\n",
    "alpha = (1-0.95)\n",
    "x_bar = mileage_sample.mean()\n",
    "s = mileage_sample.std()"
   ]
  },
  {
   "cell_type": "code",
   "execution_count": 83,
   "id": "85066c15-a0a8-46cb-a99a-f00b92604c52",
   "metadata": {},
   "outputs": [],
   "source": [
    "t_score = t.ppf(1-(alpha/2),n-1)"
   ]
  },
  {
   "cell_type": "code",
   "execution_count": 84,
   "id": "b7ab9419-5abb-4940-9d17-5ab8c20f68eb",
   "metadata": {},
   "outputs": [
    {
     "name": "stdout",
     "output_type": "stream",
     "text": [
      "CI is 17957.233417853342 32340.12658214666\n"
     ]
    }
   ],
   "source": [
    "lower_bound = x_bar - t_score*s/np.sqrt(n)\n",
    "upper_bound = x_bar + t_score*s/np.sqrt(n)\n",
    "print('CI is',lower_bound,upper_bound)"
   ]
  },
  {
   "cell_type": "markdown",
   "id": "ac841f61-11ab-4a6b-848d-fd033114942d",
   "metadata": {},
   "source": [
    "### Task 3: The manager is not happy with both the intervals (intervals from task 1 and 2) as the interval for the confidence is very high. The manager now asks the analyst to estimate the average price of the car (similar to task 1) but within a bound of 750 from the mean with 95% condidence level. How many sample does the analyst have to collect to arrive at this confidence interval level?"
   ]
  },
  {
   "cell_type": "code",
   "execution_count": 96,
   "id": "b76e9319-1d5c-4132-a450-568ef62d7c30",
   "metadata": {},
   "outputs": [
    {
     "data": {
      "text/plain": [
       "858.4784952722771"
      ]
     },
     "execution_count": 96,
     "metadata": {},
     "output_type": "execute_result"
    }
   ],
   "source": [
    "#MOE = z_score*sigma/np.sqrt(n)\n",
    "# in this case we have MOE = 750 \n",
    "alpha = (1-0.95)\n",
    "z_score = norm.ppf(1-alpha/2) # though we dont know sigma we are using z_score reason is t_score need degree of freedom(n-1)\n",
    "MOE = 750 \n",
    "# here we dont know value of sigma in this case\n",
    "sampling_dist_std = []\n",
    "for i in range(500):\n",
    "    sampling_dist_std.append(bmw['price'].sample(n=50).values.std())\n",
    "s = np.array(sampling_dist_std).mean()\n",
    "n = (z_score*s/MOE)**2\n",
    "n"
   ]
  },
  {
   "cell_type": "markdown",
   "id": "3c81e592-809c-433e-b84c-849e670a1a25",
   "metadata": {},
   "source": [
    "### Task 4: Conversely, after the analyst started collecting the data, after a week he was only able to collect for 420 samples, though he needs 540 samples for Bound of 1,000, if he has to do the analysis now, what is the best interval he can acheive for 95% confidence levels?"
   ]
  },
  {
   "cell_type": "code",
   "execution_count": 99,
   "id": "e6991d51-72f2-48e9-ad1b-f45e91a676d1",
   "metadata": {},
   "outputs": [
    {
     "name": "stdout",
     "output_type": "stream",
     "text": [
      "CI is 21704.33822268207 23854.49465731794\n"
     ]
    }
   ],
   "source": [
    "n = 420\n",
    "alpha = (1-0.95)\n",
    "t_score = t.ppf(1-(alpha/2),n-1)\n",
    "sampling_dist_std = []\n",
    "sampling_dist_mean = []\n",
    "for i in range(500):\n",
    "    sampling_dist_std.append(bmw['price'].sample(n=50).values.std())\n",
    "    sampling_dist_mean.append(bmw['price'].sample(n=50).values.mean())\n",
    "s = np.array(sampling_dist_std).mean()\n",
    "x_bar = np.array(sampling_dist_mean).mean()\n",
    "lower_bound = x_bar - t_score*s/np.sqrt(n)\n",
    "upper_bound = x_bar + t_score*s/np.sqrt(n)\n",
    "print('CI is',lower_bound,upper_bound)"
   ]
  },
  {
   "cell_type": "code",
   "execution_count": 102,
   "id": "67dd7d2f-bd07-4e31-8d63-0ea1936ba2fb",
   "metadata": {},
   "outputs": [
    {
     "name": "stdout",
     "output_type": "stream",
     "text": [
      "1090.9851577530503\n"
     ]
    }
   ],
   "source": [
    "sample_std = bmw['price'].sample(n=420).std()\n",
    "\n",
    "z = 1.96\n",
    "B = z * sample_std/np.sqrt(420)\n",
    "print(B)"
   ]
  }
 ],
 "metadata": {
  "kernelspec": {
   "display_name": "Python 3 (ipykernel)",
   "language": "python",
   "name": "python3"
  },
  "language_info": {
   "codemirror_mode": {
    "name": "ipython",
    "version": 3
   },
   "file_extension": ".py",
   "mimetype": "text/x-python",
   "name": "python",
   "nbconvert_exporter": "python",
   "pygments_lexer": "ipython3",
   "version": "3.10.6"
  }
 },
 "nbformat": 4,
 "nbformat_minor": 5
}
