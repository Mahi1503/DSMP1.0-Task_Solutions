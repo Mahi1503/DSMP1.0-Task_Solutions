{
 "cells": [
  {
   "cell_type": "markdown",
   "id": "63f34226",
   "metadata": {},
   "source": [
    "# Tuple"
   ]
  },
  {
   "cell_type": "raw",
   "id": "21bf5832",
   "metadata": {},
   "source": [
    "Q1: Join Tuples if similar initial element\n",
    "While working with Python tuples, we can have a problem in which we need to perform concatenation of records from the similarity of initial element. This problem can have applications in data domains such as Data Science.\n",
    "\n",
    "For eg.\n",
    "\n",
    "Input  : test_list = [(5, 6), (5, 7), (5, 8), (6, 10), (7, 13)] \n",
    "Output : [(5, 6, 7, 8), (6, 10), (7, 13)] "
   ]
  },
  {
   "cell_type": "code",
   "execution_count": 16,
   "id": "666f0a16",
   "metadata": {},
   "outputs": [
    {
     "data": {
      "text/plain": [
       "[(5, 6, 7, 8), (6, 10), (7, 13)]"
      ]
     },
     "execution_count": 16,
     "metadata": {},
     "output_type": "execute_result"
    }
   ],
   "source": [
    "test_list = [(5, 6), (5, 7), (5, 8), (6, 10), (7, 13)] \n",
    "set1 = set()\n",
    "res = []\n",
    "for i in test_list:\n",
    "    set1.add(i[0])\n",
    "for i in set1:\n",
    "    res.append([i])\n",
    "    for val in test_list:\n",
    "        if val[0] == i:\n",
    "            res[-1].append(val[1])\n",
    "list(map(tuple,res))"
   ]
  },
  {
   "cell_type": "code",
   "execution_count": 20,
   "id": "b0c4b481",
   "metadata": {},
   "outputs": [
    {
     "data": {
      "text/plain": [
       "[(5, 6, 7, 0, 0, 9, 8), (6, 10), (7, 13)]"
      ]
     },
     "execution_count": 20,
     "metadata": {},
     "output_type": "execute_result"
    }
   ],
   "source": [
    "test_list = [(5, 6), (5,7,0,0,9), (5, 8), (6, 10), (7, 13)] \n",
    "set1 = set()\n",
    "res = []\n",
    "for i in test_list:\n",
    "    set1.add(i[0])\n",
    "for i in set1:\n",
    "    res.append([i])\n",
    "    \n",
    "\n",
    "    for val in test_list:\n",
    "        if val[0] == i:\n",
    "            res[-1].extend(val[1:])\n",
    "list(map(tuple,res))"
   ]
  },
  {
   "cell_type": "raw",
   "id": "6d269e81",
   "metadata": {},
   "source": [
    "Q2: Multiply Adjacent elements (both side) and take sum of right and lest side multiplication result.\n",
    "For eg.\n",
    "\n",
    "The original tuple : (1, 5, 7, 8, 10)\n",
    "Resultant tuple after multiplication : \n",
    "\n",
    "(1*5, 1*5+5*7, 7*5 + 7*8, 8*7 + 8*10, 10*8) -> (5, 40, 91, 136, 80)\n",
    "\n",
    "output-(5, 40, 91, 136, 80)"
   ]
  },
  {
   "cell_type": "code",
   "execution_count": 31,
   "id": "4f5f8c08",
   "metadata": {},
   "outputs": [
    {
     "data": {
      "text/plain": [
       "(5, 40, 91, 136, 80)"
      ]
     },
     "execution_count": 31,
     "metadata": {},
     "output_type": "execute_result"
    }
   ],
   "source": [
    "tup = (1, 5, 7, 8, 10)\n",
    "li = []\n",
    "for i in range(len(tup)):\n",
    "    if i == 0:\n",
    "        li.append((tup[i]*tup[i+1]))\n",
    "    elif i == -1 or i ==len(tup)-1 :\n",
    "        li.append(tup[i]*tup[i-1])\n",
    "    else:\n",
    "        li.append((tup[i]*tup[i-1])+(tup[i]*tup[i+1]))\n",
    "tuple(li)   "
   ]
  },
  {
   "cell_type": "raw",
   "id": "64be123d",
   "metadata": {},
   "source": [
    "Q3: Check is tuples are same or not?\n",
    "Two tuples would be same if both tuples have same element at same index\n",
    "\n",
    "t1 = (1,2,3,0)\n",
    "t2 = (0,1,2,3)\n",
    "\n",
    "t1 and t2 are not same"
   ]
  },
  {
   "cell_type": "code",
   "execution_count": 2,
   "id": "755dac7f-0eef-4886-8961-0ecc6f2f0544",
   "metadata": {},
   "outputs": [
    {
     "name": "stdout",
     "output_type": "stream",
     "text": [
      "t1 and t2 are not same\n"
     ]
    }
   ],
   "source": [
    "t1 = (1,2,3,0)\n",
    "t2 = (0,1,2,3)\n",
    "if len(t1) == len(t2):\n",
    "    flag = True\n",
    "    for i in range(len(t1)):\n",
    "        if t1[i] == t2[i]:\n",
    "            flag = True\n",
    "        else:\n",
    "            flag = False\n",
    "    if flag:\n",
    "        print(\"t1 and t2 are same\")\n",
    "    else:\n",
    "        print(\"t1 and t2 are not same\")    \n",
    "else:\n",
    "    print(\"t1 and t2 are not same\")"
   ]
  },
  {
   "cell_type": "code",
   "execution_count": 1,
   "id": "aff7f91c",
   "metadata": {},
   "outputs": [
    {
     "name": "stdout",
     "output_type": "stream",
     "text": [
      "t1 and t2 are not same\n"
     ]
    }
   ],
   "source": [
    "t1 = (1,2,3,0)\n",
    "t2 = (1,2,3,0,0)\n",
    "if len(t1) == len(t2):\n",
    "    flag = True\n",
    "    for i in range(len(t1)):\n",
    "        if t1[i] == t2[i]:\n",
    "            flag = True\n",
    "        else:\n",
    "            flag = False\n",
    "    if flag:\n",
    "        print(\"t1 and t2 are same\")\n",
    "    else:\n",
    "        print(\"t1 and t2 are not same\")    \n",
    "else:\n",
    "    print(\"t1 and t2 are not same\")"
   ]
  },
  {
   "cell_type": "code",
   "execution_count": 3,
   "id": "7ed58d4b",
   "metadata": {},
   "outputs": [
    {
     "name": "stdout",
     "output_type": "stream",
     "text": [
      "t1 and t2 are same\n"
     ]
    }
   ],
   "source": [
    "t1 = (1,2,3,0)\n",
    "t2 = (1,2,3,0)\n",
    "if len(t1) == len(t2):\n",
    "    flag = True\n",
    "    for i in range(len(t1)):\n",
    "        if t1[i] == t2[i]:\n",
    "            flag = True\n",
    "        else:\n",
    "            flag = False\n",
    "    if flag:\n",
    "        print(\"t1 and t2 are same\")\n",
    "    else:\n",
    "        print(\"t1 and t2 are not same\")    \n",
    "else:\n",
    "    print(\"t1 and t2 are not same\")"
   ]
  },
  {
   "cell_type": "raw",
   "id": "f3e54c32-347e-4b1d-a373-39a662c89e70",
   "metadata": {},
   "source": [
    "Q4: Count no of tuples, list and set from a list\n",
    "list1 = [{'hi', 'bye'},{'Geeks', 'forGeeks'},('a', 'b'),['hi', 'bye'],['a', 'b']]\n",
    "Output:\n",
    "\n",
    "List-2\n",
    "Set-2\n",
    "Tuples-1"
   ]
  },
  {
   "cell_type": "code",
   "execution_count": 7,
   "id": "d4be0bf0-55a8-4529-89ec-f84d7b98c71d",
   "metadata": {},
   "outputs": [
    {
     "name": "stdout",
     "output_type": "stream",
     "text": [
      "List- 2\n",
      "Set- 2\n",
      "Tuples- 1\n"
     ]
    }
   ],
   "source": [
    "list1 = [{'hi', 'bye'},{'Geeks', 'forGeeks'},('a', 'b'),['hi', 'bye'],['a', 'b']]\n",
    "List = 0\n",
    "Set = 0 \n",
    "Tuples = 0\n",
    "for i in list1:\n",
    "    if type(i) == list:\n",
    "        List+=1\n",
    "    elif type(i) == set:\n",
    "        Set+=1\n",
    "    else:\n",
    "        Tuples+=1\n",
    "print(\"List-\",List)\n",
    "print(\"Set-\",Set)\n",
    "print(\"Tuples-\",Tuples)"
   ]
  },
  {
   "cell_type": "raw",
   "id": "aaa9495c-8031-4e91-9965-23f2645965c2",
   "metadata": {},
   "source": [
    "Q5: Shortlist Students for a Job role\n",
    "Ask user to input students record and store in tuples for each record. Then Ask user to input three things he wants in the candidate- Primary Skill, Higher Education, Year of Graduation.\n",
    "\n",
    "Show every students record in form of tuples if matches all required criteria.\n",
    "\n",
    "It is assumed that there will be only one primry skill.\n",
    "\n",
    "If no such candidate found, print No such candidate\n",
    "\n",
    "Input:\n",
    "\n",
    "Enter No of records- 2\n",
    "Enter Details of student-1\n",
    "Enter Student name- Manohar\n",
    "Enter Higher Education- B.Tech\n",
    "Enter Primary Skill- Python\n",
    "Enter Year of Graduation- 2022\n",
    "Enter Details of student-2\n",
    "Enter Student name- Ponian\n",
    "Enter Higher Education- B.Sc.\n",
    "Enter Primary Skill- C++\n",
    "Enter Year of Graduation- 2020\n",
    "\n",
    "Enter Job Role Requirement\n",
    "Enter Skill- Python\n",
    "Enter Higher Education- B.Tech\n",
    "Enter Year of Graduation- 2022\n",
    "Output\n",
    "\n",
    "('Manohar', 'B.tech', 'Python', '2022')"
   ]
  },
  {
   "cell_type": "code",
   "execution_count": 11,
   "id": "4815e852-d80f-4f91-abf8-a6aa8f249483",
   "metadata": {},
   "outputs": [
    {
     "name": "stdin",
     "output_type": "stream",
     "text": [
      "No of student record  2\n",
      "Enter details of student- 1\n",
      "Enter student name- Mahesh\n",
      "Enter Higher Education- BE\n",
      "Enter Primary Skill- Python\n",
      "Enter Year of Graduation- 2019\n",
      "Enter details of student- 2\n",
      "Enter student name- Dipali\n",
      "Enter Higher Education- PHD\n",
      "Enter Primary Skill- c++\n",
      "Enter Year of Graduation- 2022\n"
     ]
    },
    {
     "name": "stdout",
     "output_type": "stream",
     "text": [
      "[('Mahesh', 'BE', 'Python', '2019'), ('Dipali', 'PHD', 'c++', '2022')]\n"
     ]
    },
    {
     "name": "stdin",
     "output_type": "stream",
     "text": [
      "Enter required higher education  PHD\n",
      "Enter required primary skill  c++\n",
      "Enter required Year of graduation  2022\n"
     ]
    },
    {
     "name": "stdout",
     "output_type": "stream",
     "text": [
      "Candidate Dipali match all required criteria >> ('PHD', 'c++', '2022')\n"
     ]
    }
   ],
   "source": [
    "n = int(input(\"No of student record \"))\n",
    "student = []\n",
    "for i in range(n):\n",
    "    student.append([])\n",
    "    input(\"Enter details of student-\")\n",
    "    for j in range(4):\n",
    "        if j == 0:\n",
    "            student[-1].append(input(\"Enter student name-\"))\n",
    "        elif j == 1:\n",
    "            student[-1].append(input(\"Enter Higher Education-\"))\n",
    "        elif j == 2:\n",
    "            student[-1].append(input(\"Enter Primary Skill-\"))\n",
    "        elif j == 3:\n",
    "            student[-1].append(input(\"Enter Year of Graduation-\"))\n",
    "\n",
    "student_tup = list(map(tuple,student))\n",
    "print(student_tup)\n",
    "higher_edu = input(\"Enter required higher education \")\n",
    "primary_skill = input(\"Enter required primary skill \")\n",
    "Year_of_gradu = input(\"Enter required Year of graduation \")   \n",
    "\n",
    "flag = False\n",
    "for stud in student_tup:\n",
    "    if stud[1] == higher_edu and stud[2] == primary_skill and stud[3] == Year_of_gradu:\n",
    "        print(\"Candidate {} match all required criteria >> {}\".format(stud[0],stud[1:]))\n",
    "        flag = True\n",
    "\n",
    "if flag == False:\n",
    "    print(\"No such candidate\")  "
   ]
  },
  {
   "cell_type": "code",
   "execution_count": 15,
   "id": "08dbe4cf-4174-44ce-a8f6-d616e49fd6ac",
   "metadata": {},
   "outputs": [
    {
     "name": "stdin",
     "output_type": "stream",
     "text": [
      "No of student record  2\n"
     ]
    },
    {
     "name": "stdout",
     "output_type": "stream",
     "text": [
      "Enter details of 1 applicant:\n"
     ]
    },
    {
     "name": "stdin",
     "output_type": "stream",
     "text": [
      "Enter Name:  Mahesh\n",
      "Enter higher education:  BR\n",
      "Enter primary skill:  Python\n",
      "Enter Year of Graduation:  2019\n"
     ]
    },
    {
     "name": "stdout",
     "output_type": "stream",
     "text": [
      "Enter details of 2 applicant:\n"
     ]
    },
    {
     "name": "stdin",
     "output_type": "stream",
     "text": [
      "Enter Name:  Dilip\n",
      "Enter higher education:  BE\n",
      "Enter primary skill:  DS\n",
      "Enter Year of Graduation:  2025\n",
      "Enter required higher education  BE\n",
      "Enter required primary skill  DS\n",
      "Enter required Year of graduation  2025\n"
     ]
    },
    {
     "name": "stdout",
     "output_type": "stream",
     "text": [
      "Candidate Dilip match all required criteria >> ('BE', 'DS', '2025')\n"
     ]
    }
   ],
   "source": [
    "n = int(input(\"No of student record \"))\n",
    "student = []\n",
    "for i in range(n):\n",
    "    print(\"Enter details of\",i+1,\"applicant:\")\n",
    "    name = input(\"Enter Name: \")\n",
    "    higher_ed = input(\"Enter higher education: \")\n",
    "    primary_skill = input(\"Enter primary skill: \")\n",
    "    yog = input(\"Enter Year of Graduation: \")\n",
    "\n",
    "    student.append((name,higher_ed,primary_skill,yog))\n",
    "student       \n",
    "     \n",
    "higher_edu = input(\"Enter required higher education \")\n",
    "primary_skill = input(\"Enter required primary skill \")\n",
    "Year_of_gradu = input(\"Enter required Year of graduation \")   \n",
    "\n",
    "flag = False\n",
    "for stud in student:\n",
    "    if stud[1] == higher_edu and stud[2] == primary_skill and stud[3] == Year_of_gradu:\n",
    "        print(\"Candidate {} match all required criteria >> {}\".format(stud[0],stud[1:]))\n",
    "        flag = True\n",
    "\n",
    "if flag == False:\n",
    "    print(\"No such candidate\")  "
   ]
  },
  {
   "cell_type": "markdown",
   "id": "4d5dfe6d-64d7-4618-bfbc-1e58824338f4",
   "metadata": {},
   "source": [
    "# Set"
   ]
  },
  {
   "cell_type": "raw",
   "id": "2c985d09-8a65-401a-ae27-a4ce3919a9b0",
   "metadata": {},
   "source": [
    "Q1: Write a program to find set of common elements in three lists using sets.\n",
    "Input : ar1 = [1, 5, 10, 20, 40, 80]\n",
    "        ar2 = [6, 7, 20, 80, 100]\n",
    "        ar3 = [3, 4, 15, 20, 30, 70, 80, 120]\n",
    "\n",
    "Output : [80, 20]"
   ]
  },
  {
   "cell_type": "code",
   "execution_count": 17,
   "id": "842bb2e6-8587-439a-8d43-6a46d1fc18b8",
   "metadata": {},
   "outputs": [
    {
     "data": {
      "text/plain": [
       "[80, 20]"
      ]
     },
     "execution_count": 17,
     "metadata": {},
     "output_type": "execute_result"
    }
   ],
   "source": [
    "ar1 = [1, 5, 10, 20, 40, 80]\n",
    "ar2 = [6, 7, 20, 80, 100]\n",
    "ar3 = [3, 4, 15, 20, 30, 70, 80, 120]\n",
    "set1 = set(ar1).intersection(ar2,ar3)\n",
    "list(set1)"
   ]
  },
  {
   "cell_type": "raw",
   "id": "25f58f6a-850a-4288-b94f-7f216d05fdbc",
   "metadata": {},
   "source": [
    "Q2: Write a program to count unique number of vowels using sets in a given string. Lowercase and upercase vowels will be taken as different.\n",
    "Input:\n",
    "\n",
    "Str1 = \"hands-on data science mentorship progrAm with live classes at affordable fee only on CampusX\"\n",
    "Output:\n",
    "\n",
    "No of unique vowels-6"
   ]
  },
  {
   "cell_type": "code",
   "execution_count": 22,
   "id": "73121abe-e15b-4981-a9ae-8d4a577a1e22",
   "metadata": {},
   "outputs": [
    {
     "name": "stdout",
     "output_type": "stream",
     "text": [
      "No of unique vowels- 6\n"
     ]
    }
   ],
   "source": [
    "Str1 = \"hands-on data science mentorship progrAm with live classes at affordable fee only on CampusX\"\n",
    "vowels = \"AEIOUaeiou\"\n",
    "print(\"No of unique vowels-\",len({i for i in Str1 if i in vowels}))"
   ]
  },
  {
   "cell_type": "raw",
   "id": "10319ffb-ae97-4876-a069-298e7e28564e",
   "metadata": {},
   "source": [
    "Q3: Write a program to Check if a given string is binary string or not.\n",
    "A string is said to be binary if it's consists of only two unique characters.\n",
    "\n",
    "Take string input from user.\n",
    "\n",
    "Input: str = \"01010101010\"\n",
    "Output: Yes\n",
    "\n",
    "Input: str = \"1222211\"\n",
    "Output: Yes\n",
    "\n",
    "Input: str = \"Campusx\"\n",
    "Output: No"
   ]
  },
  {
   "cell_type": "code",
   "execution_count": 24,
   "id": "f7d0746f-6a8e-4258-b3e6-4ae54704e51e",
   "metadata": {},
   "outputs": [
    {
     "name": "stdin",
     "output_type": "stream",
     "text": [
      "Enter string  Campusx\n"
     ]
    },
    {
     "name": "stdout",
     "output_type": "stream",
     "text": [
      "not binary string\n"
     ]
    }
   ],
   "source": [
    "string = input(\"Enter string \")\n",
    "print(\"string is binary\") if len(set(string)) == 2 else print(\"not binary string\")  "
   ]
  },
  {
   "cell_type": "raw",
   "id": "87c2ad5b-1144-4d76-96de-b9492d6a4755",
   "metadata": {},
   "source": [
    "Q4: find union of n arrays.\n",
    "Example 1:\n",
    "\n",
    "Input:\n",
    "[[1, 2, 2, 4, 3, 6],\n",
    " [5, 1, 3, 4],\n",
    " [9, 5, 7, 1],\n",
    " [2, 4, 1, 3]]\n",
    "Output:\n",
    "\n",
    "[1, 2, 3, 4, 5, 6, 7, 9]"
   ]
  },
  {
   "cell_type": "code",
   "execution_count": 27,
   "id": "d1380d32-e8aa-4884-9780-ca34d59f7ebd",
   "metadata": {},
   "outputs": [
    {
     "data": {
      "text/plain": [
       "[1, 2, 3, 4, 5, 6, 7, 9]"
      ]
     },
     "execution_count": 27,
     "metadata": {},
     "output_type": "execute_result"
    }
   ],
   "source": [
    "arr = [[1, 2, 2, 4, 3, 6],\n",
    " [5, 1, 3, 4],\n",
    " [9, 5, 7, 1],\n",
    " [2, 4, 1, 3]]\n",
    "list({j for i in arr for j in i})"
   ]
  },
  {
   "cell_type": "code",
   "execution_count": 29,
   "id": "3839450c-f01a-44c5-a373-20862637a6a9",
   "metadata": {},
   "outputs": [
    {
     "data": {
      "text/plain": [
       "[1, 2, 3, 4, 5, 6, 7, 9]"
      ]
     },
     "execution_count": 29,
     "metadata": {},
     "output_type": "execute_result"
    }
   ],
   "source": [
    "s = set()\n",
    "for i in arr:\n",
    "    s.update(i)\n",
    "list(s)     "
   ]
  },
  {
   "cell_type": "raw",
   "id": "9cba0150-c504-40de-baa5-4011c5d407a5",
   "metadata": {},
   "source": [
    "Q5: Intersection of two lists. Intersection of two list means we need to take all those elements which are common to both of the initial lists and store them into another list. Only use using list-comprehension.\n",
    "Example 1:\n",
    "\n",
    "Input:\n",
    "\n",
    "lst1 = {15, 9, 10, 56, 23, 78, 5, 4, 9}\n",
    "lst2 = {9, 4, 5, 36, 47, 26, 10, 45, 87}\n",
    "Output:\n",
    "\n",
    "[9, 10, 4, 5]"
   ]
  },
  {
   "cell_type": "code",
   "execution_count": 34,
   "id": "0d75aeae-d7f6-4e1b-b0b2-bac103df0c2a",
   "metadata": {},
   "outputs": [
    {
     "data": {
      "text/plain": [
       "[4, 5, 9, 10]"
      ]
     },
     "execution_count": 34,
     "metadata": {},
     "output_type": "execute_result"
    }
   ],
   "source": [
    "lst1 = {15, 9, 10, 56, 23, 78, 5, 4, 9}\n",
    "lst2 = {9, 4, 5, 36, 47, 26, 10, 45, 87}\n",
    "[i for i in lst1 if i in lst2]"
   ]
  },
  {
   "cell_type": "markdown",
   "id": "5d4dfad5-0420-48ce-ad99-33ca33d5c3ff",
   "metadata": {},
   "source": [
    "# Dictionary"
   ]
  },
  {
   "cell_type": "raw",
   "id": "d6468f22-f2af-4082-a4c8-d0741fc30b3a",
   "metadata": {},
   "source": [
    "Q1: Key with maximum unique values\n",
    "Given a dictionary with values list, extract key whose value has most unique values.\n",
    "\n",
    "Example 1:\n",
    "\n",
    "Input:\n",
    "\n",
    "test_dict = {\"CampusX\" : [5, 7, 9, 4, 0], \"is\" : [6, 7, 4, 3, 3], \"Best\" : [9, 9, 6, 5, 5]}\n",
    "Output:\n",
    "\n",
    "CampusX"
   ]
  },
  {
   "cell_type": "code",
   "execution_count": 46,
   "id": "c8427ab8-3c89-4863-92a3-d87cb154ed3a",
   "metadata": {},
   "outputs": [
    {
     "name": "stdout",
     "output_type": "stream",
     "text": [
      "CampusX\n"
     ]
    }
   ],
   "source": [
    "d = {\"CampusX\" : [5, 7, 9, 4, 0], \"is\" : [6, 7, 4, 3, 3], \"Best\" : [9, 9, 6, 5, 5]}\n",
    "d1 = {i:len(set(d[i])) for i in d }\n",
    "for i in d1:\n",
    "    if d1[i] == max(d1.values()):\n",
    "        print(i)"
   ]
  },
  {
   "cell_type": "code",
   "execution_count": 48,
   "id": "34304db7-c6bf-4618-bbce-d17bee664eaa",
   "metadata": {},
   "outputs": [
    {
     "name": "stdout",
     "output_type": "stream",
     "text": [
      "Best\n"
     ]
    }
   ],
   "source": [
    "d = {\"CampusX\" : [5, 7, 7, 7, 7], \"is\" : [6, 7, 7, 7], \"Best\" : [9, 9, 6, 5, 5]}\n",
    "d1 = {i:len(set(d[i])) for i in d }\n",
    "for i in d1:\n",
    "    if d1[i] == max(d1.values()):\n",
    "        print(i)"
   ]
  },
  {
   "cell_type": "code",
   "execution_count": 55,
   "id": "4e70ea38-9f9a-41b3-82f1-3562be992b46",
   "metadata": {},
   "outputs": [
    {
     "data": {
      "text/plain": [
       "'Best'"
      ]
     },
     "execution_count": 55,
     "metadata": {},
     "output_type": "execute_result"
    }
   ],
   "source": [
    "test_dict = {\"CampusX\" : [5, 7, 7, 7, 7], \"is\" : [6, 7, 7, 7], \"Best\" : [9, 9, 6, 5, 5]}\n",
    "max_val = 0\n",
    "key = \"\"\n",
    "for i in test_dict:\n",
    "    if max_val < len(set(test_dict[i])):\n",
    "        max_val = len(set(test_dict[i]))\n",
    "        key = i\n",
    "key         "
   ]
  },
  {
   "cell_type": "raw",
   "id": "25cb8091-0e64-480a-b086-b61da947f2f9",
   "metadata": {},
   "source": [
    "Q2: Replace words from Dictionary. Given String, replace it’s words from lookup dictionary.\n",
    "Example 1:\n",
    "\n",
    "Input:\n",
    "\n",
    "test_str = 'CampusX best for DS students.'\n",
    "repl_dict = {\"best\" : \"is the best channel\", \"DS\" : \"Data-Science\"}\n",
    "Output:\n",
    "\n",
    "CampusX is the best channel for Data-Science students.\n",
    "Example 2:\n",
    "\n",
    "Input:\n",
    "\n",
    "test_str = 'CampusX best for DS students.'\n",
    "repl_dict = {\"good\" : \"is the best channel\", \"ds\" : \"Data-Science\"}\n",
    "Output:\n",
    "\n",
    "CampusX best for DS students."
   ]
  },
  {
   "cell_type": "code",
   "execution_count": 63,
   "id": "fe7b1081-4264-4033-a882-29a659bdecad",
   "metadata": {},
   "outputs": [
    {
     "data": {
      "text/plain": [
       "'CampusX is the best channel for Data-Science students.'"
      ]
     },
     "execution_count": 63,
     "metadata": {},
     "output_type": "execute_result"
    }
   ],
   "source": [
    "test_str = 'CampusX best for DS students.'\n",
    "repl_dict = {\"best\" : \"is the best channel\", \"DS\" : \"Data-Science\"}\n",
    "for i in repl_dict:\n",
    "    if i in test_str:\n",
    "        test_str = test_str.replace(i,repl_dict[i])\n",
    "test_str   "
   ]
  },
  {
   "cell_type": "code",
   "execution_count": 64,
   "id": "a3f462d8-87d0-4359-9d64-aa0f17179329",
   "metadata": {},
   "outputs": [
    {
     "data": {
      "text/plain": [
       "'CampusX best for DS students.'"
      ]
     },
     "execution_count": 64,
     "metadata": {},
     "output_type": "execute_result"
    }
   ],
   "source": [
    "test_str = 'CampusX best for DS students.'\n",
    "repl_dict = {\"good\" : \"is the best channel\", \"ds\" : \"Data-Science\"}\n",
    "for i in repl_dict:\n",
    "    if i in test_str:\n",
    "        test_str = test_str.replace(i,repl_dict[i])\n",
    "test_str "
   ]
  },
  {
   "cell_type": "raw",
   "id": "7095dc34-c421-4f13-86a6-b37c3e7c9386",
   "metadata": {},
   "source": [
    "Q3: Convert List to List of dictionaries. Given list values and keys list, convert these values to key value pairs in form of list of dictionaries.\n",
    "Example 1:\n",
    "\n",
    "Input:\n",
    "test_list = [\"DataScience\", 3, \"is\", 8]\n",
    "key_list = [\"name\", \"id\"]\n",
    "Output:\n",
    "[{'name': 'DataScience', 'id': 3}, {'name': 'is', 'id': 8}]\n",
    "\n",
    "Example 2:\n",
    "Input:\n",
    "test_list = [\"CampusX\", 10]\n",
    "key_list = [\"name\", \"id\"]\n",
    "Output:\n",
    "[{'name': 'CampusX', 'id': 10}]"
   ]
  },
  {
   "cell_type": "code",
   "execution_count": 87,
   "id": "91502621-9fa4-4e11-b3f5-c8c658dfe798",
   "metadata": {},
   "outputs": [
    {
     "data": {
      "text/plain": [
       "[{'name': 'CampusX', 'id': 10}]"
      ]
     },
     "execution_count": 87,
     "metadata": {},
     "output_type": "execute_result"
    }
   ],
   "source": [
    "test_list = [\"CampusX\", 10]\n",
    "key_list = [\"name\", \"id\"]\n",
    "l1 = []\n",
    "\n",
    "for i in test_list:\n",
    "    if type(i) == str:\n",
    "        l1.append({key_list[0]:i})\n",
    "    elif type(i) == int:\n",
    "        l1[-1].update({key_list[1]:i})\n",
    "l1       "
   ]
  },
  {
   "cell_type": "code",
   "execution_count": 92,
   "id": "f9764c56-13c7-40c8-add7-4b24bf7316b4",
   "metadata": {},
   "outputs": [
    {
     "data": {
      "text/plain": [
       "[{'name': 'DataScience', 'id': 3}, {'name': 'is', 'id': 8}]"
      ]
     },
     "execution_count": 92,
     "metadata": {},
     "output_type": "execute_result"
    }
   ],
   "source": [
    "test_list = [\"DataScience\", 3, \"is\", 8]\n",
    "key_list = [\"name\", \"id\"]\n",
    "l1 = []\n",
    "for i in test_list:\n",
    "    if type(i) == str:\n",
    "        l1.append({key_list[0]:i})\n",
    "    elif type(i) == int:\n",
    "        l1[-1].update({key_list[1]:i})\n",
    "l1 "
   ]
  },
  {
   "cell_type": "code",
   "execution_count": 90,
   "id": "45146bc0-4b4f-47d7-83c5-15746415be95",
   "metadata": {},
   "outputs": [
    {
     "name": "stdout",
     "output_type": "stream",
     "text": [
      "[{'name': 'DataScience', 'id': 3}, {'name': 'is', 'id': 8}, {'name': 'my', 'id': 9}]\n"
     ]
    }
   ],
   "source": [
    "test_list = [\"DataScience\", 3, \"is\", 8,\"my\",9]\n",
    "key_list = [\"name\", \"id\"]\n",
    "n = len(test_list)\n",
    "\n",
    "res = []\n",
    "for i in range(0,n,2):\n",
    "  res.append({key_list[0]: test_list[i],key_list[1]:test_list[i+1]})\n",
    "\n",
    "print(res)"
   ]
  },
  {
   "cell_type": "raw",
   "id": "06d52408-c870-4125-bf07-68dd8fa603da",
   "metadata": {},
   "source": [
    "Q4: Convert a list of Tuples into Dictionary.\n",
    "Example 1:\n",
    "\n",
    "Input:\n",
    "\n",
    "[(\"akash\", 10), (\"gaurav\", 12), (\"anand\", 14), (\"suraj\", 20), (\"akhil\", 25), (\"ashish\", 30)]\n",
    "Output:\n",
    "\n",
    "{'akash': [10], 'gaurav': [12], 'anand': [14], 'suraj': [20], 'akhil': [25], 'ashish': [30]}\n",
    "Example 2:\n",
    "\n",
    "Input:\n",
    "\n",
    "[('A', 1), ('B', 2), ('C', 3)]\n",
    "Output:\n",
    "\n",
    "{'A': [1], 'B': [2], 'C': [3]}"
   ]
  },
  {
   "cell_type": "code",
   "execution_count": 102,
   "id": "4ea926a1-7563-49d2-86b3-ddc4ea3f6aa1",
   "metadata": {},
   "outputs": [
    {
     "data": {
      "text/plain": [
       "{'akash': [10],\n",
       " 'gaurav': [12],\n",
       " 'anand': [14],\n",
       " 'suraj': [20],\n",
       " 'akhil': [25],\n",
       " 'ashish': [30]}"
      ]
     },
     "execution_count": 102,
     "metadata": {},
     "output_type": "execute_result"
    }
   ],
   "source": [
    "tup_list = [(\"akash\", 10), (\"gaurav\", 12), (\"anand\", 14), (\"suraj\", 20), (\"akhil\", 25), (\"ashish\", 30)]\n",
    "d = {}\n",
    "for i,j in tup_list:\n",
    "  d[i] = [j]\n",
    "d"
   ]
  },
  {
   "cell_type": "code",
   "execution_count": 99,
   "id": "8fb6cdf4-33a3-4f56-a033-e7e20fd06558",
   "metadata": {},
   "outputs": [
    {
     "data": {
      "text/plain": [
       "{'akash': [10],\n",
       " 'gaurav': [12],\n",
       " 'anand': [14],\n",
       " 'suraj': [20],\n",
       " 'akhil': [25],\n",
       " 'ashish': [30]}"
      ]
     },
     "execution_count": 99,
     "metadata": {},
     "output_type": "execute_result"
    }
   ],
   "source": [
    "tup_list = [(\"akash\", 10), (\"gaurav\", 12), (\"anand\", 14), (\"suraj\", 20), (\"akhil\", 25), (\"ashish\", 30)]\n",
    "d = {}\n",
    "for i in tup_list:\n",
    "    l = []\n",
    "    l.append(i[1])\n",
    "    d[i[0]] = l\n",
    "d           "
   ]
  },
  {
   "cell_type": "raw",
   "id": "e125d403-a551-43d8-a59f-ee482f4d99d3",
   "metadata": {},
   "source": [
    "Q5: Sort Dictionary key and values List.\n",
    "Example 1:\n",
    "\n",
    "Input:\n",
    "\n",
    "{'c': [3], 'b': [12, 10], 'a': [19, 4]}\n",
    "Output:\n",
    "\n",
    "{'a': [4, 19], 'b': [10, 12], 'c': [3]}\n",
    "Example 2:\n",
    "\n",
    "Input:\n",
    "\n",
    "{'c': [10, 34, 3]}\n",
    "Output:\n",
    "\n",
    "{'c': [3, 10, 34]}"
   ]
  },
  {
   "cell_type": "code",
   "execution_count": 106,
   "id": "083f81bb-b485-4a39-b998-42cc931a76ac",
   "metadata": {},
   "outputs": [
    {
     "data": {
      "text/plain": [
       "{'a': [4, 19], 'b': [10, 12], 'c': [3]}"
      ]
     },
     "execution_count": 106,
     "metadata": {},
     "output_type": "execute_result"
    }
   ],
   "source": [
    "d = {'c': [3], 'b': [12, 10], 'a': [19, 4]}\n",
    "d1 = {}\n",
    "for i in sorted(d):\n",
    "    d1[i] = sorted(d[i])\n",
    "d1"
   ]
  }
 ],
 "metadata": {
  "kernelspec": {
   "display_name": "Python 3 (ipykernel)",
   "language": "python",
   "name": "python3"
  },
  "language_info": {
   "codemirror_mode": {
    "name": "ipython",
    "version": 3
   },
   "file_extension": ".py",
   "mimetype": "text/x-python",
   "name": "python",
   "nbconvert_exporter": "python",
   "pygments_lexer": "ipython3",
   "version": "3.10.6"
  }
 },
 "nbformat": 4,
 "nbformat_minor": 5
}
