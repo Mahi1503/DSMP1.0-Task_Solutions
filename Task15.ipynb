{
 "cells": [
  {
   "cell_type": "markdown",
   "id": "4f13a035-4475-422b-b176-4f435521403e",
   "metadata": {},
   "source": [
    "### Q-1: Create a random 3x4 matrix with value between 0-100. And perform below task"
   ]
  },
  {
   "cell_type": "raw",
   "id": "c3fd09af-2b72-44c8-ab05-1873109a24bb",
   "metadata": {},
   "source": [
    "i. Sort this matrix. np.sort()\n",
    "ii. Sort this matrix based on values in 2nd column.\n",
    "iii. Sort this matrix based on max value in each row.\n",
    "iv. Sort based on elements value."
   ]
  },
  {
   "cell_type": "raw",
   "id": "2d28f365-3ee1-4b38-beb7-8458a90fdcef",
   "metadata": {},
   "source": [
    "See examples:\n",
    "\n",
    "arr = \n",
    "    [[92 90 74]\n",
    "    [ 6 63 93]\n",
    "    [15 93 96]\n",
    "    [70 60 48]]\n",
    "i. np.sort\n",
    "[[74 90 92]\n",
    " [ 6 63 93]\n",
    " [15 93 96]\n",
    " [48 60 70]]\n",
    "\n",
    "ii. based on 2nd column\n",
    "[[70 60 48]\n",
    " [ 6 63 93]\n",
    " [92 90 74]\n",
    " [15 93 96]]\n",
    "\n",
    "iii. based on row max- ascending\n",
    "[[15 93 96]\n",
    " [ 6 63 93]\n",
    " [92 90 74]\n",
    " [70 60 48]]\n",
    "\n",
    "iv. based on elements value\n",
    "[[ 6 15 48]\n",
    " [60 63 70]\n",
    " [74 90 92]\n",
    " [93 93 96]]"
   ]
  },
  {
   "cell_type": "code",
   "execution_count": 2,
   "id": "a15cd013-c98f-41e9-baf0-4d01b7602362",
   "metadata": {},
   "outputs": [
    {
     "data": {
      "text/plain": [
       "array([[80, 99, 39, 37],\n",
       "       [73, 66, 71, 74],\n",
       "       [55, 59, 44, 27]])"
      ]
     },
     "execution_count": 2,
     "metadata": {},
     "output_type": "execute_result"
    }
   ],
   "source": [
    "import numpy as np\n",
    "arr = np.random.randint(0,100,12).reshape(3,4)\n",
    "arr"
   ]
  },
  {
   "cell_type": "code",
   "execution_count": 6,
   "id": "6be32d11-0bd3-47ce-bcf8-31d8c9765f3f",
   "metadata": {},
   "outputs": [
    {
     "data": {
      "text/plain": [
       "array([[37, 39, 80, 99],\n",
       "       [66, 71, 73, 74],\n",
       "       [27, 44, 55, 59]])"
      ]
     },
     "execution_count": 6,
     "metadata": {},
     "output_type": "execute_result"
    }
   ],
   "source": [
    "# Sort this matrix. np.sort()\n",
    "np.sort(arr)"
   ]
  },
  {
   "cell_type": "code",
   "execution_count": 10,
   "id": "68f00808-8128-4a9a-8eda-399c835db943",
   "metadata": {},
   "outputs": [
    {
     "data": {
      "text/plain": [
       "array([99, 66, 59])"
      ]
     },
     "execution_count": 10,
     "metadata": {},
     "output_type": "execute_result"
    }
   ],
   "source": [
    "# based on 2nd column\n",
    "arr[:,1] # Extracting column for sorting"
   ]
  },
  {
   "cell_type": "code",
   "execution_count": 9,
   "id": "c7e38c45-e446-46c5-aa6d-00822572ddcf",
   "metadata": {},
   "outputs": [
    {
     "data": {
      "text/plain": [
       "array([2, 1, 0], dtype=int64)"
      ]
     },
     "execution_count": 9,
     "metadata": {},
     "output_type": "execute_result"
    }
   ],
   "source": [
    "arr[:,1].argsort() # give index by which if element arrange array will be sorted for second column"
   ]
  },
  {
   "cell_type": "code",
   "execution_count": 11,
   "id": "2827353d-b4a3-4933-8045-ccf4b72e0557",
   "metadata": {},
   "outputs": [
    {
     "data": {
      "text/plain": [
       "array([[55, 59, 44, 27],\n",
       "       [73, 66, 71, 74],\n",
       "       [80, 99, 39, 37]])"
      ]
     },
     "execution_count": 11,
     "metadata": {},
     "output_type": "execute_result"
    }
   ],
   "source": [
    "arr[[2,1,0]] # accessing element of array with fancy indexing for only column 1 sorting element"
   ]
  },
  {
   "cell_type": "code",
   "execution_count": 12,
   "id": "61e3b7be-be03-487b-ba9b-cccec61b5ec0",
   "metadata": {},
   "outputs": [
    {
     "data": {
      "text/plain": [
       "array([[55, 59, 44, 27],\n",
       "       [73, 66, 71, 74],\n",
       "       [80, 99, 39, 37]])"
      ]
     },
     "execution_count": 12,
     "metadata": {},
     "output_type": "execute_result"
    }
   ],
   "source": [
    "arr[arr[:,1].argsort()]"
   ]
  },
  {
   "cell_type": "code",
   "execution_count": 20,
   "id": "1b90c909-2750-415f-b241-01d83b1ba65c",
   "metadata": {},
   "outputs": [
    {
     "data": {
      "text/plain": [
       "array([[80, 99, 39, 37],\n",
       "       [73, 66, 71, 74],\n",
       "       [55, 59, 44, 27]])"
      ]
     },
     "execution_count": 20,
     "metadata": {},
     "output_type": "execute_result"
    }
   ],
   "source": [
    "# based on row max- ascending\n",
    "arr"
   ]
  },
  {
   "cell_type": "code",
   "execution_count": 19,
   "id": "c564d25b-689f-45b9-935f-fbca42c706ce",
   "metadata": {},
   "outputs": [
    {
     "data": {
      "text/plain": [
       "array([[80, 99, 39, 37],\n",
       "       [73, 66, 71, 74],\n",
       "       [55, 59, 44, 27]])"
      ]
     },
     "execution_count": 19,
     "metadata": {},
     "output_type": "execute_result"
    }
   ],
   "source": [
    "arr[np.max(arr,axis=1).argsort()][::-1]"
   ]
  },
  {
   "cell_type": "code",
   "execution_count": 23,
   "id": "12dcaff3-9d79-4f8e-b145-ba1a1d262214",
   "metadata": {},
   "outputs": [],
   "source": [
    "ar = np.array([[94, 87 ,26],\n",
    " [45, 73, 90],\n",
    " [70, 30, 81],\n",
    " [97,  7 ,83]])\n",
    "ar"
   ]
  },
  {
   "cell_type": "code",
   "execution_count": 29,
   "id": "01c95cf3-5d93-4054-b3c5-8ed386e87b5e",
   "metadata": {},
   "outputs": [
    {
     "data": {
      "text/plain": [
       "array([[70, 30, 81],\n",
       "       [45, 73, 90],\n",
       "       [94, 87, 26],\n",
       "       [97,  7, 83]])"
      ]
     },
     "execution_count": 29,
     "metadata": {},
     "output_type": "execute_result"
    }
   ],
   "source": [
    "ar[np.max(ar,axis=1).argsort()]"
   ]
  },
  {
   "cell_type": "code",
   "execution_count": null,
   "id": "264f3050-4797-4275-b6e0-d8ba8400ed4c",
   "metadata": {},
   "outputs": [],
   "source": [
    "np.array(sorted)"
   ]
  },
  {
   "cell_type": "code",
   "execution_count": 30,
   "id": "d8013d37-e453-4381-988a-23e2f26b060f",
   "metadata": {},
   "outputs": [
    {
     "data": {
      "text/plain": [
       "array([[70, 30, 81],\n",
       "       [45, 73, 90],\n",
       "       [94, 87, 26],\n",
       "       [97,  7, 83]])"
      ]
     },
     "execution_count": 30,
     "metadata": {},
     "output_type": "execute_result"
    }
   ],
   "source": [
    "(np.array(sorted(ar, key = lambda x: max(x))))"
   ]
  },
  {
   "cell_type": "code",
   "execution_count": 31,
   "id": "1be922c1-6189-4a82-9386-4d54ce3d3bd2",
   "metadata": {},
   "outputs": [
    {
     "data": {
      "text/plain": [
       "array([[80, 99, 39, 37],\n",
       "       [73, 66, 71, 74],\n",
       "       [55, 59, 44, 27]])"
      ]
     },
     "execution_count": 31,
     "metadata": {},
     "output_type": "execute_result"
    }
   ],
   "source": [
    "# Sort based on elements value\n",
    "arr"
   ]
  },
  {
   "cell_type": "code",
   "execution_count": 34,
   "id": "51daf501-6d01-44ea-af50-ef9d3784917d",
   "metadata": {},
   "outputs": [
    {
     "data": {
      "text/plain": [
       "array([[27, 37, 39, 44],\n",
       "       [55, 59, 66, 71],\n",
       "       [73, 74, 80, 99]])"
      ]
     },
     "execution_count": 34,
     "metadata": {},
     "output_type": "execute_result"
    }
   ],
   "source": [
    "np.sort(arr,axis=None).reshape(3,4)"
   ]
  },
  {
   "cell_type": "markdown",
   "id": "8c5ff8e2-fabc-42d1-8d11-1452090105f9",
   "metadata": {},
   "source": [
    "### Q-2: There is an array of marks of 5 students in 4 subjects. Further you are asked to perform below task."
   ]
  },
  {
   "cell_type": "raw",
   "id": "43c6fa38-7cc5-4700-a55f-867f32a270da",
   "metadata": {},
   "source": [
    "i. Add marks every student of an extra subject in the same array.\n",
    "ii. Add two new students marks in respective 5 subjects.(one subject added in above task)\n",
    "iii. Add extra column with sum of all subjects(5-subjects) marks\n",
    "iv. Sort the array(non-ascending order) on total marks column--one added in above task. Show top 2 rows.\n",
    "Note: Change dimension of arrays during concatenation or appending if required."
   ]
  },
  {
   "cell_type": "raw",
   "id": "d0d822b5-f7e8-42eb-926b-0acae88851b2",
   "metadata": {},
   "source": [
    "Given Array-\n",
    "\n",
    "marks = [[13, 10,  9, 33],\n",
    "       [63, 46, 90, 42],\n",
    "       [39, 76, 13, 29],\n",
    "       [82,  9, 29, 78],\n",
    "       [67, 61, 59, 36]]\n",
    "\n",
    "extra_subject = [41, 87, 72, 36, 92]\n",
    "# Two extra students record-\n",
    "rec1 = [77, 83, 98, 95, 89]\n",
    "rec2 = [92, 71, 52, 61, 53]\n"
   ]
  },
  {
   "cell_type": "code",
   "execution_count": 43,
   "id": "6994ee43-3356-48af-9859-5251f6e8648d",
   "metadata": {},
   "outputs": [],
   "source": [
    "# Approach 1\n",
    "marks = np.array([[13, 10,  9, 33],\n",
    "       [63, 46, 90, 42],\n",
    "       [39, 76, 13, 29],\n",
    "       [82,  9, 29, 78],\n",
    "       [67, 61, 59, 36]])\n",
    "marks\n",
    "extra_subject = np.array([41, 87, 72, 36, 92])\n",
    "extra_subject = np.expand_dims(extra_subject,axis=1)"
   ]
  },
  {
   "cell_type": "code",
   "execution_count": 44,
   "id": "58551adb-d725-40d1-ada1-d08c0386d28d",
   "metadata": {},
   "outputs": [
    {
     "data": {
      "text/plain": [
       "array([[13, 10,  9, 33, 41],\n",
       "       [63, 46, 90, 42, 87],\n",
       "       [39, 76, 13, 29, 72],\n",
       "       [82,  9, 29, 78, 36],\n",
       "       [67, 61, 59, 36, 92]])"
      ]
     },
     "execution_count": 44,
     "metadata": {},
     "output_type": "execute_result"
    }
   ],
   "source": [
    "np.hstack((marks,extra_subject))"
   ]
  },
  {
   "cell_type": "code",
   "execution_count": 48,
   "id": "c59830b4-c55d-4d58-a056-248483467405",
   "metadata": {},
   "outputs": [
    {
     "data": {
      "text/plain": [
       "array([[13, 10,  9, 33, 41],\n",
       "       [63, 46, 90, 42, 87],\n",
       "       [39, 76, 13, 29, 72],\n",
       "       [82,  9, 29, 78, 36],\n",
       "       [67, 61, 59, 36, 92]])"
      ]
     },
     "execution_count": 48,
     "metadata": {},
     "output_type": "execute_result"
    }
   ],
   "source": [
    "# Approach 2\n",
    "marks = np.array([[13, 10,  9, 33],\n",
    "       [63, 46, 90, 42],\n",
    "       [39, 76, 13, 29],\n",
    "       [82,  9, 29, 78],\n",
    "       [67, 61, 59, 36]])\n",
    "marks\n",
    "extra_subject = np.array([41, 87, 72, 36, 92])\n",
    "extra_subject = np.expand_dims(extra_subject,axis=1)\n",
    "np.concatenate((marks,extra_subject),axis=1)"
   ]
  },
  {
   "cell_type": "code",
   "execution_count": 49,
   "id": "0a27e4ca-8f2c-4b9c-816e-3be4c35fceef",
   "metadata": {},
   "outputs": [
    {
     "data": {
      "text/plain": [
       "array([[13, 10,  9, 33, 41],\n",
       "       [63, 46, 90, 42, 87],\n",
       "       [39, 76, 13, 29, 72],\n",
       "       [82,  9, 29, 78, 36],\n",
       "       [67, 61, 59, 36, 92],\n",
       "       [77, 83, 98, 95, 89],\n",
       "       [92, 71, 52, 61, 53]])"
      ]
     },
     "execution_count": 49,
     "metadata": {},
     "output_type": "execute_result"
    }
   ],
   "source": [
    "# Add two new students marks in respective 5 subjects.(one subject added in above task)\n",
    "marks1 = np.concatenate((marks,extra_subject),axis=1)\n",
    "rec1 = np.array([77, 83, 98, 95, 89])\n",
    "rec2 = np.array([92, 71, 52, 61, 53])\n",
    "np.vstack((marks1,rec1,rec2))"
   ]
  },
  {
   "cell_type": "code",
   "execution_count": 53,
   "id": "41bb89c9-ee9c-4e1b-b0aa-41909a647362",
   "metadata": {},
   "outputs": [
    {
     "data": {
      "text/plain": [
       "array([[13, 10,  9, 33, 41],\n",
       "       [63, 46, 90, 42, 87],\n",
       "       [39, 76, 13, 29, 72],\n",
       "       [82,  9, 29, 78, 36],\n",
       "       [67, 61, 59, 36, 92],\n",
       "       [77, 83, 98, 95, 89],\n",
       "       [92, 71, 52, 61, 53]])"
      ]
     },
     "execution_count": 53,
     "metadata": {},
     "output_type": "execute_result"
    }
   ],
   "source": [
    "marks1 = np.concatenate((marks,extra_subject),axis=1)\n",
    "rec1 = np.expand_dims(np.array([77, 83, 98, 95, 89]),axis=0)\n",
    "rec2 = np.array([92, 71, 52, 61, 53]).reshape(1,5)\n",
    "new = np.concatenate((marks1,rec1,rec2),axis=0)\n",
    "new"
   ]
  },
  {
   "cell_type": "code",
   "execution_count": 52,
   "id": "64e8edda-dffa-40e8-9738-cbc547a299e2",
   "metadata": {},
   "outputs": [],
   "source": [
    "# Add extra column with sum of all subjects(5-subjects) marks"
   ]
  },
  {
   "cell_type": "code",
   "execution_count": 63,
   "id": "5a2ed74d-d43a-4182-83d9-6e97976dc950",
   "metadata": {},
   "outputs": [
    {
     "data": {
      "text/plain": [
       "array([[106],\n",
       "       [328],\n",
       "       [229],\n",
       "       [234],\n",
       "       [315],\n",
       "       [442],\n",
       "       [329]])"
      ]
     },
     "execution_count": 63,
     "metadata": {},
     "output_type": "execute_result"
    }
   ],
   "source": [
    "sum_ar = np.sum(new,axis=1).reshape(-1,1)\n",
    "sum_ar"
   ]
  },
  {
   "cell_type": "code",
   "execution_count": 61,
   "id": "aa738f64-c238-422d-8fdf-750d88204a86",
   "metadata": {},
   "outputs": [
    {
     "data": {
      "text/plain": [
       "array([[ 13,  10,   9,  33,  41, 106],\n",
       "       [ 63,  46,  90,  42,  87, 328],\n",
       "       [ 39,  76,  13,  29,  72, 229],\n",
       "       [ 82,   9,  29,  78,  36, 234],\n",
       "       [ 67,  61,  59,  36,  92, 315],\n",
       "       [ 77,  83,  98,  95,  89, 442],\n",
       "       [ 92,  71,  52,  61,  53, 329]])"
      ]
     },
     "execution_count": 61,
     "metadata": {},
     "output_type": "execute_result"
    }
   ],
   "source": [
    "np.hstack((new,sum_ar))"
   ]
  },
  {
   "cell_type": "code",
   "execution_count": 66,
   "id": "be321ab1-b151-4606-9b16-740a5ab2d644",
   "metadata": {},
   "outputs": [],
   "source": [
    "final = np.concatenate((new,sum_ar),axis=1)"
   ]
  },
  {
   "cell_type": "code",
   "execution_count": null,
   "id": "4b45ee5c-ad0d-4b5a-84ee-4dd76af1afa1",
   "metadata": {},
   "outputs": [],
   "source": [
    "# Sort the array(non-ascending order) on total marks column--one added in above task. Show top 2 rows"
   ]
  },
  {
   "cell_type": "code",
   "execution_count": 71,
   "id": "7158fe38-2b71-4ccf-912a-10124fa0a75e",
   "metadata": {},
   "outputs": [
    {
     "data": {
      "text/plain": [
       "array([[ 77,  83,  98,  95,  89, 442],\n",
       "       [ 92,  71,  52,  61,  53, 329],\n",
       "       [ 63,  46,  90,  42,  87, 328],\n",
       "       [ 67,  61,  59,  36,  92, 315],\n",
       "       [ 82,   9,  29,  78,  36, 234],\n",
       "       [ 39,  76,  13,  29,  72, 229],\n",
       "       [ 13,  10,   9,  33,  41, 106]])"
      ]
     },
     "execution_count": 71,
     "metadata": {},
     "output_type": "execute_result"
    }
   ],
   "source": [
    "final[final[:,-1].argsort()[::-1]]"
   ]
  },
  {
   "cell_type": "code",
   "execution_count": 74,
   "id": "5c2af538-cad4-4265-9b42-697b0ae417ab",
   "metadata": {},
   "outputs": [
    {
     "data": {
      "text/plain": [
       "array([[ 77,  83,  98,  95,  89, 442],\n",
       "       [ 92,  71,  52,  61,  53, 329],\n",
       "       [ 63,  46,  90,  42,  87, 328],\n",
       "       [ 67,  61,  59,  36,  92, 315],\n",
       "       [ 82,   9,  29,  78,  36, 234],\n",
       "       [ 39,  76,  13,  29,  72, 229],\n",
       "       [ 13,  10,   9,  33,  41, 106]])"
      ]
     },
     "execution_count": 74,
     "metadata": {},
     "output_type": "execute_result"
    }
   ],
   "source": [
    "np.array(sorted(final,key= lambda x:max(x),reverse=True))"
   ]
  },
  {
   "cell_type": "markdown",
   "id": "6225cb8b-634a-4ecc-b625-5a613e117f5e",
   "metadata": {},
   "source": [
    "### Q-3: Find unique arrays from a 2D array column wise and row wise."
   ]
  },
  {
   "cell_type": "raw",
   "id": "6134240d-1c89-4fca-9562-a708eb5308d1",
   "metadata": {},
   "source": [
    "arr = np.array([[1,2,3,3,1,1],\n",
    "                [0,9,1,2,8,8],\n",
    "                [1,2,3,8,8,8],\n",
    "                [1,2,3,3,1,1]])\n",
    "\n",
    "Expected Result-\n",
    "\n",
    "Row Wise\n",
    "[[0 9 1 2 8 8]\n",
    " [1 2 3 3 1 1]\n",
    " [1 2 3 8 8 8]]\n",
    "\n",
    "Col Wise\n",
    "[[1 1 2 3 3]\n",
    " [0 8 9 1 2]\n",
    " [1 8 2 3 8]\n",
    " [1 1 2 3 3]]"
   ]
  },
  {
   "cell_type": "code",
   "execution_count": 76,
   "id": "2dfbe50d-ba97-4178-8551-9a8e38e1f3a1",
   "metadata": {},
   "outputs": [
    {
     "data": {
      "text/plain": [
       "array([[1, 2, 3, 3, 1, 1],\n",
       "       [0, 9, 1, 2, 8, 8],\n",
       "       [1, 2, 3, 8, 8, 8],\n",
       "       [1, 2, 3, 3, 1, 1]])"
      ]
     },
     "execution_count": 76,
     "metadata": {},
     "output_type": "execute_result"
    }
   ],
   "source": [
    "arr = np.array([[1,2,3,3,1,1],\n",
    "                [0,9,1,2,8,8],\n",
    "                [1,2,3,8,8,8],\n",
    "                [1,2,3,3,1,1]])\n",
    "arr"
   ]
  },
  {
   "cell_type": "code",
   "execution_count": 78,
   "id": "0554cbb4-05cb-4d86-9c8c-962fbac40f23",
   "metadata": {},
   "outputs": [
    {
     "data": {
      "text/plain": [
       "array([[0, 9, 1, 2, 8, 8],\n",
       "       [1, 2, 3, 3, 1, 1],\n",
       "       [1, 2, 3, 8, 8, 8]])"
      ]
     },
     "execution_count": 78,
     "metadata": {},
     "output_type": "execute_result"
    }
   ],
   "source": [
    "np.unique(arr,axis=0)"
   ]
  },
  {
   "cell_type": "code",
   "execution_count": 79,
   "id": "7d4f9836-d5b7-4cbd-a45b-447b576dfd3a",
   "metadata": {},
   "outputs": [
    {
     "data": {
      "text/plain": [
       "array([[1, 1, 2, 3, 3],\n",
       "       [0, 8, 9, 1, 2],\n",
       "       [1, 8, 2, 3, 8],\n",
       "       [1, 1, 2, 3, 3]])"
      ]
     },
     "execution_count": 79,
     "metadata": {},
     "output_type": "execute_result"
    }
   ],
   "source": [
    "np.unique(arr,axis=1)"
   ]
  },
  {
   "cell_type": "markdown",
   "id": "ddcf6d59-0f83-4958-b01f-67666c97f667",
   "metadata": {},
   "source": [
    "### Q-4: Flip given 2-D array along both axes at the same time."
   ]
  },
  {
   "cell_type": "code",
   "execution_count": 83,
   "id": "72fd1698-31af-4201-bf64-97768a6d2a3a",
   "metadata": {},
   "outputs": [
    {
     "data": {
      "text/plain": [
       "array([[1, 2, 3, 3, 1, 1],\n",
       "       [0, 9, 1, 2, 8, 8],\n",
       "       [1, 2, 3, 8, 8, 8],\n",
       "       [1, 2, 3, 3, 1, 1]])"
      ]
     },
     "execution_count": 83,
     "metadata": {},
     "output_type": "execute_result"
    }
   ],
   "source": [
    "arr"
   ]
  },
  {
   "cell_type": "code",
   "execution_count": 81,
   "id": "a0db1f84-7571-4541-8f1c-a395172736e2",
   "metadata": {},
   "outputs": [
    {
     "data": {
      "text/plain": [
       "array([[1, 1, 3, 3, 2, 1],\n",
       "       [8, 8, 2, 1, 9, 0],\n",
       "       [8, 8, 8, 3, 2, 1],\n",
       "       [1, 1, 3, 3, 2, 1]])"
      ]
     },
     "execution_count": 81,
     "metadata": {},
     "output_type": "execute_result"
    }
   ],
   "source": [
    "np.flip(arr,axis=1)"
   ]
  },
  {
   "cell_type": "code",
   "execution_count": 82,
   "id": "55945de8-ac22-4ab2-b592-7216655f6fc7",
   "metadata": {},
   "outputs": [
    {
     "data": {
      "text/plain": [
       "array([[1, 2, 3, 3, 1, 1],\n",
       "       [1, 2, 3, 8, 8, 8],\n",
       "       [0, 9, 1, 2, 8, 8],\n",
       "       [1, 2, 3, 3, 1, 1]])"
      ]
     },
     "execution_count": 82,
     "metadata": {},
     "output_type": "execute_result"
    }
   ],
   "source": [
    "np.flip(arr,axis=0)"
   ]
  },
  {
   "cell_type": "code",
   "execution_count": 84,
   "id": "72e3bec9-1ba0-4a36-95dc-5a119d39446a",
   "metadata": {},
   "outputs": [
    {
     "data": {
      "text/plain": [
       "array([[1, 1, 3, 3, 2, 1],\n",
       "       [8, 8, 8, 3, 2, 1],\n",
       "       [8, 8, 2, 1, 9, 0],\n",
       "       [1, 1, 3, 3, 2, 1]])"
      ]
     },
     "execution_count": 84,
     "metadata": {},
     "output_type": "execute_result"
    }
   ],
   "source": [
    "np.flip(arr)"
   ]
  },
  {
   "cell_type": "code",
   "execution_count": 85,
   "id": "fe9184d5-ef56-4343-8f4f-46f115edd1f6",
   "metadata": {},
   "outputs": [
    {
     "data": {
      "text/plain": [
       "array([[-1,  8, -2, 14, 19, 10],\n",
       "       [ 7, 11,  2,  1,  6,  0],\n",
       "       [ 1,  1,  3,  3,  2,  1],\n",
       "       [ 8,  8,  8,  3,  2,  1],\n",
       "       [ 8,  8,  2,  1,  9,  0],\n",
       "       [ 1,  1,  3,  3,  2,  1]])"
      ]
     },
     "execution_count": 85,
     "metadata": {},
     "output_type": "execute_result"
    }
   ],
   "source": [
    "arr = np.array([[1,2,3,3,1,1],\n",
    "               [0,9,1,2,8,8],\n",
    "               [1,2,3,8,8,8],\n",
    "               [1,2,3,3,1,1],\n",
    "               [0,6,1,2,11,7],\n",
    "               [10,19,14,-2,8,-1]])\n",
    "np.flip(arr)"
   ]
  },
  {
   "cell_type": "markdown",
   "id": "34de6d88-23f8-4a09-a6b0-bd3666a355f0",
   "metadata": {},
   "source": [
    "### Q-5: Get row numbers of NumPy array having element larger than X."
   ]
  },
  {
   "cell_type": "raw",
   "id": "0aaddb30-4671-474b-a581-55c58a862219",
   "metadata": {},
   "source": [
    "arr = [[1,2,3,4,5], \n",
    "      [10,-3,30,4,5], \n",
    "      [3,2,5,-4,5], \n",
    "      [9,7,3,6,5]] \n",
    "\n",
    "X = 6"
   ]
  },
  {
   "cell_type": "code",
   "execution_count": 101,
   "id": "0696346b-f5fe-4c1c-bd57-5a7bd16d2aab",
   "metadata": {},
   "outputs": [
    {
     "data": {
      "text/plain": [
       "array([1, 3], dtype=int64)"
      ]
     },
     "execution_count": 101,
     "metadata": {},
     "output_type": "execute_result"
    }
   ],
   "source": [
    "arr = np.array([[1,2,3,4,5], \n",
    "      [10,-3,30,4,5], \n",
    "      [3,2,5,-4,5], \n",
    "      [9,7,3,6,5]])\n",
    "X = 6\n",
    "np.unique(np.where(arr>X)[0])"
   ]
  },
  {
   "cell_type": "code",
   "execution_count": 106,
   "id": "3df1b1f6-c14f-4a93-a380-433aed6a9211",
   "metadata": {},
   "outputs": [
    {
     "data": {
      "text/plain": [
       "(array([1, 3], dtype=int64),)"
      ]
     },
     "execution_count": 106,
     "metadata": {},
     "output_type": "execute_result"
    }
   ],
   "source": [
    "np.where(np.any(arr > X, axis = 1))"
   ]
  },
  {
   "cell_type": "markdown",
   "id": "75d82d95-8b03-4873-972c-56eb6644fa08",
   "metadata": {},
   "source": [
    "### Q-6: How to convert an array of arrays into a flat 1d array?"
   ]
  },
  {
   "cell_type": "raw",
   "id": "41497b61-eda2-4f52-b07a-74d764e279bc",
   "metadata": {},
   "source": [
    "# These arrays are given.\n",
    "arr1 = np.arange(3)\n",
    "arr2 = np.arange(3,7)\n",
    "arr3 = np.arange(7,10)"
   ]
  },
  {
   "cell_type": "code",
   "execution_count": 114,
   "id": "ff9b34c0-9165-409b-a382-73e7870705ef",
   "metadata": {},
   "outputs": [
    {
     "data": {
      "text/plain": [
       "array([0, 1, 2, 3, 4, 5, 6, 7, 8, 9])"
      ]
     },
     "execution_count": 114,
     "metadata": {},
     "output_type": "execute_result"
    }
   ],
   "source": [
    "arr1 = np.arange(3)\n",
    "arr2 = np.arange(3,7)\n",
    "arr3 = np.arange(7,10)\n",
    "np.concatenate((arr1,arr2,arr3))"
   ]
  },
  {
   "cell_type": "code",
   "execution_count": 115,
   "id": "e773c2ce-7b21-4aeb-b6ea-bb2f5cf9275f",
   "metadata": {},
   "outputs": [
    {
     "data": {
      "text/plain": [
       "array([0, 1, 2, 3, 4, 5, 6, 7, 8, 9])"
      ]
     },
     "execution_count": 115,
     "metadata": {},
     "output_type": "execute_result"
    }
   ],
   "source": [
    "np.hstack((arr1,arr2,arr3))"
   ]
  },
  {
   "cell_type": "markdown",
   "id": "fc46f7ab-dca6-425b-8f78-9d36d0cc9f79",
   "metadata": {},
   "source": [
    "### Q-7: You are given a array. You have to find the minimum and maximum array element and remove that from the array."
   ]
  },
  {
   "cell_type": "code",
   "execution_count": 168,
   "id": "468b77dd-8a03-4754-b25d-01ae1481964b",
   "metadata": {},
   "outputs": [
    {
     "name": "stdout",
     "output_type": "stream",
     "text": [
      "[[448 563 418 240 507 362 345 236 719 291 298 639 458 387 262 613 267 882\n",
      "  181 425 790 635 889 818 872 967 277 470 336 920 917 295 557 830 506 385\n",
      "  353 975 592 997 137 340 222 215 472 459 617 649 935 956 914 932 645 952\n",
      "  921 490 527 972 278 307 840 958 246 449 251 957 103 627 920 824 356 825\n",
      "  173 323 372 960 710 464 244 782 763 635 436 774 171 469 178 458 624 211\n",
      "  771 270 308 231 952 514 699 702 433 900 373 318 998 265 503 320 230 324\n",
      "  922 967 620 743 527 117 566 804 123 946 587 227 853 757 944 328 855 930\n",
      "  325 729 426 514 296 879 575 936 705 209 191 743 510 513 628 559 658 528\n",
      "  395 525 922 136 496 225 895 975 263 908 420 711 800 976 786 235 930 859\n",
      "  618 226 695 460 218 483 490 803 621 453 193 607 677 637 728 724 534 748\n",
      "  291 194 761 875 687 569 228 482 781 554 654 739 885 197 266 228 892 207\n",
      "  883 588]]\n",
      "998 103\n",
      "997 117\n"
     ]
    }
   ],
   "source": [
    "np.random.seed(400)\n",
    "arr = np.random.randint(100, 1000, 200).reshape((1, 200))\n",
    "print(arr)\n",
    "max_element = arr.argmax()\n",
    "min_element = arr.argmin()\n",
    "print(arr.max(), arr.min())\n",
    "arr = np.delete(arr, max_element, axis = 1)\n",
    "arr = np.delete(arr, min_element, axis = 1)\n",
    "print(arr.max(), arr.min())"
   ]
  },
  {
   "cell_type": "markdown",
   "id": "f3ce030a-4a2d-4530-9de7-bfe0a1b88f86",
   "metadata": {},
   "source": [
    "### Q-8: You are given an arrays. You have to limit this array's elements between 100 to 200.  arr∈[100,200] . So replace those values accordingly with the minimum and maximum value. Then sort the array and perform the cumulative sum of that array.\n"
   ]
  },
  {
   "cell_type": "code",
   "execution_count": 174,
   "id": "d909a84d-b5ce-4ed0-b9e5-b289d650cf02",
   "metadata": {},
   "outputs": [
    {
     "data": {
      "text/plain": [
       "array([  100,   200,   300,   400,   500,   600,   700,   800,   900,\n",
       "        1000,  1100,  1200,  1300,  1400,  1503,  1607,  1713,  1820,\n",
       "        1928,  2037,  2146,  2257,  2375,  2495,  2619,  2744,  2878,\n",
       "        3019,  3172,  3334,  3502,  3672,  3843,  4018,  4196,  4374,\n",
       "        4552,  4738,  4924,  5113,  5303,  5497,  5691,  5891,  6091,\n",
       "        6291,  6491,  6691,  6891,  7091,  7291,  7491,  7691,  7891,\n",
       "        8091,  8291,  8491,  8691,  8891,  9091,  9291,  9491,  9691,\n",
       "        9891, 10091, 10291, 10491, 10691, 10891, 11091, 11291, 11491,\n",
       "       11691, 11891, 12091, 12291, 12491, 12691, 12891, 13091, 13291,\n",
       "       13491, 13691, 13891, 14091, 14291, 14491, 14691, 14891, 15091,\n",
       "       15291, 15491, 15691, 15891, 16091, 16291, 16491, 16691, 16891,\n",
       "       17091, 17291, 17491, 17691, 17891, 18091, 18291, 18491, 18691,\n",
       "       18891, 19091, 19291, 19491, 19691, 19891, 20091, 20291, 20491,\n",
       "       20691, 20891, 21091, 21291, 21491, 21691, 21891, 22091, 22291,\n",
       "       22491, 22691, 22891, 23091, 23291, 23491, 23691, 23891, 24091,\n",
       "       24291, 24491, 24691, 24891, 25091, 25291, 25491, 25691, 25891,\n",
       "       26091, 26291, 26491, 26691, 26891, 27091, 27291, 27491, 27691,\n",
       "       27891, 28091, 28291, 28491, 28691, 28891, 29091, 29291, 29491,\n",
       "       29691, 29891, 30091, 30291, 30491, 30691, 30891, 31091, 31291,\n",
       "       31491, 31691, 31891, 32091, 32291, 32491, 32691, 32891, 33091,\n",
       "       33291, 33491, 33691, 33891, 34091, 34291, 34491, 34691, 34891,\n",
       "       35091, 35291, 35491, 35691, 35891, 36091, 36291, 36491, 36691,\n",
       "       36891, 37091, 37291, 37491, 37691, 37891, 38091, 38291, 38491,\n",
       "       38691, 38891, 39091, 39291, 39491, 39691, 39891, 40091, 40291,\n",
       "       40491, 40691, 40891, 41091, 41291, 41491, 41691, 41891, 42091,\n",
       "       42291, 42491, 42691, 42891, 43091, 43291, 43491, 43691, 43891,\n",
       "       44091, 44291, 44491, 44691, 44891, 45091, 45291, 45491, 45691,\n",
       "       45891, 46091, 46291, 46491, 46691, 46891, 47091, 47291, 47491,\n",
       "       47691, 47891, 48091, 48291, 48491, 48691, 48891, 49091, 49291,\n",
       "       49491, 49691, 49891, 50091, 50291, 50491, 50691, 50891, 51091,\n",
       "       51291, 51491, 51691, 51891, 52091, 52291, 52491, 52691, 52891,\n",
       "       53091, 53291, 53491, 53691, 53891, 54091, 54291, 54491, 54691,\n",
       "       54891, 55091, 55291, 55491, 55691, 55891, 56091, 56291, 56491,\n",
       "       56691, 56891, 57091, 57291, 57491, 57691, 57891, 58091, 58291,\n",
       "       58491, 58691, 58891, 59091, 59291, 59491, 59691, 59891, 60091,\n",
       "       60291, 60491, 60691, 60891, 61091, 61291, 61491, 61691, 61891,\n",
       "       62091, 62291, 62491, 62691, 62891, 63091, 63291, 63491, 63691,\n",
       "       63891, 64091, 64291, 64491, 64691, 64891, 65091, 65291, 65491,\n",
       "       65691, 65891, 66091, 66291, 66491, 66691, 66891, 67091, 67291,\n",
       "       67491, 67691, 67891, 68091, 68291, 68491, 68691, 68891, 69091,\n",
       "       69291, 69491, 69691, 69891, 70091, 70291, 70491, 70691, 70891,\n",
       "       71091, 71291, 71491, 71691, 71891, 72091, 72291, 72491, 72691,\n",
       "       72891, 73091, 73291, 73491, 73691, 73891, 74091, 74291, 74491,\n",
       "       74691, 74891, 75091, 75291, 75491, 75691, 75891, 76091, 76291,\n",
       "       76491, 76691, 76891, 77091, 77291, 77491, 77691, 77891, 78091,\n",
       "       78291, 78491, 78691, 78891, 79091, 79291, 79491, 79691, 79891,\n",
       "       80091, 80291, 80491, 80691, 80891, 81091, 81291, 81491, 81691,\n",
       "       81891, 82091, 82291, 82491, 82691, 82891, 83091, 83291, 83491,\n",
       "       83691, 83891, 84091, 84291, 84491, 84691, 84891, 85091, 85291,\n",
       "       85491, 85691, 85891, 86091, 86291, 86491, 86691, 86891, 87091,\n",
       "       87291, 87491, 87691, 87891, 88091, 88291, 88491, 88691, 88891,\n",
       "       89091, 89291, 89491, 89691, 89891, 90091, 90291, 90491, 90691,\n",
       "       90891, 91091, 91291, 91491, 91691, 91891, 92091, 92291, 92491,\n",
       "       92691, 92891, 93091, 93291, 93491, 93691, 93891, 94091, 94291,\n",
       "       94491, 94691, 94891, 95091, 95291, 95491, 95691, 95891, 96091,\n",
       "       96291, 96491, 96691, 96891, 97091])"
      ]
     },
     "execution_count": 174,
     "metadata": {},
     "output_type": "execute_result"
    }
   ],
   "source": [
    "arr = np.random.randint(0, 2000, 500)\n",
    "np.cumsum(np.sort(np.clip(arr,100,200)))"
   ]
  },
  {
   "cell_type": "markdown",
   "id": "ced69a99-5716-4a69-afb1-50734ac6ebf2",
   "metadata": {},
   "source": [
    "### Q-9: You are given a array ( arr∈[0,1] ). First you have round off the elements upto 3 decimal places and compare that"
   ]
  },
  {
   "cell_type": "raw",
   "id": "c75e3fb4-7e7b-48f9-a5c5-b228e9248b05",
   "metadata": {},
   "source": [
    "0th percentile == minimum value of the array\n",
    "100th percentile == maximum value of the array\n",
    "also find the difference betwen 51th percenile and 50th percentile values"
   ]
  },
  {
   "cell_type": "code",
   "execution_count": 179,
   "id": "a11ddc70-6630-4587-b215-f05c35a63a18",
   "metadata": {},
   "outputs": [
    {
     "data": {
      "text/plain": [
       "array([0.013, 0.986, 0.517, 0.023, 0.249, 0.429, 0.836, 0.524, 0.092,\n",
       "       0.892, 0.35 , 0.93 , 0.549, 0.365, 0.901, 0.776, 0.836, 0.769,\n",
       "       0.448, 0.807, 0.62 , 0.559, 0.101, 0.899, 0.341, 0.361, 0.067,\n",
       "       0.673, 0.347, 0.434, 0.648, 0.177, 0.573, 0.359, 0.237, 0.197,\n",
       "       0.616, 0.419, 0.532, 0.445, 0.663, 0.719, 0.378, 0.414, 0.769,\n",
       "       0.583, 0.985, 0.39 , 0.604, 0.323, 0.707, 0.75 , 0.875, 0.232,\n",
       "       0.357, 0.029, 0.87 , 0.868, 0.324, 0.027, 0.543, 0.756, 0.629,\n",
       "       0.869, 0.721, 0.39 , 0.015, 0.83 , 0.36 , 0.386, 0.802, 0.424,\n",
       "       0.506, 0.985, 0.111, 0.378, 0.091, 0.36 , 0.385, 0.809, 0.942,\n",
       "       0.331, 0.331, 0.153, 0.102, 0.387, 0.562, 0.379, 0.108, 0.001,\n",
       "       0.725, 0.256, 0.753, 0.973, 0.14 , 0.053, 0.775, 0.244, 0.326,\n",
       "       0.915])"
      ]
     },
     "execution_count": 179,
     "metadata": {},
     "output_type": "execute_result"
    }
   ],
   "source": [
    "arr = np.round(np.random.random(100),3)\n",
    "arr"
   ]
  },
  {
   "cell_type": "code",
   "execution_count": 181,
   "id": "85a63303-7045-4c50-81fb-46a7442ef529",
   "metadata": {},
   "outputs": [
    {
     "data": {
      "text/plain": [
       "True"
      ]
     },
     "execution_count": 181,
     "metadata": {},
     "output_type": "execute_result"
    }
   ],
   "source": [
    "np.min(arr) == np.percentile(arr,0)"
   ]
  },
  {
   "cell_type": "code",
   "execution_count": 182,
   "id": "48ec801c-ee61-4fff-b9f2-c86c15e08052",
   "metadata": {},
   "outputs": [
    {
     "data": {
      "text/plain": [
       "True"
      ]
     },
     "execution_count": 182,
     "metadata": {},
     "output_type": "execute_result"
    }
   ],
   "source": [
    "np.max(arr) == np.percentile(arr,100)"
   ]
  },
  {
   "cell_type": "code",
   "execution_count": 184,
   "id": "853d5bf9-ce64-4793-8e7e-4a8d09430601",
   "metadata": {},
   "outputs": [
    {
     "data": {
      "text/plain": [
       "0.006970000000000032"
      ]
     },
     "execution_count": 184,
     "metadata": {},
     "output_type": "execute_result"
    }
   ],
   "source": [
    "np.percentile(arr,51) - np.percentile(arr,50)"
   ]
  }
 ],
 "metadata": {
  "kernelspec": {
   "display_name": "Python 3 (ipykernel)",
   "language": "python",
   "name": "python3"
  },
  "language_info": {
   "codemirror_mode": {
    "name": "ipython",
    "version": 3
   },
   "file_extension": ".py",
   "mimetype": "text/x-python",
   "name": "python",
   "nbconvert_exporter": "python",
   "pygments_lexer": "ipython3",
   "version": "3.10.6"
  }
 },
 "nbformat": 4,
 "nbformat_minor": 5
}
